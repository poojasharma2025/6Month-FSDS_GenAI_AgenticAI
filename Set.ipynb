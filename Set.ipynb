{
 "cells": [
  {
   "cell_type": "markdown",
   "id": "46773d86-6a7c-439c-b326-462f85f9d6a2",
   "metadata": {},
   "source": [
    "### Sets"
   ]
  },
  {
   "cell_type": "markdown",
   "id": "9b478c41-09a2-4be4-a127-2b057db16003",
   "metadata": {},
   "source": [
    "#### Empty set"
   ]
  },
  {
   "cell_type": "code",
   "execution_count": 5,
   "id": "a9183522-e46b-4bf2-9c4b-cb352d5bcafe",
   "metadata": {},
   "outputs": [],
   "source": [
    "s=set()"
   ]
  },
  {
   "cell_type": "code",
   "execution_count": 7,
   "id": "3da91258-f731-4182-af83-eab36e367bc4",
   "metadata": {},
   "outputs": [
    {
     "name": "stdout",
     "output_type": "stream",
     "text": [
      "<class 'set'>\n"
     ]
    }
   ],
   "source": [
    "print(type(s))"
   ]
  },
  {
   "cell_type": "markdown",
   "id": "180fd92c-558e-4516-bccd-5a40c8ee73e2",
   "metadata": {},
   "source": [
    "#### 1. Add Function"
   ]
  },
  {
   "cell_type": "code",
   "execution_count": 9,
   "id": "1609e6dc-1bca-4b00-a88c-9cc813bb439c",
   "metadata": {},
   "outputs": [
    {
     "data": {
      "text/plain": [
       "{10}"
      ]
     },
     "execution_count": 9,
     "metadata": {},
     "output_type": "execute_result"
    }
   ],
   "source": [
    "s.add(5)\n",
    "s"
   ]
  },
  {
   "cell_type": "code",
   "execution_count": 17,
   "id": "d128f497-d46c-432f-9f41-d87712c18b94",
   "metadata": {},
   "outputs": [
    {
     "data": {
      "text/plain": [
       "{10, 15, 20, 25, 30}"
      ]
     },
     "execution_count": 17,
     "metadata": {},
     "output_type": "execute_result"
    }
   ],
   "source": [
    "s.add(10)\n",
    "s.add(15)\n",
    "s.add(20)\n",
    "s.add(25)\n",
    "s.add(30)\n",
    "s\n"
   ]
  },
  {
   "cell_type": "code",
   "execution_count": 21,
   "id": "9cde4194-3c86-4e6d-8b49-d0707195efa7",
   "metadata": {},
   "outputs": [
    {
     "ename": "TypeError",
     "evalue": "set.add() takes exactly one argument (2 given)",
     "output_type": "error",
     "traceback": [
      "\u001b[1;31m---------------------------------------------------------------------------\u001b[0m",
      "\u001b[1;31mTypeError\u001b[0m                                 Traceback (most recent call last)",
      "Cell \u001b[1;32mIn[21], line 2\u001b[0m\n\u001b[0;32m      1\u001b[0m \u001b[38;5;66;03m#Note: we can pass only one argument at a time \u001b[39;00m\n\u001b[1;32m----> 2\u001b[0m s\u001b[38;5;241m.\u001b[39madd(\u001b[38;5;241m50\u001b[39m,\u001b[38;5;241m45\u001b[39m)\n\u001b[0;32m      3\u001b[0m s\n",
      "\u001b[1;31mTypeError\u001b[0m: set.add() takes exactly one argument (2 given)"
     ]
    }
   ],
   "source": [
    "#Note: we can pass only one argument at a time \n",
    "s.add(50,45)\n",
    "s"
   ]
  },
  {
   "cell_type": "markdown",
   "id": "4e9d3d22-ac07-4d9c-928f-83e30257608d",
   "metadata": {},
   "source": [
    "#### 2. Duplicate items are not allowed"
   ]
  },
  {
   "cell_type": "code",
   "execution_count": 38,
   "id": "3ea6b4c1-21de-4a3a-8c63-80b8ffb7f0cb",
   "metadata": {},
   "outputs": [
    {
     "data": {
      "text/plain": [
       "{10, 15, 20, 25, 30, 35}"
      ]
     },
     "execution_count": 38,
     "metadata": {},
     "output_type": "execute_result"
    }
   ],
   "source": [
    "s.add(10)\n",
    "s.add(10)\n",
    "s"
   ]
  },
  {
   "cell_type": "markdown",
   "id": "ce3de710-3e79-4046-a932-3a0f5ac3f25c",
   "metadata": {},
   "source": [
    "#### 3. Multiple data types are allowed"
   ]
  },
  {
   "cell_type": "code",
   "execution_count": 47,
   "id": "82f2aa43-eaa6-424f-9af0-8746b38dc06e",
   "metadata": {},
   "outputs": [
    {
     "name": "stdout",
     "output_type": "stream",
     "text": [
      "{True, 2, 4, 5, 'Pooja', (1+10j)}\n"
     ]
    }
   ],
   "source": [
    "s1={'Pooja',True,(1+10j),2,5}\n",
    "s1.add(4)\n",
    "print(s1)\n",
    "\n",
    "# list type r not allowed"
   ]
  },
  {
   "cell_type": "markdown",
   "id": "6a84abe6-577c-4ab1-b30b-3f7c2e754405",
   "metadata": {},
   "source": [
    "#### 4. Indexing and Slicing are not allowed"
   ]
  },
  {
   "cell_type": "code",
   "execution_count": 60,
   "id": "b4fe4f6d-e7a6-404d-b53d-39d022423309",
   "metadata": {},
   "outputs": [
    {
     "ename": "TypeError",
     "evalue": "'set' object is not subscriptable",
     "output_type": "error",
     "traceback": [
      "\u001b[1;31m---------------------------------------------------------------------------\u001b[0m",
      "\u001b[1;31mTypeError\u001b[0m                                 Traceback (most recent call last)",
      "Cell \u001b[1;32mIn[60], line 2\u001b[0m\n\u001b[0;32m      1\u001b[0m s1\n\u001b[1;32m----> 2\u001b[0m s1[\u001b[38;5;241m0\u001b[39m]\n",
      "\u001b[1;31mTypeError\u001b[0m: 'set' object is not subscriptable"
     ]
    }
   ],
   "source": [
    "#Indexing not allowed\n",
    "s1\n",
    "s1[0]"
   ]
  },
  {
   "cell_type": "code",
   "execution_count": 56,
   "id": "94d7fe77-66b1-4065-8437-dfae7c846122",
   "metadata": {},
   "outputs": [
    {
     "ename": "TypeError",
     "evalue": "'set' object is not subscriptable",
     "output_type": "error",
     "traceback": [
      "\u001b[1;31m---------------------------------------------------------------------------\u001b[0m",
      "\u001b[1;31mTypeError\u001b[0m                                 Traceback (most recent call last)",
      "Cell \u001b[1;32mIn[56], line 1\u001b[0m\n\u001b[1;32m----> 1\u001b[0m s1[:]\n\u001b[0;32m      2\u001b[0m s1[\u001b[38;5;241m1\u001b[39m:\u001b[38;5;241m5\u001b[39m]\n",
      "\u001b[1;31mTypeError\u001b[0m: 'set' object is not subscriptable"
     ]
    }
   ],
   "source": [
    "#Slicing not allowed\n",
    "s1[:]\n",
    "s1[1:5]"
   ]
  },
  {
   "cell_type": "code",
   "execution_count": 64,
   "id": "cb2a198c-fd60-494f-9416-2961140169eb",
   "metadata": {},
   "outputs": [
    {
     "name": "stdout",
     "output_type": "stream",
     "text": [
      "{True, 2, 4, 5, 'Pooja', (1+10j)}\n",
      "{35, 10, 15, 20, 25, 30}\n"
     ]
    }
   ],
   "source": [
    "print(s1)\n",
    "print(s)"
   ]
  },
  {
   "cell_type": "code",
   "execution_count": 66,
   "id": "687cd0aa-02b8-4713-9bc6-25d7a3851717",
   "metadata": {},
   "outputs": [
    {
     "data": {
      "text/plain": [
       "False"
      ]
     },
     "execution_count": 66,
     "metadata": {},
     "output_type": "execute_result"
    }
   ],
   "source": [
    "id(s)==id(s1)"
   ]
  },
  {
   "cell_type": "markdown",
   "id": "11bb12c7-8094-412c-ba8d-77403b3135a7",
   "metadata": {},
   "source": [
    "#### 5. Copy Function"
   ]
  },
  {
   "cell_type": "code",
   "execution_count": 75,
   "id": "8298c49e-4be0-42c6-99a9-e8963defd57b",
   "metadata": {},
   "outputs": [
    {
     "data": {
      "text/plain": [
       "{(1+10j), 2, 4, 5, 'Pooja', True}"
      ]
     },
     "execution_count": 75,
     "metadata": {},
     "output_type": "execute_result"
    }
   ],
   "source": [
    "s3=s1.copy()\n",
    "s3"
   ]
  },
  {
   "cell_type": "code",
   "execution_count": 81,
   "id": "9bfe5e30-ba36-4f38-bd71-99b79be57888",
   "metadata": {},
   "outputs": [
    {
     "data": {
      "text/plain": [
       "True"
      ]
     },
     "execution_count": 81,
     "metadata": {},
     "output_type": "execute_result"
    }
   ],
   "source": [
    "id(s1)== id(s3)"
   ]
  },
  {
   "cell_type": "markdown",
   "id": "cab3eafd-81a6-465f-acda-9bfb109bd68f",
   "metadata": {},
   "source": [
    "#### 6. pop() --remove and return arbitrary element from set"
   ]
  },
  {
   "cell_type": "code",
   "execution_count": 84,
   "id": "f58fcfb1-df11-4dfa-9f1e-1cb70223623b",
   "metadata": {},
   "outputs": [
    {
     "data": {
      "text/plain": [
       "{(1+10j), 2, 4, 5, 'Pooja', True}"
      ]
     },
     "execution_count": 84,
     "metadata": {},
     "output_type": "execute_result"
    }
   ],
   "source": [
    "s1"
   ]
  },
  {
   "cell_type": "code",
   "execution_count": 86,
   "id": "84d5f6a1-2929-4499-ac79-04050b923ccb",
   "metadata": {},
   "outputs": [
    {
     "data": {
      "text/plain": [
       "True"
      ]
     },
     "execution_count": 86,
     "metadata": {},
     "output_type": "execute_result"
    }
   ],
   "source": [
    "s1.pop()"
   ]
  },
  {
   "cell_type": "code",
   "execution_count": 88,
   "id": "18974967-84ca-4a76-b62d-441c75757ea6",
   "metadata": {},
   "outputs": [
    {
     "data": {
      "text/plain": [
       "{(1+10j), 2, 4, 5, 'Pooja'}"
      ]
     },
     "execution_count": 88,
     "metadata": {},
     "output_type": "execute_result"
    }
   ],
   "source": [
    "s1"
   ]
  },
  {
   "cell_type": "code",
   "execution_count": 90,
   "id": "0174d9b9-7978-47ca-999c-109704b89767",
   "metadata": {},
   "outputs": [
    {
     "data": {
      "text/plain": [
       "{(1+10j), 4, 5, 'Pooja'}"
      ]
     },
     "execution_count": 90,
     "metadata": {},
     "output_type": "execute_result"
    }
   ],
   "source": [
    "s1.pop()\n",
    "s1"
   ]
  },
  {
   "cell_type": "markdown",
   "id": "fc5fdc59-b780-4786-a0b7-8165996440a8",
   "metadata": {},
   "source": [
    "#### 7. remove function - remove particular element "
   ]
  },
  {
   "cell_type": "code",
   "execution_count": 122,
   "id": "39fe24b5-ea0e-47bd-847f-bb3618e8206c",
   "metadata": {},
   "outputs": [
    {
     "data": {
      "text/plain": [
       "{(5+5j), 1, 15, 2, 2.5, False, 'Pooja'}"
      ]
     },
     "execution_count": 122,
     "metadata": {},
     "output_type": "execute_result"
    }
   ],
   "source": [
    "s4={1,2,(5+5j),15,'Pooja',2.5,False}\n",
    "s4"
   ]
  },
  {
   "cell_type": "code",
   "execution_count": 126,
   "id": "3996935a-336a-46ab-9d03-95a08dc9210e",
   "metadata": {},
   "outputs": [],
   "source": [
    "s4.remove(15)\n"
   ]
  },
  {
   "cell_type": "code",
   "execution_count": 128,
   "id": "1cdbcc7a-177a-47d6-9618-9fd31efefa33",
   "metadata": {},
   "outputs": [
    {
     "data": {
      "text/plain": [
       "{(5+5j), 1, 2, 2.5, False, 'Pooja'}"
      ]
     },
     "execution_count": 128,
     "metadata": {},
     "output_type": "execute_result"
    }
   ],
   "source": [
    "s4"
   ]
  },
  {
   "cell_type": "code",
   "execution_count": 144,
   "id": "70f79649-756b-4c53-bdfb-56fbaf2b17c2",
   "metadata": {},
   "outputs": [
    {
     "ename": "KeyError",
     "evalue": "5",
     "output_type": "error",
     "traceback": [
      "\u001b[1;31m---------------------------------------------------------------------------\u001b[0m",
      "\u001b[1;31mKeyError\u001b[0m                                  Traceback (most recent call last)",
      "Cell \u001b[1;32mIn[144], line 1\u001b[0m\n\u001b[1;32m----> 1\u001b[0m s4\u001b[38;5;241m.\u001b[39mremove(\u001b[38;5;241m5\u001b[39m)\n\u001b[0;32m      2\u001b[0m s4\n",
      "\u001b[1;31mKeyError\u001b[0m: 5"
     ]
    }
   ],
   "source": [
    "s4.remove(5)\n",
    "s4\n",
    "\n",
    "#Note : remove give error if element is not present in set unlike discard"
   ]
  },
  {
   "cell_type": "code",
   "execution_count": 130,
   "id": "1b0fc8f9-5d0a-4c64-ad93-7fe3a7197b36",
   "metadata": {},
   "outputs": [
    {
     "data": {
      "text/plain": [
       "{(5+5j), 1, 2, 2.5, 'Pooja'}"
      ]
     },
     "execution_count": 130,
     "metadata": {},
     "output_type": "execute_result"
    }
   ],
   "source": [
    "s4.remove(False)\n",
    "s4"
   ]
  },
  {
   "cell_type": "markdown",
   "id": "0b47533d-0ce5-4245-bf69-8bbd9d877d5a",
   "metadata": {},
   "source": [
    "#### 8. clear function -clear all element from set"
   ]
  },
  {
   "cell_type": "code",
   "execution_count": 133,
   "id": "a6890db4-e2dc-4ab9-8b09-462ad63198b1",
   "metadata": {},
   "outputs": [
    {
     "data": {
      "text/plain": [
       "{(5+5j), 1, 15, 2, 2.5, 'Pooja'}"
      ]
     },
     "execution_count": 133,
     "metadata": {},
     "output_type": "execute_result"
    }
   ],
   "source": [
    "s1"
   ]
  },
  {
   "cell_type": "code",
   "execution_count": 135,
   "id": "76b106e8-f949-4602-a851-49242b8216dd",
   "metadata": {},
   "outputs": [
    {
     "data": {
      "text/plain": [
       "set()"
      ]
     },
     "execution_count": 135,
     "metadata": {},
     "output_type": "execute_result"
    }
   ],
   "source": [
    "s1.clear()\n",
    "s1"
   ]
  },
  {
   "cell_type": "markdown",
   "id": "6fe0a207-7ff0-402d-a3f6-9145264d7f3a",
   "metadata": {},
   "source": [
    "#### 9. Discard () -discard element. even it doesnt give error if element is not present in the set"
   ]
  },
  {
   "cell_type": "code",
   "execution_count": 142,
   "id": "98d13b9a-a3eb-425b-a966-b26210a3facc",
   "metadata": {},
   "outputs": [
    {
     "data": {
      "text/plain": [
       "{(1+10j), 4, 5, 'Pooja'}"
      ]
     },
     "execution_count": 142,
     "metadata": {},
     "output_type": "execute_result"
    }
   ],
   "source": [
    "s3"
   ]
  },
  {
   "cell_type": "code",
   "execution_count": 148,
   "id": "7a69e660-c03b-4005-882f-e772a2114488",
   "metadata": {},
   "outputs": [
    {
     "data": {
      "text/plain": [
       "{(1+10j), 4, 5, 'Pooja'}"
      ]
     },
     "execution_count": 148,
     "metadata": {},
     "output_type": "execute_result"
    }
   ],
   "source": [
    "s3.discard(\"zero\")\n",
    "s3 \n",
    "\n",
    "#it doesn't give error if element is not present in set"
   ]
  },
  {
   "cell_type": "markdown",
   "id": "ad416a03-c0f8-4594-8663-c33df1312ad8",
   "metadata": {},
   "source": [
    "#### 10. set membership"
   ]
  },
  {
   "cell_type": "code",
   "execution_count": 152,
   "id": "ee7f58e2-d068-40aa-9fd4-d4ac3ec5b263",
   "metadata": {},
   "outputs": [
    {
     "data": {
      "text/plain": [
       "{(1+10j), 4, 5, 'Pooja'}"
      ]
     },
     "execution_count": 152,
     "metadata": {},
     "output_type": "execute_result"
    }
   ],
   "source": [
    "s3"
   ]
  },
  {
   "cell_type": "code",
   "execution_count": 154,
   "id": "552781fd-e43e-4638-93ae-876b8ddb0030",
   "metadata": {},
   "outputs": [
    {
     "data": {
      "text/plain": [
       "True"
      ]
     },
     "execution_count": 154,
     "metadata": {},
     "output_type": "execute_result"
    }
   ],
   "source": [
    "4 in s3"
   ]
  },
  {
   "cell_type": "code",
   "execution_count": 156,
   "id": "5a6b6167-fdd4-47e0-9791-7b8053c7e2f3",
   "metadata": {},
   "outputs": [
    {
     "data": {
      "text/plain": [
       "False"
      ]
     },
     "execution_count": 156,
     "metadata": {},
     "output_type": "execute_result"
    }
   ],
   "source": [
    "10 in s3"
   ]
  },
  {
   "cell_type": "code",
   "execution_count": 160,
   "id": "4f226aa8-e647-46b8-aa92-474d1672ba43",
   "metadata": {},
   "outputs": [
    {
     "name": "stdout",
     "output_type": "stream",
     "text": [
      "4\n",
      "5\n",
      "Pooja\n",
      "(1+10j)\n"
     ]
    }
   ],
   "source": [
    "for i in s3:\n",
    "    print(i)"
   ]
  },
  {
   "cell_type": "code",
   "execution_count": 164,
   "id": "669dba5b-126f-484a-aa8a-130e0ba4855d",
   "metadata": {},
   "outputs": [
    {
     "name": "stdout",
     "output_type": "stream",
     "text": [
      "(0, 4)\n",
      "(1, 5)\n",
      "(2, 'Pooja')\n",
      "(3, (1+10j))\n"
     ]
    }
   ],
   "source": [
    "for i in enumerate(s3):\n",
    "    print(i)"
   ]
  },
  {
   "cell_type": "markdown",
   "id": "71ebf092-418e-4dad-b9b0-f9234cec8f7c",
   "metadata": {},
   "source": [
    "#### 1. Union-  AUB OR A|B"
   ]
  },
  {
   "cell_type": "code",
   "execution_count": 187,
   "id": "02e1f87b-559b-439e-8534-107de40a75a0",
   "metadata": {},
   "outputs": [],
   "source": [
    "a={11,12,13,14}\n",
    "b ={14,15,16,17,18}\n",
    "c = {18,19,20}\n"
   ]
  },
  {
   "cell_type": "code",
   "execution_count": 189,
   "id": "7eefd3e6-5aa6-44ff-bf3f-9cc307ef64e5",
   "metadata": {},
   "outputs": [
    {
     "data": {
      "text/plain": [
       "{11, 12, 13, 14, 15, 16, 17, 18}"
      ]
     },
     "execution_count": 189,
     "metadata": {},
     "output_type": "execute_result"
    }
   ],
   "source": [
    "a|b"
   ]
  },
  {
   "cell_type": "code",
   "execution_count": 191,
   "id": "28744bb4-49a4-4e12-92ac-83cceb0e30ce",
   "metadata": {},
   "outputs": [
    {
     "data": {
      "text/plain": [
       "{11, 12, 13, 14, 18, 19, 20}"
      ]
     },
     "execution_count": 191,
     "metadata": {},
     "output_type": "execute_result"
    }
   ],
   "source": [
    "a|c"
   ]
  },
  {
   "cell_type": "code",
   "execution_count": 193,
   "id": "b3a92f46-7ef8-4e8a-a9d9-2af0cd318ac6",
   "metadata": {},
   "outputs": [
    {
     "data": {
      "text/plain": [
       "{11, 12, 13, 14, 15, 16, 17, 18, 19, 20}"
      ]
     },
     "execution_count": 193,
     "metadata": {},
     "output_type": "execute_result"
    }
   ],
   "source": [
    "a|b|c"
   ]
  },
  {
   "cell_type": "markdown",
   "id": "8ba755db-cf7c-42a0-a4dc-92f02f3cbbd9",
   "metadata": {},
   "source": [
    "#### 2. Difference"
   ]
  },
  {
   "cell_type": "code",
   "execution_count": 196,
   "id": "f37f8501-a744-42c7-98d5-8eae65bca743",
   "metadata": {},
   "outputs": [
    {
     "data": {
      "text/plain": [
       "{11, 12, 13}"
      ]
     },
     "execution_count": 196,
     "metadata": {},
     "output_type": "execute_result"
    }
   ],
   "source": [
    "a.difference(b)"
   ]
  },
  {
   "cell_type": "code",
   "execution_count": 197,
   "id": "3ba76d72-af13-4146-9ab3-4e8ec70f0d17",
   "metadata": {},
   "outputs": [
    {
     "data": {
      "text/plain": [
       "{15, 16, 17, 18}"
      ]
     },
     "execution_count": 197,
     "metadata": {},
     "output_type": "execute_result"
    }
   ],
   "source": [
    "b.difference(a)"
   ]
  },
  {
   "cell_type": "code",
   "execution_count": 200,
   "id": "ff4ec1bc-064b-484d-847a-d3b80450c84a",
   "metadata": {},
   "outputs": [
    {
     "data": {
      "text/plain": [
       "{14, 15, 16, 17}"
      ]
     },
     "execution_count": 200,
     "metadata": {},
     "output_type": "execute_result"
    }
   ],
   "source": [
    "b.difference(c)"
   ]
  },
  {
   "cell_type": "code",
   "execution_count": 202,
   "id": "b5ff2b07-ab56-4671-9218-2f9bc7628a76",
   "metadata": {},
   "outputs": [
    {
     "data": {
      "text/plain": [
       "{19, 20}"
      ]
     },
     "execution_count": 202,
     "metadata": {},
     "output_type": "execute_result"
    }
   ],
   "source": [
    "c.difference(b)"
   ]
  },
  {
   "cell_type": "code",
   "execution_count": null,
   "id": "0df64d59-5cb4-44d5-bed2-c995c4953966",
   "metadata": {},
   "outputs": [],
   "source": []
  }
 ],
 "metadata": {
  "kernelspec": {
   "display_name": "Python [conda env:base] *",
   "language": "python",
   "name": "conda-base-py"
  },
  "language_info": {
   "codemirror_mode": {
    "name": "ipython",
    "version": 3
   },
   "file_extension": ".py",
   "mimetype": "text/x-python",
   "name": "python",
   "nbconvert_exporter": "python",
   "pygments_lexer": "ipython3",
   "version": "3.12.7"
  }
 },
 "nbformat": 4,
 "nbformat_minor": 5
}
