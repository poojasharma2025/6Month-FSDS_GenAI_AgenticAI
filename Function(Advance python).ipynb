{
 "cells": [
  {
   "cell_type": "markdown",
   "id": "77a4083c-1ce4-46c7-8a36-65a84b475fe2",
   "metadata": {},
   "source": [
    "                                       Function: reusable block of code designed to perform a specific task.        "
   ]
  },
  {
   "cell_type": "code",
   "execution_count": 39,
   "id": "42d2a889-44b3-4975-a18e-0408cd9ec83c",
   "metadata": {},
   "outputs": [],
   "source": [
    "def greet():\n",
    "    print('Hello')\n",
    "    print('Hi, This is Pooja Sharma') # it will not print statment"
   ]
  },
  {
   "cell_type": "code",
   "execution_count": 40,
   "id": "207933c8-8b9a-4e4e-9233-98a339b924ed",
   "metadata": {},
   "outputs": [
    {
     "name": "stdout",
     "output_type": "stream",
     "text": [
      "Hello\n",
      "Hi, This is Pooja Sharma\n"
     ]
    }
   ],
   "source": [
    "def grret():\n",
    "    print(\"Hello\")\n",
    "    print('Hi, This is Pooja Sharma')\n",
    "grret()   # now it will print when we call function"
   ]
  },
  {
   "cell_type": "code",
   "execution_count": 41,
   "id": "0021a84d-80c3-411f-a094-6b623e087536",
   "metadata": {},
   "outputs": [
    {
     "name": "stdout",
     "output_type": "stream",
     "text": [
      "Hello\n",
      "Good Morning Team\n",
      "Hello\n",
      "Good Morning Team\n"
     ]
    }
   ],
   "source": [
    "def grret():\n",
    "    print(\"Hello\")\n",
    "    print(\"Good Morning Team\")\n",
    "grret()\n",
    "def grret():\n",
    "    print(\"Hello\")\n",
    "    print(\"Good Morning Team\")\n",
    "grret()"
   ]
  },
  {
   "cell_type": "code",
   "execution_count": 42,
   "id": "502fd331-7a85-49e5-af14-fce4b3c408fa",
   "metadata": {},
   "outputs": [
    {
     "ename": "IndentationError",
     "evalue": "expected an indented block after function definition on line 1 (2597898233.py, line 2)",
     "output_type": "error",
     "traceback": [
      "  \u001b[36mCell\u001b[39m\u001b[36m \u001b[39m\u001b[32mIn[42]\u001b[39m\u001b[32m, line 2\u001b[39m\n\u001b[31m    \u001b[39m\u001b[31mprint(\"Hello\")\u001b[39m\n    ^\n\u001b[31mIndentationError\u001b[39m\u001b[31m:\u001b[39m expected an indented block after function definition on line 1\n"
     ]
    }
   ],
   "source": [
    "def grret():\n",
    "print(\"Hello\")\n",
    "print(\"Good Morning Team\")\n",
    "grret()\n",
    "print()\n",
    "def grret():\n",
    "print(\"Hello\")\n",
    "print(\"Good Morning Team\")\n",
    "grret()"
   ]
  },
  {
   "cell_type": "code",
   "execution_count": 43,
   "id": "6388eb54-eb99-4ade-9fee-a9d2ccb4eb44",
   "metadata": {},
   "outputs": [
    {
     "name": "stdout",
     "output_type": "stream",
     "text": [
      "Hello\n",
      "Good Morning Team\n",
      "\n",
      "Hello\n",
      "Good Morning Team\n",
      "\n",
      "Hello\n",
      "Good Morning Team\n",
      "\n",
      "Hello\n",
      "Good Morning Team\n"
     ]
    }
   ],
   "source": [
    "def grret():\n",
    "    print(\"Hello\")\n",
    "    print(\"Good Morning Team\")\n",
    "grret()\n",
    "\n",
    "print()\n",
    "\n",
    "def grret():\n",
    "    print(\"Hello\")\n",
    "    print(\"Good Morning Team\")\n",
    "grret()\n",
    "print()\n",
    "\n",
    "def grret():\n",
    "    print(\"Hello\")\n",
    "    print(\"Good Morning Team\")\n",
    "grret()\n",
    "\n",
    "print()\n",
    "\n",
    "def grret():\n",
    "    print(\"Hello\")\n",
    "    print(\"Good Morning Team\")\n",
    "grret()"
   ]
  },
  {
   "cell_type": "code",
   "execution_count": 44,
   "id": "9aacf925-04fe-4585-9c3a-ccd853c300a9",
   "metadata": {},
   "outputs": [
    {
     "name": "stdout",
     "output_type": "stream",
     "text": [
      "Hello\n",
      "Good Morning Team\n",
      "******\n",
      "Hello\n",
      "Good Morning Team\n",
      "******\n",
      "Hello\n",
      "Good Morning Team\n"
     ]
    }
   ],
   "source": [
    "def greet(): # Declare function Without Argument\n",
    "    print(\"Hello\")\n",
    "    print(\"Good Morning Team\")\n",
    "greet()\n",
    "print('******')\n",
    "greet()\n",
    "print('******')\n",
    "grret() #function calling without argument"
   ]
  },
  {
   "cell_type": "code",
   "execution_count": 45,
   "id": "2b4e2342-89cc-48cb-8d27-e59e2a2b1160",
   "metadata": {},
   "outputs": [
    {
     "name": "stdout",
     "output_type": "stream",
     "text": [
      "Hello\n",
      "Good Morning Team\n"
     ]
    }
   ],
   "source": [
    "#Function Without Argument\n",
    "def grret():\n",
    "    print(\"Hello\")\n",
    "    print(\"Good Morning Team\")\n",
    "greet()"
   ]
  },
  {
   "cell_type": "code",
   "execution_count": 46,
   "id": "65d9738a-dd98-4244-86f5-09d1ecde7d57",
   "metadata": {},
   "outputs": [
    {
     "name": "stdout",
     "output_type": "stream",
     "text": [
      "30\n"
     ]
    }
   ],
   "source": [
    "#Function With Argument\n",
    "def add(x,y):\n",
    "    C= x + y\n",
    "    print(C)\n",
    "add(10,20)"
   ]
  },
  {
   "cell_type": "code",
   "execution_count": 47,
   "id": "79e5fedf-901e-401c-b3f0-91d19210a031",
   "metadata": {},
   "outputs": [
    {
     "data": {
      "text/plain": [
       "30"
      ]
     },
     "execution_count": 47,
     "metadata": {},
     "output_type": "execute_result"
    }
   ],
   "source": [
    "#Function With Argument\n",
    "def add(x,y):\n",
    "    C= x + y\n",
    "    return C\n",
    "add(10,20)"
   ]
  },
  {
   "cell_type": "code",
   "execution_count": 48,
   "id": "45b1699e-80cd-4e17-a39f-f353e6fa6d96",
   "metadata": {},
   "outputs": [
    {
     "data": {
      "text/plain": [
       "30"
      ]
     },
     "execution_count": 48,
     "metadata": {},
     "output_type": "execute_result"
    }
   ],
   "source": [
    "#Function With Argument\n",
    "def add(x,y,z):\n",
    "    C=x + y\n",
    "    return C\n",
    "add(10,20,10)"
   ]
  },
  {
   "cell_type": "code",
   "execution_count": 49,
   "id": "dca762fb-0dbf-4184-991a-e9d01b807dd0",
   "metadata": {},
   "outputs": [
    {
     "data": {
      "text/plain": [
       "50"
      ]
     },
     "execution_count": 49,
     "metadata": {},
     "output_type": "execute_result"
    }
   ],
   "source": [
    "#function with Argument\n",
    "\n",
    "def add(x,y,z,n):\n",
    "    C = x+y+z+n\n",
    "    return C\n",
    "add(10,10,20,10)"
   ]
  },
  {
   "cell_type": "code",
   "execution_count": 50,
   "id": "7cf9b88e-e51f-4f5f-b70d-0b8830a4cba8",
   "metadata": {},
   "outputs": [
    {
     "name": "stdout",
     "output_type": "stream",
     "text": [
      "Hello\n",
      "Good Morning Team\n"
     ]
    },
    {
     "data": {
      "text/plain": [
       "30"
      ]
     },
     "execution_count": 50,
     "metadata": {},
     "output_type": "execute_result"
    }
   ],
   "source": [
    "def greet():\n",
    "    print(\"Hello\")\n",
    "    print(\"Good Morning Team\")\n",
    "greet()\n",
    "\n",
    "def add(x,y):\n",
    "    C = x + y\n",
    "    return C\n",
    "add(10,20)"
   ]
  },
  {
   "cell_type": "code",
   "execution_count": 51,
   "id": "768cc78f-0c6c-47cf-8946-2e89f7bde61d",
   "metadata": {},
   "outputs": [
    {
     "name": "stdout",
     "output_type": "stream",
     "text": [
      "Hello\n",
      "Good Morning Team\n",
      "14\n",
      "10\n"
     ]
    }
   ],
   "source": [
    "def grret():\n",
    "    print(\"Hello\")\n",
    "    print(\"Good Morning Team\")\n",
    "    \n",
    "def add(x,y):\n",
    "    C = x + y\n",
    "    return C\n",
    "    \n",
    "def sub(x,y):\n",
    "    D = x - y\n",
    "    return D\n",
    "\n",
    "greet()\n",
    "print(add(10,4))\n",
    "print(sub(15,5))"
   ]
  },
  {
   "cell_type": "code",
   "execution_count": 52,
   "id": "5831a995-3081-4379-b88b-1ecd6ba03282",
   "metadata": {},
   "outputs": [
    {
     "name": "stdout",
     "output_type": "stream",
     "text": [
      "(12, 4)\n",
      "<class 'tuple'>\n"
     ]
    }
   ],
   "source": [
    "def add_sub(x,y):\n",
    "    c = x + y\n",
    "    d = x - y\n",
    "    return c, d\n",
    "    \n",
    "result= add_sub(8,4)\n",
    "print(result)\n",
    "print(type(result))"
   ]
  },
  {
   "cell_type": "code",
   "execution_count": 53,
   "id": "be57efbf-c711-476b-afff-7506cdb83f2c",
   "metadata": {},
   "outputs": [
    {
     "name": "stdout",
     "output_type": "stream",
     "text": [
      "9\n",
      "-1\n",
      "<class 'int'>\n"
     ]
    }
   ],
   "source": [
    "def add_sub(x,y):\n",
    "    c= x+y\n",
    "    d= x-y\n",
    "    return c, d\n",
    "    \n",
    "result, result1 = add_sub(4,5)\n",
    "\n",
    "print(result)\n",
    "print(result1)\n",
    "print(type(result))"
   ]
  },
  {
   "cell_type": "code",
   "execution_count": 54,
   "id": "54b03e7d-331b-4b84-880c-76cfefc944a4",
   "metadata": {},
   "outputs": [
    {
     "data": {
      "text/plain": [
       "30"
      ]
     },
     "execution_count": 54,
     "metadata": {},
     "output_type": "execute_result"
    }
   ],
   "source": [
    "def add_sub_mul(x,y):\n",
    "    c= x+y\n",
    "    d= x-y\n",
    "    e= x*y\n",
    "    return c, d, e\n",
    "    \n",
    "add, sub, mul = add_sub_mul(5,6)\n",
    "\n",
    "add\n",
    "sub\n",
    "mul"
   ]
  },
  {
   "cell_type": "markdown",
   "id": "87803ca5-6dc8-465f-b832-7c512acfdf2b",
   "metadata": {},
   "source": [
    "### Update"
   ]
  },
  {
   "cell_type": "code",
   "execution_count": 55,
   "id": "097bedff-f12c-4f08-b33f-e4762ea48239",
   "metadata": {},
   "outputs": [
    {
     "name": "stdout",
     "output_type": "stream",
     "text": [
      "10\n"
     ]
    }
   ],
   "source": [
    "def update():\n",
    "    x = 10\n",
    "    print(x)\n",
    "update()"
   ]
  },
  {
   "cell_type": "code",
   "execution_count": 56,
   "id": "4d118a9a-4fcf-44d2-a581-a8e3c6083193",
   "metadata": {},
   "outputs": [
    {
     "data": {
      "text/plain": [
       "10"
      ]
     },
     "execution_count": 56,
     "metadata": {},
     "output_type": "execute_result"
    }
   ],
   "source": [
    "def update(x):\n",
    "    x = 10\n",
    "    return(x)\n",
    "update(100)"
   ]
  },
  {
   "cell_type": "code",
   "execution_count": 57,
   "id": "e3801d05-8d18-4c4e-baa7-ff1c6a19cff8",
   "metadata": {},
   "outputs": [
    {
     "name": "stdout",
     "output_type": "stream",
     "text": [
      "20\n"
     ]
    }
   ],
   "source": [
    "def updaate(x):\n",
    "    x = 10\n",
    "    return x\n",
    "a = 20\n",
    "update(a)\n",
    "print(a)"
   ]
  },
  {
   "cell_type": "code",
   "execution_count": null,
   "id": "edc3107c-0521-45fe-8724-38a90a065010",
   "metadata": {},
   "outputs": [],
   "source": []
  },
  {
   "cell_type": "code",
   "execution_count": null,
   "id": "b83694c7-28b0-4b66-9f7f-a6d7a873cb3e",
   "metadata": {},
   "outputs": [],
   "source": []
  },
  {
   "cell_type": "code",
   "execution_count": null,
   "id": "515344b6-bb3f-4e9a-a7ce-4cc696fd10e7",
   "metadata": {},
   "outputs": [],
   "source": []
  },
  {
   "cell_type": "code",
   "execution_count": null,
   "id": "abef8389-1d47-400f-ae2b-6ecb1ec9a618",
   "metadata": {},
   "outputs": [],
   "source": []
  }
 ],
 "metadata": {
  "kernelspec": {
   "display_name": "Python 3 (ipykernel)",
   "language": "python",
   "name": "python3"
  },
  "language_info": {
   "codemirror_mode": {
    "name": "ipython",
    "version": 3
   },
   "file_extension": ".py",
   "mimetype": "text/x-python",
   "name": "python",
   "nbconvert_exporter": "python",
   "pygments_lexer": "ipython3",
   "version": "3.12.7"
  }
 },
 "nbformat": 4,
 "nbformat_minor": 5
}
