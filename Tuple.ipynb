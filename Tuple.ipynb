{
 "cells": [
  {
   "cell_type": "markdown",
   "id": "74fe9c17-9d69-4090-98e4-4f4d4ae389ae",
   "metadata": {},
   "source": [
    "#### 1. Tuple creation\n",
    "- A tuple in Python is an ordered collection of items\n",
    "-  similar to a list, but with a key distinction: immutability.\n",
    "-   This means that once a tuple is created, its elements cannot be changed, added, or removed.\n",
    "-   Allows Duplicates\n",
    "-   Heterogeneous\n",
    "-   Defined with Parentheses ()"
   ]
  },
  {
   "cell_type": "code",
   "execution_count": 2,
   "id": "2ba1e6c7-bb0c-47a8-a0b3-e3fdde7fd1c1",
   "metadata": {},
   "outputs": [],
   "source": [
    "tup1=()"
   ]
  },
  {
   "cell_type": "code",
   "execution_count": 3,
   "id": "e1d1f689-5e44-4807-9793-af5d4b658677",
   "metadata": {},
   "outputs": [],
   "source": [
    "tup1=(5,10,15,20)  #tuple of integer numbers"
   ]
  },
  {
   "cell_type": "code",
   "execution_count": 4,
   "id": "9da58184-ddbc-49c3-a482-fd8f3595b655",
   "metadata": {},
   "outputs": [],
   "source": [
    "tup2=(25,6.3,5.8,20.4) #tuple of float numbers"
   ]
  },
  {
   "cell_type": "code",
   "execution_count": 5,
   "id": "50c82642-008c-4c8f-a787-46f14142f2b9",
   "metadata": {},
   "outputs": [],
   "source": [
    "tup3=('Apple','Banana','peach','papaya')  # tuple of strings"
   ]
  },
  {
   "cell_type": "code",
   "execution_count": 6,
   "id": "ccc1039d-d655-452d-9aba-4fa04b2c4a67",
   "metadata": {},
   "outputs": [],
   "source": [
    "tup4=(25,'pooja',(10,20),(20,50)) # nested tuples"
   ]
  },
  {
   "cell_type": "code",
   "execution_count": 7,
   "id": "e71641ca-c096-4483-9c45-9d67b798b306",
   "metadata": {},
   "outputs": [],
   "source": [
    "tup5=(25,2.6,'pooja') # mixed data "
   ]
  },
  {
   "cell_type": "code",
   "execution_count": 10,
   "id": "9e635f11-a43b-4ae9-8460-60bc045f5ddd",
   "metadata": {},
   "outputs": [
    {
     "data": {
      "text/plain": [
       "('pooja', 30, [20, 50], [22, 60], {'aadi', 'dev'}, (1, 3, 6))"
      ]
     },
     "execution_count": 10,
     "metadata": {},
     "output_type": "execute_result"
    }
   ],
   "source": [
    "tup6=('pooja',30,[20,50],[22,60],{'aadi','dev'},(1,3,6))\n",
    "tup6"
   ]
  },
  {
   "cell_type": "code",
   "execution_count": 9,
   "id": "52f3d8bd-1275-4e48-bf1d-d3c7780e8028",
   "metadata": {},
   "outputs": [
    {
     "data": {
      "text/plain": [
       "6"
      ]
     },
     "execution_count": 9,
     "metadata": {},
     "output_type": "execute_result"
    }
   ],
   "source": [
    "len(tup6)"
   ]
  },
  {
   "cell_type": "markdown",
   "id": "44b00855-26a4-4dec-8ceb-59300f860bcf",
   "metadata": {},
   "source": [
    "#### Tuple Indexing"
   ]
  },
  {
   "cell_type": "code",
   "execution_count": 5,
   "id": "b8deef23-c95c-474f-a382-fa8b424f869f",
   "metadata": {},
   "outputs": [
    {
     "data": {
      "text/plain": [
       "25"
      ]
     },
     "execution_count": 5,
     "metadata": {},
     "output_type": "execute_result"
    }
   ],
   "source": [
    "tup2[0] # Retreive first element of the tuple"
   ]
  },
  {
   "cell_type": "code",
   "execution_count": 9,
   "id": "2f059eb6-8a23-45cb-8423-160461753f3f",
   "metadata": {},
   "outputs": [
    {
     "data": {
      "text/plain": [
       "25"
      ]
     },
     "execution_count": 9,
     "metadata": {},
     "output_type": "execute_result"
    }
   ],
   "source": [
    "tup4[0] # Retreive first element of the tuple"
   ]
  },
  {
   "cell_type": "code",
   "execution_count": 17,
   "id": "7011c80a-144e-46a0-99d0-3168b9d5434f",
   "metadata": {},
   "outputs": [
    {
     "data": {
      "text/plain": [
       "'p'"
      ]
     },
     "execution_count": 17,
     "metadata": {},
     "output_type": "execute_result"
    }
   ],
   "source": [
    "tup4[1][0] # Nested indexing - Access the first character of the first tuple element"
   ]
  },
  {
   "cell_type": "code",
   "execution_count": 19,
   "id": "296df4ab-b6d6-4cf9-8766-15666d015d12",
   "metadata": {},
   "outputs": [
    {
     "data": {
      "text/plain": [
       "(20, 50)"
      ]
     },
     "execution_count": 19,
     "metadata": {},
     "output_type": "execute_result"
    }
   ],
   "source": [
    "tup4[-1] # Last item of the tuple "
   ]
  },
  {
   "cell_type": "markdown",
   "id": "beefb37f-660f-4c4b-baf3-6727062e77a7",
   "metadata": {},
   "source": [
    "#### tuple slicing"
   ]
  },
  {
   "cell_type": "code",
   "execution_count": 24,
   "id": "f483aa4e-1be4-4170-9283-ca7e63e1cc84",
   "metadata": {},
   "outputs": [
    {
     "data": {
      "text/plain": [
       "('one', 'two', 'three', 'four', 'five', 'six')"
      ]
     },
     "execution_count": 24,
     "metadata": {},
     "output_type": "execute_result"
    }
   ],
   "source": [
    "t=('one','two','three','four','five','six')\n",
    "t"
   ]
  },
  {
   "cell_type": "code",
   "execution_count": 26,
   "id": "1a254e9d-4c86-48dd-9785-2b970cb14fac",
   "metadata": {},
   "outputs": [
    {
     "data": {
      "text/plain": [
       "('one', 'two', 'three')"
      ]
     },
     "execution_count": 26,
     "metadata": {},
     "output_type": "execute_result"
    }
   ],
   "source": [
    "t[0:3]   # Return all items from 0th to 3rd index location excluding the 3rd index"
   ]
  },
  {
   "cell_type": "code",
   "execution_count": 28,
   "id": "20624c61-1ce8-4cd2-89ad-1388d9f68602",
   "metadata": {},
   "outputs": [
    {
     "data": {
      "text/plain": [
       "('three', 'four', 'five')"
      ]
     },
     "execution_count": 28,
     "metadata": {},
     "output_type": "execute_result"
    }
   ],
   "source": [
    "t[2:5]  # List all items from 2nd to 5th index location excluding the 5th index"
   ]
  },
  {
   "cell_type": "code",
   "execution_count": 30,
   "id": "511b8999-c067-4529-8ea5-d98f61979e46",
   "metadata": {},
   "outputs": [
    {
     "data": {
      "text/plain": [
       "('one', 'two', 'three')"
      ]
     },
     "execution_count": 30,
     "metadata": {},
     "output_type": "execute_result"
    }
   ],
   "source": [
    "t[:3] #  # Return first three items"
   ]
  },
  {
   "cell_type": "code",
   "execution_count": 32,
   "id": "537da88f-7a68-48a3-b0b7-c61b6eb52fbc",
   "metadata": {},
   "outputs": [
    {
     "data": {
      "text/plain": [
       "('five', 'six')"
      ]
     },
     "execution_count": 32,
     "metadata": {},
     "output_type": "execute_result"
    }
   ],
   "source": [
    "t[-2:] #return last two items"
   ]
  },
  {
   "cell_type": "code",
   "execution_count": 34,
   "id": "dd918353-9812-4d79-b2cb-674840e47fa0",
   "metadata": {},
   "outputs": [
    {
     "data": {
      "text/plain": [
       "('one', 'two', 'three', 'four', 'five', 'six')"
      ]
     },
     "execution_count": 34,
     "metadata": {},
     "output_type": "execute_result"
    }
   ],
   "source": [
    "t[:] #return all items"
   ]
  },
  {
   "cell_type": "markdown",
   "id": "03db7c6f-2d9d-4392-b315-e1cfee24cf34",
   "metadata": {},
   "source": [
    "#### remove and change items"
   ]
  },
  {
   "cell_type": "code",
   "execution_count": 37,
   "id": "2a48ebe4-bd77-4dbd-965c-a49d17af2694",
   "metadata": {},
   "outputs": [
    {
     "data": {
      "text/plain": [
       "('one', 'two', 'three', 'four', 'five', 'six')"
      ]
     },
     "execution_count": 37,
     "metadata": {},
     "output_type": "execute_result"
    }
   ],
   "source": [
    "t"
   ]
  },
  {
   "cell_type": "code",
   "execution_count": 41,
   "id": "7de953e0-300a-49d5-90e4-e6b097303746",
   "metadata": {},
   "outputs": [
    {
     "ename": "TypeError",
     "evalue": "'tuple' object doesn't support item deletion",
     "output_type": "error",
     "traceback": [
      "\u001b[1;31m---------------------------------------------------------------------------\u001b[0m",
      "\u001b[1;31mTypeError\u001b[0m                                 Traceback (most recent call last)",
      "Cell \u001b[1;32mIn[41], line 1\u001b[0m\n\u001b[1;32m----> 1\u001b[0m \u001b[38;5;28;01mdel\u001b[39;00m t[\u001b[38;5;241m0\u001b[39m]\n",
      "\u001b[1;31mTypeError\u001b[0m: 'tuple' object doesn't support item deletion"
     ]
    }
   ],
   "source": [
    "del t[0]  # Tuples are immutable which means we can't DELETE tuple items"
   ]
  },
  {
   "cell_type": "code",
   "execution_count": 43,
   "id": "fcdac350-b4f3-4a09-b993-abd27652ed4e",
   "metadata": {},
   "outputs": [
    {
     "ename": "TypeError",
     "evalue": "'tuple' object does not support item assignment",
     "output_type": "error",
     "traceback": [
      "\u001b[1;31m---------------------------------------------------------------------------\u001b[0m",
      "\u001b[1;31mTypeError\u001b[0m                                 Traceback (most recent call last)",
      "Cell \u001b[1;32mIn[43], line 1\u001b[0m\n\u001b[1;32m----> 1\u001b[0m t[\u001b[38;5;241m0\u001b[39m]\u001b[38;5;241m=\u001b[39m\u001b[38;5;241m1\u001b[39m\n",
      "\u001b[1;31mTypeError\u001b[0m: 'tuple' object does not support item assignment"
     ]
    }
   ],
   "source": [
    "t[0]=1 # Tuples are immutable which means we can't CHANGE tuple items "
   ]
  },
  {
   "cell_type": "code",
   "execution_count": null,
   "id": "a625db77-f6d0-4f34-99c3-8d901ea7772b",
   "metadata": {},
   "outputs": [],
   "source": [
    "del t  # Deleting entire tuple object is possible "
   ]
  },
  {
   "cell_type": "markdown",
   "id": "64f5b629-a7e7-4244-b3a8-ac29361716ac",
   "metadata": {},
   "source": [
    "#### Loop through a tuple"
   ]
  },
  {
   "cell_type": "code",
   "execution_count": 46,
   "id": "f913355e-efab-453c-8072-5164f7c644f9",
   "metadata": {},
   "outputs": [
    {
     "data": {
      "text/plain": [
       "('one', 'two', 'three', 'four', 'five', 'six')"
      ]
     },
     "execution_count": 46,
     "metadata": {},
     "output_type": "execute_result"
    }
   ],
   "source": [
    "t"
   ]
  },
  {
   "cell_type": "code",
   "execution_count": 48,
   "id": "07b56247-1fea-4c31-a845-beccfa8cee3d",
   "metadata": {},
   "outputs": [
    {
     "name": "stdout",
     "output_type": "stream",
     "text": [
      "one\n",
      "two\n",
      "three\n",
      "four\n",
      "five\n",
      "six\n"
     ]
    }
   ],
   "source": [
    "for i in t:\n",
    "    print(i)"
   ]
  },
  {
   "cell_type": "code",
   "execution_count": 50,
   "id": "2ad58684-301e-4a0d-8d6c-bb7ef917dd3e",
   "metadata": {},
   "outputs": [
    {
     "name": "stdout",
     "output_type": "stream",
     "text": [
      "(0, 'one')\n",
      "(1, 'two')\n",
      "(2, 'three')\n",
      "(3, 'four')\n",
      "(4, 'five')\n",
      "(5, 'six')\n"
     ]
    }
   ],
   "source": [
    "for i in enumerate(t):\n",
    "    print(i)"
   ]
  },
  {
   "cell_type": "markdown",
   "id": "36080580-ccea-43b6-ac4d-631a5b6bc827",
   "metadata": {},
   "source": [
    "#### count"
   ]
  },
  {
   "cell_type": "code",
   "execution_count": 53,
   "id": "88eccc65-608a-4434-a428-658b27319556",
   "metadata": {},
   "outputs": [
    {
     "data": {
      "text/plain": [
       "('one', 'two', 'three', 'four', 'five', 'six')"
      ]
     },
     "execution_count": 53,
     "metadata": {},
     "output_type": "execute_result"
    }
   ],
   "source": [
    "t"
   ]
  },
  {
   "cell_type": "code",
   "execution_count": 55,
   "id": "4e31ea6f-0d41-4cde-ba1b-b86525a774b9",
   "metadata": {},
   "outputs": [
    {
     "data": {
      "text/plain": [
       "1"
      ]
     },
     "execution_count": 55,
     "metadata": {},
     "output_type": "execute_result"
    }
   ],
   "source": [
    "t.count('one')"
   ]
  },
  {
   "cell_type": "code",
   "execution_count": 57,
   "id": "e5f8a740-baab-40e7-b88b-8f71b01593e1",
   "metadata": {},
   "outputs": [
    {
     "data": {
      "text/plain": [
       "1"
      ]
     },
     "execution_count": 57,
     "metadata": {},
     "output_type": "execute_result"
    }
   ],
   "source": [
    "t.count('three')"
   ]
  },
  {
   "cell_type": "markdown",
   "id": "ecd21971-fa3e-4024-a9be-c66d55f61fc8",
   "metadata": {},
   "source": [
    "#### tuple membership"
   ]
  },
  {
   "cell_type": "code",
   "execution_count": 60,
   "id": "3eac5466-d116-4be9-b60d-29fcdcd33d5d",
   "metadata": {},
   "outputs": [
    {
     "data": {
      "text/plain": [
       "('one', 'two', 'three', 'four', 'five', 'six')"
      ]
     },
     "execution_count": 60,
     "metadata": {},
     "output_type": "execute_result"
    }
   ],
   "source": [
    "t"
   ]
  },
  {
   "cell_type": "code",
   "execution_count": 62,
   "id": "dc999c7c-cc67-4f36-aef1-ad88698b43aa",
   "metadata": {},
   "outputs": [
    {
     "data": {
      "text/plain": [
       "True"
      ]
     },
     "execution_count": 62,
     "metadata": {},
     "output_type": "execute_result"
    }
   ],
   "source": [
    "'one' in t # check if item exist in tuple"
   ]
  },
  {
   "cell_type": "code",
   "execution_count": 68,
   "id": "81f335bb-9f0e-43dd-9d15-c399c2c542d1",
   "metadata": {},
   "outputs": [
    {
     "name": "stdout",
     "output_type": "stream",
     "text": [
      "Three is present in the tuple\n"
     ]
    }
   ],
   "source": [
    "if 'three' in t: # Check if 'three' exist in the list \n",
    "    print('Three is present in the tuple') \n",
    "else: \n",
    "    print('Three is not present in the tuple') "
   ]
  },
  {
   "cell_type": "code",
   "execution_count": 72,
   "id": "88d3ff65-83f9-464c-a1a7-99c919fb9545",
   "metadata": {},
   "outputs": [
    {
     "name": "stdout",
     "output_type": "stream",
     "text": [
      "nine is not present in the tuple\n"
     ]
    }
   ],
   "source": [
    "if 'nine' in t: # Check if 'eleven' exist in the list \n",
    "    print('nine is present in the tuple') \n",
    "else: \n",
    "    print('nine is not present in the tuple') "
   ]
  },
  {
   "cell_type": "markdown",
   "id": "2d7196ed-0f96-476e-8230-a8343eee32d7",
   "metadata": {},
   "source": [
    "#### Index position"
   ]
  },
  {
   "cell_type": "code",
   "execution_count": 75,
   "id": "bc004234-f166-4efa-8b5d-4ca2512ca023",
   "metadata": {},
   "outputs": [
    {
     "data": {
      "text/plain": [
       "('one', 'two', 'three', 'four', 'five', 'six')"
      ]
     },
     "execution_count": 75,
     "metadata": {},
     "output_type": "execute_result"
    }
   ],
   "source": [
    "t"
   ]
  },
  {
   "cell_type": "code",
   "execution_count": 77,
   "id": "7a2ddb39-412e-41a5-ab1f-c1fc9106c005",
   "metadata": {},
   "outputs": [
    {
     "data": {
      "text/plain": [
       "0"
      ]
     },
     "execution_count": 77,
     "metadata": {},
     "output_type": "execute_result"
    }
   ],
   "source": [
    "t.index('one')  # Index of first element equal to 'one'"
   ]
  },
  {
   "cell_type": "code",
   "execution_count": 79,
   "id": "68d1d99b-c587-48c5-aae0-6f0b927dfb34",
   "metadata": {},
   "outputs": [
    {
     "data": {
      "text/plain": [
       "4"
      ]
     },
     "execution_count": 79,
     "metadata": {},
     "output_type": "execute_result"
    }
   ],
   "source": [
    "t.index('five')"
   ]
  },
  {
   "cell_type": "markdown",
   "id": "2238655a-ed8f-4402-baa0-f555fea8b05e",
   "metadata": {},
   "source": [
    "#### sorting"
   ]
  },
  {
   "cell_type": "code",
   "execution_count": 82,
   "id": "1854103e-529a-4518-96b1-2ad58aab08f7",
   "metadata": {},
   "outputs": [
    {
     "data": {
      "text/plain": [
       "(4, 3, 5, 6, 7, 8, 9, 2)"
      ]
     },
     "execution_count": 82,
     "metadata": {},
     "output_type": "execute_result"
    }
   ],
   "source": [
    "t=(4,3,5,6,7,8,9,2)\n",
    "t"
   ]
  },
  {
   "cell_type": "code",
   "execution_count": 84,
   "id": "07ad01bf-2242-4aea-9cd3-40e242eb9b8a",
   "metadata": {},
   "outputs": [
    {
     "data": {
      "text/plain": [
       "[2, 3, 4, 5, 6, 7, 8, 9]"
      ]
     },
     "execution_count": 84,
     "metadata": {},
     "output_type": "execute_result"
    }
   ],
   "source": [
    "sorted(t)"
   ]
  },
  {
   "cell_type": "code",
   "execution_count": 86,
   "id": "85ddaf2b-2237-48f0-83f6-26c9c7e40203",
   "metadata": {},
   "outputs": [
    {
     "data": {
      "text/plain": [
       "[9, 8, 7, 6, 5, 4, 3, 2]"
      ]
     },
     "execution_count": 86,
     "metadata": {},
     "output_type": "execute_result"
    }
   ],
   "source": [
    "sorted(t, reverse=True)"
   ]
  },
  {
   "cell_type": "code",
   "execution_count": null,
   "id": "a43c7356-0d37-4c2d-b11d-104dd30960d0",
   "metadata": {},
   "outputs": [],
   "source": []
  }
 ],
 "metadata": {
  "kernelspec": {
   "display_name": "Python 3 (ipykernel)",
   "language": "python",
   "name": "python3"
  },
  "language_info": {
   "codemirror_mode": {
    "name": "ipython",
    "version": 3
   },
   "file_extension": ".py",
   "mimetype": "text/x-python",
   "name": "python",
   "nbconvert_exporter": "python",
   "pygments_lexer": "ipython3",
   "version": "3.12.7"
  }
 },
 "nbformat": 4,
 "nbformat_minor": 5
}
