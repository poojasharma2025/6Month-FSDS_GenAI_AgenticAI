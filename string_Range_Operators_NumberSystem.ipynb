{
 "cells": [
  {
   "cell_type": "markdown",
   "id": "0b6b7bfc-dde9-4683-a412-792e74473e65",
   "metadata": {},
   "source": [
    "#### string and range"
   ]
  },
  {
   "cell_type": "code",
   "execution_count": 137,
   "id": "fc5ff895-489a-43a5-b81f-2abc2647d0bc",
   "metadata": {},
   "outputs": [
    {
     "name": "stdout",
     "output_type": "stream",
     "text": [
      "3.12.7 | packaged by Anaconda, Inc. | (main, Oct  4 2024, 13:17:27) [MSC v.1929 64 bit (AMD64)]\n"
     ]
    }
   ],
   "source": [
    "import sys\n",
    "print(sys.version)"
   ]
  },
  {
   "cell_type": "code",
   "execution_count": 4,
   "id": "b3d0f63e-3736-4f7d-a330-217ff9704788",
   "metadata": {},
   "outputs": [
    {
     "data": {
      "text/plain": [
       "2"
      ]
     },
     "execution_count": 4,
     "metadata": {},
     "output_type": "execute_result"
    }
   ],
   "source": [
    "1+1   # addition"
   ]
  },
  {
   "cell_type": "code",
   "execution_count": 6,
   "id": "5b6a923b-c4d4-40dd-9ccd-bc3d49887f73",
   "metadata": {},
   "outputs": [
    {
     "data": {
      "text/plain": [
       "7"
      ]
     },
     "execution_count": 6,
     "metadata": {},
     "output_type": "execute_result"
    }
   ],
   "source": [
    "12-5  # subtraction"
   ]
  },
  {
   "cell_type": "code",
   "execution_count": 8,
   "id": "e003f010-852e-4d7f-b0b9-9d0bea338263",
   "metadata": {},
   "outputs": [
    {
     "data": {
      "text/plain": [
       "60"
      ]
     },
     "execution_count": 8,
     "metadata": {},
     "output_type": "execute_result"
    }
   ],
   "source": [
    "12*5  # multiplication"
   ]
  },
  {
   "cell_type": "code",
   "execution_count": 10,
   "id": "6249c9e4-5deb-49f8-a9f2-c2d20f7241e7",
   "metadata": {},
   "outputs": [
    {
     "data": {
      "text/plain": [
       "2.0"
      ]
     },
     "execution_count": 10,
     "metadata": {},
     "output_type": "execute_result"
    }
   ],
   "source": [
    "8/4  # float division"
   ]
  },
  {
   "cell_type": "code",
   "execution_count": 12,
   "id": "af1ec9b4-5df7-4750-a3b4-bbc15c60259d",
   "metadata": {},
   "outputs": [
    {
     "data": {
      "text/plain": [
       "2"
      ]
     },
     "execution_count": 12,
     "metadata": {},
     "output_type": "execute_result"
    }
   ],
   "source": [
    "8//4   # integer division"
   ]
  },
  {
   "cell_type": "code",
   "execution_count": 14,
   "id": "a304843a-152a-43dc-99c3-6ee255abef10",
   "metadata": {},
   "outputs": [
    {
     "data": {
      "text/plain": [
       "10"
      ]
     },
     "execution_count": 14,
     "metadata": {},
     "output_type": "execute_result"
    }
   ],
   "source": [
    "8+9-7"
   ]
  },
  {
   "cell_type": "markdown",
   "id": "348c04a6-c70f-41ac-9388-be2e0da75784",
   "metadata": {},
   "source": [
    "#### syntax error always comes under compile time error category. means error made by users(user not write  code properly)"
   ]
  },
  {
   "cell_type": "code",
   "execution_count": 16,
   "id": "1b6fd509-c937-4acd-a520-64c9059721a0",
   "metadata": {},
   "outputs": [
    {
     "ename": "SyntaxError",
     "evalue": "invalid syntax (3994078272.py, line 1)",
     "output_type": "error",
     "traceback": [
      "\u001b[1;36m  Cell \u001b[1;32mIn[16], line 1\u001b[1;36m\u001b[0m\n\u001b[1;33m    8+8- #syntax error\u001b[0m\n\u001b[1;37m         ^\u001b[0m\n\u001b[1;31mSyntaxError\u001b[0m\u001b[1;31m:\u001b[0m invalid syntax\n"
     ]
    }
   ],
   "source": [
    "8+8- #syntax error\n"
   ]
  },
  {
   "cell_type": "code",
   "execution_count": 22,
   "id": "30e8bd62-0382-4fe8-88b6-850cf0c32352",
   "metadata": {},
   "outputs": [
    {
     "data": {
      "text/plain": [
       "30"
      ]
     },
     "execution_count": 22,
     "metadata": {},
     "output_type": "execute_result"
    }
   ],
   "source": [
    "5+5*5"
   ]
  },
  {
   "cell_type": "code",
   "execution_count": 25,
   "id": "545eb803-1f50-4ff1-bb88-63ffb780f647",
   "metadata": {},
   "outputs": [
    {
     "data": {
      "text/plain": [
       "50"
      ]
     },
     "execution_count": 25,
     "metadata": {},
     "output_type": "execute_result"
    }
   ],
   "source": [
    "(5+5)*5  #BODMAS (Bracket || Order|| Divide || Multiply || Add || Subtract)"
   ]
  },
  {
   "cell_type": "code",
   "execution_count": 31,
   "id": "36c04d72-4720-4cea-9649-0a95629213c7",
   "metadata": {},
   "outputs": [
    {
     "data": {
      "text/plain": [
       "32"
      ]
     },
     "execution_count": 31,
     "metadata": {},
     "output_type": "execute_result"
    }
   ],
   "source": [
    "2*2*2*2*2  # *  multiplication"
   ]
  },
  {
   "cell_type": "code",
   "execution_count": 29,
   "id": "4fafa42d-1638-4c0a-a384-eb8449138ec8",
   "metadata": {},
   "outputs": [
    {
     "data": {
      "text/plain": [
       "32"
      ]
     },
     "execution_count": 29,
     "metadata": {},
     "output_type": "execute_result"
    }
   ],
   "source": [
    "2 ** 5   # ** Exponention or power"
   ]
  },
  {
   "cell_type": "code",
   "execution_count": 35,
   "id": "62b2e5b5-8cb0-4fc0-81ec-e88a70fcebb4",
   "metadata": {},
   "outputs": [
    {
     "data": {
      "text/plain": [
       "9"
      ]
     },
     "execution_count": 35,
     "metadata": {},
     "output_type": "execute_result"
    }
   ],
   "source": [
    "3 ** 2"
   ]
  },
  {
   "cell_type": "code",
   "execution_count": 37,
   "id": "abf5f650-f6e9-42ce-b8b3-dfec6bb3e3bb",
   "metadata": {},
   "outputs": [
    {
     "data": {
      "text/plain": [
       "5.0"
      ]
     },
     "execution_count": 37,
     "metadata": {},
     "output_type": "execute_result"
    }
   ],
   "source": [
    "15/3 # float division"
   ]
  },
  {
   "cell_type": "code",
   "execution_count": 41,
   "id": "659ffefa-0950-49ad-aa46-6e64166a21dd",
   "metadata": {},
   "outputs": [
    {
     "data": {
      "text/plain": [
       "3"
      ]
     },
     "execution_count": 41,
     "metadata": {},
     "output_type": "execute_result"
    }
   ],
   "source": [
    "10//3   # int division"
   ]
  },
  {
   "cell_type": "code",
   "execution_count": 43,
   "id": "36cdb1ad-14a5-45ba-9dda-794f37e807a5",
   "metadata": {},
   "outputs": [
    {
     "data": {
      "text/plain": [
       "1"
      ]
     },
     "execution_count": 43,
     "metadata": {},
     "output_type": "execute_result"
    }
   ],
   "source": [
    "15%2   # modulus (remainder)"
   ]
  },
  {
   "cell_type": "code",
   "execution_count": 45,
   "id": "dfd23c09-e88d-469f-8428-fe00cbc5e77a",
   "metadata": {},
   "outputs": [
    {
     "data": {
      "text/plain": [
       "0"
      ]
     },
     "execution_count": 45,
     "metadata": {},
     "output_type": "execute_result"
    }
   ],
   "source": [
    "10%2"
   ]
  },
  {
   "cell_type": "code",
   "execution_count": 47,
   "id": "c3a2250b-e61d-4ff3-a9dc-99669f625a3e",
   "metadata": {},
   "outputs": [
    {
     "ename": "SyntaxError",
     "evalue": "invalid syntax (1537055890.py, line 1)",
     "output_type": "error",
     "traceback": [
      "\u001b[1;36m  Cell \u001b[1;32mIn[47], line 1\u001b[1;36m\u001b[0m\n\u001b[1;33m    15%%2\u001b[0m\n\u001b[1;37m       ^\u001b[0m\n\u001b[1;31mSyntaxError\u001b[0m\u001b[1;31m:\u001b[0m invalid syntax\n"
     ]
    }
   ],
   "source": [
    "15%%2    # syntax error (2 times use %)"
   ]
  },
  {
   "cell_type": "markdown",
   "id": "153bd658-9aa7-4337-b112-1571e201c092",
   "metadata": {},
   "source": [
    "**we can't combine string with int**"
   ]
  },
  {
   "cell_type": "code",
   "execution_count": 49,
   "id": "c8ade72c-b817-4bce-ae65-cdae8080faec",
   "metadata": {},
   "outputs": [
    {
     "ename": "TypeError",
     "evalue": "unsupported operand type(s) for +: 'int' and 'str'",
     "output_type": "error",
     "traceback": [
      "\u001b[1;31m---------------------------------------------------------------------------\u001b[0m",
      "\u001b[1;31mTypeError\u001b[0m                                 Traceback (most recent call last)",
      "Cell \u001b[1;32mIn[49], line 1\u001b[0m\n\u001b[1;32m----> 1\u001b[0m \u001b[38;5;241m3\u001b[39m \u001b[38;5;241m+\u001b[39m \u001b[38;5;124m'\u001b[39m\u001b[38;5;124mpooja\u001b[39m\u001b[38;5;124m'\u001b[39m\n",
      "\u001b[1;31mTypeError\u001b[0m: unsupported operand type(s) for +: 'int' and 'str'"
     ]
    }
   ],
   "source": [
    "3 + 'pooja'    # we can't combine int + string "
   ]
  },
  {
   "cell_type": "code",
   "execution_count": 53,
   "id": "7dcba5c1-0176-44fe-ba27-9fafafac9baf",
   "metadata": {},
   "outputs": [
    {
     "data": {
      "text/plain": [
       "' pooja pooja pooja'"
      ]
     },
     "execution_count": 53,
     "metadata": {},
     "output_type": "execute_result"
    }
   ],
   "source": [
    "3 * ' pooja'  #if we need space between text , use space ' pooja' otherwise it shown as poojapoojapooja  int and string multiplication possible"
   ]
  },
  {
   "cell_type": "markdown",
   "id": "eab0d99f-c6cf-4497-8c89-f06c5e66fc34",
   "metadata": {},
   "source": [
    "#### In AI every words are called tokens"
   ]
  },
  {
   "cell_type": "code",
   "execution_count": 57,
   "id": "5a554eab-0baa-44db-82ac-ce7d78f24bf0",
   "metadata": {},
   "outputs": [
    {
     "name": "stdout",
     "output_type": "stream",
     "text": [
      "15\n",
      "7.8\n",
      "pooja\n",
      "(8+9j)\n",
      "True\n"
     ]
    }
   ],
   "source": [
    "a,b,c,d,e=15,7.8,'pooja',8+9j, True\n",
    "print(a)\n",
    "print(b)\n",
    "print(c)\n",
    "print(d)\n",
    "print(e)"
   ]
  },
  {
   "cell_type": "code",
   "execution_count": 2,
   "id": "02b1f0bc-6dca-40b5-aff5-e3ac92758b89",
   "metadata": {},
   "outputs": [
    {
     "name": "stdout",
     "output_type": "stream",
     "text": [
      "hi's \"this is nit\"\n"
     ]
    }
   ],
   "source": [
    "print('hi\\'s \"this is nit\"')"
   ]
  },
  {
   "cell_type": "code",
   "execution_count": 73,
   "id": "4559e085-0047-4260-8191-7468cc6fb3dd",
   "metadata": {},
   "outputs": [
    {
     "name": "stdout",
     "output_type": "stream",
     "text": [
      "hello 's \"this is nit\"\n"
     ]
    }
   ],
   "source": [
    " print('hello \\'s \"this is nit\"')  # \\' has some special meaning to ignore the error"
   ]
  },
  {
   "cell_type": "code",
   "execution_count": 75,
   "id": "c7502454-d8f2-469b-ad8f-c89a43e11e2f",
   "metadata": {},
   "outputs": [
    {
     "name": "stdout",
     "output_type": "stream",
     "text": [
      "hello ji nit\n"
     ]
    }
   ],
   "source": [
    "print('hello ji', 'nit')"
   ]
  },
  {
   "cell_type": "code",
   "execution_count": 77,
   "id": "b6cee814-b674-403d-89a8-bc8e11323d33",
   "metadata": {},
   "outputs": [
    {
     "name": "stdout",
     "output_type": "stream",
     "text": [
      "hello ji', 'nit\n"
     ]
    }
   ],
   "source": [
    "print(\"hello ji', 'nit\")"
   ]
  },
  {
   "cell_type": "code",
   "execution_count": 81,
   "id": "76e9edf1-89d1-442f-acd1-03ab2bf16f37",
   "metadata": {},
   "outputs": [
    {
     "data": {
      "text/plain": [
       "'pooja pooja'"
      ]
     },
     "execution_count": 81,
     "metadata": {},
     "output_type": "execute_result"
    }
   ],
   "source": [
    "'pooja' + ' pooja'"
   ]
  },
  {
   "cell_type": "code",
   "execution_count": 83,
   "id": "ab234601-9435-4a75-b8de-7ba8cf609d7a",
   "metadata": {},
   "outputs": [
    {
     "data": {
      "text/plain": [
       "'pooja pooja'"
      ]
     },
     "execution_count": 83,
     "metadata": {},
     "output_type": "execute_result"
    }
   ],
   "source": [
    "'pooja'  ' pooja'"
   ]
  },
  {
   "cell_type": "code",
   "execution_count": 87,
   "id": "4ed678fa-3caf-40db-b6d6-87cc24f1d560",
   "metadata": {},
   "outputs": [
    {
     "data": {
      "text/plain": [
       "' nit nit nit nit nit'"
      ]
     },
     "execution_count": 87,
     "metadata": {},
     "output_type": "execute_result"
    }
   ],
   "source": [
    "5*' nit'  # space between letters "
   ]
  },
  {
   "cell_type": "code",
   "execution_count": 95,
   "id": "7f39fa18-0c6b-4f7f-92e0-017eb18f3fd9",
   "metadata": {},
   "outputs": [
    {
     "name": "stdout",
     "output_type": "stream",
     "text": [
      "c:\n",
      "it\n"
     ]
    }
   ],
   "source": [
    "print('c:\\nit')   #\\n-- new line "
   ]
  },
  {
   "cell_type": "code",
   "execution_count": 97,
   "id": "4b6788e1-3780-427e-868a-59fd31c6056d",
   "metadata": {},
   "outputs": [
    {
     "name": "stdout",
     "output_type": "stream",
     "text": [
      "c:\\nit\n"
     ]
    }
   ],
   "source": [
    "print(r'c:\\nit')   # raw string"
   ]
  },
  {
   "cell_type": "code",
   "execution_count": 14,
   "id": "6d410a40-ef3c-4bdb-9ad7-a1470a650082",
   "metadata": {},
   "outputs": [],
   "source": [
    "x=2\n",
    "y=3"
   ]
  },
  {
   "cell_type": "code",
   "execution_count": 15,
   "id": "ab6a37d3-bec3-4217-8aa7-c90df6cf7f76",
   "metadata": {},
   "outputs": [
    {
     "data": {
      "text/plain": [
       "5"
      ]
     },
     "execution_count": 15,
     "metadata": {},
     "output_type": "execute_result"
    }
   ],
   "source": [
    "x+y"
   ]
  },
  {
   "cell_type": "code",
   "execution_count": 16,
   "id": "3cf4ca47-8f27-4f77-a0ab-51def1db21d8",
   "metadata": {},
   "outputs": [
    {
     "data": {
      "text/plain": [
       "9"
      ]
     },
     "execution_count": 16,
     "metadata": {},
     "output_type": "execute_result"
    }
   ],
   "source": [
    "x=9\n",
    "x"
   ]
  },
  {
   "cell_type": "code",
   "execution_count": 17,
   "id": "80676512-d2ca-4975-bec1-995b724260c8",
   "metadata": {},
   "outputs": [
    {
     "data": {
      "text/plain": [
       "12"
      ]
     },
     "execution_count": 17,
     "metadata": {},
     "output_type": "execute_result"
    }
   ],
   "source": [
    "x+y"
   ]
  },
  {
   "cell_type": "code",
   "execution_count": 18,
   "id": "d9944031-f5f1-4109-942f-10a555bbd556",
   "metadata": {},
   "outputs": [
    {
     "data": {
      "text/plain": [
       "19"
      ]
     },
     "execution_count": 18,
     "metadata": {},
     "output_type": "execute_result"
    }
   ],
   "source": [
    "x+10"
   ]
  },
  {
   "cell_type": "code",
   "execution_count": 19,
   "id": "722d910d-4011-4e4a-9e71-fcf657730a90",
   "metadata": {},
   "outputs": [
    {
     "data": {
      "text/plain": [
       "22"
      ]
     },
     "execution_count": 19,
     "metadata": {},
     "output_type": "execute_result"
    }
   ],
   "source": [
    "_ + y  # _ underscore store previous value"
   ]
  },
  {
   "cell_type": "code",
   "execution_count": 20,
   "id": "1a6828e4-0a04-43c0-90b0-e4d09cd28e2e",
   "metadata": {},
   "outputs": [
    {
     "data": {
      "text/plain": [
       "19"
      ]
     },
     "execution_count": 20,
     "metadata": {},
     "output_type": "execute_result"
    }
   ],
   "source": [
    "_ - y"
   ]
  },
  {
   "cell_type": "code",
   "execution_count": 21,
   "id": "53f39616-af0f-4dc5-90e3-223905e39c40",
   "metadata": {},
   "outputs": [
    {
     "data": {
      "text/plain": [
       "22"
      ]
     },
     "execution_count": 21,
     "metadata": {},
     "output_type": "execute_result"
    }
   ],
   "source": [
    "_ + y"
   ]
  },
  {
   "cell_type": "code",
   "execution_count": 23,
   "id": "fe888113-b290-4c75-abd9-88a424e20448",
   "metadata": {},
   "outputs": [
    {
     "data": {
      "text/plain": [
       "28"
      ]
     },
     "execution_count": 23,
     "metadata": {},
     "output_type": "execute_result"
    }
   ],
   "source": [
    "_ + y"
   ]
  },
  {
   "cell_type": "code",
   "execution_count": 3,
   "id": "a10506f9-880a-47c2-ac9c-f6eb277a8bcc",
   "metadata": {},
   "outputs": [],
   "source": [
    "name = 'mit'"
   ]
  },
  {
   "cell_type": "code",
   "execution_count": 157,
   "id": "06b0da56-cdce-45bc-934b-c807136debc6",
   "metadata": {},
   "outputs": [
    {
     "data": {
      "text/plain": [
       "'mit'"
      ]
     },
     "execution_count": 157,
     "metadata": {},
     "output_type": "execute_result"
    }
   ],
   "source": [
    "name"
   ]
  },
  {
   "cell_type": "code",
   "execution_count": 161,
   "id": "7dbe50dd-de37-4510-831d-f2f056121ce1",
   "metadata": {},
   "outputs": [
    {
     "data": {
      "text/plain": [
       "'mit technology'"
      ]
     },
     "execution_count": 161,
     "metadata": {},
     "output_type": "execute_result"
    }
   ],
   "source": [
    "name + ' technology'"
   ]
  },
  {
   "cell_type": "markdown",
   "id": "a69f2f54-3b2c-4e84-b815-765cb097ab01",
   "metadata": {},
   "source": [
    "#### variable with string not work\n",
    "\n",
    "string is immutable"
   ]
  },
  {
   "cell_type": "code",
   "execution_count": 163,
   "id": "77f7636b-5bdc-4efc-b4da-ef1d64a6ae42",
   "metadata": {},
   "outputs": [
    {
     "ename": "SyntaxError",
     "evalue": "invalid syntax (2808131917.py, line 1)",
     "output_type": "error",
     "traceback": [
      "\u001b[1;36m  Cell \u001b[1;32mIn[163], line 1\u001b[1;36m\u001b[0m\n\u001b[1;33m    name 'technlogy'\u001b[0m\n\u001b[1;37m         ^\u001b[0m\n\u001b[1;31mSyntaxError\u001b[0m\u001b[1;31m:\u001b[0m invalid syntax\n"
     ]
    }
   ],
   "source": [
    "name 'technlogy'  # variable with string not work"
   ]
  },
  {
   "cell_type": "code",
   "execution_count": 165,
   "id": "d765c5f0-ac92-407f-99b7-fbc4d175f6a2",
   "metadata": {},
   "outputs": [
    {
     "data": {
      "text/plain": [
       "'ab'"
      ]
     },
     "execution_count": 165,
     "metadata": {},
     "output_type": "execute_result"
    }
   ],
   "source": [
    "'a' 'b' # string work with string"
   ]
  },
  {
   "cell_type": "code",
   "execution_count": 175,
   "id": "9fc7b09a-9e54-411d-b0c1-c7e12ad8571f",
   "metadata": {},
   "outputs": [
    {
     "data": {
      "text/plain": [
       "'mit'"
      ]
     },
     "execution_count": 175,
     "metadata": {},
     "output_type": "execute_result"
    }
   ],
   "source": [
    "name"
   ]
  },
  {
   "cell_type": "code",
   "execution_count": 169,
   "id": "453fe1a8-e625-45c1-a1a5-dd2dd5b14b6a",
   "metadata": {},
   "outputs": [
    {
     "data": {
      "text/plain": [
       "'m'"
      ]
     },
     "execution_count": 169,
     "metadata": {},
     "output_type": "execute_result"
    }
   ],
   "source": [
    "name[0:1]"
   ]
  },
  {
   "cell_type": "code",
   "execution_count": 171,
   "id": "af9b95fe-7ad9-4deb-b364-f67b18c42db0",
   "metadata": {},
   "outputs": [
    {
     "data": {
      "text/plain": [
       "'mi'"
      ]
     },
     "execution_count": 171,
     "metadata": {},
     "output_type": "execute_result"
    }
   ],
   "source": [
    "name[0:2]"
   ]
  },
  {
   "cell_type": "code",
   "execution_count": 173,
   "id": "fcd3ecd9-a7b8-458d-984c-076c868e96fe",
   "metadata": {},
   "outputs": [
    {
     "data": {
      "text/plain": [
       "'it'"
      ]
     },
     "execution_count": 173,
     "metadata": {},
     "output_type": "execute_result"
    }
   ],
   "source": [
    "name[1:4]"
   ]
  },
  {
   "cell_type": "code",
   "execution_count": 177,
   "id": "18c08a50-5de1-49a8-bef5-4e374c0fc408",
   "metadata": {},
   "outputs": [
    {
     "data": {
      "text/plain": [
       "'it'"
      ]
     },
     "execution_count": 177,
     "metadata": {},
     "output_type": "execute_result"
    }
   ],
   "source": [
    "name[1:]"
   ]
  },
  {
   "cell_type": "code",
   "execution_count": 179,
   "id": "2d49b72c-3ad4-4f67-b8f7-7de9353af0dc",
   "metadata": {},
   "outputs": [
    {
     "data": {
      "text/plain": [
       "'mit'"
      ]
     },
     "execution_count": 179,
     "metadata": {},
     "output_type": "execute_result"
    }
   ],
   "source": [
    "name[:4]"
   ]
  },
  {
   "cell_type": "code",
   "execution_count": 181,
   "id": "c42c0144-130e-4b79-8c61-7dab6aad46cc",
   "metadata": {},
   "outputs": [
    {
     "data": {
      "text/plain": [
       "''"
      ]
     },
     "execution_count": 181,
     "metadata": {},
     "output_type": "execute_result"
    }
   ],
   "source": [
    "name[3:9]"
   ]
  },
  {
   "cell_type": "code",
   "execution_count": 183,
   "id": "3a7a0e7b-3cd1-44b1-a62a-904722890f58",
   "metadata": {},
   "outputs": [
    {
     "data": {
      "text/plain": [
       "'mit'"
      ]
     },
     "execution_count": 183,
     "metadata": {},
     "output_type": "execute_result"
    }
   ],
   "source": [
    "name"
   ]
  },
  {
   "cell_type": "markdown",
   "id": "d8fc3226-a3ef-4c7e-82c4-5112f5a1016d",
   "metadata": {},
   "source": [
    "#### convert string 'fine' to 'dine'"
   ]
  },
  {
   "cell_type": "code",
   "execution_count": 4,
   "id": "048f87e6-cef3-4e58-8a40-346c8a5d62db",
   "metadata": {},
   "outputs": [],
   "source": [
    "name1= 'fine'"
   ]
  },
  {
   "cell_type": "code",
   "execution_count": 5,
   "id": "3f0b97d3-c2b1-4fe3-9f36-717f31688a2d",
   "metadata": {},
   "outputs": [
    {
     "data": {
      "text/plain": [
       "'f'"
      ]
     },
     "execution_count": 5,
     "metadata": {},
     "output_type": "execute_result"
    }
   ],
   "source": [
    "name1[0:1]"
   ]
  },
  {
   "cell_type": "code",
   "execution_count": 6,
   "id": "20c625e2-2504-4113-bf15-d42888cd8594",
   "metadata": {},
   "outputs": [
    {
     "ename": "TypeError",
     "evalue": "'str' object does not support item assignment",
     "output_type": "error",
     "traceback": [
      "\u001b[1;31m---------------------------------------------------------------------------\u001b[0m",
      "\u001b[1;31mTypeError\u001b[0m                                 Traceback (most recent call last)",
      "Cell \u001b[1;32mIn[6], line 1\u001b[0m\n\u001b[1;32m----> 1\u001b[0m name1[\u001b[38;5;241m0\u001b[39m:\u001b[38;5;241m1\u001b[39m]\u001b[38;5;241m=\u001b[39m\u001b[38;5;124m'\u001b[39m\u001b[38;5;124md\u001b[39m\u001b[38;5;124m'\u001b[39m\n",
      "\u001b[1;31mTypeError\u001b[0m: 'str' object does not support item assignment"
     ]
    }
   ],
   "source": [
    "name1[0:1]='d'   # as string is immutable( cant change')"
   ]
  },
  {
   "cell_type": "code",
   "execution_count": 7,
   "id": "61c3843b-bee6-4c3b-af3f-f29e1e80d37f",
   "metadata": {},
   "outputs": [
    {
     "ename": "TypeError",
     "evalue": "'str' object does not support item assignment",
     "output_type": "error",
     "traceback": [
      "\u001b[1;31m---------------------------------------------------------------------------\u001b[0m",
      "\u001b[1;31mTypeError\u001b[0m                                 Traceback (most recent call last)",
      "Cell \u001b[1;32mIn[7], line 1\u001b[0m\n\u001b[1;32m----> 1\u001b[0m name1[\u001b[38;5;241m0\u001b[39m]\u001b[38;5;241m=\u001b[39m\u001b[38;5;124m'\u001b[39m\u001b[38;5;124md\u001b[39m\u001b[38;5;124m'\u001b[39m\n",
      "\u001b[1;31mTypeError\u001b[0m: 'str' object does not support item assignment"
     ]
    }
   ],
   "source": [
    "name1[0]='d'"
   ]
  },
  {
   "cell_type": "code",
   "execution_count": 200,
   "id": "e8614f02-a996-4966-84f8-8ceee8d6e55b",
   "metadata": {},
   "outputs": [
    {
     "data": {
      "text/plain": [
       "'ine'"
      ]
     },
     "execution_count": 200,
     "metadata": {},
     "output_type": "execute_result"
    }
   ],
   "source": [
    "name1[1:]"
   ]
  },
  {
   "cell_type": "code",
   "execution_count": 202,
   "id": "ee41ebb1-a0f3-417b-b468-57c3f359a050",
   "metadata": {},
   "outputs": [
    {
     "data": {
      "text/plain": [
       "'dine'"
      ]
     },
     "execution_count": 202,
     "metadata": {},
     "output_type": "execute_result"
    }
   ],
   "source": [
    "'d' + name1[1:]"
   ]
  },
  {
   "cell_type": "code",
   "execution_count": 204,
   "id": "96dede21-449d-47fe-97b3-015795df68b2",
   "metadata": {},
   "outputs": [
    {
     "data": {
      "text/plain": [
       "4"
      ]
     },
     "execution_count": 204,
     "metadata": {},
     "output_type": "execute_result"
    }
   ],
   "source": [
    "len(name1)"
   ]
  },
  {
   "cell_type": "code",
   "execution_count": 7,
   "id": "85ef5fcd-ac52-4b7a-8894-d341fb766b24",
   "metadata": {},
   "outputs": [
    {
     "name": "stdout",
     "output_type": "stream",
     "text": [
      "\n",
      "You are now leaving help and returning to the Python interpreter.\n",
      "If you want to ask for help on a particular object directly from the\n",
      "interpreter, you can type \"help(object)\".  Executing \"help('string')\"\n",
      "has the same effect as typing a particular string at the help> prompt.\n"
     ]
    }
   ],
   "source": [
    "help()"
   ]
  },
  {
   "cell_type": "code",
   "execution_count": 11,
   "id": "f14257e1-a0ab-4a9b-87f3-d1402e6d16fc",
   "metadata": {},
   "outputs": [
    {
     "data": {
      "text/plain": [
       "3.14"
      ]
     },
     "execution_count": 11,
     "metadata": {},
     "output_type": "execute_result"
    }
   ],
   "source": [
    "pi=3.14\n",
    "pi"
   ]
  },
  {
   "cell_type": "code",
   "execution_count": 17,
   "id": "f8a43f82-13ad-4c0f-89a1-36fc3f459438",
   "metadata": {},
   "outputs": [
    {
     "data": {
      "text/plain": [
       "3.15"
      ]
     },
     "execution_count": 17,
     "metadata": {},
     "output_type": "execute_result"
    }
   ],
   "source": [
    "pi=3.15\n",
    "pi\n",
    "\n",
    "#note:  in python, there is no concept of constant\n",
    "# we have concept of variable"
   ]
  },
  {
   "cell_type": "code",
   "execution_count": 19,
   "id": "3dade30a-bfc2-47c5-97f6-28c5971ef957",
   "metadata": {},
   "outputs": [
    {
     "data": {
      "text/plain": [
       "float"
      ]
     },
     "execution_count": 19,
     "metadata": {},
     "output_type": "execute_result"
    }
   ],
   "source": [
    "type(pi)"
   ]
  },
  {
   "cell_type": "markdown",
   "id": "bca0c59b-d5eb-4296-8e53-b081e07d72b3",
   "metadata": {},
   "source": [
    "#### Range -- start-stop-step"
   ]
  },
  {
   "cell_type": "code",
   "execution_count": 23,
   "id": "a64955c6-0bd7-4d16-8e32-816c6ba25f86",
   "metadata": {},
   "outputs": [
    {
     "data": {
      "text/plain": [
       "range(0, 10)"
      ]
     },
     "execution_count": 23,
     "metadata": {},
     "output_type": "execute_result"
    }
   ],
   "source": [
    "r=range(0,10)\n",
    "r"
   ]
  },
  {
   "cell_type": "code",
   "execution_count": 25,
   "id": "720eede2-b3f4-4360-96b7-8a802073f23f",
   "metadata": {},
   "outputs": [
    {
     "data": {
      "text/plain": [
       "range"
      ]
     },
     "execution_count": 25,
     "metadata": {},
     "output_type": "execute_result"
    }
   ],
   "source": [
    "type(r)"
   ]
  },
  {
   "cell_type": "code",
   "execution_count": 27,
   "id": "1de9e1f3-0ba0-49a1-a887-b212f4a25625",
   "metadata": {},
   "outputs": [
    {
     "data": {
      "text/plain": [
       "[0, 1, 2, 3, 4, 5, 6, 7, 8, 9]"
      ]
     },
     "execution_count": 27,
     "metadata": {},
     "output_type": "execute_result"
    }
   ],
   "source": [
    "list(range(0,10))"
   ]
  },
  {
   "cell_type": "code",
   "execution_count": 29,
   "id": "109206f4-2391-4e85-9bb2-385e3c4376d9",
   "metadata": {},
   "outputs": [
    {
     "data": {
      "text/plain": [
       "[0, 1, 2, 3, 4, 5, 6, 7, 8, 9]"
      ]
     },
     "execution_count": 29,
     "metadata": {},
     "output_type": "execute_result"
    }
   ],
   "source": [
    "r1= list(r)\n",
    "r1"
   ]
  },
  {
   "cell_type": "code",
   "execution_count": 32,
   "id": "cb1bba0a-4f27-4ab7-9cd2-185e773a130e",
   "metadata": {},
   "outputs": [
    {
     "data": {
      "text/plain": [
       "range(0, 10)"
      ]
     },
     "execution_count": 32,
     "metadata": {},
     "output_type": "execute_result"
    }
   ],
   "source": [
    "range(10)"
   ]
  },
  {
   "cell_type": "code",
   "execution_count": 34,
   "id": "58cd7b5e-11a1-41ab-9fe1-dabb266ce431",
   "metadata": {},
   "outputs": [
    {
     "data": {
      "text/plain": [
       "[0, 1, 2, 3, 4, 5, 6, 7, 8, 9]"
      ]
     },
     "execution_count": 34,
     "metadata": {},
     "output_type": "execute_result"
    }
   ],
   "source": [
    "list(range(10))"
   ]
  },
  {
   "cell_type": "code",
   "execution_count": 36,
   "id": "a2ba4529-e25e-4cf8-a570-ed440a73e1cd",
   "metadata": {},
   "outputs": [
    {
     "data": {
      "text/plain": [
       "range(10, 20)"
      ]
     },
     "execution_count": 36,
     "metadata": {},
     "output_type": "execute_result"
    }
   ],
   "source": [
    "range(10,20)\n",
    "    "
   ]
  },
  {
   "cell_type": "code",
   "execution_count": 38,
   "id": "cb901b57-79d7-4c61-868e-85a431c17cbb",
   "metadata": {},
   "outputs": [
    {
     "data": {
      "text/plain": [
       "[10, 11, 12, 13, 14, 15, 16, 17, 18, 19]"
      ]
     },
     "execution_count": 38,
     "metadata": {},
     "output_type": "execute_result"
    }
   ],
   "source": [
    "list(range(10,20))"
   ]
  },
  {
   "cell_type": "code",
   "execution_count": 46,
   "id": "9c056dba-b490-4561-9cc3-40965084d0ad",
   "metadata": {},
   "outputs": [
    {
     "name": "stdout",
     "output_type": "stream",
     "text": [
      "0\n",
      "1\n",
      "2\n",
      "3\n",
      "4\n",
      "5\n",
      "6\n",
      "7\n",
      "8\n",
      "9\n"
     ]
    }
   ],
   "source": [
    "for i in r:\n",
    "    print (i)"
   ]
  },
  {
   "cell_type": "code",
   "execution_count": 50,
   "id": "9c9470e3-de17-431b-99d1-45ba45280837",
   "metadata": {},
   "outputs": [
    {
     "data": {
      "text/plain": [
       "[10, 15, 20, 25, 30, 35, 40, 45]"
      ]
     },
     "execution_count": 50,
     "metadata": {},
     "output_type": "execute_result"
    }
   ],
   "source": [
    "list(range(10,50,5))  # we can pass only 3 arguments)"
   ]
  },
  {
   "cell_type": "code",
   "execution_count": 52,
   "id": "703da61e-e761-45d7-96ab-622ed8044ebb",
   "metadata": {},
   "outputs": [
    {
     "data": {
      "text/plain": [
       "[2, 4, 6, 8]"
      ]
     },
     "execution_count": 52,
     "metadata": {},
     "output_type": "execute_result"
    }
   ],
   "source": [
    "even_no = list(range(2,10,2))\n",
    "even_no"
   ]
  },
  {
   "cell_type": "markdown",
   "id": "ce4d788d-c048-4af5-9d7f-36c238395c95",
   "metadata": {},
   "source": [
    "#### Operators --> arithmetic, relational, logical, urinary, assignment"
   ]
  },
  {
   "cell_type": "code",
   "execution_count": 72,
   "id": "8259dbc2-a97d-4fe2-b0cc-29056f9fa369",
   "metadata": {},
   "outputs": [],
   "source": [
    "x,y=20,5\n"
   ]
  },
  {
   "cell_type": "code",
   "execution_count": 74,
   "id": "ecf5e929-9653-4b41-925c-bb9778a67305",
   "metadata": {},
   "outputs": [
    {
     "data": {
      "text/plain": [
       "25"
      ]
     },
     "execution_count": 74,
     "metadata": {},
     "output_type": "execute_result"
    }
   ],
   "source": [
    "x+y"
   ]
  },
  {
   "cell_type": "code",
   "execution_count": 76,
   "id": "cac88f11-41bc-4ba3-8245-26a77258df26",
   "metadata": {},
   "outputs": [
    {
     "data": {
      "text/plain": [
       "15"
      ]
     },
     "execution_count": 76,
     "metadata": {},
     "output_type": "execute_result"
    }
   ],
   "source": [
    "x-y"
   ]
  },
  {
   "cell_type": "code",
   "execution_count": 78,
   "id": "8265a018-22c0-435c-8635-bcace29b1256",
   "metadata": {},
   "outputs": [
    {
     "data": {
      "text/plain": [
       "100"
      ]
     },
     "execution_count": 78,
     "metadata": {},
     "output_type": "execute_result"
    }
   ],
   "source": [
    "x*y"
   ]
  },
  {
   "cell_type": "code",
   "execution_count": 80,
   "id": "b9eab338-ebe6-4a3a-ab0d-aeff833c23e7",
   "metadata": {},
   "outputs": [
    {
     "data": {
      "text/plain": [
       "4.0"
      ]
     },
     "execution_count": 80,
     "metadata": {},
     "output_type": "execute_result"
    }
   ],
   "source": [
    "x/y"
   ]
  },
  {
   "cell_type": "code",
   "execution_count": 82,
   "id": "4f1c004e-008c-49dc-9043-a31f6b840b9c",
   "metadata": {},
   "outputs": [
    {
     "data": {
      "text/plain": [
       "4"
      ]
     },
     "execution_count": 82,
     "metadata": {},
     "output_type": "execute_result"
    }
   ],
   "source": [
    "x//y"
   ]
  },
  {
   "cell_type": "code",
   "execution_count": 84,
   "id": "befaa03f-ba3b-4f3a-8491-5b6ecb527344",
   "metadata": {},
   "outputs": [
    {
     "data": {
      "text/plain": [
       "0"
      ]
     },
     "execution_count": 84,
     "metadata": {},
     "output_type": "execute_result"
    }
   ],
   "source": [
    "x%y"
   ]
  },
  {
   "cell_type": "code",
   "execution_count": 86,
   "id": "d1adff22-4163-46eb-9806-fa26f7612f4b",
   "metadata": {},
   "outputs": [
    {
     "data": {
      "text/plain": [
       "3200000"
      ]
     },
     "execution_count": 86,
     "metadata": {},
     "output_type": "execute_result"
    }
   ],
   "source": [
    "x ** y"
   ]
  },
  {
   "cell_type": "markdown",
   "id": "75873625-1ab8-455a-97e8-7daca28c24fd",
   "metadata": {},
   "source": [
    "#### Assignment Operator --> +=,-=,*=,/=,//="
   ]
  },
  {
   "cell_type": "code",
   "execution_count": 25,
   "id": "28c4e1f0-775a-454b-9289-ac701d34a0ae",
   "metadata": {},
   "outputs": [],
   "source": [
    "x=2"
   ]
  },
  {
   "cell_type": "code",
   "execution_count": 26,
   "id": "c32142d9-a261-416d-bb9b-648560aa0e57",
   "metadata": {},
   "outputs": [
    {
     "data": {
      "text/plain": [
       "4"
      ]
     },
     "execution_count": 26,
     "metadata": {},
     "output_type": "execute_result"
    }
   ],
   "source": [
    "x=x+2\n",
    "x"
   ]
  },
  {
   "cell_type": "code",
   "execution_count": 27,
   "id": "4170019f-a926-4bf8-9ff1-ae112e47a510",
   "metadata": {},
   "outputs": [
    {
     "data": {
      "text/plain": [
       "6"
      ]
     },
     "execution_count": 27,
     "metadata": {},
     "output_type": "execute_result"
    }
   ],
   "source": [
    "x+=2\n",
    "x"
   ]
  },
  {
   "cell_type": "code",
   "execution_count": 28,
   "id": "e2f235aa-efa6-42f0-8bb5-c738887482fe",
   "metadata": {},
   "outputs": [
    {
     "data": {
      "text/plain": [
       "12"
      ]
     },
     "execution_count": 28,
     "metadata": {},
     "output_type": "execute_result"
    }
   ],
   "source": [
    "x*=2\n",
    "x"
   ]
  },
  {
   "cell_type": "code",
   "execution_count": 29,
   "id": "35ef55a8-5e60-42e5-9c6e-9d0b2e25e5e7",
   "metadata": {},
   "outputs": [
    {
     "data": {
      "text/plain": [
       "10"
      ]
     },
     "execution_count": 29,
     "metadata": {},
     "output_type": "execute_result"
    }
   ],
   "source": [
    "x-=2\n",
    "x"
   ]
  },
  {
   "cell_type": "code",
   "execution_count": 30,
   "id": "dfb2ccfe-469d-4295-884f-28e8d5ab3cb4",
   "metadata": {},
   "outputs": [
    {
     "data": {
      "text/plain": [
       "5.0"
      ]
     },
     "execution_count": 30,
     "metadata": {},
     "output_type": "execute_result"
    }
   ],
   "source": [
    "x/=2\n",
    "x"
   ]
  },
  {
   "cell_type": "code",
   "execution_count": 31,
   "id": "0b1951b8-2e34-48c6-9396-91445981a28a",
   "metadata": {},
   "outputs": [
    {
     "data": {
      "text/plain": [
       "2.0"
      ]
     },
     "execution_count": 31,
     "metadata": {},
     "output_type": "execute_result"
    }
   ],
   "source": [
    "x//=2\n",
    "x"
   ]
  },
  {
   "cell_type": "markdown",
   "id": "0cd7ed68-8c17-481a-a2f3-2b24c78895f5",
   "metadata": {},
   "source": [
    "#### unary Operator\n",
    "- unary means 1 || binary means 2\n",
    "- here we are applying unary minus operator(-) on the operand n, the value of m becomes -7 which indicates it as a negative value"
   ]
  },
  {
   "cell_type": "code",
   "execution_count": 124,
   "id": "386b7c1d-37d4-484e-aaa2-6086f4c76608",
   "metadata": {},
   "outputs": [
    {
     "data": {
      "text/plain": [
       "7"
      ]
     },
     "execution_count": 124,
     "metadata": {},
     "output_type": "execute_result"
    }
   ],
   "source": [
    "n=7\n",
    "n"
   ]
  },
  {
   "cell_type": "code",
   "execution_count": 126,
   "id": "62dd71a2-974e-43d4-bdbe-45becba2254c",
   "metadata": {},
   "outputs": [
    {
     "data": {
      "text/plain": [
       "-7"
      ]
     },
     "execution_count": 126,
     "metadata": {},
     "output_type": "execute_result"
    }
   ],
   "source": [
    "m=-(n)\n",
    "m"
   ]
  },
  {
   "cell_type": "markdown",
   "id": "ae1ffb2d-bfbc-4d11-af31-791ba2ef179e",
   "metadata": {},
   "source": [
    "#### Relational Operator -->  < , > , >= , <= , != , =="
   ]
  },
  {
   "cell_type": "code",
   "execution_count": 139,
   "id": "9677e131-d31f-40b7-b1c7-6cbd40bbb599",
   "metadata": {},
   "outputs": [],
   "source": [
    "a=5\n",
    "b=10"
   ]
  },
  {
   "cell_type": "code",
   "execution_count": 141,
   "id": "0edb351b-b799-4bb2-ba43-3b33df61d276",
   "metadata": {},
   "outputs": [
    {
     "data": {
      "text/plain": [
       "False"
      ]
     },
     "execution_count": 141,
     "metadata": {},
     "output_type": "execute_result"
    }
   ],
   "source": [
    "a>b"
   ]
  },
  {
   "cell_type": "code",
   "execution_count": 143,
   "id": "7d0a4087-3a08-4056-9d10-376f05cb77f4",
   "metadata": {},
   "outputs": [
    {
     "data": {
      "text/plain": [
       "True"
      ]
     },
     "execution_count": 143,
     "metadata": {},
     "output_type": "execute_result"
    }
   ],
   "source": [
    "a<b"
   ]
  },
  {
   "cell_type": "code",
   "execution_count": 145,
   "id": "0d1b03a1-3769-4f31-bd7c-611bf9c9de90",
   "metadata": {},
   "outputs": [
    {
     "data": {
      "text/plain": [
       "False"
      ]
     },
     "execution_count": 145,
     "metadata": {},
     "output_type": "execute_result"
    }
   ],
   "source": [
    "a==b"
   ]
  },
  {
   "cell_type": "code",
   "execution_count": 147,
   "id": "553e22f0-6f96-41d2-a11e-572261c64f45",
   "metadata": {},
   "outputs": [
    {
     "data": {
      "text/plain": [
       "True"
      ]
     },
     "execution_count": 147,
     "metadata": {},
     "output_type": "execute_result"
    }
   ],
   "source": [
    "a!=b"
   ]
  },
  {
   "cell_type": "code",
   "execution_count": 149,
   "id": "cdd2ce31-e441-4fd7-94a8-54e1153f5d6b",
   "metadata": {},
   "outputs": [
    {
     "data": {
      "text/plain": [
       "True"
      ]
     },
     "execution_count": 149,
     "metadata": {},
     "output_type": "execute_result"
    }
   ],
   "source": [
    "a<=b"
   ]
  },
  {
   "cell_type": "code",
   "execution_count": 151,
   "id": "6377c398-4377-48ca-b95e-940073b00e58",
   "metadata": {},
   "outputs": [
    {
     "data": {
      "text/plain": [
       "False"
      ]
     },
     "execution_count": 151,
     "metadata": {},
     "output_type": "execute_result"
    }
   ],
   "source": [
    "a>=b"
   ]
  },
  {
   "cell_type": "markdown",
   "id": "e06f2dfc-f456-4498-a053-aec072e111c3",
   "metadata": {},
   "source": [
    "#### Logical operators: or | and | not\n",
    "- and --> 1 and 1 =1 and rest of them are 0\n",
    "- or --> 0 or 0 = 0 and rest of them are 1"
   ]
  },
  {
   "cell_type": "code",
   "execution_count": 156,
   "id": "3b6b0b11-ec31-4f55-a1f2-ed6aece58e34",
   "metadata": {},
   "outputs": [],
   "source": [
    "a=5\n",
    "b=10\n"
   ]
  },
  {
   "cell_type": "code",
   "execution_count": 158,
   "id": "ee7cfebe-e38b-4fe3-8387-8f46efdd5d4d",
   "metadata": {},
   "outputs": [
    {
     "data": {
      "text/plain": [
       "False"
      ]
     },
     "execution_count": 158,
     "metadata": {},
     "output_type": "execute_result"
    }
   ],
   "source": [
    "a>4 and b>11"
   ]
  },
  {
   "cell_type": "code",
   "execution_count": 162,
   "id": "ff731e9b-ecc7-4d43-86de-83865cce9616",
   "metadata": {},
   "outputs": [
    {
     "data": {
      "text/plain": [
       "True"
      ]
     },
     "execution_count": 162,
     "metadata": {},
     "output_type": "execute_result"
    }
   ],
   "source": [
    "a<6 and b<15"
   ]
  },
  {
   "cell_type": "code",
   "execution_count": 164,
   "id": "e73ca48d-8ad9-477e-ad2a-423bafaff1a9",
   "metadata": {},
   "outputs": [
    {
     "data": {
      "text/plain": [
       "False"
      ]
     },
     "execution_count": 164,
     "metadata": {},
     "output_type": "execute_result"
    }
   ],
   "source": [
    "x=False\n",
    "x"
   ]
  },
  {
   "cell_type": "code",
   "execution_count": 166,
   "id": "50e6bd2c-7b01-43ba-9517-ececd97e6394",
   "metadata": {},
   "outputs": [
    {
     "data": {
      "text/plain": [
       "True"
      ]
     },
     "execution_count": 166,
     "metadata": {},
     "output_type": "execute_result"
    }
   ],
   "source": [
    "not x"
   ]
  },
  {
   "cell_type": "code",
   "execution_count": 168,
   "id": "4fe70bca-57cd-4815-b816-c715eca809f0",
   "metadata": {},
   "outputs": [
    {
     "data": {
      "text/plain": [
       "True"
      ]
     },
     "execution_count": 168,
     "metadata": {},
     "output_type": "execute_result"
    }
   ],
   "source": [
    "x= not x\n",
    "x"
   ]
  },
  {
   "cell_type": "code",
   "execution_count": null,
   "id": "e3995a7b-f8c1-4e56-9327-a6bdde309f34",
   "metadata": {},
   "outputs": [],
   "source": [
    "x"
   ]
  },
  {
   "cell_type": "code",
   "execution_count": 170,
   "id": "7ce428dc-c07e-4db1-9e42-017053a6881d",
   "metadata": {},
   "outputs": [
    {
     "data": {
      "text/plain": [
       "False"
      ]
     },
     "execution_count": 170,
     "metadata": {},
     "output_type": "execute_result"
    }
   ],
   "source": [
    "not x"
   ]
  },
  {
   "cell_type": "markdown",
   "id": "e7b71f61-b171-40fd-8b8e-3177b3573774",
   "metadata": {},
   "source": [
    "#### Number system conversion(bit-binary digit\n",
    "- In the programming we are using **binary system(base value 2)**, **octal(base value 8), decimal (base value 10)**, and **hexadecimal system (base value 16)**\n",
    "- we can check this in cmd by using cmd -ipconfig\n",
    "- **binary system(base value 2)--> 0b**,\n",
    "- **octal(base value 8)--> 0o** ,\n",
    "- **decimal (base value 10) --> 0x**, and\n",
    "- **hexadecimal system (base value 16) --> 0xa, b,c,d,e,f**"
   ]
  },
  {
   "cell_type": "markdown",
   "id": "367d6e95-4fdc-4d66-8d06-924213a263c6",
   "metadata": {},
   "source": [
    "#### BINARY"
   ]
  },
  {
   "cell_type": "code",
   "execution_count": 178,
   "id": "bcd64598-c159-4b15-8dfd-725ca0d530f1",
   "metadata": {},
   "outputs": [
    {
     "data": {
      "text/plain": [
       "'0b11001'"
      ]
     },
     "execution_count": 178,
     "metadata": {},
     "output_type": "execute_result"
    }
   ],
   "source": [
    "bin(25)"
   ]
  },
  {
   "cell_type": "code",
   "execution_count": 180,
   "id": "9b96a398-1165-4ee9-8e71-bf2b5d9d9c63",
   "metadata": {},
   "outputs": [
    {
     "data": {
      "text/plain": [
       "'0b11110'"
      ]
     },
     "execution_count": 180,
     "metadata": {},
     "output_type": "execute_result"
    }
   ],
   "source": [
    "bin(30)"
   ]
  },
  {
   "cell_type": "code",
   "execution_count": 182,
   "id": "8c8908ce-5fbe-4400-88e3-66e1b9853d7a",
   "metadata": {},
   "outputs": [
    {
     "data": {
      "text/plain": [
       "25"
      ]
     },
     "execution_count": 182,
     "metadata": {},
     "output_type": "execute_result"
    }
   ],
   "source": [
    "int(0b11001)"
   ]
  },
  {
   "cell_type": "code",
   "execution_count": 184,
   "id": "cb271266-e188-4985-bcbf-4b53bf2a6738",
   "metadata": {},
   "outputs": [
    {
     "data": {
      "text/plain": [
       "30"
      ]
     },
     "execution_count": 184,
     "metadata": {},
     "output_type": "execute_result"
    }
   ],
   "source": [
    "int(0b11110)"
   ]
  },
  {
   "cell_type": "code",
   "execution_count": 195,
   "id": "2b11adbf-ce04-4305-90ab-36dad7deed2c",
   "metadata": {},
   "outputs": [
    {
     "data": {
      "text/plain": [
       "25"
      ]
     },
     "execution_count": 195,
     "metadata": {},
     "output_type": "execute_result"
    }
   ],
   "source": [
    "int(0o31)"
   ]
  },
  {
   "cell_type": "markdown",
   "id": "ac9609d0-0e4a-4870-8b05-53ac6530c255",
   "metadata": {},
   "source": [
    "#### OCTAL"
   ]
  },
  {
   "cell_type": "code",
   "execution_count": 197,
   "id": "de9edec6-26cc-4fa0-8020-00014f55e336",
   "metadata": {},
   "outputs": [
    {
     "data": {
      "text/plain": [
       "'0o31'"
      ]
     },
     "execution_count": 197,
     "metadata": {},
     "output_type": "execute_result"
    }
   ],
   "source": [
    "oct(25)"
   ]
  },
  {
   "cell_type": "code",
   "execution_count": 202,
   "id": "23ff94af-0fa9-480c-8a22-971352b6138a",
   "metadata": {},
   "outputs": [
    {
     "data": {
      "text/plain": [
       "25"
      ]
     },
     "execution_count": 202,
     "metadata": {},
     "output_type": "execute_result"
    }
   ],
   "source": [
    "int(0o31)"
   ]
  },
  {
   "cell_type": "markdown",
   "id": "d43aec7f-b7f4-4612-8598-c8c3638a3d55",
   "metadata": {},
   "source": [
    "#### hexadecimal"
   ]
  },
  {
   "cell_type": "code",
   "execution_count": 207,
   "id": "4fac3e85-8c95-417d-a089-b8440a73971f",
   "metadata": {},
   "outputs": [
    {
     "data": {
      "text/plain": [
       "'0x2'"
      ]
     },
     "execution_count": 207,
     "metadata": {},
     "output_type": "execute_result"
    }
   ],
   "source": [
    "hex(2)"
   ]
  },
  {
   "cell_type": "code",
   "execution_count": 209,
   "id": "d1f08015-f42f-4d75-9e93-8de3dccbe557",
   "metadata": {},
   "outputs": [
    {
     "data": {
      "text/plain": [
       "'0x8'"
      ]
     },
     "execution_count": 209,
     "metadata": {},
     "output_type": "execute_result"
    }
   ],
   "source": [
    "hex(8)"
   ]
  },
  {
   "cell_type": "code",
   "execution_count": 211,
   "id": "a3dcde4b-a250-4938-a6b4-88cc455e88ca",
   "metadata": {},
   "outputs": [
    {
     "data": {
      "text/plain": [
       "'0xa'"
      ]
     },
     "execution_count": 211,
     "metadata": {},
     "output_type": "execute_result"
    }
   ],
   "source": [
    "hex(10)"
   ]
  },
  {
   "cell_type": "code",
   "execution_count": 213,
   "id": "94caba37-57df-4192-86ff-8d7da85984c0",
   "metadata": {},
   "outputs": [
    {
     "data": {
      "text/plain": [
       "'0xb'"
      ]
     },
     "execution_count": 213,
     "metadata": {},
     "output_type": "execute_result"
    }
   ],
   "source": [
    "hex(11)"
   ]
  },
  {
   "cell_type": "code",
   "execution_count": 215,
   "id": "9a251e91-6dbc-4881-ab9b-1219ad2e0f06",
   "metadata": {},
   "outputs": [
    {
     "data": {
      "text/plain": [
       "'0x100'"
      ]
     },
     "execution_count": 215,
     "metadata": {},
     "output_type": "execute_result"
    }
   ],
   "source": [
    "hex(256)"
   ]
  },
  {
   "cell_type": "code",
   "execution_count": 217,
   "id": "a17a2812-f93a-4bc2-8c53-b5fd9f881ce8",
   "metadata": {},
   "outputs": [
    {
     "data": {
      "text/plain": [
       "21"
      ]
     },
     "execution_count": 217,
     "metadata": {},
     "output_type": "execute_result"
    }
   ],
   "source": [
    "0x15"
   ]
  },
  {
   "cell_type": "code",
   "execution_count": 219,
   "id": "7c6b7a6e-50bb-4c11-aeb6-f42fbf580c14",
   "metadata": {},
   "outputs": [
    {
     "data": {
      "text/plain": [
       "25"
      ]
     },
     "execution_count": 219,
     "metadata": {},
     "output_type": "execute_result"
    }
   ],
   "source": [
    "0x19"
   ]
  },
  {
   "cell_type": "markdown",
   "id": "a71151a1-7862-47fc-89e6-d15b825bcd9b",
   "metadata": {},
   "source": [
    "#### swap two variables using 3rd variable in python"
   ]
  },
  {
   "cell_type": "code",
   "execution_count": 241,
   "id": "f194678a-0a0c-45fb-82ab-b6321b49e47c",
   "metadata": {},
   "outputs": [],
   "source": [
    "a1=5\n",
    "b1=6"
   ]
  },
  {
   "cell_type": "code",
   "execution_count": 243,
   "id": "0cef8012-66a7-413b-807b-20663fe3fa7e",
   "metadata": {},
   "outputs": [],
   "source": [
    "temp=a1\n",
    "a1=b1\n",
    "b1=temp"
   ]
  },
  {
   "cell_type": "code",
   "execution_count": 245,
   "id": "69c81b3a-a6ec-44ff-9a2a-dd488755ad98",
   "metadata": {},
   "outputs": [
    {
     "name": "stdout",
     "output_type": "stream",
     "text": [
      "6\n",
      "5\n"
     ]
    }
   ],
   "source": [
    "print(a1)\n",
    "print(b1)"
   ]
  },
  {
   "cell_type": "markdown",
   "id": "31907d41-ae7a-43f4-a617-cacea7585d57",
   "metadata": {},
   "source": [
    "#### swap without 3rd variable"
   ]
  },
  {
   "cell_type": "code",
   "execution_count": 249,
   "id": "3c43a6ea-7159-45a7-8f2c-24703956fd64",
   "metadata": {},
   "outputs": [],
   "source": [
    "a2=5\n",
    "b2=6"
   ]
  },
  {
   "cell_type": "code",
   "execution_count": 251,
   "id": "cbd3c09a-4f8a-4fd9-a2c4-7a05e5b28a41",
   "metadata": {},
   "outputs": [],
   "source": [
    "a2=a2+b2 # 5+6=11\n",
    "b2=a2-b2   #11-6=5\n",
    "a2=a2-b2   # 11-5=6 "
   ]
  },
  {
   "cell_type": "code",
   "execution_count": 253,
   "id": "d109914a-f8cd-4b8c-8cf6-a52d9cdb07b6",
   "metadata": {},
   "outputs": [
    {
     "name": "stdout",
     "output_type": "stream",
     "text": [
      "6\n",
      "5\n"
     ]
    }
   ],
   "source": [
    "print(a2)\n",
    "print(b2)"
   ]
  },
  {
   "cell_type": "code",
   "execution_count": 262,
   "id": "88006cfa-3772-42d5-92a5-310ac6a9b2d4",
   "metadata": {},
   "outputs": [],
   "source": [
    "a2,b2=b2,a2"
   ]
  },
  {
   "cell_type": "code",
   "execution_count": 264,
   "id": "5a189ef8-6ae4-48a5-8cd9-f212ff3f0db0",
   "metadata": {},
   "outputs": [
    {
     "name": "stdout",
     "output_type": "stream",
     "text": [
      "6\n",
      "5\n"
     ]
    }
   ],
   "source": [
    "print(a2)\n",
    "print(b2)"
   ]
  },
  {
   "cell_type": "markdown",
   "id": "28d42502-45fd-4baf-9d77-a6cb5e390fad",
   "metadata": {},
   "source": [
    "#### Bitwise operator\n",
    "- compliment ~ (gives -ve value increment by 1) (compliment will do reverse of the binary format i.e ~0 -> 1 and ~1 -> 0\n",
    "  in the virtual memory we can store -ve value  and only the way to store -ve value using complimentory. 2's compliment mean (1's compliment + 1)\n",
    "- and &\n",
    "- or |\n",
    "- xor ^\n",
    "- left shift << \n",
    "- right shift >>\n",
    "- \n",
    "note: in logical operator(And, or,Not) but in Bitwise(&,| , ^)"
   ]
  },
  {
   "cell_type": "code",
   "execution_count": 274,
   "id": "a57f1ea4-4cba-4ab9-af27-77c918bd96ba",
   "metadata": {},
   "outputs": [
    {
     "data": {
      "text/plain": [
       "-13"
      ]
     },
     "execution_count": 274,
     "metadata": {},
     "output_type": "execute_result"
    }
   ],
   "source": [
    "~12 # 12 binary format is 00001100 and  compliment of 00001100 reverse the number -11110011 i.e -13"
   ]
  },
  {
   "cell_type": "code",
   "execution_count": 276,
   "id": "6b0501a3-6066-413f-8836-085f6ed59d8a",
   "metadata": {},
   "outputs": [
    {
     "data": {
      "text/plain": [
       "-47"
      ]
     },
     "execution_count": 276,
     "metadata": {},
     "output_type": "execute_result"
    }
   ],
   "source": [
    "~46"
   ]
  },
  {
   "cell_type": "code",
   "execution_count": 279,
   "id": "a2dd5a99-4317-4560-aff7-c4c698914178",
   "metadata": {},
   "outputs": [
    {
     "data": {
      "text/plain": [
       "12"
      ]
     },
     "execution_count": 279,
     "metadata": {},
     "output_type": "execute_result"
    }
   ],
   "source": [
    "12 & 13"
   ]
  },
  {
   "cell_type": "code",
   "execution_count": 281,
   "id": "c868ca51-3024-42a1-ae98-100de852d8dd",
   "metadata": {},
   "outputs": [
    {
     "data": {
      "text/plain": [
       "13"
      ]
     },
     "execution_count": 281,
     "metadata": {},
     "output_type": "execute_result"
    }
   ],
   "source": [
    "12|13"
   ]
  },
  {
   "cell_type": "code",
   "execution_count": 285,
   "id": "1a3a4074-e25f-4687-8a3f-90453b8667eb",
   "metadata": {},
   "outputs": [
    {
     "data": {
      "text/plain": [
       "0"
      ]
     },
     "execution_count": 285,
     "metadata": {},
     "output_type": "execute_result"
    }
   ],
   "source": [
    "1&0"
   ]
  },
  {
   "cell_type": "code",
   "execution_count": 287,
   "id": "d7a4c148-1e21-4b35-aefa-3689291d1c04",
   "metadata": {},
   "outputs": [
    {
     "data": {
      "text/plain": [
       "1"
      ]
     },
     "execution_count": 287,
     "metadata": {},
     "output_type": "execute_result"
    }
   ],
   "source": [
    "1|0"
   ]
  },
  {
   "cell_type": "markdown",
   "id": "b51f1bbd-ccc4-4f5e-9429-4188c9fea4b7",
   "metadata": {},
   "source": [
    "#### XOR operator --> 0 or 0=0 rest them are 1"
   ]
  },
  {
   "cell_type": "code",
   "execution_count": 2,
   "id": "a9a70af0-42cd-4a48-ba45-91eb34a07646",
   "metadata": {},
   "outputs": [
    {
     "data": {
      "text/plain": [
       "1"
      ]
     },
     "execution_count": 2,
     "metadata": {},
     "output_type": "execute_result"
    }
   ],
   "source": [
    "# in xor if both the numbers are different then we wil get 1 else we will get 0\n",
    "12^13\n"
   ]
  },
  {
   "cell_type": "code",
   "execution_count": 37,
   "id": "cf28c616-fc54-406c-ac62-9775bfa757f7",
   "metadata": {},
   "outputs": [
    {
     "data": {
      "text/plain": [
       "0"
      ]
     },
     "execution_count": 37,
     "metadata": {},
     "output_type": "execute_result"
    }
   ],
   "source": [
    "22^22"
   ]
  },
  {
   "cell_type": "code",
   "execution_count": 4,
   "id": "223bb7cc-9b3e-4b2d-b2d6-beffd6e339bd",
   "metadata": {},
   "outputs": [
    {
     "data": {
      "text/plain": [
       "7"
      ]
     },
     "execution_count": 4,
     "metadata": {},
     "output_type": "execute_result"
    }
   ],
   "source": [
    "25^30"
   ]
  },
  {
   "cell_type": "code",
   "execution_count": 2,
   "id": "b003a980-0284-4a02-8bd2-e77a106d2750",
   "metadata": {},
   "outputs": [
    {
     "data": {
      "text/plain": [
       "3"
      ]
     },
     "execution_count": 2,
     "metadata": {},
     "output_type": "execute_result"
    }
   ],
   "source": [
    "17^18"
   ]
  },
  {
   "cell_type": "code",
   "execution_count": 3,
   "id": "203b3d40-f91b-49a6-8649-328ec8e1fb66",
   "metadata": {},
   "outputs": [
    {
     "data": {
      "text/plain": [
       "0"
      ]
     },
     "execution_count": 3,
     "metadata": {},
     "output_type": "execute_result"
    }
   ],
   "source": [
    "17^17"
   ]
  },
  {
   "cell_type": "code",
   "execution_count": 6,
   "id": "95e37f27-d43d-465c-9a03-51260878c9ad",
   "metadata": {},
   "outputs": [
    {
     "data": {
      "text/plain": [
       "'0b111'"
      ]
     },
     "execution_count": 6,
     "metadata": {},
     "output_type": "execute_result"
    }
   ],
   "source": [
    "bin(7)"
   ]
  },
  {
   "cell_type": "code",
   "execution_count": 8,
   "id": "a3cd9cfc-dd33-41a3-8f73-5a030baf4a76",
   "metadata": {},
   "outputs": [
    {
     "data": {
      "text/plain": [
       "'0b11001'"
      ]
     },
     "execution_count": 8,
     "metadata": {},
     "output_type": "execute_result"
    }
   ],
   "source": [
    "bin(25)"
   ]
  },
  {
   "cell_type": "code",
   "execution_count": 21,
   "id": "2762a53f-db7e-4ee8-ada9-8d98bf33f727",
   "metadata": {},
   "outputs": [
    {
     "data": {
      "text/plain": [
       "'0b11110'"
      ]
     },
     "execution_count": 21,
     "metadata": {},
     "output_type": "execute_result"
    }
   ],
   "source": [
    "bin(30)"
   ]
  },
  {
   "cell_type": "code",
   "execution_count": null,
   "id": "a77b84be-eb98-489d-b9c8-8114b475f3de",
   "metadata": {},
   "outputs": [],
   "source": []
  },
  {
   "cell_type": "code",
   "execution_count": null,
   "id": "4ddf0d31-27e2-470f-88ca-18acff450c22",
   "metadata": {},
   "outputs": [],
   "source": []
  },
  {
   "cell_type": "markdown",
   "id": "19172955-bffa-431f-a00a-f9f7ca805592",
   "metadata": {},
   "source": [
    "#### left shift--> gain the bit\n",
    "#### right shift --> loose the bit"
   ]
  },
  {
   "cell_type": "code",
   "execution_count": 16,
   "id": "11ef8771-6da6-4c77-b0e6-76abee0f2544",
   "metadata": {},
   "outputs": [
    {
     "data": {
      "text/plain": [
       "40"
      ]
     },
     "execution_count": 16,
     "metadata": {},
     "output_type": "execute_result"
    }
   ],
   "source": [
    "10<<2  # gain 2 bit gains"
   ]
  },
  {
   "cell_type": "code",
   "execution_count": 23,
   "id": "fd4dc363-af9d-4650-8ff9-bb7b6c8d232a",
   "metadata": {},
   "outputs": [
    {
     "data": {
      "text/plain": [
       "20"
      ]
     },
     "execution_count": 23,
     "metadata": {},
     "output_type": "execute_result"
    }
   ],
   "source": [
    "10<<1  # gain 1 bit"
   ]
  },
  {
   "cell_type": "code",
   "execution_count": 27,
   "id": "3060b453-f283-4dc3-ab29-c6de1d94aa42",
   "metadata": {},
   "outputs": [
    {
     "data": {
      "text/plain": [
       "5"
      ]
     },
     "execution_count": 27,
     "metadata": {},
     "output_type": "execute_result"
    }
   ],
   "source": [
    "10>> 1  # loose 1 bit"
   ]
  },
  {
   "cell_type": "code",
   "execution_count": 29,
   "id": "9292604f-4aad-4936-824f-28796ca9d1fd",
   "metadata": {},
   "outputs": [
    {
     "data": {
      "text/plain": [
       "2"
      ]
     },
     "execution_count": 29,
     "metadata": {},
     "output_type": "execute_result"
    }
   ],
   "source": [
    "10>>2 # loose 2 bit"
   ]
  },
  {
   "cell_type": "code",
   "execution_count": 31,
   "id": "39de7225-ccfc-4738-9003-a3c6b8cfcab2",
   "metadata": {},
   "outputs": [
    {
     "data": {
      "text/plain": [
       "1"
      ]
     },
     "execution_count": 31,
     "metadata": {},
     "output_type": "execute_result"
    }
   ],
   "source": [
    "10>>3  # loose 3 bit"
   ]
  },
  {
   "cell_type": "code",
   "execution_count": 33,
   "id": "d69094a0-fba9-48e1-8983-e7947e9777c7",
   "metadata": {},
   "outputs": [
    {
     "data": {
      "text/plain": [
       "'0b1010'"
      ]
     },
     "execution_count": 33,
     "metadata": {},
     "output_type": "execute_result"
    }
   ],
   "source": [
    "bin(10)"
   ]
  },
  {
   "cell_type": "code",
   "execution_count": null,
   "id": "c05b7422-f8b3-405c-a240-3e9ea0849686",
   "metadata": {},
   "outputs": [],
   "source": []
  }
 ],
 "metadata": {
  "kernelspec": {
   "display_name": "Python 3 (ipykernel)",
   "language": "python",
   "name": "python3"
  },
  "language_info": {
   "codemirror_mode": {
    "name": "ipython",
    "version": 3
   },
   "file_extension": ".py",
   "mimetype": "text/x-python",
   "name": "python",
   "nbconvert_exporter": "python",
   "pygments_lexer": "ipython3",
   "version": "3.12.7"
  }
 },
 "nbformat": 4,
 "nbformat_minor": 5
}
