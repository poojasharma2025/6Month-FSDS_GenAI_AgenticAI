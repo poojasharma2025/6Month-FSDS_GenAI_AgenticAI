{
 "cells": [
  {
   "cell_type": "markdown",
   "id": "0a3c4b3b-e0cf-456b-aab6-98cc772fb944",
   "metadata": {},
   "source": [
    "                                                             session 14 and 15"
   ]
  },
  {
   "cell_type": "markdown",
   "id": "8e9164d8-de7e-490f-bab6-8807278eb630",
   "metadata": {},
   "source": [
    "Topics Covered:\n",
    "1. ⯑ Introduction to NumPy\n",
    "2. ⯑ Creating NumPy Arrays\n",
    "3. ⯑ Array Dimensions & Shapes\n",
    "4. ⯑ Array Indexing & Slicing\n",
    "5. ⯑ Array Operations (Arithmetic & Logical)\n",
    "6. ⯑ Universal Functions (ufuncs)\n",
    "7. ⯑ Built-in NumPy Functions\n",
    "8. ⯑ Random Module & Seeding\n",
    "9. ⯑ Aggregate Functions: min, max, sum, mean, etc.\n",
    "10. ⯑ Advanced Topics: reshape, flatten, stack, split, etc.\n",
    "11. ⯑ Broadcasting\n",
    "12. ⯑ Practical Examples & Summary"
   ]
  },
  {
   "cell_type": "markdown",
   "id": "f89847e3-96c1-4a21-8069-76c74f9244ce",
   "metadata": {},
   "source": [
    "<h2 style=\"text-align: center;\">🔑 Section 1: Introduction to Numpy</h2>"
   ]
  },
  {
   "cell_type": "markdown",
   "id": "e486cc9f-f0b7-4dbf-b5bf-d6cc8a24a238",
   "metadata": {},
   "source": [
    "`NumPy` (Numerical Python) is the foundational package for numerical computing in Python. It provides support for:\n",
    "\n",
    "- Multidimensional arrays and matrices\n",
    "- Mathematical functions for array operations\n",
    "- Efficient broadcasting and vectorization\n",
    "  \n",
    "We first import the library and check its version."
   ]
  },
  {
   "cell_type": "code",
   "execution_count": 1,
   "id": "e099ad90-4442-45e8-ac1e-7213c16a6781",
   "metadata": {},
   "outputs": [],
   "source": [
    "import numpy as np"
   ]
  },
  {
   "cell_type": "code",
   "execution_count": 2,
   "id": "57698958-2dbb-4e19-83a5-45d4e00c9a5c",
   "metadata": {},
   "outputs": [
    {
     "data": {
      "text/plain": [
       "'1.26.4'"
      ]
     },
     "execution_count": 2,
     "metadata": {},
     "output_type": "execute_result"
    }
   ],
   "source": [
    "np.__version__"
   ]
  },
  {
   "cell_type": "code",
   "execution_count": 3,
   "id": "5d9a85be-56b8-4311-b628-a44f45a8122d",
   "metadata": {},
   "outputs": [
    {
     "data": {
      "text/plain": [
       "[0, 1, 2, 3, 4, 5]"
      ]
     },
     "execution_count": 3,
     "metadata": {},
     "output_type": "execute_result"
    }
   ],
   "source": [
    "list1=[0,1,2,3,4,5]\n",
    "list1\n"
   ]
  },
  {
   "cell_type": "code",
   "execution_count": 4,
   "id": "92fce1de-5596-42eb-bcb2-ce0802545046",
   "metadata": {},
   "outputs": [
    {
     "data": {
      "text/plain": [
       "list"
      ]
     },
     "execution_count": 4,
     "metadata": {},
     "output_type": "execute_result"
    }
   ],
   "source": [
    "type(list1)"
   ]
  },
  {
   "cell_type": "code",
   "execution_count": 26,
   "id": "ec34d26a-f946-4b63-83a9-f20382926b6e",
   "metadata": {},
   "outputs": [
    {
     "name": "stdout",
     "output_type": "stream",
     "text": [
      "Time taken using Python list: 0.11351251602172852 seconds\n",
      "Time taken using NumPy array: 0.003993034362792969 seconds\n"
     ]
    }
   ],
   "source": [
    "# Traditional Python List\n",
    "import time\n",
    "python_list = list(range(1, 1000001))\n",
    "start = time.time()\n",
    "python_result = [x * 2 for x in python_list]\n",
    "end = time.time()\n",
    "print(\"Time taken using Python list:\", end - start, \"seconds\") # ➤ Slower\n",
    "# NumPy Array\n",
    "numpy_array = np.array(python_list)\n",
    "start = time.time()\n",
    "numpy_result = numpy_array * 2\n",
    "end = time.time()\n",
    "print(\"Time taken using NumPy array:\", end - start, \"seconds\") # ➤ Faster"
   ]
  },
  {
   "cell_type": "markdown",
   "id": "da81b373-507c-4e4a-b884-61067cbf690d",
   "metadata": {},
   "source": [
    "<h2 style=\"text-align: center;\">🔑 Section 2: creating Numpy Arrays</h2>"
   ]
  },
  {
   "cell_type": "markdown",
   "id": "68c172b9-b1c8-489f-b98f-0d94a68fbf67",
   "metadata": {},
   "source": [
    "`NumPy arrays` can be created using the np.array() function or other specialized\n",
    "functions like `arange()` , `zeros()` , `ones()` , `linspace()` , etc.\n",
    "We’ll explore:\n",
    "- Creating 1D, 2D, and 3D arrays\n",
    "- Specifying data types\n",
    "- Using array-creation shortcuts"
   ]
  },
  {
   "cell_type": "code",
   "execution_count": 5,
   "id": "dc4a7f15-023b-4c14-add0-c1c7f5604fd5",
   "metadata": {},
   "outputs": [
    {
     "data": {
      "text/plain": [
       "array([0, 1, 2, 3, 4, 5])"
      ]
     },
     "execution_count": 5,
     "metadata": {},
     "output_type": "execute_result"
    }
   ],
   "source": [
    "arr= np.array(list1)\n",
    "arr"
   ]
  },
  {
   "cell_type": "code",
   "execution_count": 6,
   "id": "ef50d000-e16c-42c0-b595-ee393cf65613",
   "metadata": {},
   "outputs": [
    {
     "name": "stdout",
     "output_type": "stream",
     "text": [
      "<class 'numpy.ndarray'>\n",
      "<class 'list'>\n"
     ]
    }
   ],
   "source": [
    "print(type(arr))\n",
    "print(type(list1))"
   ]
  },
  {
   "cell_type": "code",
   "execution_count": 29,
   "id": "8cabb977-d528-4333-a1aa-7dde1a533a33",
   "metadata": {},
   "outputs": [
    {
     "name": "stdout",
     "output_type": "stream",
     "text": [
      "2D Array:\n",
      " [[1 2]\n",
      " [3 4]]\n"
     ]
    }
   ],
   "source": [
    "# Creating a 2D array\n",
    "arr_2d = np.array([[1, 2], [3, 4]])\n",
    "print(\"2D Array:\\n\", arr_2d)"
   ]
  },
  {
   "cell_type": "code",
   "execution_count": 30,
   "id": "c77e4c87-0932-42f1-88c7-eddb628f59d4",
   "metadata": {},
   "outputs": [
    {
     "name": "stdout",
     "output_type": "stream",
     "text": [
      "3D Array:\n",
      " [[[1 2]\n",
      "  [3 4]]\n",
      "\n",
      " [[5 6]\n",
      "  [7 8]]]\n"
     ]
    }
   ],
   "source": [
    "# Creating a 3D array\n",
    "arr_3d = np.array(\n",
    "[\n",
    "[[1, 2], [3, 4]],\n",
    "[[5, 6], [7, 8]]\n",
    "]\n",
    ")\n",
    "print(\"3D Array:\\n\", arr_3d)"
   ]
  },
  {
   "cell_type": "code",
   "execution_count": 31,
   "id": "c09cbeb1-fd92-428c-af65-bb3c0e4f4728",
   "metadata": {},
   "outputs": [
    {
     "name": "stdout",
     "output_type": "stream",
     "text": [
      "Float Array: [1. 2. 3.]\n"
     ]
    }
   ],
   "source": [
    "# Creating array with float data type\n",
    "float_array = np.array([1, 2, 3], dtype=float)\n",
    "print(\"Float Array:\", float_array) # ➤ [1. 2. 3.]"
   ]
  },
  {
   "cell_type": "code",
   "execution_count": 40,
   "id": "c44add28-b91e-4e81-a221-7b62166e056e",
   "metadata": {},
   "outputs": [
    {
     "name": "stdout",
     "output_type": "stream",
     "text": [
      "Array of zeros: [0. 0. 0. 0. 0.]\n",
      "Array of ones: [[1. 1. 1.]\n",
      " [1. 1. 1.]]\n",
      "Empty array (uninitialized): [0.25 0.5  0.75 1.  ]\n",
      "Range array: [0 2 4 6 8]\n",
      "Linspace array: [0.   0.25 0.5  0.75 1.  ]\n"
     ]
    }
   ],
   "source": [
    "print(\"Array of zeros:\", np.zeros(5)) # ➤ [0. 0. 0. 0. 0.]\n",
    "print(\"Array of ones:\", np.ones((2, 3)))\n",
    "# ➤ [[1. 1. 1.]\n",
    "# [1. 1. 1.]]\n",
    "print(\"Empty array (uninitialized):\", np.empty(4))\n",
    "# ➤ [random small numbers]\n",
    "print(\"Range array:\", np.arange(0, 10, 2)) # ➤ [0 2 4 6 8]\n",
    "print(\"Linspace array:\", np.linspace(0, 1, 5)) # ➤ [0. 0.25 0.5 0.75 1."
   ]
  },
  {
   "cell_type": "markdown",
   "id": "e50c90a9-3e98-4ff6-bde4-d2b9f3194783",
   "metadata": {},
   "source": [
    "#### arange()\n",
    "- The `arange()` function in Python is a part of the `NumPy library` and is used to create arrays with evenly spaced values within a specified interval.\n",
    "- It is similar to Python's `built-in range()` function but returns a NumPy array instead of a list,\n",
    "- making it more suitable for numerical computations and integration with other NumPy operations"
   ]
  },
  {
   "cell_type": "code",
   "execution_count": 7,
   "id": "5a428de7-71cb-41de-b0b5-cc551ae38a8d",
   "metadata": {},
   "outputs": [
    {
     "data": {
      "text/plain": [
       "array([0, 1, 2, 3, 4, 5, 6, 7, 8, 9])"
      ]
     },
     "execution_count": 7,
     "metadata": {},
     "output_type": "execute_result"
    }
   ],
   "source": [
    "np.arange(10)  # only 3 arguments allowed (start, stop, step)"
   ]
  },
  {
   "cell_type": "code",
   "execution_count": 8,
   "id": "023a8dd7-d7ac-41e5-98ab-067607c54430",
   "metadata": {},
   "outputs": [
    {
     "data": {
      "text/plain": [
       "array([10, 11, 12, 13, 14, 15, 16, 17, 18, 19])"
      ]
     },
     "execution_count": 8,
     "metadata": {},
     "output_type": "execute_result"
    }
   ],
   "source": [
    "np.arange(10,20)"
   ]
  },
  {
   "cell_type": "code",
   "execution_count": 9,
   "id": "0c09bec0-d012-4055-9b25-acfa492d34eb",
   "metadata": {},
   "outputs": [
    {
     "data": {
      "text/plain": [
       "array([10, 15, 20, 25, 30, 35, 40, 45])"
      ]
     },
     "execution_count": 9,
     "metadata": {},
     "output_type": "execute_result"
    }
   ],
   "source": [
    "np.arange(10,50,5)"
   ]
  },
  {
   "cell_type": "code",
   "execution_count": 10,
   "id": "e238b670-9d89-4952-9291-d4008bb43a79",
   "metadata": {},
   "outputs": [
    {
     "data": {
      "text/plain": [
       "array([10, 13, 16, 19, 22, 25, 28])"
      ]
     },
     "execution_count": 10,
     "metadata": {},
     "output_type": "execute_result"
    }
   ],
   "source": [
    "np.arange(10,30,3)  #we cant pass 4 arguments"
   ]
  },
  {
   "cell_type": "code",
   "execution_count": 11,
   "id": "68496dc8-bb12-46c6-ae12-eac2a4cd5d75",
   "metadata": {},
   "outputs": [
    {
     "data": {
      "text/plain": [
       "array([], dtype=int32)"
      ]
     },
     "execution_count": 11,
     "metadata": {},
     "output_type": "execute_result"
    }
   ],
   "source": [
    "np.arange(20,8)   # 1st args must be less than 2nd args "
   ]
  },
  {
   "cell_type": "code",
   "execution_count": 12,
   "id": "e17d7738-1352-4edf-99b3-f2d0b899c82f",
   "metadata": {},
   "outputs": [
    {
     "data": {
      "text/plain": [
       "array([ 8,  9, 10, 11, 12, 13, 14, 15, 16, 17, 18, 19])"
      ]
     },
     "execution_count": 12,
     "metadata": {},
     "output_type": "execute_result"
    }
   ],
   "source": [
    "np.arange(8,20)"
   ]
  },
  {
   "cell_type": "code",
   "execution_count": 13,
   "id": "5975db7b-8add-49e8-84fa-3c6a1624717e",
   "metadata": {},
   "outputs": [
    {
     "data": {
      "text/plain": [
       "array([-8, -7, -6, -5, -4, -3, -2, -1,  0,  1,  2,  3,  4,  5,  6,  7,  8,\n",
       "        9, 10, 11, 12, 13, 14, 15, 16, 17, 18, 19])"
      ]
     },
     "execution_count": 13,
     "metadata": {},
     "output_type": "execute_result"
    }
   ],
   "source": [
    "np.arange(-8,20) "
   ]
  },
  {
   "cell_type": "code",
   "execution_count": 14,
   "id": "0a02c509-5e1f-4184-bd4c-7cf5ea35b828",
   "metadata": {},
   "outputs": [
    {
     "data": {
      "text/plain": [
       "array([-20, -19, -18, -17, -16, -15, -14, -13, -12, -11, -10,  -9,  -8,\n",
       "        -7,  -6,  -5,  -4,  -3,  -2,  -1,   0,   1,   2,   3,   4,   5,\n",
       "         6,   7])"
      ]
     },
     "execution_count": 14,
     "metadata": {},
     "output_type": "execute_result"
    }
   ],
   "source": [
    "np.arange(-20,8)# but when we use minus(-) 1st args can be greater"
   ]
  },
  {
   "cell_type": "code",
   "execution_count": 15,
   "id": "25da3a4e-5eed-4883-b835-192ec963605e",
   "metadata": {},
   "outputs": [
    {
     "data": {
      "text/plain": [
       "array([ 8,  9, 10, 11, 12, 13, 14, 15, 16, 17, 18, 19])"
      ]
     },
     "execution_count": 15,
     "metadata": {},
     "output_type": "execute_result"
    }
   ],
   "source": [
    "n=np.arange(8,20)\n",
    "n"
   ]
  },
  {
   "cell_type": "code",
   "execution_count": 16,
   "id": "9ab051c1-80a5-4015-af91-eed2245dbe47",
   "metadata": {},
   "outputs": [
    {
     "data": {
      "text/plain": [
       "array([0., 0., 0.])"
      ]
     },
     "execution_count": 16,
     "metadata": {},
     "output_type": "execute_result"
    }
   ],
   "source": [
    "np.zeros(3)"
   ]
  },
  {
   "cell_type": "code",
   "execution_count": 17,
   "id": "800de926-d3f1-4bc6-9d0f-a7e805efd717",
   "metadata": {},
   "outputs": [
    {
     "data": {
      "text/plain": [
       "array([0, 0, 0])"
      ]
     },
     "execution_count": 17,
     "metadata": {},
     "output_type": "execute_result"
    }
   ],
   "source": [
    "np.zeros(3, dtype=int)"
   ]
  },
  {
   "cell_type": "code",
   "execution_count": 18,
   "id": "e1a1c339-9ae4-4eeb-b716-15dde2827b46",
   "metadata": {},
   "outputs": [
    {
     "data": {
      "text/plain": [
       "array([0., 0., 0., 0., 0.])"
      ]
     },
     "execution_count": 18,
     "metadata": {},
     "output_type": "execute_result"
    }
   ],
   "source": [
    "z=np.zeros(5)\n",
    "z"
   ]
  },
  {
   "cell_type": "code",
   "execution_count": 19,
   "id": "e261cde3-707b-4131-a8df-545b7513510c",
   "metadata": {},
   "outputs": [
    {
     "data": {
      "text/plain": [
       "array([[0., 0.],\n",
       "       [0., 0.]])"
      ]
     },
     "execution_count": 19,
     "metadata": {},
     "output_type": "execute_result"
    }
   ],
   "source": [
    "z=np.zeros((2,2))  #2d arrayx\n",
    "z"
   ]
  },
  {
   "cell_type": "code",
   "execution_count": 20,
   "id": "0a6d35fc-2cfc-448d-a9c4-c620ccc8f0de",
   "metadata": {},
   "outputs": [
    {
     "data": {
      "text/plain": [
       "array([[0, 0],\n",
       "       [0, 0],\n",
       "       [0, 0]])"
      ]
     },
     "execution_count": 20,
     "metadata": {},
     "output_type": "execute_result"
    }
   ],
   "source": [
    "np.zeros((3,2), dtype=int)\n"
   ]
  },
  {
   "cell_type": "code",
   "execution_count": 21,
   "id": "56939090-4dd3-4b8c-ae08-884164913159",
   "metadata": {},
   "outputs": [
    {
     "data": {
      "text/plain": [
       "array([[0, 0, 0, 0, 0, 0, 0, 0, 0],\n",
       "       [0, 0, 0, 0, 0, 0, 0, 0, 0],\n",
       "       [0, 0, 0, 0, 0, 0, 0, 0, 0],\n",
       "       [0, 0, 0, 0, 0, 0, 0, 0, 0],\n",
       "       [0, 0, 0, 0, 0, 0, 0, 0, 0]])"
      ]
     },
     "execution_count": 21,
     "metadata": {},
     "output_type": "execute_result"
    }
   ],
   "source": [
    "z=np.zeros((5,9), dtype=int)  # n-dimensional arrayx\n",
    "z"
   ]
  },
  {
   "cell_type": "code",
   "execution_count": 22,
   "id": "fbcf9eac-e372-41c0-99e9-fedb0c3c395f",
   "metadata": {},
   "outputs": [
    {
     "data": {
      "text/plain": [
       "array([1., 1., 1.])"
      ]
     },
     "execution_count": 22,
     "metadata": {},
     "output_type": "execute_result"
    }
   ],
   "source": [
    "np.ones(3)"
   ]
  },
  {
   "cell_type": "code",
   "execution_count": 23,
   "id": "8b30d384-93a2-437e-9ea1-7a490d095ccf",
   "metadata": {},
   "outputs": [
    {
     "data": {
      "text/plain": [
       "array([1, 1, 1])"
      ]
     },
     "execution_count": 23,
     "metadata": {},
     "output_type": "execute_result"
    }
   ],
   "source": [
    "np.ones(3, dtype=int)"
   ]
  },
  {
   "cell_type": "code",
   "execution_count": 24,
   "id": "4f78e0b4-4d7a-4fb8-aef4-6b456c4843ed",
   "metadata": {},
   "outputs": [
    {
     "data": {
      "text/plain": [
       "array([[1, 1, 1, 1, 1, 1, 1, 1, 1, 1],\n",
       "       [1, 1, 1, 1, 1, 1, 1, 1, 1, 1],\n",
       "       [1, 1, 1, 1, 1, 1, 1, 1, 1, 1],\n",
       "       [1, 1, 1, 1, 1, 1, 1, 1, 1, 1],\n",
       "       [1, 1, 1, 1, 1, 1, 1, 1, 1, 1],\n",
       "       [1, 1, 1, 1, 1, 1, 1, 1, 1, 1],\n",
       "       [1, 1, 1, 1, 1, 1, 1, 1, 1, 1],\n",
       "       [1, 1, 1, 1, 1, 1, 1, 1, 1, 1],\n",
       "       [1, 1, 1, 1, 1, 1, 1, 1, 1, 1],\n",
       "       [1, 1, 1, 1, 1, 1, 1, 1, 1, 1]])"
      ]
     },
     "execution_count": 24,
     "metadata": {},
     "output_type": "execute_result"
    }
   ],
   "source": [
    "np.ones((10,10),dtype=int)"
   ]
  },
  {
   "cell_type": "code",
   "execution_count": 39,
   "id": "4f8ab9dd-6cf3-4267-90a8-7dc2c1a4b592",
   "metadata": {},
   "outputs": [
    {
     "data": {
      "text/plain": [
       "array([0.25, 0.5 , 0.75, 1.  ])"
      ]
     },
     "execution_count": 39,
     "metadata": {},
     "output_type": "execute_result"
    }
   ],
   "source": [
    "np.empty(4)"
   ]
  },
  {
   "cell_type": "code",
   "execution_count": 42,
   "id": "d1a300c3-ef3e-41a1-b439-3053e2b0cb0c",
   "metadata": {},
   "outputs": [
    {
     "data": {
      "text/plain": [
       "array([0.  , 0.25, 0.5 , 0.75, 1.  ])"
      ]
     },
     "execution_count": 42,
     "metadata": {},
     "output_type": "execute_result"
    }
   ],
   "source": [
    "np.linspace(0,1,5)"
   ]
  },
  {
   "cell_type": "code",
   "execution_count": 32,
   "id": "944684b0-4ebd-4d7c-a74e-718e665ddf06",
   "metadata": {},
   "outputs": [
    {
     "ename": "AttributeError",
     "evalue": "module 'numpy' has no attribute 'three'",
     "output_type": "error",
     "traceback": [
      "\u001b[1;31m---------------------------------------------------------------------------\u001b[0m",
      "\u001b[1;31mAttributeError\u001b[0m                            Traceback (most recent call last)",
      "Cell \u001b[1;32mIn[32], line 1\u001b[0m\n\u001b[1;32m----> 1\u001b[0m np\u001b[38;5;241m.\u001b[39mthree(\u001b[38;5;241m3\u001b[39m)\n",
      "File \u001b[1;32m~\\anaconda3\\Lib\\site-packages\\numpy\\__init__.py:333\u001b[0m, in \u001b[0;36m__getattr__\u001b[1;34m(attr)\u001b[0m\n\u001b[0;32m    330\u001b[0m     \u001b[38;5;124m\"\u001b[39m\u001b[38;5;124mRemoved in NumPy 1.25.0\u001b[39m\u001b[38;5;124m\"\u001b[39m\n\u001b[0;32m    331\u001b[0m     \u001b[38;5;28;01mraise\u001b[39;00m \u001b[38;5;167;01mRuntimeError\u001b[39;00m(\u001b[38;5;124m\"\u001b[39m\u001b[38;5;124mTester was removed in NumPy 1.25.\u001b[39m\u001b[38;5;124m\"\u001b[39m)\n\u001b[1;32m--> 333\u001b[0m \u001b[38;5;28;01mraise\u001b[39;00m \u001b[38;5;167;01mAttributeError\u001b[39;00m(\u001b[38;5;124m\"\u001b[39m\u001b[38;5;124mmodule \u001b[39m\u001b[38;5;132;01m{!r}\u001b[39;00m\u001b[38;5;124m has no attribute \u001b[39m\u001b[38;5;124m\"\u001b[39m\n\u001b[0;32m    334\u001b[0m                      \u001b[38;5;124m\"\u001b[39m\u001b[38;5;132;01m{!r}\u001b[39;00m\u001b[38;5;124m\"\u001b[39m\u001b[38;5;241m.\u001b[39mformat(\u001b[38;5;18m__name__\u001b[39m, attr))\n",
      "\u001b[1;31mAttributeError\u001b[0m: module 'numpy' has no attribute 'three'"
     ]
    }
   ],
   "source": [
    "np.three(3) # error"
   ]
  },
  {
   "cell_type": "markdown",
   "id": "2260752d-8e6a-455f-876b-8cd5c4d70c7a",
   "metadata": {},
   "source": [
    "<h2 style=\"text-align: center;\">🔑 Section 3 – Array Dimensions & Shapes</h2>\n"
   ]
  },
  {
   "cell_type": "markdown",
   "id": "e8e4845b-642e-4a38-834d-749885b595f7",
   "metadata": {},
   "source": [
    "Understanding the `shape and dimensionality` of `NumPy arrays` is key to working with them efficiently.In this section, we’ll explore:\n",
    "- `ndim` → number of dimensions\n",
    "- `shape` → number of elements in each dimension\n",
    "- `size` → total number of elements\n",
    "- `reshape()` → changing the structure of arrays"
   ]
  },
  {
   "cell_type": "code",
   "execution_count": 45,
   "id": "9dfe8fd4-984d-48de-87b8-b5717f58e0b2",
   "metadata": {},
   "outputs": [
    {
     "name": "stdout",
     "output_type": "stream",
     "text": [
      "Array:\n",
      " [[1 2 3]\n",
      " [4 5 6]]\n",
      "Dimensions (ndim): 2\n",
      "Shape: (2, 3)\n",
      "Size: 6\n",
      "Data type: int32\n"
     ]
    }
   ],
   "source": [
    "arr = np.array([[1, 2, 3], [4, 5, 6]])\n",
    "print(\"Array:\\n\", arr)\n",
    "print(\"Dimensions (ndim):\", arr.ndim) # ➤ 2\n",
    "print(\"Shape:\", arr.shape) # ➤ (2, 3)\n",
    "print(\"Size:\", arr.size) # ➤ 6\n",
    "print(\"Data type:\", arr.dtype) # ➤ int64 or int32 depending on system"
   ]
  },
  {
   "cell_type": "code",
   "execution_count": 46,
   "id": "a8c096ec-8b12-421b-a0ec-90106f8b8652",
   "metadata": {},
   "outputs": [
    {
     "name": "stdout",
     "output_type": "stream",
     "text": [
      "Original 1D array: [ 0  1  2  3  4  5  6  7  8  9 10 11]\n",
      "Reshaped to 3x4:\n",
      " [[ 0  1  2  3]\n",
      " [ 4  5  6  7]\n",
      " [ 8  9 10 11]]\n"
     ]
    }
   ],
   "source": [
    "# Reshaping a 1D array to 2D\n",
    "arr_1d = np.arange(12)\n",
    "print(\"Original 1D array:\", arr_1d)\n",
    "arr_reshaped = arr_1d.reshape((3, 4))\n",
    "print(\"Reshaped to 3x4:\\n\", arr_reshaped)"
   ]
  },
  {
   "cell_type": "code",
   "execution_count": 47,
   "id": "b235ef27-5f80-4f23-9f50-4f72f9a1f4fe",
   "metadata": {},
   "outputs": [
    {
     "name": "stdout",
     "output_type": "stream",
     "text": [
      "Reshaped 5x3 Array:\n",
      " [[ 0  1  2]\n",
      " [ 3  4  5]\n",
      " [ 6  7  8]\n",
      " [ 9 10 11]\n",
      " [12 13 14]]\n"
     ]
    }
   ],
   "source": [
    "reshaped = np.arange(15).reshape(5, 3)\n",
    "print(\"Reshaped 5x3 Array:\\n\", reshaped)"
   ]
  },
  {
   "cell_type": "markdown",
   "id": "df29f759-8614-4ca0-b1ab-6ce927192d3b",
   "metadata": {},
   "source": [
    "### **To generate random number , use rand()**"
   ]
  },
  {
   "cell_type": "code",
   "execution_count": 33,
   "id": "e47036da-8e3c-451f-adad-c2751e32f49c",
   "metadata": {},
   "outputs": [
    {
     "data": {
      "text/plain": [
       "0.28451712620830905"
      ]
     },
     "execution_count": 33,
     "metadata": {},
     "output_type": "execute_result"
    }
   ],
   "source": [
    "random.rand()"
   ]
  },
  {
   "cell_type": "code",
   "execution_count": 34,
   "id": "c9fe0107-d0c0-457e-ada7-7421a926b1fa",
   "metadata": {},
   "outputs": [
    {
     "data": {
      "text/plain": [
       "array([0.07770919, 0.33279199])"
      ]
     },
     "execution_count": 34,
     "metadata": {},
     "output_type": "execute_result"
    }
   ],
   "source": [
    "np.random.rand(2)"
   ]
  },
  {
   "cell_type": "code",
   "execution_count": 35,
   "id": "84a59800-1215-4fa5-8dd6-91e298d03e8e",
   "metadata": {},
   "outputs": [
    {
     "data": {
      "text/plain": [
       "array([0.89411094, 0.7634935 , 0.91051608])"
      ]
     },
     "execution_count": 35,
     "metadata": {},
     "output_type": "execute_result"
    }
   ],
   "source": [
    "np.random.rand(3)"
   ]
  },
  {
   "cell_type": "code",
   "execution_count": 36,
   "id": "c78aaeee-aac8-44b0-96e7-eb11555dc10c",
   "metadata": {},
   "outputs": [
    {
     "data": {
      "text/plain": [
       "array([[0.19230981, 0.93763658, 0.52713052],\n",
       "       [0.56402419, 0.87888153, 0.67595001]])"
      ]
     },
     "execution_count": 36,
     "metadata": {},
     "output_type": "execute_result"
    }
   ],
   "source": [
    "np.random.rand(2,3)"
   ]
  },
  {
   "cell_type": "code",
   "execution_count": 37,
   "id": "da5eb844-acf6-469d-bd8a-8cf92284a06a",
   "metadata": {},
   "outputs": [
    {
     "data": {
      "text/plain": [
       "2"
      ]
     },
     "execution_count": 37,
     "metadata": {},
     "output_type": "execute_result"
    }
   ],
   "source": [
    "np.random.randint(3)"
   ]
  },
  {
   "cell_type": "code",
   "execution_count": 38,
   "id": "7b709b03-bbb3-4de4-bf12-e40eadab0495",
   "metadata": {},
   "outputs": [
    {
     "data": {
      "text/plain": [
       "4"
      ]
     },
     "execution_count": 38,
     "metadata": {},
     "output_type": "execute_result"
    }
   ],
   "source": [
    "np.random.randint(2,10)"
   ]
  },
  {
   "cell_type": "code",
   "execution_count": 39,
   "id": "72db7edd-be03-4b51-a83a-2b68cd48df81",
   "metadata": {},
   "outputs": [
    {
     "data": {
      "text/plain": [
       "array([3, 3, 8, 5])"
      ]
     },
     "execution_count": 39,
     "metadata": {},
     "output_type": "execute_result"
    }
   ],
   "source": [
    "np.random.randint(2,10,4)"
   ]
  },
  {
   "cell_type": "code",
   "execution_count": 40,
   "id": "1a202f1b-e2c6-4872-a258-45e0f4f539a6",
   "metadata": {},
   "outputs": [
    {
     "data": {
      "text/plain": [
       "array([-23, -22, -21,  -5,   1,   8,  -7,   9,  -4,  -8])"
      ]
     },
     "execution_count": 40,
     "metadata": {},
     "output_type": "execute_result"
    }
   ],
   "source": [
    "np.random.randint(-30,20,10)"
   ]
  },
  {
   "cell_type": "code",
   "execution_count": 41,
   "id": "080caff1-536a-4566-8a1c-1861734357a7",
   "metadata": {},
   "outputs": [
    {
     "data": {
      "text/plain": [
       "array([[25, 12, 31, 38, 34, 27, 24, 31, 22, 21],\n",
       "       [14, 23, 11, 23, 32, 10, 13, 25, 35, 11],\n",
       "       [11, 14, 22, 38, 20, 35, 25, 16, 11, 20],\n",
       "       [23, 22, 15, 16, 26, 28, 12, 14, 19, 10],\n",
       "       [19, 34, 17, 33, 11, 18, 12, 21, 13, 39],\n",
       "       [27, 20, 36, 32, 11, 25, 31, 27, 26, 19],\n",
       "       [10, 30, 33, 22, 11, 26, 33, 36, 29, 39],\n",
       "       [19, 24, 29, 39, 38, 27, 36, 14, 37, 32],\n",
       "       [19, 31, 31, 19, 23, 18, 32, 11, 25, 14],\n",
       "       [10, 38, 26, 15, 15, 31, 37, 22, 28, 39]])"
      ]
     },
     "execution_count": 41,
     "metadata": {},
     "output_type": "execute_result"
    }
   ],
   "source": [
    "m=np.random.randint(10,40,(10,10))\n",
    "m"
   ]
  },
  {
   "cell_type": "code",
   "execution_count": 42,
   "id": "0252289d-1b3c-48ca-a094-cf20d8ae0cf7",
   "metadata": {},
   "outputs": [
    {
     "data": {
      "text/plain": [
       "array([0, 1, 2, 3, 4, 5])"
      ]
     },
     "execution_count": 42,
     "metadata": {},
     "output_type": "execute_result"
    }
   ],
   "source": [
    "arr"
   ]
  },
  {
   "cell_type": "code",
   "execution_count": 43,
   "id": "a98517bf-3c86-4728-af5c-6cee702f0a91",
   "metadata": {},
   "outputs": [
    {
     "data": {
      "text/plain": [
       "array([[0, 1, 2],\n",
       "       [3, 4, 5]])"
      ]
     },
     "execution_count": 43,
     "metadata": {},
     "output_type": "execute_result"
    }
   ],
   "source": [
    "arr.reshape(2,3)"
   ]
  },
  {
   "cell_type": "code",
   "execution_count": 44,
   "id": "0563b4bf-4356-451e-9bab-eae9f74bf9fd",
   "metadata": {},
   "outputs": [
    {
     "data": {
      "text/plain": [
       "array([[0],\n",
       "       [1],\n",
       "       [2],\n",
       "       [3],\n",
       "       [4],\n",
       "       [5]])"
      ]
     },
     "execution_count": 44,
     "metadata": {},
     "output_type": "execute_result"
    }
   ],
   "source": [
    "arr.reshape(6,1)"
   ]
  },
  {
   "cell_type": "code",
   "execution_count": 45,
   "id": "344e4d2f-3a23-4486-af93-7467a3a8da8e",
   "metadata": {},
   "outputs": [
    {
     "data": {
      "text/plain": [
       "array([[0, 1, 2, 3, 4, 5]])"
      ]
     },
     "execution_count": 45,
     "metadata": {},
     "output_type": "execute_result"
    }
   ],
   "source": [
    "arr.reshape(1,6)"
   ]
  },
  {
   "cell_type": "markdown",
   "id": "2f675d3c-0d33-4b61-9b78-8a4b52759d96",
   "metadata": {},
   "source": [
    "<h2 style=\"text-align: center;\">🔑 Section 4 – Array Indexing & Slicing</h2>"
   ]
  },
  {
   "cell_type": "markdown",
   "id": "63877abf-eeaf-4148-98f6-4ccb060cc46b",
   "metadata": {},
   "source": [
    "Just like Python lists, NumPy arrays support:\n",
    "- Indexing: Accessing individual elements\n",
    "- Slicing: Accessing ranges/sub-arrays\n",
    "- Works on 1D, 2D, and higher-dimensional arrays\n",
    "\n",
    "We’ll now explore both techniques."
   ]
  },
  {
   "cell_type": "code",
   "execution_count": 48,
   "id": "4cbfae3f-75ec-4617-a97e-08ef9e7de0aa",
   "metadata": {},
   "outputs": [
    {
     "name": "stdout",
     "output_type": "stream",
     "text": [
      "Element at index 0: 10\n",
      "Element at index 3: 40\n",
      "Last element (negative index): 50\n"
     ]
    }
   ],
   "source": [
    "#Indexing in 1D Arrays\n",
    "arr = np.array([10, 20, 30, 40, 50])\n",
    "print(\"Element at index 0:\", arr[0]) # ➤ 10\n",
    "print(\"Element at index 3:\", arr[3]) # ➤ 40\n",
    "print(\"Last element (negative index):\", arr[-1]) # ➤ 50"
   ]
  },
  {
   "cell_type": "code",
   "execution_count": 49,
   "id": "41da9b6a-1c21-40ef-b9df-c78c141c1287",
   "metadata": {},
   "outputs": [
    {
     "name": "stdout",
     "output_type": "stream",
     "text": [
      "Element at row 0, col 2: 3\n",
      "Element at row 1, col 0: 4\n"
     ]
    }
   ],
   "source": [
    "#Indexing in 2D Arrays\n",
    "arr_2d = np.array([[1, 2, 3], [4, 5, 6]])\n",
    "print(\"Element at row 0, col 2:\", arr_2d[0, 2]) # ➤ 3\n",
    "print(\"Element at row 1, col 0:\", arr_2d[1, 0]) # ➤ 4"
   ]
  },
  {
   "cell_type": "code",
   "execution_count": null,
   "id": "ed6de38e-c7a9-4d9c-922c-ec288e804cf2",
   "metadata": {},
   "outputs": [],
   "source": [
    "# Slicing in 1D Arrays\n",
    "arr = np.array([10, 20, 30, 40, 50, 60])\n",
    "print(\"Elements from index 1 to 4:\", arr[1:5]) # ➤ [20 30 40 50]\n",
    "print(\"Every 2nd element:\", arr[::2]) # ➤ [10 30 50]\n",
    "print(\"Reverse array:\", arr[::-1])"
   ]
  },
  {
   "cell_type": "code",
   "execution_count": 51,
   "id": "83bef7a3-1b87-4809-bfbc-4289fcf69334",
   "metadata": {},
   "outputs": [
    {
     "name": "stdout",
     "output_type": "stream",
     "text": [
      "First 2 rows:\n",
      " [[1 2 3]\n",
      " [4 5 6]]\n",
      "First 2 columns:\n",
      " [[1 2]\n",
      " [4 5]\n",
      " [7 8]]\n",
      "Bottom-right 2x2 block:\n",
      " [[5 6]\n",
      " [8 9]]\n"
     ]
    }
   ],
   "source": [
    "# Slicing a 2D array\n",
    "arr_2d = np.array([[1, 2, 3], [4, 5, 6], [7, 8, 9]])\n",
    "print(\"First 2 rows:\\n\", arr_2d[:2])\n",
    "# ➤ [[1 2 3]\n",
    "# [4 5 6]]\n",
    "print(\"First 2 columns:\\n\", arr_2d[:, :2])\n",
    "# ➤ [[1 2]\n",
    "# [4 5]\n",
    "# [7 8]]\n",
    "print(\"Bottom-right 2x2 block:\\n\", arr_2d[1:, 1:])\n",
    "# ➤ [[5 6]\n",
    "# [8 9]]"
   ]
  },
  {
   "cell_type": "markdown",
   "id": "80f9c9c6-fa4d-42c9-9aef-f242d21a3d14",
   "metadata": {},
   "source": [
    "#### slicing in matrix"
   ]
  },
  {
   "cell_type": "code",
   "execution_count": 46,
   "id": "add6bb5b-d66b-4b13-b95f-d6b87718a9df",
   "metadata": {},
   "outputs": [
    {
     "data": {
      "text/plain": [
       "array([[25, 12, 31, 38, 34, 27, 24, 31, 22, 21],\n",
       "       [14, 23, 11, 23, 32, 10, 13, 25, 35, 11],\n",
       "       [11, 14, 22, 38, 20, 35, 25, 16, 11, 20],\n",
       "       [23, 22, 15, 16, 26, 28, 12, 14, 19, 10],\n",
       "       [19, 34, 17, 33, 11, 18, 12, 21, 13, 39],\n",
       "       [27, 20, 36, 32, 11, 25, 31, 27, 26, 19],\n",
       "       [10, 30, 33, 22, 11, 26, 33, 36, 29, 39],\n",
       "       [19, 24, 29, 39, 38, 27, 36, 14, 37, 32],\n",
       "       [19, 31, 31, 19, 23, 18, 32, 11, 25, 14],\n",
       "       [10, 38, 26, 15, 15, 31, 37, 22, 28, 39]])"
      ]
     },
     "execution_count": 46,
     "metadata": {},
     "output_type": "execute_result"
    }
   ],
   "source": [
    "m"
   ]
  },
  {
   "cell_type": "code",
   "execution_count": 47,
   "id": "da81f09a-17ca-4312-a372-4441a7f124bc",
   "metadata": {},
   "outputs": [
    {
     "data": {
      "text/plain": [
       "array([[17, 16, 10, 12],\n",
       "       [18, 16, 14, 15],\n",
       "       [18, 13, 18, 15],\n",
       "       [15, 10, 14, 14],\n",
       "       [13, 18, 17, 12]])"
      ]
     },
     "execution_count": 47,
     "metadata": {},
     "output_type": "execute_result"
    }
   ],
   "source": [
    "b=np.random.randint(10,20,(5,4))\n",
    "b"
   ]
  },
  {
   "cell_type": "code",
   "execution_count": 48,
   "id": "38d6e4e4-7542-4599-85f8-3113d50c7324",
   "metadata": {},
   "outputs": [
    {
     "data": {
      "text/plain": [
       "array([[17, 16, 10, 12],\n",
       "       [18, 16, 14, 15],\n",
       "       [18, 13, 18, 15],\n",
       "       [15, 10, 14, 14],\n",
       "       [13, 18, 17, 12]])"
      ]
     },
     "execution_count": 48,
     "metadata": {},
     "output_type": "execute_result"
    }
   ],
   "source": [
    "b[:]"
   ]
  },
  {
   "cell_type": "code",
   "execution_count": 49,
   "id": "4e9e5c18-0bb9-4dbf-9f70-c132cfc13b55",
   "metadata": {},
   "outputs": [
    {
     "data": {
      "text/plain": [
       "array([[18, 16, 14, 15],\n",
       "       [18, 13, 18, 15],\n",
       "       [15, 10, 14, 14]])"
      ]
     },
     "execution_count": 49,
     "metadata": {},
     "output_type": "execute_result"
    }
   ],
   "source": [
    "b[1:4]"
   ]
  },
  {
   "cell_type": "code",
   "execution_count": 50,
   "id": "74dd4685-3d19-497e-a1fd-108401fcd1f6",
   "metadata": {},
   "outputs": [
    {
     "data": {
      "text/plain": [
       "array([[13, 18, 17, 12]])"
      ]
     },
     "execution_count": 50,
     "metadata": {},
     "output_type": "execute_result"
    }
   ],
   "source": [
    "b[-1:]"
   ]
  },
  {
   "cell_type": "code",
   "execution_count": 51,
   "id": "50a11dec-0b95-4c88-a31e-6f1ca0ccad91",
   "metadata": {},
   "outputs": [
    {
     "data": {
      "text/plain": [
       "array([[17, 16, 10, 12],\n",
       "       [18, 16, 14, 15],\n",
       "       [18, 13, 18, 15],\n",
       "       [15, 10, 14, 14]])"
      ]
     },
     "execution_count": 51,
     "metadata": {},
     "output_type": "execute_result"
    }
   ],
   "source": [
    "b[:-1]"
   ]
  },
  {
   "cell_type": "code",
   "execution_count": 52,
   "id": "9366994f-34a7-446d-add0-4320761941db",
   "metadata": {},
   "outputs": [
    {
     "data": {
      "text/plain": [
       "array([[17, 16, 10, 12],\n",
       "       [18, 16, 14, 15],\n",
       "       [18, 13, 18, 15]])"
      ]
     },
     "execution_count": 52,
     "metadata": {},
     "output_type": "execute_result"
    }
   ],
   "source": [
    "b[:-2]"
   ]
  },
  {
   "cell_type": "code",
   "execution_count": 53,
   "id": "3c913be4-8518-4608-9e9a-74ec9d4b5b1b",
   "metadata": {},
   "outputs": [
    {
     "data": {
      "text/plain": [
       "array([[18, 16, 14, 15],\n",
       "       [18, 13, 18, 15],\n",
       "       [15, 10, 14, 14]])"
      ]
     },
     "execution_count": 53,
     "metadata": {},
     "output_type": "execute_result"
    }
   ],
   "source": [
    "b[1:4]"
   ]
  },
  {
   "cell_type": "code",
   "execution_count": 54,
   "id": "beb15001-91ca-4b73-8dfe-571d219bb17b",
   "metadata": {},
   "outputs": [
    {
     "data": {
      "text/plain": [
       "14"
      ]
     },
     "execution_count": 54,
     "metadata": {},
     "output_type": "execute_result"
    }
   ],
   "source": [
    "b[1,2]"
   ]
  },
  {
   "cell_type": "code",
   "execution_count": 55,
   "id": "af321219-e26b-4931-87cd-a0e9d2bd89ea",
   "metadata": {},
   "outputs": [
    {
     "data": {
      "text/plain": [
       "array([[17, 16, 10, 12],\n",
       "       [18, 16, 14, 15],\n",
       "       [18, 13, 18, 15],\n",
       "       [15, 10, 14, 14],\n",
       "       [13, 18, 17, 12]])"
      ]
     },
     "execution_count": 55,
     "metadata": {},
     "output_type": "execute_result"
    }
   ],
   "source": [
    "b\n"
   ]
  },
  {
   "cell_type": "code",
   "execution_count": 56,
   "id": "4e541a40-3245-4276-87d7-8cc9a41fed9d",
   "metadata": {},
   "outputs": [
    {
     "data": {
      "text/plain": [
       "15"
      ]
     },
     "execution_count": 56,
     "metadata": {},
     "output_type": "execute_result"
    }
   ],
   "source": [
    "b[1,3]"
   ]
  },
  {
   "cell_type": "code",
   "execution_count": 57,
   "id": "e71da713-3bb1-483f-9f51-5bd5620346ee",
   "metadata": {},
   "outputs": [
    {
     "data": {
      "text/plain": [
       "array([[18, 16, 14, 15],\n",
       "       [18, 13, 18, 15],\n",
       "       [15, 10, 14, 14]])"
      ]
     },
     "execution_count": 57,
     "metadata": {},
     "output_type": "execute_result"
    }
   ],
   "source": [
    "b[1:-1]\n"
   ]
  },
  {
   "cell_type": "code",
   "execution_count": 58,
   "id": "91de7422-dc72-4175-991a-786f75f30242",
   "metadata": {},
   "outputs": [
    {
     "data": {
      "text/plain": [
       "15"
      ]
     },
     "execution_count": 58,
     "metadata": {},
     "output_type": "execute_result"
    }
   ],
   "source": [
    "b[1,-1]"
   ]
  },
  {
   "cell_type": "markdown",
   "id": "c9322bd0-dd37-4aaf-8fa2-746d75fa5f8c",
   "metadata": {},
   "source": [
    "<h2 style=\"text-align: center;\">Section 5 – Array Arithmetic & Logical Operations</h2>"
   ]
  },
  {
   "cell_type": "markdown",
   "id": "cd80ed21-1fbd-406d-af33-9ea3de1e2f19",
   "metadata": {},
   "source": [
    "NumPy allows element-wise operations on arrays, just like mathematical expressions.\n",
    "These operations are vectorized, making them faster than Python loops.\n",
    "\n",
    "We’ll cover:\n",
    "- Arithmetic operations ( + , - , * , / , ** )\n",
    "- Comparison operations ( == , != , > , < , etc.)\n",
    "- Logical operations ( & , | , ~ )"
   ]
  },
  {
   "cell_type": "code",
   "execution_count": 52,
   "id": "8943cb13-e90d-4213-9d8f-d5342c60132c",
   "metadata": {},
   "outputs": [
    {
     "name": "stdout",
     "output_type": "stream",
     "text": [
      "Addition: [5 7 9]\n",
      "Subtraction: [3 3 3]\n",
      "Multiplication: [ 4 10 18]\n",
      "Division: [4.  2.5 2. ]\n",
      "Exponentiation: [1 4 9]\n"
     ]
    }
   ],
   "source": [
    "# Arithmetic Operation\n",
    "arr1 = np.array([1, 2, 3])\n",
    "arr2 = np.array([4, 5, 6])\n",
    "print(\"Addition:\", arr1 + arr2) # ➤ [5 7 9]\n",
    "print(\"Subtraction:\", arr2 - arr1) # ➤ [3 3 3]\n",
    "print(\"Multiplication:\", arr1 * arr2) # ➤ [ 4 10 18]\n",
    "print(\"Division:\", arr2 / arr1) # ➤ [4. 2.5 2.]\n",
    "print(\"Exponentiation:\", arr1 ** 2) # ➤ [1 4 9]"
   ]
  },
  {
   "cell_type": "code",
   "execution_count": 53,
   "id": "4fafd795-fad6-4c0a-896d-b986531344ef",
   "metadata": {},
   "outputs": [
    {
     "name": "stdout",
     "output_type": "stream",
     "text": [
      "Equal: [False False False]\n",
      "Not Equal: [ True  True  True]\n",
      "Greater: [ True  True  True]\n"
     ]
    }
   ],
   "source": [
    "# Comparison Operations\n",
    "print(\"Equal:\", arr1 == arr2) # ➤ [False False False]\n",
    "print(\"Not Equal:\", arr1 != arr2) # ➤ [ True True True]\n",
    "print(\"Greater:\", arr2 > arr1) # ➤ [ True True True]"
   ]
  },
  {
   "cell_type": "code",
   "execution_count": 54,
   "id": "8eb90a4e-7300-4349-982d-294ba0ac736f",
   "metadata": {},
   "outputs": [
    {
     "name": "stdout",
     "output_type": "stream",
     "text": [
      "Logical AND: [False  True  True]\n",
      "Logical OR: [False False  True]\n",
      "Logical NOT arr1 > 2: [ True  True False]\n"
     ]
    }
   ],
   "source": [
    "# Logical Operations\n",
    "# Logical AND (element-wise)\n",
    "print(\"Logical AND:\", np.logical_and(arr1 > 0, arr2 > 4))\n",
    "# ➤ [False True True]\n",
    "# Logical OR\n",
    "print(\"Logical OR:\", np.logical_or(arr1 > 2, arr2 > 5))\n",
    "# ➤ [False False True]\n",
    "# Logical NOT\n",
    "print(\"Logical NOT arr1 > 2:\", np.logical_not(arr1 > 2))\n",
    "# ➤ [ True True False]"
   ]
  },
  {
   "cell_type": "markdown",
   "id": "199b1b38-8390-464c-8da7-0f8b3d6e919b",
   "metadata": {},
   "source": [
    "<h2 style=\"text-align: center;\">Section 6 – NumPy Built-in Functions</h2>"
   ]
  },
  {
   "cell_type": "markdown",
   "id": "ea413cb1-31b3-4282-9fce-f51160777b09",
   "metadata": {},
   "source": [
    "NumPy comes with many powerful built-in functions that simplify numeric computation.\n",
    "    \n",
    "We’ll explore:\n",
    "- Aggregation functions like sum() , min() , max() , mean() , std()\n",
    "- Axis-specific operations\n",
    "- Rounding, exponentials, and square roots"
   ]
  },
  {
   "cell_type": "code",
   "execution_count": 56,
   "id": "49721a93-e923-4844-8312-e6e74d15a139",
   "metadata": {},
   "outputs": [
    {
     "name": "stdout",
     "output_type": "stream",
     "text": [
      "Sum of all elements: 21\n",
      "Minimum value: 1\n",
      "Maximum value: 6\n",
      "Mean value: 3.5\n",
      "Standard deviation: 1.707825127659933\n"
     ]
    }
   ],
   "source": [
    "# aggregation functions like `sum()`, `min()`, `max()`, `mean()`, `std()`\n",
    "# Aggregation functions are used to compute summary statistics over arrays.\n",
    "arr = np.array([[1, 2, 3], [4, 5, 6]])\n",
    "print(\"Sum of all elements:\", np.sum(arr)) # ➤ 21\n",
    "print(\"Minimum value:\", np.min(arr)) # ➤ 1\n",
    "print(\"Maximum value:\", np.max(arr)) # ➤ 6\n",
    "print(\"Mean value:\", np.mean(arr)) # ➤ 3.5\n",
    "print(\"Standard deviation:\", np.std(arr))"
   ]
  },
  {
   "cell_type": "code",
   "execution_count": 57,
   "id": "69646fe2-33cd-403f-b480-e72c8956778e",
   "metadata": {},
   "outputs": [
    {
     "name": "stdout",
     "output_type": "stream",
     "text": [
      "Row-wise sum: [ 6 15]\n",
      "Column-wise sum: [5 7 9]\n"
     ]
    }
   ],
   "source": [
    "print(\"Row-wise sum:\", np.sum(arr, axis=1)) # ➤ [ 6 15]\n",
    "print(\"Column-wise sum:\", np.sum(arr, axis=0)) # ➤ [5 7 9]"
   ]
  },
  {
   "cell_type": "code",
   "execution_count": 58,
   "id": "65051240-b84a-44ca-bd56-98955eef8131",
   "metadata": {},
   "outputs": [
    {
     "name": "stdout",
     "output_type": "stream",
     "text": [
      "Rounded values: [1. 2. 4.]\n",
      "Square roots: [1.09544512 1.58113883 1.92353841]\n",
      "Exponentials: [ 3.32011692 12.18249396 40.44730436]\n"
     ]
    }
   ],
   "source": [
    "arr = np.array([1.2, 2.5, 3.7])\n",
    "print(\"Rounded values:\", np.round(arr)) # ➤ [1. 2. 4.]\n",
    "print(\"Square roots:\", np.sqrt(arr)) # ➤ [1.095 1.581 1.923]\n",
    "print(\"Exponentials:\", np.exp(arr)) # ➤ [ 3.32 12.18 40.45]"
   ]
  },
  {
   "cell_type": "code",
   "execution_count": 59,
   "id": "e40d50b6-5797-4972-950f-bbf1968aaceb",
   "metadata": {},
   "outputs": [
    {
     "data": {
      "text/plain": [
       "array([0, 1, 2, 3, 4, 5])"
      ]
     },
     "execution_count": 59,
     "metadata": {},
     "output_type": "execute_result"
    }
   ],
   "source": [
    "arr"
   ]
  },
  {
   "cell_type": "code",
   "execution_count": 60,
   "id": "320b33f6-e7ae-4499-95b3-a22f9697bdba",
   "metadata": {},
   "outputs": [
    {
     "data": {
      "text/plain": [
       "5"
      ]
     },
     "execution_count": 60,
     "metadata": {},
     "output_type": "execute_result"
    }
   ],
   "source": [
    "arr.max()"
   ]
  },
  {
   "cell_type": "code",
   "execution_count": 61,
   "id": "5296948f-296f-45b2-bc77-1a3ec6db8419",
   "metadata": {},
   "outputs": [
    {
     "data": {
      "text/plain": [
       "0"
      ]
     },
     "execution_count": 61,
     "metadata": {},
     "output_type": "execute_result"
    }
   ],
   "source": [
    "arr.min()"
   ]
  },
  {
   "cell_type": "markdown",
   "id": "9df87aaa-9069-4a2d-9f71-5a1dd8508f0c",
   "metadata": {},
   "source": [
    "#### find mean, median "
   ]
  },
  {
   "cell_type": "code",
   "execution_count": 62,
   "id": "68e2edb1-d633-4aa8-9474-1bdaae81b565",
   "metadata": {},
   "outputs": [
    {
     "data": {
      "text/plain": [
       "3.0"
      ]
     },
     "execution_count": 62,
     "metadata": {},
     "output_type": "execute_result"
    }
   ],
   "source": [
    "from numpy import *  # 256 function called internally\n",
    "a=array([1,2,3,4,9,])\n",
    "median(a)"
   ]
  },
  {
   "cell_type": "code",
   "execution_count": 63,
   "id": "13e4e692-ea4a-49bd-a876-034ccae119e2",
   "metadata": {},
   "outputs": [
    {
     "data": {
      "text/plain": [
       "3.8"
      ]
     },
     "execution_count": 63,
     "metadata": {},
     "output_type": "execute_result"
    }
   ],
   "source": [
    "mean(a)"
   ]
  },
  {
   "cell_type": "markdown",
   "id": "deb1d51c-30ca-4dcc-9365-4375dde5eb7c",
   "metadata": {},
   "source": [
    "**Note**\n",
    "- arr[2:10] - print the row from 2nd row to 9th row\n",
    "- 2nd - starting index\n",
    "- 10th - end index\n",
    "- arr[2,10] - print specific no. not row which 2nd row and 10th col"
   ]
  },
  {
   "cell_type": "markdown",
   "id": "e86ca5bf-2d73-4d7b-95eb-fdc6d9d4b014",
   "metadata": {},
   "source": [
    "#### Indexing in numpy"
   ]
  },
  {
   "cell_type": "code",
   "execution_count": 65,
   "id": "25dd7207-e3f8-427a-b318-18f726375214",
   "metadata": {},
   "outputs": [
    {
     "data": {
      "text/plain": [
       "array([[ 0,  1,  2,  3,  4,  5,  6,  7,  8,  9],\n",
       "       [10, 11, 12, 13, 14, 15, 16, 17, 18, 19],\n",
       "       [20, 21, 22, 23, 24, 25, 26, 27, 28, 29],\n",
       "       [30, 31, 32, 33, 34, 35, 36, 37, 38, 39],\n",
       "       [40, 41, 42, 43, 44, 45, 46, 47, 48, 49],\n",
       "       [50, 51, 52, 53, 54, 55, 56, 57, 58, 59],\n",
       "       [60, 61, 62, 63, 64, 65, 66, 67, 68, 69],\n",
       "       [70, 71, 72, 73, 74, 75, 76, 77, 78, 79],\n",
       "       [80, 81, 82, 83, 84, 85, 86, 87, 88, 89],\n",
       "       [90, 91, 92, 93, 94, 95, 96, 97, 98, 99]])"
      ]
     },
     "execution_count": 65,
     "metadata": {},
     "output_type": "execute_result"
    }
   ],
   "source": [
    "mat=np.arange(0,100).reshape(10,10)\n",
    "mat"
   ]
  },
  {
   "cell_type": "code",
   "execution_count": 72,
   "id": "22b48a2f-5795-41c6-a5cd-78d520654010",
   "metadata": {},
   "outputs": [],
   "source": [
    "row=4\n",
    "col=5"
   ]
  },
  {
   "cell_type": "code",
   "execution_count": 73,
   "id": "4b1db531-191a-483b-9374-f097eeeb84d9",
   "metadata": {},
   "outputs": [
    {
     "data": {
      "text/plain": [
       "5"
      ]
     },
     "execution_count": 73,
     "metadata": {},
     "output_type": "execute_result"
    }
   ],
   "source": [
    "col"
   ]
  },
  {
   "cell_type": "code",
   "execution_count": 74,
   "id": "52b59148-dbc2-489c-a5f9-6cf8ceb4ab96",
   "metadata": {},
   "outputs": [
    {
     "data": {
      "text/plain": [
       "4"
      ]
     },
     "execution_count": 74,
     "metadata": {},
     "output_type": "execute_result"
    }
   ],
   "source": [
    "row"
   ]
  },
  {
   "cell_type": "code",
   "execution_count": 75,
   "id": "fe26c039-69ca-4f3c-afeb-1452ac31a8c9",
   "metadata": {},
   "outputs": [
    {
     "data": {
      "text/plain": [
       "45"
      ]
     },
     "execution_count": 75,
     "metadata": {},
     "output_type": "execute_result"
    }
   ],
   "source": [
    "mat[row,col]"
   ]
  },
  {
   "cell_type": "code",
   "execution_count": 76,
   "id": "307a0d06-3f3f-4fc4-bad3-4460457c3cab",
   "metadata": {},
   "outputs": [],
   "source": [
    "row=4\n",
    "col=6"
   ]
  },
  {
   "cell_type": "code",
   "execution_count": 78,
   "id": "06908122-22a9-4f3d-86c3-1e6ebfd8d453",
   "metadata": {},
   "outputs": [
    {
     "data": {
      "text/plain": [
       "46"
      ]
     },
     "execution_count": 78,
     "metadata": {},
     "output_type": "execute_result"
    }
   ],
   "source": [
    "mat[row,col]"
   ]
  },
  {
   "cell_type": "code",
   "execution_count": 82,
   "id": "8488d49e-9e8d-4d1b-a63e-3dab2c0a135c",
   "metadata": {},
   "outputs": [
    {
     "data": {
      "text/plain": [
       "array([[ 0,  1,  2,  3,  4,  5,  6,  7,  8,  9],\n",
       "       [10, 11, 12, 13, 14, 15, 16, 17, 18, 19],\n",
       "       [20, 21, 22, 23, 24, 25, 26, 27, 28, 29],\n",
       "       [30, 31, 32, 33, 34, 35, 36, 37, 38, 39],\n",
       "       [40, 41, 42, 43, 44, 45, 46, 47, 48, 49],\n",
       "       [50, 51, 52, 53, 54, 55, 56, 57, 58, 59],\n",
       "       [60, 61, 62, 63, 64, 65, 66, 67, 68, 69],\n",
       "       [70, 71, 72, 73, 74, 75, 76, 77, 78, 79],\n",
       "       [80, 81, 82, 83, 84, 85, 86, 87, 88, 89],\n",
       "       [90, 91, 92, 93, 94, 95, 96, 97, 98, 99]])"
      ]
     },
     "execution_count": 82,
     "metadata": {},
     "output_type": "execute_result"
    }
   ],
   "source": [
    "mat"
   ]
  },
  {
   "cell_type": "code",
   "execution_count": 79,
   "id": "e78ab962-4568-47c9-9040-7e393e4c3d20",
   "metadata": {},
   "outputs": [
    {
     "data": {
      "text/plain": [
       "array([10, 11, 12, 13, 14, 15, 16, 17, 18, 19])"
      ]
     },
     "execution_count": 79,
     "metadata": {},
     "output_type": "execute_result"
    }
   ],
   "source": [
    "mat[1]"
   ]
  },
  {
   "cell_type": "code",
   "execution_count": 80,
   "id": "14f1d65b-cac4-4966-9af7-71fe366433a5",
   "metadata": {},
   "outputs": [
    {
     "data": {
      "text/plain": [
       "array([ 6, 16, 26, 36, 46, 56, 66, 76, 86, 96])"
      ]
     },
     "execution_count": 80,
     "metadata": {},
     "output_type": "execute_result"
    }
   ],
   "source": [
    "mat[:,col]"
   ]
  },
  {
   "cell_type": "code",
   "execution_count": 81,
   "id": "66eb830e-5cbd-47ec-a44d-7fbf02ce9ac4",
   "metadata": {},
   "outputs": [
    {
     "data": {
      "text/plain": [
       "array([ 3, 13, 23, 33, 43, 53, 63, 73, 83, 93])"
      ]
     },
     "execution_count": 81,
     "metadata": {},
     "output_type": "execute_result"
    }
   ],
   "source": [
    "mat[:,3]"
   ]
  },
  {
   "cell_type": "code",
   "execution_count": 83,
   "id": "6d51154b-a279-425e-a318-3b3bca7bbfd7",
   "metadata": {},
   "outputs": [
    {
     "data": {
      "text/plain": [
       "array([30, 31, 32, 33, 34, 35, 36, 37, 38, 39])"
      ]
     },
     "execution_count": 83,
     "metadata": {},
     "output_type": "execute_result"
    }
   ],
   "source": [
    "mat[3]"
   ]
  },
  {
   "cell_type": "code",
   "execution_count": 84,
   "id": "4848fc19-6e35-4cd0-a64e-548a612568bd",
   "metadata": {},
   "outputs": [
    {
     "data": {
      "text/plain": [
       "array([[ 0,  1,  2,  3,  4,  5,  6,  7,  8,  9],\n",
       "       [10, 11, 12, 13, 14, 15, 16, 17, 18, 19],\n",
       "       [20, 21, 22, 23, 24, 25, 26, 27, 28, 29],\n",
       "       [30, 31, 32, 33, 34, 35, 36, 37, 38, 39],\n",
       "       [40, 41, 42, 43, 44, 45, 46, 47, 48, 49],\n",
       "       [50, 51, 52, 53, 54, 55, 56, 57, 58, 59],\n",
       "       [60, 61, 62, 63, 64, 65, 66, 67, 68, 69],\n",
       "       [70, 71, 72, 73, 74, 75, 76, 77, 78, 79],\n",
       "       [80, 81, 82, 83, 84, 85, 86, 87, 88, 89],\n",
       "       [90, 91, 92, 93, 94, 95, 96, 97, 98, 99]])"
      ]
     },
     "execution_count": 84,
     "metadata": {},
     "output_type": "execute_result"
    }
   ],
   "source": [
    "mat"
   ]
  },
  {
   "cell_type": "code",
   "execution_count": 85,
   "id": "0e9c80a1-ca09-45af-9ba6-46973c8da87b",
   "metadata": {},
   "outputs": [
    {
     "data": {
      "text/plain": [
       "array([[90, 91, 92, 93, 94, 95, 96, 97, 98, 99],\n",
       "       [80, 81, 82, 83, 84, 85, 86, 87, 88, 89],\n",
       "       [70, 71, 72, 73, 74, 75, 76, 77, 78, 79],\n",
       "       [60, 61, 62, 63, 64, 65, 66, 67, 68, 69],\n",
       "       [50, 51, 52, 53, 54, 55, 56, 57, 58, 59],\n",
       "       [40, 41, 42, 43, 44, 45, 46, 47, 48, 49],\n",
       "       [30, 31, 32, 33, 34, 35, 36, 37, 38, 39],\n",
       "       [20, 21, 22, 23, 24, 25, 26, 27, 28, 29],\n",
       "       [10, 11, 12, 13, 14, 15, 16, 17, 18, 19],\n",
       "       [ 0,  1,  2,  3,  4,  5,  6,  7,  8,  9]])"
      ]
     },
     "execution_count": 85,
     "metadata": {},
     "output_type": "execute_result"
    }
   ],
   "source": [
    "mat[::-1]  # reverse the matrix"
   ]
  },
  {
   "cell_type": "code",
   "execution_count": 86,
   "id": "ceba7663-2ad5-43da-ac37-64c4e5f7edd0",
   "metadata": {},
   "outputs": [
    {
     "data": {
      "text/plain": [
       "array([[90, 91, 92, 93, 94, 95, 96, 97, 98, 99],\n",
       "       [70, 71, 72, 73, 74, 75, 76, 77, 78, 79],\n",
       "       [50, 51, 52, 53, 54, 55, 56, 57, 58, 59],\n",
       "       [30, 31, 32, 33, 34, 35, 36, 37, 38, 39],\n",
       "       [10, 11, 12, 13, 14, 15, 16, 17, 18, 19]])"
      ]
     },
     "execution_count": 86,
     "metadata": {},
     "output_type": "execute_result"
    }
   ],
   "source": [
    "mat[::-2] # step 2 "
   ]
  },
  {
   "cell_type": "code",
   "execution_count": 88,
   "id": "5fc7835c-c249-42b6-baf8-a8d42dfe1c67",
   "metadata": {},
   "outputs": [
    {
     "data": {
      "text/plain": [
       "array([[ 0,  1,  2,  3,  4,  5,  6,  7,  8,  9],\n",
       "       [10, 11, 12, 13, 14, 15, 16, 17, 18, 19],\n",
       "       [20, 21, 22, 23, 24, 25, 26, 27, 28, 29],\n",
       "       [30, 31, 32, 33, 34, 35, 36, 37, 38, 39],\n",
       "       [40, 41, 42, 43, 44, 45, 46, 47, 48, 49],\n",
       "       [50, 51, 52, 53, 54, 55, 56, 57, 58, 59],\n",
       "       [60, 61, 62, 63, 64, 65, 66, 67, 68, 69],\n",
       "       [70, 71, 72, 73, 74, 75, 76, 77, 78, 79],\n",
       "       [80, 81, 82, 83, 84, 85, 86, 87, 88, 89],\n",
       "       [90, 91, 92, 93, 94, 95, 96, 97, 98, 99]])"
      ]
     },
     "execution_count": 88,
     "metadata": {},
     "output_type": "execute_result"
    }
   ],
   "source": [
    "mat"
   ]
  },
  {
   "cell_type": "code",
   "execution_count": 87,
   "id": "3e6a69aa-5d00-4042-8d27-6edfa0773eaf",
   "metadata": {},
   "outputs": [
    {
     "data": {
      "text/plain": [
       "array([[22, 23],\n",
       "       [32, 33],\n",
       "       [42, 43],\n",
       "       [52, 53]])"
      ]
     },
     "execution_count": 87,
     "metadata": {},
     "output_type": "execute_result"
    }
   ],
   "source": [
    "mat[2:6,2:4]  #(row,col)(2:6,2:4)"
   ]
  },
  {
   "cell_type": "code",
   "execution_count": 89,
   "id": "f1737041-5c2d-4194-b32c-f2635269ff45",
   "metadata": {},
   "outputs": [
    {
     "data": {
      "text/plain": [
       "array([[12, 13]])"
      ]
     },
     "execution_count": 89,
     "metadata": {},
     "output_type": "execute_result"
    }
   ],
   "source": [
    "mat[1:2,2:4]"
   ]
  },
  {
   "cell_type": "code",
   "execution_count": 90,
   "id": "22a9841c-9e5f-447d-9248-dd1d3665b3d8",
   "metadata": {},
   "outputs": [
    {
     "data": {
      "text/plain": [
       "array([[32, 33],\n",
       "       [42, 43]])"
      ]
     },
     "execution_count": 90,
     "metadata": {},
     "output_type": "execute_result"
    }
   ],
   "source": [
    "mat[3:5,2:4]"
   ]
  },
  {
   "cell_type": "markdown",
   "id": "b21c54eb-8be5-43da-9251-70feb0fa81f6",
   "metadata": {},
   "source": [
    "#### Masking or filter"
   ]
  },
  {
   "cell_type": "code",
   "execution_count": 91,
   "id": "6fe1f319-f983-4647-a832-4348d1235e6c",
   "metadata": {},
   "outputs": [
    {
     "data": {
      "text/plain": [
       "array([[ 0,  1,  2,  3,  4,  5,  6,  7,  8,  9],\n",
       "       [10, 11, 12, 13, 14, 15, 16, 17, 18, 19],\n",
       "       [20, 21, 22, 23, 24, 25, 26, 27, 28, 29],\n",
       "       [30, 31, 32, 33, 34, 35, 36, 37, 38, 39],\n",
       "       [40, 41, 42, 43, 44, 45, 46, 47, 48, 49],\n",
       "       [50, 51, 52, 53, 54, 55, 56, 57, 58, 59],\n",
       "       [60, 61, 62, 63, 64, 65, 66, 67, 68, 69],\n",
       "       [70, 71, 72, 73, 74, 75, 76, 77, 78, 79],\n",
       "       [80, 81, 82, 83, 84, 85, 86, 87, 88, 89],\n",
       "       [90, 91, 92, 93, 94, 95, 96, 97, 98, 99]])"
      ]
     },
     "execution_count": 91,
     "metadata": {},
     "output_type": "execute_result"
    }
   ],
   "source": [
    "mat"
   ]
  },
  {
   "cell_type": "code",
   "execution_count": 94,
   "id": "d1e1ce73-cdb8-473b-965f-86d9bffd6d07",
   "metadata": {},
   "outputs": [
    {
     "data": {
      "text/plain": [
       "array([[False, False, False, False, False, False, False, False, False,\n",
       "        False],\n",
       "       [False, False, False, False, False, False, False, False, False,\n",
       "        False],\n",
       "       [False, False, False, False, False, False, False, False, False,\n",
       "        False],\n",
       "       [False, False, False, False, False, False, False, False, False,\n",
       "        False],\n",
       "       [False, False, False, False, False, False, False, False, False,\n",
       "        False],\n",
       "       [False,  True,  True,  True,  True,  True,  True,  True,  True,\n",
       "         True],\n",
       "       [ True,  True,  True,  True,  True,  True,  True,  True,  True,\n",
       "         True],\n",
       "       [ True,  True,  True,  True,  True,  True,  True,  True,  True,\n",
       "         True],\n",
       "       [ True,  True,  True,  True,  True,  True,  True,  True,  True,\n",
       "         True],\n",
       "       [ True,  True,  True,  True,  True,  True,  True,  True,  True,\n",
       "         True]])"
      ]
     },
     "execution_count": 94,
     "metadata": {},
     "output_type": "execute_result"
    }
   ],
   "source": [
    "mat>50"
   ]
  },
  {
   "cell_type": "code",
   "execution_count": 95,
   "id": "552c1b24-a72c-4106-97ef-aba7d23ab5d6",
   "metadata": {},
   "outputs": [
    {
     "data": {
      "text/plain": [
       "array([51, 52, 53, 54, 55, 56, 57, 58, 59, 60, 61, 62, 63, 64, 65, 66, 67,\n",
       "       68, 69, 70, 71, 72, 73, 74, 75, 76, 77, 78, 79, 80, 81, 82, 83, 84,\n",
       "       85, 86, 87, 88, 89, 90, 91, 92, 93, 94, 95, 96, 97, 98, 99])"
      ]
     },
     "execution_count": 95,
     "metadata": {},
     "output_type": "execute_result"
    }
   ],
   "source": [
    "mat[mat>50]"
   ]
  },
  {
   "cell_type": "code",
   "execution_count": 96,
   "id": "70fcc4ce-e253-42b2-9a75-94454f8dd94c",
   "metadata": {},
   "outputs": [
    {
     "data": {
      "text/plain": [
       "array([50])"
      ]
     },
     "execution_count": 96,
     "metadata": {},
     "output_type": "execute_result"
    }
   ],
   "source": [
    "mat[mat==50]"
   ]
  },
  {
   "cell_type": "code",
   "execution_count": 97,
   "id": "176373c3-d7fd-4538-ad6a-603fe48e34cb",
   "metadata": {},
   "outputs": [
    {
     "data": {
      "text/plain": [
       "array([ 0,  1,  2,  3,  4,  5,  6,  7,  8,  9, 10, 11, 12, 13, 14, 15, 16,\n",
       "       17, 18, 19, 20, 21, 22, 23, 24, 25, 26, 27, 28, 29, 30, 31, 32, 33,\n",
       "       34, 35, 36, 37, 38, 39, 40, 41, 42, 43, 44, 45, 46, 47, 48, 49, 51,\n",
       "       52, 53, 54, 55, 56, 57, 58, 59, 60, 61, 62, 63, 64, 65, 66, 67, 68,\n",
       "       69, 70, 71, 72, 73, 74, 75, 76, 77, 78, 79, 80, 81, 82, 83, 84, 85,\n",
       "       86, 87, 88, 89, 90, 91, 92, 93, 94, 95, 96, 97, 98, 99])"
      ]
     },
     "execution_count": 97,
     "metadata": {},
     "output_type": "execute_result"
    }
   ],
   "source": [
    "mat[mat!=50]  # print all numbers except 50"
   ]
  },
  {
   "cell_type": "code",
   "execution_count": 1,
   "id": "4a7540ae-89fe-456e-8e48-90884d1b5152",
   "metadata": {},
   "outputs": [
    {
     "name": "stdout",
     "output_type": "stream",
     "text": [
      "2\n"
     ]
    }
   ],
   "source": [
    "print(True*2)"
   ]
  },
  {
   "cell_type": "code",
   "execution_count": 2,
   "id": "658f88b2-1d4c-4c41-aa65-d565e114a47c",
   "metadata": {},
   "outputs": [
    {
     "ename": "TypeError",
     "evalue": "cannot convert dictionary update sequence element #0 to a sequence",
     "output_type": "error",
     "traceback": [
      "\u001b[1;31m---------------------------------------------------------------------------\u001b[0m",
      "\u001b[1;31mTypeError\u001b[0m                                 Traceback (most recent call last)",
      "Cell \u001b[1;32mIn[2], line 1\u001b[0m\n\u001b[1;32m----> 1\u001b[0m \u001b[38;5;28mdict\u001b[39m(\u001b[38;5;28mrange\u001b[39m(\u001b[38;5;241m9\u001b[39m))\n",
      "\u001b[1;31mTypeError\u001b[0m: cannot convert dictionary update sequence element #0 to a sequence"
     ]
    }
   ],
   "source": [
    "dict(range(9)) "
   ]
  },
  {
   "cell_type": "code",
   "execution_count": 5,
   "id": "a9953065-c91f-421e-8121-5f77e6a77898",
   "metadata": {},
   "outputs": [
    {
     "data": {
      "text/plain": [
       "()"
      ]
     },
     "execution_count": 5,
     "metadata": {},
     "output_type": "execute_result"
    }
   ],
   "source": [
    "obj_data = ()\n",
    "obj_data"
   ]
  },
  {
   "cell_type": "markdown",
   "id": "21690df2-03f5-4e26-a052-b3cd76b49f29",
   "metadata": {},
   "source": [
    "<h2 style=\"text-align: center;\">Section 7 – Array Copying & Views</h2>"
   ]
  },
  {
   "cell_type": "markdown",
   "id": "f32efda6-099d-4861-b961-fde2c79d97d6",
   "metadata": {},
   "source": [
    "In NumPy, assignment doesn’t create a new copy of an array &#8594; it creates a view\n",
    "(reference).To truly copy an array, use the `.copy()` method.\n",
    "We'll explore:\n",
    "- Difference between `views` and `copies`\n",
    "- How modifying one affects the other"
   ]
  },
  {
   "cell_type": "code",
   "execution_count": 59,
   "id": "cf036e39-3eae-4f3d-b718-7b2efc32e343",
   "metadata": {},
   "outputs": [
    {
     "name": "stdout",
     "output_type": "stream",
     "text": [
      "Original after modifying view: [99 20 30]\n"
     ]
    }
   ],
   "source": [
    "original = np.array([10, 20, 30])\n",
    "view = original # No copy, just a reference\n",
    "view[0] = 99\n",
    "print(\"Original after modifying view:\", original) # ➤ [99 20 30]"
   ]
  },
  {
   "cell_type": "code",
   "execution_count": 60,
   "id": "928fd420-eec2-4129-a533-02556a12d65f",
   "metadata": {},
   "outputs": [
    {
     "name": "stdout",
     "output_type": "stream",
     "text": [
      "Original after modifying copy: [10 20 30]\n",
      "Modified copy: [999  20  30]\n"
     ]
    }
   ],
   "source": [
    "original = np.array([10, 20, 30])\n",
    "copy_array = original.copy()\n",
    "copy_array[0] = 999\n",
    "print(\"Original after modifying copy:\", original) # ➤ [10 20 30]\n",
    "print(\"Modified copy:\", copy_array) # ➤ [999 20 30]"
   ]
  },
  {
   "cell_type": "code",
   "execution_count": 61,
   "id": "beab67a8-e747-4dbf-b6d7-fdfa57f08d1e",
   "metadata": {},
   "outputs": [
    {
     "name": "stdout",
     "output_type": "stream",
     "text": [
      "Original 2D:\n",
      " [[1 2]\n",
      " [3 4]]\n",
      "Copied 2D:\n",
      " [[99  2]\n",
      " [ 3  4]]\n"
     ]
    }
   ],
   "source": [
    "arr_2d = np.array([[1, 2], [3, 4]])\n",
    "copy_2d = arr_2d.copy()\n",
    "copy_2d[0, 0] = 99\n",
    "print(\"Original 2D:\\n\", arr_2d) # ➤ [[1 2], [3 4]]\n",
    "print(\"Copied 2D:\\n\", copy_2d) # ➤ [[99 2], [3 4]]"
   ]
  },
  {
   "cell_type": "markdown",
   "id": "e2d4039c-525f-44f8-82a8-8b32416a8d46",
   "metadata": {},
   "source": [
    "<h2 style=\"text-align:center;\">Section 8 – Reshape, Flatten & Transpose</h2>"
   ]
  },
  {
   "cell_type": "markdown",
   "id": "11539fb8-2244-4df5-940a-3a9ea3435b77",
   "metadata": {},
   "source": [
    "NumPy arrays offer powerful ways to manipulate their structure without changing\n",
    "data:\n",
    "- `reshape()` changes shape\n",
    "- `flatten()` converts multi-D to 1D\n",
    "- `transpose()` swaps axes (rows ↔ columns)"
   ]
  },
  {
   "cell_type": "code",
   "execution_count": 62,
   "id": "4571c9fd-8fe9-43ff-9569-c96856e17de9",
   "metadata": {},
   "outputs": [
    {
     "name": "stdout",
     "output_type": "stream",
     "text": [
      "Original: [1 2 3 4 5 6]\n",
      "Reshaped:\n",
      " [[1 2 3]\n",
      " [4 5 6]]\n"
     ]
    }
   ],
   "source": [
    "arr = np.array([1, 2, 3, 4, 5, 6])\n",
    "reshaped = arr.reshape(2, 3) # Convert 1D to 2x3 2D array\n",
    "print(\"Original:\", arr)\n",
    "# ➤ [1 2 3 4 5 6]\n",
    "print(\"Reshaped:\\n\", reshaped)\n",
    "# ➤ [[1 2 3]\n",
    "# [4 5 6]]"
   ]
  },
  {
   "cell_type": "code",
   "execution_count": 63,
   "id": "71bdb75b-80d5-4d0e-a9ce-ba9ca012e62a",
   "metadata": {},
   "outputs": [
    {
     "name": "stdout",
     "output_type": "stream",
     "text": [
      "Flattened array: [10 20 30 40]\n"
     ]
    }
   ],
   "source": [
    "arr_2d = np.array([[10, 20], [30, 40]])\n",
    "flat = arr_2d.flatten()\n",
    "print(\"Flattened array:\", flat)\n",
    "# ➤ [10 20 30 40]"
   ]
  },
  {
   "cell_type": "code",
   "execution_count": 64,
   "id": "32a21c2a-2de0-4b5c-9aaf-283a0ad9f9fa",
   "metadata": {},
   "outputs": [
    {
     "name": "stdout",
     "output_type": "stream",
     "text": [
      "Original:\n",
      " [[1 2 3]\n",
      " [4 5 6]]\n",
      "Transposed:\n",
      " [[1 4]\n",
      " [2 5]\n",
      " [3 6]]\n"
     ]
    }
   ],
   "source": [
    "arr_2d = np.array([[1, 2, 3], [4, 5, 6]])\n",
    "transposed = arr_2d.T\n",
    "print(\"Original:\\n\", arr_2d)\n",
    "# ➤ [[1 2 3]\n",
    "# [4 5 6]]\n",
    "print(\"Transposed:\\n\", transposed)\n",
    "# ➤ [[1 4]\n",
    "# [2 5]\n",
    "# [3 6]]"
   ]
  },
  {
   "cell_type": "markdown",
   "id": "ee948841-bb41-471b-ab22-1970a367dfdb",
   "metadata": {},
   "source": [
    "<h2 style=\"text-align:center;\">Section 9 – Stacking and Splitting Arrays</h2>"
   ]
  },
  {
   "cell_type": "markdown",
   "id": "406d8a2f-5b61-4137-ab93-d3ec85b2401d",
   "metadata": {},
   "source": [
    "NumPy allows combining and breaking arrays using functions like:\n",
    "- `hstack()` → horizontal stacking\n",
    "- `vstack()` → vertical stacking\n",
    "- `split()` / hsplit() / vsplit() → for breaking arrays"
   ]
  },
  {
   "cell_type": "code",
   "execution_count": 65,
   "id": "aa1b8d8c-7bdb-44ba-8d02-86deaec162d9",
   "metadata": {},
   "outputs": [
    {
     "name": "stdout",
     "output_type": "stream",
     "text": [
      "Horizontal Stack: [1 2 3 4 5 6]\n",
      "Vertical Stack:\n",
      " [[1 2 3]\n",
      " [4 5 6]]\n"
     ]
    }
   ],
   "source": [
    "a = np.array([1, 2, 3])\n",
    "b = np.array([4, 5, 6])\n",
    "# Horizontal stack (1D arrays become wider)\n",
    "h = np.hstack((a, b))\n",
    "print(\"Horizontal Stack:\", h)\n",
    "# ➤ [1 2 3 4 5 6]\n",
    "# Vertical stack (1D arrays become rows)\n",
    "v = np.vstack((a, b))\n",
    "print(\"Vertical Stack:\\n\", v)\n",
    "# ➤ [[1 2 3]\n",
    "# [4 5 6]]"
   ]
  },
  {
   "cell_type": "code",
   "execution_count": 66,
   "id": "192ac2e0-6abe-4475-8013-f26ddcf5faca",
   "metadata": {},
   "outputs": [
    {
     "name": "stdout",
     "output_type": "stream",
     "text": [
      "Stacked along depth (axis=2):\n",
      " [[[1 5]\n",
      "  [2 6]]\n",
      "\n",
      " [[3 7]\n",
      "  [4 8]]]\n"
     ]
    }
   ],
   "source": [
    "x = np.array([[1, 2], [3, 4]])\n",
    "y = np.array([[5, 6], [7, 8]])\n",
    "# Stack along a new third axis\n",
    "print(\"Stacked along depth (axis=2):\\n\", np.dstack((x, y)))\n",
    "# ➤ [[[1 5]\n",
    "# [2 6]]\n",
    "# [[3 7]\n",
    "# [4 8]]]"
   ]
  },
  {
   "cell_type": "code",
   "execution_count": 67,
   "id": "e5bdc989-1b0f-40a9-a839-7a33b185e373",
   "metadata": {},
   "outputs": [
    {
     "name": "stdout",
     "output_type": "stream",
     "text": [
      "Split into 3 parts: [array([10, 20]), array([30, 40]), array([50, 60])]\n"
     ]
    }
   ],
   "source": [
    "arr = np.array([10, 20, 30, 40, 50, 60])\n",
    "splitted = np.split(arr, 3)\n",
    "print(\"Split into 3 parts:\", splitted)\n",
    "# ➤ [array([10, 20]), array([30, 40]), array([50, 60])]"
   ]
  },
  {
   "cell_type": "markdown",
   "id": "56815584-ffd0-4d22-af52-0650f90d6e88",
   "metadata": {},
   "source": [
    "<h2 style=\"text-align:center;\">Section 10 – NumPy Random Module</h2>"
   ]
  },
  {
   "cell_type": "markdown",
   "id": "ba8d4a42-ab8e-4bb5-abd2-7b160b114736",
   "metadata": {},
   "source": [
    "NumPy provides a submodule called numpy.random to generate random numbers.\n",
    "We’ll cover:\n",
    "- Generating random integers, floats\n",
    "- Random sampling from arrays\n",
    "- Seeding for reproducibility"
   ]
  },
  {
   "cell_type": "code",
   "execution_count": 69,
   "id": "db748d2c-70a5-43ec-b799-8dcbd05bca18",
   "metadata": {},
   "outputs": [
    {
     "name": "stdout",
     "output_type": "stream",
     "text": [
      "Random Integers: [8 9 2 1 4]\n",
      "Random Floats: [0.90134711 0.00275449 0.34368769]\n"
     ]
    }
   ],
   "source": [
    "# Random integers between 1 and 10 (excluding 10)\n",
    "rand_ints = np.random.randint(1, 10, size=5)\n",
    "print(\"Random Integers:\", rand_ints)\n",
    "# ➤ e.g., [2 7 1 4 9]\n",
    "# Random floats between 0 and 1\n",
    "rand_floats = np.random.rand(3)\n",
    "print(\"Random Floats:\", rand_floats)\n",
    "# ➤ e.g., [0.12 0.64 0.78]"
   ]
  },
  {
   "cell_type": "code",
   "execution_count": 70,
   "id": "4a94f294-5038-4562-bea4-1c08473b19a5",
   "metadata": {},
   "outputs": [
    {
     "name": "stdout",
     "output_type": "stream",
     "text": [
      "Random sample: [500 500 300]\n"
     ]
    }
   ],
   "source": [
    "arr = np.array([100, 200, 300, 400, 500])\n",
    "sample = np.random.choice(arr, size=3)\n",
    "print(\"Random sample:\", sample)\n",
    "# ➤ e.g., [200 500 100]"
   ]
  },
  {
   "cell_type": "code",
   "execution_count": 71,
   "id": "82b150e4-66a2-473c-9818-e7e6876bf88c",
   "metadata": {},
   "outputs": [
    {
     "name": "stdout",
     "output_type": "stream",
     "text": [
      "Same output every time: [0.37454012 0.95071431 0.73199394]\n"
     ]
    }
   ],
   "source": [
    "np.random.seed(42)\n",
    "print(\"Same output every time:\", np.random.rand(3))\n",
    "# ➤ [0.3745 0.9507 0.7319] – fixed due to seed"
   ]
  },
  {
   "cell_type": "markdown",
   "id": "75ee8dcf-6a5a-4687-bd63-bc0c131de48a",
   "metadata": {},
   "source": [
    "<h2 style=\"text-align:center;\">Section 11 – NumPy Math & Utility Functions</h2>"
   ]
  },
  {
   "cell_type": "markdown",
   "id": "4e4fdcfb-63d5-438a-8b35-66ef798aab4b",
   "metadata": {},
   "source": [
    "NumPy provides many built-in math and utility functions, including:\n",
    "- `np.sqrt()` , `np.exp()` , `np.log()` , `np.sin()` , `np.cos()`\n",
    "- `np.unique()` , `np.sort()` , `np.where()` , `np.count_nonzero()`"
   ]
  },
  {
   "cell_type": "code",
   "execution_count": 73,
   "id": "12a534f6-0a80-4ace-8ed6-3040d846943d",
   "metadata": {},
   "outputs": [
    {
     "name": "stdout",
     "output_type": "stream",
     "text": [
      "Square roots: [1. 2. 3. 4.]\n",
      "Exponential: [2.71828183e+00 5.45981500e+01 8.10308393e+03 8.88611052e+06]\n",
      "Natural log: [0.         1.38629436 2.19722458 2.77258872]\n"
     ]
    }
   ],
   "source": [
    "arr = np.array([1, 4, 9, 16])\n",
    "print(\"Square roots:\", np.sqrt(arr)) # ➤ [1. 2. 3. 4.]\n",
    "print(\"Exponential:\", np.exp(arr)) # ➤ e.g., [2.7 54.6 ...]\n",
    "print(\"Natural log:\", np.log(arr)) # ➤ [0. 1.38 2.19 2.77]"
   ]
  },
  {
   "cell_type": "code",
   "execution_count": 74,
   "id": "1d5cd4d7-344e-45e5-84ca-194a9899a67f",
   "metadata": {},
   "outputs": [
    {
     "name": "stdout",
     "output_type": "stream",
     "text": [
      "sin: [0.0000000e+00 1.0000000e+00 1.2246468e-16]\n",
      "cos: [ 1.000000e+00  6.123234e-17 -1.000000e+00]\n"
     ]
    }
   ],
   "source": [
    "# Trigonometric Functions\n",
    "angles = np.array([0, np.pi/2, np.pi])\n",
    "print(\"sin:\", np.sin(angles)) # ➤ [0. 1. 0.]\n",
    "print(\"cos:\", np.cos(angles)) # ➤ [1. 0. -1.]"
   ]
  },
  {
   "cell_type": "code",
   "execution_count": 75,
   "id": "c41caf9d-02b7-462a-984d-5bb4a84b7765",
   "metadata": {},
   "outputs": [
    {
     "name": "stdout",
     "output_type": "stream",
     "text": [
      "Unique values: [2 4 5 7]\n",
      "Sorted array: [2 2 2 4 5 7 7]\n",
      "Index of 5s: (array([4], dtype=int64),)\n",
      "Count of non-zero elements: 7\n"
     ]
    }
   ],
   "source": [
    "# Utility Functions\n",
    "arr = np.array([4, 2, 7, 2, 5, 7, 2])\n",
    "print(\"Unique values:\", np.unique(arr)) # ➤ [2 4 5 7]\n",
    "print(\"Sorted array:\", np.sort(arr)) # ➤ [2 2 2 4 5 7 7]\n",
    "print(\"Index of 5s:\", np.where(arr == 5)) # ➤ (array([4]),)\n",
    "print(\"Count of non-zero elements:\", np.count_nonzero(arr))"
   ]
  },
  {
   "cell_type": "code",
   "execution_count": 76,
   "id": "b348c411-bf1f-4332-8a7f-46f10fc745b8",
   "metadata": {},
   "outputs": [
    {
     "name": "stdout",
     "output_type": "stream",
     "text": [
      "Unique values: [2 4 5 7]\n",
      "Sorted array: [2 2 2 4 5 7 7]\n",
      "Index of 5s: (array([4], dtype=int64),)\n",
      "Count of non-zero elements: 7\n"
     ]
    }
   ],
   "source": [
    "arr = np.array([4, 2, 7, 2, 5, 7, 2])\n",
    "print(\"Unique values:\", np.unique(arr)) # ➤ [2 4 5 7]\n",
    "print(\"Sorted array:\", np.sort(arr)) # ➤ [2 2 2 4 5 7 7]\n",
    "print(\"Index of 5s:\", np.where(arr == 5)) # ➤ (array([4]),)\n",
    "print(\"Count of non-zero elements:\", np.count_nonzero(arr))"
   ]
  },
  {
   "cell_type": "markdown",
   "id": "81d2168f-f018-4167-badc-4a4b843e206a",
   "metadata": {},
   "source": [
    "#### PROGRAM TO GENERATE OTP"
   ]
  },
  {
   "cell_type": "code",
   "execution_count": 78,
   "id": "ee6e2097-df89-4e78-8d16-c4769f3ef2e1",
   "metadata": {},
   "outputs": [
    {
     "name": "stdout",
     "output_type": "stream",
     "text": [
      "YOUR OTP IS [2 2 4 3] . Please don't share with anyone\n"
     ]
    }
   ],
   "source": [
    "import numpy as np\n",
    "otp = np.random.randint(0,6,4)\n",
    "print(f\"YOUR OTP IS {otp} . Please don't share with anyone\")"
   ]
  },
  {
   "cell_type": "code",
   "execution_count": 6,
   "id": "abdafebc-3de9-4c00-93f1-a3dcc0669d29",
   "metadata": {},
   "outputs": [
    {
     "name": "stdout",
     "output_type": "stream",
     "text": [
      "your OTP is: 40321\n"
     ]
    }
   ],
   "source": [
    "import random \n",
    "def generate_otp(length=4):\n",
    "    ''' generate a numeric otp of a specified length.'''\n",
    "    digits='012345'\n",
    "    otp=''.join(random.choice(digits)for _ in range(length))\n",
    "    return otp\n",
    "#Example of usage\n",
    "otp_length = 5 # we can change the length\n",
    "otp = generate_otp(otp_length)\n",
    "print(f\"your OTP is: {otp}\")\n"
   ]
  },
  {
   "cell_type": "markdown",
   "id": "43842405-8abb-453e-98de-05f70860c62c",
   "metadata": {},
   "source": [
    "## `Cline` in vscode is AI tool which is used to develop application with in seconds"
   ]
  },
  {
   "cell_type": "markdown",
   "id": "71a51f6b-8bd6-45f6-ad66-79f2da8d3ed6",
   "metadata": {},
   "source": [
    "- just goto `extension` in `vscode`\n",
    "- install `cline`\n",
    "- type your task"
   ]
  },
  {
   "cell_type": "markdown",
   "id": "9c92b8b4-5d9a-4c5e-9db6-fbcb53d839b9",
   "metadata": {},
   "source": [
    "### INTRODUCTION to `Streamlit` using `cmd`, `anaconda prompt` , `vs code` using below code to install"
   ]
  },
  {
   "cell_type": "markdown",
   "id": "1cbdf665-7e6c-486a-a33d-80a5c17168e3",
   "metadata": {},
   "source": [
    "- `cmd` → pip install streamlit\n",
    "- `anaconda prompt` → pip install streamlit \n",
    "- `vs code` → pip install streamlit"
   ]
  },
  {
   "cell_type": "markdown",
   "id": "26f13660-caca-4516-9820-799a7bb6fd67",
   "metadata": {},
   "source": [
    "1. **browse `streamlit` in google.\n",
    "2. **write below code in `notepad`**\n",
    "- import streamlit as st\n",
    "- st.write(\"My first app Hello *world \")\n",
    "- save with `app.py`\n",
    "- then open cmd, prompt, vs code terminal\n",
    "- cd.., cd desktop (for change directory)\n",
    "- write command `streamlit run app.py` in terminal"
   ]
  },
  {
   "cell_type": "code",
   "execution_count": null,
   "id": "53797248-48de-46ad-a943-651a4150727a",
   "metadata": {},
   "outputs": [],
   "source": []
  }
 ],
 "metadata": {
  "kernelspec": {
   "display_name": "Python 3 (ipykernel)",
   "language": "python",
   "name": "python3"
  },
  "language_info": {
   "codemirror_mode": {
    "name": "ipython",
    "version": 3
   },
   "file_extension": ".py",
   "mimetype": "text/x-python",
   "name": "python",
   "nbconvert_exporter": "python",
   "pygments_lexer": "ipython3",
   "version": "3.12.7"
  }
 },
 "nbformat": 4,
 "nbformat_minor": 5
}
