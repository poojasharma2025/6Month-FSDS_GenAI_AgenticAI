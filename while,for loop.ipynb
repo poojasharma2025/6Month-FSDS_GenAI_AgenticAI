{
 "cells": [
  {
   "cell_type": "markdown",
   "id": "2365a0d5-ac24-4083-a23b-daadface9a71",
   "metadata": {},
   "source": [
    "### control statement in 'for loops' in python\n",
    "like break and continue used to control the execution flow of for loop in python.\n",
    "\n",
    "it is used to when you want to exit a loop or skip a part of the loop based on the given condition.also known as transfer statement.\n",
    "\n",
    "`break`:stop the execution of the loop\n",
    "\n",
    "`continue`: continue with the execution ,control will be back in the loop\n",
    "\n",
    "`pass`:placeholder , which is doing nothing .when we are not sure abt logic ,just paut 'pass' .just to complete statement"
   ]
  },
  {
   "cell_type": "code",
   "execution_count": 16,
   "id": "773dddae-2464-409c-945f-d693ba156f8c",
   "metadata": {},
   "outputs": [
    {
     "name": "stdout",
     "output_type": "stream",
     "text": [
      "15\n",
      "30\n",
      "40\n"
     ]
    }
   ],
   "source": [
    "nums=[12,15,18,21,26,30,40]\n",
    "for num in nums:\n",
    "    if num  % 5== 0:\n",
    "        print(num)\n"
   ]
  },
  {
   "cell_type": "code",
   "execution_count": 17,
   "id": "5c4bbd99-e96d-4f6e-9f1f-6f786c0b7887",
   "metadata": {},
   "outputs": [
    {
     "name": "stdout",
     "output_type": "stream",
     "text": [
      "data science\n",
      "data science\n",
      "data science\n",
      "data science\n",
      "data science\n"
     ]
    }
   ],
   "source": [
    "# use when we have condition\n",
    "i=1    # initialize\n",
    "while i<=5:  # condition\n",
    "    print('data science')\n",
    "    i=i+1    # increment"
   ]
  },
  {
   "cell_type": "code",
   "execution_count": 18,
   "id": "96ce07b6-54fe-46f6-b7f4-3b4b104fa954",
   "metadata": {},
   "outputs": [
    {
     "name": "stdout",
     "output_type": "stream",
     "text": [
      "data science 1\n",
      "data science 2\n",
      "data science 3\n",
      "data science 4\n",
      "data science 5\n"
     ]
    }
   ],
   "source": [
    "# use when we have condition\n",
    "i=1    # initialize\n",
    "while i<=5:  # condition\n",
    "    print('data science',i)\n",
    "    i=i+1    # increment"
   ]
  },
  {
   "cell_type": "code",
   "execution_count": 19,
   "id": "e8015d52-bdab-4d7a-95fb-c5fbf176c022",
   "metadata": {},
   "outputs": [
    {
     "name": "stdout",
     "output_type": "stream",
     "text": [
      "data science 5\n",
      "data science 4\n",
      "data science 3\n",
      "data science 2\n",
      "data science 1\n"
     ]
    }
   ],
   "source": [
    "# use when we have condition\n",
    "i=5    # initialize\n",
    "while i>=1:  # condition\n",
    "    print('data science',i)     # when we mention end then new line will not create\n",
    "    i=i-1    # decrement"
   ]
  },
  {
   "cell_type": "code",
   "execution_count": 26,
   "id": "e5f7f00e-534a-4f9c-a471-61ffd18f0f83",
   "metadata": {},
   "outputs": [
    {
     "name": "stdout",
     "output_type": "stream",
     "text": [
      " data science technology technology technology technology\n",
      " data science technology technology technology technology\n",
      " data science technology technology technology technology\n",
      " data science technology technology technology technology\n",
      " data science technology technology technology technology\n"
     ]
    }
   ],
   "source": [
    "i=1\n",
    "while i<=5:\n",
    "    print(' data science',end= \"\")   # when we mention end then new line will not create.\n",
    "    j=1\n",
    "    while j<=4:\n",
    "        print(' technology',end=\"\")\n",
    "        j=j+1\n",
    "    i=i+1\n",
    "    print()"
   ]
  },
  {
   "cell_type": "code",
   "execution_count": 27,
   "id": "a49bb8db-8523-42af-82a4-76d364185f32",
   "metadata": {},
   "outputs": [
    {
     "name": "stdout",
     "output_type": "stream",
     "text": [
      "0 1 2 \n",
      "0 2 4 \n"
     ]
    }
   ],
   "source": [
    "i=1\n",
    "while i<=2:\n",
    "    j=0\n",
    "    while j <=2:\n",
    "        print(i*j, end=\" \")\n",
    "        j+=1\n",
    "    print()\n",
    "    i+=1"
   ]
  },
  {
   "cell_type": "code",
   "execution_count": 30,
   "id": "75bf1687-071f-4001-b2db-f5365102196e",
   "metadata": {},
   "outputs": [
    {
     "name": "stdout",
     "output_type": "stream",
     "text": [
      "0 1 2 3 \n",
      "0 2 4 6 \n",
      "0 3 6 9 \n",
      "0 4 8 12 \n"
     ]
    }
   ],
   "source": [
    "i=1\n",
    "while i<=4:\n",
    "    j=0\n",
    "    while j <=3:\n",
    "        print(i*j, end=\" \")\n",
    "        j+=1\n",
    "    print()\n",
    "    i+=1    "
   ]
  },
  {
   "cell_type": "code",
   "execution_count": 31,
   "id": "4a3c453b-12ac-45c5-9c82-0db8e36f5f97",
   "metadata": {},
   "outputs": [
    {
     "name": "stdout",
     "output_type": "stream",
     "text": [
      "p\n",
      "o\n",
      "o\n",
      "j\n",
      "a\n"
     ]
    }
   ],
   "source": [
    "name='pooja'\n",
    "for j in name:\n",
    "    print(j)"
   ]
  },
  {
   "cell_type": "code",
   "execution_count": 32,
   "id": "70a9475e-e812-48a5-af92-503dd22b4d22",
   "metadata": {},
   "outputs": [
    {
     "name": "stdout",
     "output_type": "stream",
     "text": [
      "5\n",
      "10\n",
      "15\n",
      "20\n",
      "25\n",
      "30\n",
      "35\n",
      "40\n",
      "45\n",
      "50\n"
     ]
    }
   ],
   "source": [
    "for i in range(1,51):\n",
    "    if i%5==0:\n",
    "        print(i)"
   ]
  },
  {
   "cell_type": "code",
   "execution_count": 34,
   "id": "f567dded-4641-4f62-9df4-2d83360bd1ef",
   "metadata": {},
   "outputs": [
    {
     "name": "stdout",
     "output_type": "stream",
     "text": [
      "1\n",
      "2\n",
      "4\n",
      "5\n",
      "7\n",
      "8\n",
      "10\n",
      "11\n",
      "13\n",
      "14\n",
      "16\n",
      "17\n",
      "19\n",
      "20\n",
      "22\n",
      "23\n",
      "25\n",
      "26\n",
      "28\n",
      "29\n"
     ]
    }
   ],
   "source": [
    "for i in range(1,31):\n",
    "    if i%3!=0:\n",
    "        print(i)"
   ]
  },
  {
   "cell_type": "markdown",
   "id": "eb0d5109-ff76-4353-b6d1-bfb10c0751c1",
   "metadata": {},
   "source": [
    "### a) break in for loop\n",
    "using break statement , we can exit from the for loop before it looped through all the element in the sequence .\n",
    "\n",
    "as soon as it breaks out of the for loop, the control shifts to the immediate next line of the code.\n",
    "- `break` -> break the loop . real time eg: national highway ROAD camera installtion\n",
    "- `continue` -> skip the certain place and continue\n",
    "- `pass` -> pass (ignore)"
   ]
  },
  {
   "cell_type": "code",
   "execution_count": 35,
   "id": "0831817a-7daf-4e81-ab27-f8b84c54e187",
   "metadata": {},
   "outputs": [
    {
     "name": "stdout",
     "output_type": "stream",
     "text": [
      "1\n",
      "2\n",
      "3\n",
      "4\n"
     ]
    }
   ],
   "source": [
    "for i in range(1,11):\n",
    "    if i==5:\n",
    "        break\n",
    "    print(i)"
   ]
  },
  {
   "cell_type": "markdown",
   "id": "136070bd-bd08-46cb-a6e9-159db0a49fa7",
   "metadata": {},
   "source": [
    "### continue in for loop\n",
    "used to stop /skip the block of code in the loop for the current iteration only and continue with the next iteration ."
   ]
  },
  {
   "cell_type": "code",
   "execution_count": 40,
   "id": "a39e638a-e5b0-49a1-8ff0-648e97283b0f",
   "metadata": {},
   "outputs": [
    {
     "name": "stdout",
     "output_type": "stream",
     "text": [
      "1\n",
      "2\n",
      "3\n",
      "4\n",
      "6\n",
      "7\n",
      "8\n",
      "9\n",
      "10\n"
     ]
    }
   ],
   "source": [
    "# continue loop won't be terminate and exclued the assign number it give you entire output\n",
    "for i in range(1,11):\n",
    "    if i==5:\n",
    "        continue\n",
    "    print(i)"
   ]
  },
  {
   "cell_type": "code",
   "execution_count": 5,
   "id": "e994ccf7-72c1-44bd-91ce-d4008e8b742d",
   "metadata": {},
   "outputs": [],
   "source": [
    "for i in range(1,10):\n",
    "    pass"
   ]
  },
  {
   "cell_type": "code",
   "execution_count": 6,
   "id": "25f9d786-80f1-4dce-9186-e7796dc50c00",
   "metadata": {},
   "outputs": [
    {
     "name": "stdout",
     "output_type": "stream",
     "text": [
      "hello: 1\n",
      "hello: 2\n",
      "hello: 3\n",
      "hello: 4\n",
      "hello: 5\n",
      "hello: 7\n",
      "hello: 8\n",
      "hello: 9\n",
      "hello: 10\n"
     ]
    }
   ],
   "source": [
    "for i in range (1,11):\n",
    "    if i == 6:\n",
    "        continue\n",
    "    print('hello:' ,i)"
   ]
  },
  {
   "cell_type": "code",
   "execution_count": 7,
   "id": "17911f33-01ee-4965-a8d3-0cdc619a1d89",
   "metadata": {},
   "outputs": [
    {
     "name": "stdout",
     "output_type": "stream",
     "text": [
      "1\n",
      "2\n",
      "3\n",
      "4\n",
      "5\n",
      "6\n",
      "7\n",
      "8\n",
      "9\n",
      "10\n",
      "11\n",
      "12\n",
      "13\n",
      "14\n",
      "16\n",
      "17\n",
      "18\n",
      "19\n",
      "20\n",
      "21\n",
      "22\n",
      "23\n",
      "24\n",
      "25\n",
      "26\n",
      "27\n",
      "28\n",
      "29\n",
      "31\n",
      "32\n",
      "33\n",
      "34\n",
      "35\n",
      "36\n",
      "37\n",
      "38\n",
      "39\n",
      "40\n",
      "41\n",
      "42\n",
      "43\n",
      "44\n",
      "46\n",
      "47\n",
      "48\n",
      "49\n",
      "50\n",
      "end\n"
     ]
    }
   ],
   "source": [
    "# display number which is divisible by 3 and 5\n",
    "for i in range(1,51):\n",
    "    if i%3==0 and i%5==0:\n",
    "        continue # it skip the number which is matched with the conditions\n",
    "    print(i)\n",
    "print('end')"
   ]
  },
  {
   "cell_type": "code",
   "execution_count": 8,
   "id": "a0d7023d-61d7-4cc6-81a4-6baa3286e096",
   "metadata": {},
   "outputs": [
    {
     "name": "stdout",
     "output_type": "stream",
     "text": [
      "1\n",
      "2\n",
      "4\n",
      "7\n",
      "8\n",
      "11\n",
      "13\n",
      "14\n",
      "16\n",
      "17\n",
      "19\n",
      "22\n",
      "23\n",
      "26\n",
      "28\n",
      "29\n",
      "31\n",
      "32\n",
      "34\n",
      "37\n",
      "38\n",
      "41\n",
      "43\n",
      "44\n",
      "46\n",
      "47\n",
      "49\n"
     ]
    }
   ],
   "source": [
    "# display number which is divisble by either 3 or 5\n",
    "for i in range(1,51):\n",
    "    if i%3==0 or i%5==0:\n",
    "        continue\n",
    "    print(i)\n",
    "    \n",
    "    "
   ]
  },
  {
   "cell_type": "markdown",
   "id": "728ee438-bb18-4565-af97-b080a40f023b",
   "metadata": {},
   "source": [
    "#### Patterns"
   ]
  },
  {
   "cell_type": "markdown",
   "id": "4ccb0db6-900c-4974-bc24-79125e19b3dd",
   "metadata": {},
   "source": [
    "#### Right angle triangle pattern"
   ]
  },
  {
   "cell_type": "code",
   "execution_count": 9,
   "id": "df959e6f-c205-4eaa-b2ca-d0a6dda1c7d1",
   "metadata": {},
   "outputs": [
    {
     "name": "stdout",
     "output_type": "stream",
     "text": [
      " * \n",
      " *  * \n",
      " *  *  * \n",
      " *  *  *  * \n",
      " *  *  *  *  * \n"
     ]
    }
   ],
   "source": [
    "for i in range(1,6):\n",
    "    print(' * ' *i)"
   ]
  },
  {
   "cell_type": "markdown",
   "id": "639ab0ec-11c8-4dd2-bb91-0171af211f8f",
   "metadata": {},
   "source": [
    "#### Inverted right angle triangle pattern"
   ]
  },
  {
   "cell_type": "code",
   "execution_count": 10,
   "id": "5b11b9c4-182e-4353-a5e0-4c3970b889e3",
   "metadata": {},
   "outputs": [
    {
     "name": "stdout",
     "output_type": "stream",
     "text": [
      " *  *  *  *  * \n",
      " *  *  *  * \n",
      " *  *  * \n",
      " *  * \n",
      " * \n"
     ]
    }
   ],
   "source": [
    "for i in range(5,0,-1):\n",
    "    print(' * ' *i)"
   ]
  },
  {
   "cell_type": "markdown",
   "id": "5e1a4098-1f55-4777-b803-13bf4f7f27a9",
   "metadata": {},
   "source": [
    "#### pyramid"
   ]
  },
  {
   "cell_type": "code",
   "execution_count": 48,
   "id": "53ab4d85-2a47-4d77-af28-3c994a0d9252",
   "metadata": {},
   "outputs": [
    {
     "name": "stdout",
     "output_type": "stream",
     "text": [
      " * \n",
      " *  *  * \n",
      " *  *  *  *  * \n",
      " *  *  *  *  *  *  * \n",
      " *  *  *  *  *  *  *  *  * \n"
     ]
    }
   ],
   "source": [
    "for i in range(1,6):\n",
    "    print(''*(5+i)+' * '*(2*i-1))"
   ]
  },
  {
   "cell_type": "markdown",
   "id": "252005ad-1d8e-47d4-ab94-a14848ddccca",
   "metadata": {},
   "source": [
    "#### Inverted Pyramid pattern"
   ]
  },
  {
   "cell_type": "code",
   "execution_count": 50,
   "id": "8cc3ca03-e874-489d-be5f-6bd638451774",
   "metadata": {},
   "outputs": [
    {
     "name": "stdout",
     "output_type": "stream",
     "text": [
      " *  *  *  *  *  *  *  *  * \n",
      " *  *  *  *  *  *  * \n",
      " *  *  *  *  * \n",
      " *  *  * \n",
      " * \n"
     ]
    }
   ],
   "source": [
    "for i in range(5,0,-1):\n",
    "    print(''*(5-i)+' * '*(2*i-1))"
   ]
  },
  {
   "cell_type": "markdown",
   "id": "b437cf42-4582-4d4d-8572-d03b2bcd5182",
   "metadata": {},
   "source": [
    "#### Diamond Pattern"
   ]
  },
  {
   "cell_type": "code",
   "execution_count": 51,
   "id": "e51282f3-13b9-4540-944d-f04774c9fcf9",
   "metadata": {},
   "outputs": [
    {
     "name": "stdout",
     "output_type": "stream",
     "text": [
      " * \n",
      " *  *  * \n",
      " *  *  *  *  * \n",
      " *  *  *  *  *  *  * \n",
      " *  *  *  *  *  *  *  *  * \n",
      " *  *  *  *  *  *  * \n",
      " *  *  *  *  * \n",
      " *  *  * \n",
      " * \n"
     ]
    }
   ],
   "source": [
    "for i in range(1,6):\n",
    "    print(''*(5-i)+' * '*(2*i-1))\n",
    "\n",
    "for i in range(4,0,-1):\n",
    "    print(''*(5-i)+' * '*(2*i-1))"
   ]
  },
  {
   "cell_type": "code",
   "execution_count": 22,
   "id": "be2d7558-7e55-4e71-8c19-7c3bf1f213b5",
   "metadata": {},
   "outputs": [
    {
     "ename": "NameError",
     "evalue": "name 'python' is not defined",
     "output_type": "error",
     "traceback": [
      "\u001b[31m---------------------------------------------------------------------------\u001b[39m",
      "\u001b[31mNameError\u001b[39m                                 Traceback (most recent call last)",
      "\u001b[36mCell\u001b[39m\u001b[36m \u001b[39m\u001b[32mIn[22]\u001b[39m\u001b[32m, line 1\u001b[39m\n\u001b[32m----> \u001b[39m\u001b[32m1\u001b[39m \u001b[43mpython\u001b[49m --version\n",
      "\u001b[31mNameError\u001b[39m: name 'python' is not defined"
     ]
    }
   ],
   "source": []
  },
  {
   "cell_type": "markdown",
   "id": "9ae45ed5-4114-4df4-81f6-ba8703817fdc",
   "metadata": {},
   "source": [
    "#### Hallow square pattern"
   ]
  },
  {
   "cell_type": "code",
   "execution_count": 52,
   "id": "5a6b127a-8b40-4b33-9f24-4da54dde7ce9",
   "metadata": {},
   "outputs": [
    {
     "name": "stdout",
     "output_type": "stream",
     "text": [
      "*****\n",
      "*   *\n",
      "*   *\n",
      "*   *\n",
      "*****\n"
     ]
    }
   ],
   "source": [
    "for i in range(5):\n",
    "    for j in range(5):\n",
    "        if i ==0 or i==4 or j==0 or j==4:\n",
    "            print('*', end='')\n",
    "        else:\n",
    "            print(' ',end='')\n",
    "    print()"
   ]
  },
  {
   "cell_type": "markdown",
   "id": "0ef96620-dbf3-4cfa-9057-451c13a6be37",
   "metadata": {},
   "source": [
    "#### Full square pattern"
   ]
  },
  {
   "cell_type": "code",
   "execution_count": 54,
   "id": "7d54f38b-0c4e-4a83-9e1c-5499416846e5",
   "metadata": {},
   "outputs": [
    {
     "name": "stdout",
     "output_type": "stream",
     "text": [
      " *  *  *  *  * \n",
      " *  *  *  *  * \n",
      " *  *  *  *  * \n",
      " *  *  *  *  * \n",
      " *  *  *  *  * \n"
     ]
    }
   ],
   "source": [
    "for i in range(5):\n",
    "    print(' * '*5)"
   ]
  },
  {
   "cell_type": "markdown",
   "id": "9715fa9b-806f-4a84-baf4-fd91db83a9fb",
   "metadata": {},
   "source": [
    "#### Right angle triangle (number pattern)"
   ]
  },
  {
   "cell_type": "code",
   "execution_count": 56,
   "id": "fda937c3-5bba-466c-af87-1528207c4e79",
   "metadata": {},
   "outputs": [
    {
     "name": "stdout",
     "output_type": "stream",
     "text": [
      "1\n",
      "1 2\n",
      "1 2 3\n",
      "1 2 3 4\n",
      "1 2 3 4 5\n"
     ]
    }
   ],
   "source": [
    "for i in range(1,6):\n",
    "    print(' '.join(str(x) for x in range(1,i+1)))"
   ]
  },
  {
   "cell_type": "markdown",
   "id": "bdcb04eb-91aa-4a5f-9453-bfe95fd37fbf",
   "metadata": {},
   "source": [
    "#### Inverted right angle triangle (number pattern)"
   ]
  },
  {
   "cell_type": "code",
   "execution_count": 57,
   "id": "e31b5c6e-3f72-4c8e-b9be-8e40e521b82b",
   "metadata": {},
   "outputs": [
    {
     "name": "stdout",
     "output_type": "stream",
     "text": [
      "1 2 3 4 5\n",
      "1 2 3 4\n",
      "1 2 3\n",
      "1 2\n",
      "1\n"
     ]
    }
   ],
   "source": [
    "for i in range(5,0,-1):\n",
    "    print(' '.join(str(x) for x in range(1,i+1)))"
   ]
  },
  {
   "cell_type": "markdown",
   "id": "ada336b7-c451-4021-91cc-f0c320e2dd39",
   "metadata": {},
   "source": [
    "#### Floyd's triangle"
   ]
  },
  {
   "cell_type": "code",
   "execution_count": 58,
   "id": "667f3b60-c0b9-4134-b196-3cd876ac5593",
   "metadata": {},
   "outputs": [
    {
     "name": "stdout",
     "output_type": "stream",
     "text": [
      "1 \n",
      "2 3 \n",
      "4 5 6 \n",
      "7 8 9 10 \n",
      "11 12 13 14 15 \n"
     ]
    }
   ],
   "source": [
    "num=1\n",
    "for i in range(1,6):\n",
    "    for j in range(1,i+1):\n",
    "        print(num,end=' ')\n",
    "        num+=1\n",
    "    print()"
   ]
  },
  {
   "cell_type": "markdown",
   "id": "1f790b95-56b6-4567-a040-1ccbe2040cc8",
   "metadata": {},
   "source": [
    "#### Hallow right angle triangle"
   ]
  },
  {
   "cell_type": "code",
   "execution_count": 60,
   "id": "7584b665-19f4-4f07-8405-de255c15ba66",
   "metadata": {},
   "outputs": [
    {
     "name": "stdout",
     "output_type": "stream",
     "text": [
      "* \n",
      "* * \n",
      "*   * \n",
      "*     * \n",
      "* * * * * \n"
     ]
    }
   ],
   "source": [
    "for i in range(1,6):\n",
    "    for j in range(1,i+1):\n",
    "        if j==1 or j==i or i==5:\n",
    "            print('*', end=' ')\n",
    "        else:\n",
    "            print(' ',end=' ' )\n",
    "    print()"
   ]
  },
  {
   "cell_type": "markdown",
   "id": "be8a681f-2c07-47a0-8b2b-0b1588a1c7f2",
   "metadata": {},
   "source": [
    "#### Hallow Pyramid pattern"
   ]
  },
  {
   "cell_type": "code",
   "execution_count": 61,
   "id": "3ff78fac-ca5b-48a7-bce1-ec1284decc06",
   "metadata": {},
   "outputs": [
    {
     "name": "stdout",
     "output_type": "stream",
     "text": [
      "        * \n",
      "      *   * \n",
      "    *       * \n",
      "  *           * \n",
      "* * * * * * * * * \n"
     ]
    }
   ],
   "source": [
    "for i in range(1,6):\n",
    "    for j in range(5 - i):\n",
    "        print(' ', end=' ')\n",
    "    for j in range(2*i-1):\n",
    "        if j==0 or j==2 *i-2 or i==5:\n",
    "            print('*', end=' ')\n",
    "        else:\n",
    "            print(' ',end=' ')\n",
    "    print()"
   ]
  },
  {
   "cell_type": "markdown",
   "id": "b1aefbe6-71a3-4c09-b6d3-adcde246fed9",
   "metadata": {},
   "source": [
    "#### Hallow Diamond pattern"
   ]
  },
  {
   "cell_type": "code",
   "execution_count": 63,
   "id": "fe85c71c-9c1c-4f1b-ab7a-ce12ceb548a7",
   "metadata": {},
   "outputs": [
    {
     "name": "stdout",
     "output_type": "stream",
     "text": [
      "        * \n",
      "      *   * \n",
      "    *       * \n",
      "  *           * \n",
      "*               * \n",
      "  *           * \n",
      "    *       * \n",
      "      *   * \n",
      "        * \n"
     ]
    }
   ],
   "source": [
    "n=5\n",
    "for i in range(1,n+1):\n",
    "    for j in range(n-i):\n",
    "        print(' ',end= ' ')\n",
    "    for j in range(2*i-1):\n",
    "        if j==0 or j==2*i-2:\n",
    "            print('*', end=' ')\n",
    "        else:\n",
    "            print(' ', end=' ')\n",
    "    print()\n",
    "for i in range(n-1,0,-1):\n",
    "    for j in range(n-i):\n",
    "        print(' ',end=' ')\n",
    "    for j in range(2*i-1):\n",
    "        if j==0 or j==2*i-2:\n",
    "            print('*', end=' ')\n",
    "        else:\n",
    "            print(' ', end=' ')\n",
    "    print()\n",
    "        "
   ]
  },
  {
   "cell_type": "markdown",
   "id": "b35bc8ec-d047-4b6d-8b53-5823de1f1e0a",
   "metadata": {},
   "source": [
    "#### Hallow diamond number pattern"
   ]
  },
  {
   "cell_type": "code",
   "execution_count": 66,
   "id": "19cd995d-7706-4097-b596-1587d81c7187",
   "metadata": {},
   "outputs": [
    {
     "name": "stdout",
     "output_type": "stream",
     "text": [
      "        1 \n",
      "      2   2 \n",
      "    3       3 \n",
      "  4           4 \n",
      "5               5 \n",
      "  4           4 \n",
      "    3       3 \n",
      "      2   2 \n",
      "        1 \n"
     ]
    }
   ],
   "source": [
    "n=5\n",
    "for i in range(1,n+1):\n",
    "    for j in range(n-i):\n",
    "        print(' ',end= ' ')\n",
    "    for j in range(2*i-1):\n",
    "        if j==0 or j==2*i-2:\n",
    "            print(i, end=' ')\n",
    "        else:\n",
    "            print(' ', end=' ')\n",
    "    print()\n",
    "for i in range(n-1,0,-1):\n",
    "    for j in range(n-i):\n",
    "        print(' ',end=' ')\n",
    "    for j in range(2*i-1):\n",
    "        if j==0 or j==2*i-2:\n",
    "            print(i, end=' ')\n",
    "        else:\n",
    "            print(' ', end=' ')\n",
    "    print()"
   ]
  },
  {
   "cell_type": "markdown",
   "id": "4f1646f7-4abe-4388-aa9a-45a3709458f2",
   "metadata": {},
   "source": [
    "#### Butterfly pattern"
   ]
  },
  {
   "cell_type": "code",
   "execution_count": 68,
   "id": "bfd812e7-5228-4ea2-bbf8-5e443a758a3e",
   "metadata": {},
   "outputs": [
    {
     "name": "stdout",
     "output_type": "stream",
     "text": [
      "1                 1 \n",
      "1 2             1 2 \n",
      "1 2 3         1 2 3 \n",
      "1 2 3 4     1 2 3 4 \n",
      "1 2 3 4 5 1 2 3 4 5 \n",
      "1 2 3 4 5 1 2 3 4 5 \n",
      "1 2 3 4     1 2 3 4 \n",
      "1 2 3         1 2 3 \n",
      "1 2             1 2 \n",
      "1                 1 \n",
      "*                 * \n",
      "* *             * * \n",
      "* * *         * * * \n",
      "* * * *     * * * * \n",
      "* * * * * * * * * * \n",
      "* * * * * * * * * * \n",
      "* * * *     * * * * \n",
      "* * *         * * * \n",
      "* *             * * \n",
      "*                 * \n"
     ]
    }
   ],
   "source": [
    "n=5\n",
    "for i in range(1,n+1):\n",
    "    for j in range(1,i+1):\n",
    "        print(j, end= ' ')\n",
    "    for j in range(2*(n-i)):\n",
    "        print(' ',end=' ')\n",
    "    for j in range(1,i+1):\n",
    "        print(j, end=' ')\n",
    "    print()\n",
    "for i in range(n,0,-1):\n",
    "    for j in range(1,i+1):\n",
    "        print(j,end=' ')\n",
    "    for j in range(2*(n-i)):\n",
    "        print(' ',end=' ')\n",
    "    for j in range(1,i+1):\n",
    "        print(j, end=' ')\n",
    "    print()\n",
    "n=5\n",
    "for i in range(1,n+1):\n",
    "    for j in range(1,i+1):\n",
    "        print('*', end= ' ')\n",
    "    for j in range(2*(n-i)):\n",
    "        print(' ',end=' ')\n",
    "    for j in range(1,i+1):\n",
    "        print('*', end=' ')\n",
    "    print()\n",
    "for i in range(n,0,-1):\n",
    "    for j in range(1,i+1):\n",
    "        print('*',end=' ')\n",
    "    for j in range(2*(n-i)):\n",
    "        print(' ',end=' ')\n",
    "    for j in range(1,i+1):\n",
    "        print('*', end=' ')\n",
    "    print()"
   ]
  },
  {
   "cell_type": "markdown",
   "id": "c6388d5b-e333-4272-9322-e970fa8750a3",
   "metadata": {},
   "source": [
    "#### Hallow Number Pyramid "
   ]
  },
  {
   "cell_type": "code",
   "execution_count": 69,
   "id": "cbd46ce6-5ece-4f6f-928b-a6a2e4aa47ad",
   "metadata": {},
   "outputs": [
    {
     "name": "stdout",
     "output_type": "stream",
     "text": [
      "        1 \n",
      "      2   2 \n",
      "    3       3 \n",
      "  4           4 \n",
      "5 5 5 5 5 5 5 5 5 \n"
     ]
    }
   ],
   "source": [
    "n=5\n",
    "for i in range(1,n+1):\n",
    "    for j in range(n-i):\n",
    "        print(' ', end=' ')\n",
    "    for j in range(1,2*i):\n",
    "        if j==1 or j==2*i-1 or i==n:\n",
    "            print(i, end=' ')\n",
    "        else:\n",
    "            print(' ',end=' ')\n",
    "    print()"
   ]
  },
  {
   "cell_type": "markdown",
   "id": "a3dae791-7e0b-4b06-94d3-b8b8b25f1170",
   "metadata": {},
   "source": [
    "#### Full star Pyramid"
   ]
  },
  {
   "cell_type": "code",
   "execution_count": 70,
   "id": "2f83d228-07a4-4e70-be2f-4e289ac7cea5",
   "metadata": {},
   "outputs": [
    {
     "name": "stdout",
     "output_type": "stream",
     "text": [
      "        * \n",
      "      * * * \n",
      "    * * * * * \n",
      "  * * * * * * * \n",
      "* * * * * * * * * \n"
     ]
    }
   ],
   "source": [
    "i=5\n",
    "for i in range(1,n+1):\n",
    "    for j in range(n-i):\n",
    "        print(' ', end=' ')\n",
    "    for j in range(2*i-1):\n",
    "        print('*',end=' ')\n",
    "    print()"
   ]
  },
  {
   "cell_type": "markdown",
   "id": "cbaa9824-66a6-4d1d-bc48-381939933dc3",
   "metadata": {},
   "source": [
    "#### Inverted Full star Pyramid"
   ]
  },
  {
   "cell_type": "code",
   "execution_count": 71,
   "id": "f249f1cd-909f-413e-97ea-b4b6102344cf",
   "metadata": {},
   "outputs": [
    {
     "name": "stdout",
     "output_type": "stream",
     "text": [
      "* * * * * * * * * \n",
      "  * * * * * * * \n",
      "    * * * * * \n",
      "      * * * \n",
      "        * \n"
     ]
    }
   ],
   "source": [
    "i=5\n",
    "for i in range(n,0,-1):\n",
    "    for j in range(n-i):\n",
    "        print(' ', end=' ')\n",
    "    for j in range(2*i-1):\n",
    "        print('*',end=' ')\n",
    "    print()"
   ]
  },
  {
   "cell_type": "code",
   "execution_count": 16,
   "id": "8fea9858-47cd-4406-8215-6a8e81cabb77",
   "metadata": {},
   "outputs": [
    {
     "name": "stdout",
     "output_type": "stream",
     "text": [
      "***************\n",
      "***************\n",
      "***************\n"
     ]
    }
   ],
   "source": [
    "# Flag\n",
    "# Define dimensions for the flag\n",
    "width = 15\n",
    "height = 5\n",
    "stripe_height = height // 3\n",
    "chakra_radius = stripe_height // 2\n",
    "\n",
    "# Saffron stripe\n",
    "for i in range(stripe_height):\n",
    "    print(\"*\" * width)\n",
    "\n",
    "# White stripe with Ashoka Chakra\n",
    "for i in range(stripe_height):\n",
    "    line = \"\"\n",
    "    for j in range(width):\n",
    "        # Approximate chakra center\n",
    "        chakra_center_x = width // 2\n",
    "        chakra_center_y = stripe_height // 2\n",
    "\n",
    "        # Check if the current position is within the chakra circle\n",
    "        # Using a simplified distance check for character-based drawing\n",
    "        dist_x = abs(j - chakra_center_x)\n",
    "        dist_y = abs(i - chakra_center_y)\n",
    "        if (dist_x**2 + dist_y**2) < (chakra_radius**2):\n",
    "            line += \"o\" # Represents a part of the chakra\n",
    "        else:\n",
    "            line += \"*\"\n",
    "    print(line)\n",
    "\n",
    "# Green stripe\n",
    "for i in range(stripe_height):\n",
    "    print(\"*\" * width)\n",
    "  "
   ]
  },
  {
   "cell_type": "markdown",
   "id": "56b29cd5-46bc-4b32-a3ce-a8ac59b26637",
   "metadata": {},
   "source": [
    "#### Left Aligned Pyramid Pattern"
   ]
  },
  {
   "cell_type": "code",
   "execution_count": 72,
   "id": "c7adf998-3e4c-4195-b438-5b8ab95a177f",
   "metadata": {},
   "outputs": [
    {
     "name": "stdout",
     "output_type": "stream",
     "text": [
      "* \n",
      "* * \n",
      "* * * \n",
      "* * * * \n",
      "* * * * * \n",
      "1 \n",
      "1 2 \n",
      "1 2 3 \n",
      "1 2 3 4 \n",
      "1 2 3 4 5 \n"
     ]
    }
   ],
   "source": [
    "n=5\n",
    "for i in range(1,n+1):\n",
    "    for j in range(i):\n",
    "        print('*', end=' ')\n",
    "    print()\n",
    "\n",
    "n=5\n",
    "for i in range(1,n+1):\n",
    "    for j in range(1,i+1):\n",
    "        print(j, end=' ')\n",
    "    print()"
   ]
  },
  {
   "cell_type": "markdown",
   "id": "e019a67a-4b7a-4863-9094-ead9d87a6e69",
   "metadata": {},
   "source": [
    "#### Right Aligned Pyramid Pattern"
   ]
  },
  {
   "cell_type": "code",
   "execution_count": 73,
   "id": "75f998f0-419a-4bdb-9e40-90d665e77a03",
   "metadata": {},
   "outputs": [
    {
     "name": "stdout",
     "output_type": "stream",
     "text": [
      "        1 \n",
      "      1 2 \n",
      "    1 2 3 \n",
      "  1 2 3 4 \n",
      "1 2 3 4 5 \n",
      "        * \n",
      "      * * \n",
      "    * * * \n",
      "  * * * * \n",
      "* * * * * \n"
     ]
    }
   ],
   "source": [
    "n=5\n",
    "\n",
    "for i in range(1,n+1):\n",
    "\n",
    "    for j in range(n-i):\n",
    "        print(' ', end=' ')\n",
    "    for j in range(1,i+1):\n",
    "        print(j, end=' ')\n",
    "    print()\n",
    "\n",
    "n=5\n",
    "for i in range(1,n+1):\n",
    "    for  j in range(n-i):\n",
    "        print(' ',end=' ')\n",
    "    for j in range(i):\n",
    "        print('*', end=' ')\n",
    "\n",
    "    print()"
   ]
  },
  {
   "cell_type": "code",
   "execution_count": 1,
   "id": "e0d07502-d1c5-40d4-8d36-ece164c957be",
   "metadata": {},
   "outputs": [
    {
     "name": "stdout",
     "output_type": "stream",
     "text": [
      "Reversed Number: 4321\n"
     ]
    }
   ],
   "source": [
    "# Reverse a number using while loop \n",
    "\n",
    "num = 1234\n",
    "reversed_num = 0\n",
    "\n",
    "while num != 0:\n",
    "    digit = num % 10\n",
    "    reversed_num = reversed_num * 10 + digit\n",
    "    num //= 10\n",
    "\n",
    "print(\"Reversed Number: \" + str(reversed_num))"
   ]
  },
  {
   "cell_type": "code",
   "execution_count": 2,
   "id": "12213fd1-2fdb-49a7-ae19-df142a3c4a01",
   "metadata": {},
   "outputs": [
    {
     "name": "stdout",
     "output_type": "stream",
     "text": [
      "eulb\n",
      "knip\n",
      "neerg\n",
      "egnaro\n",
      "wolley\n"
     ]
    }
   ],
   "source": [
    "color=['blue','pink','green','orange','yellow']\n",
    "for i in color:\n",
    "    print(i[::-1])"
   ]
  },
  {
   "cell_type": "code",
   "execution_count": 3,
   "id": "bb4ac226-786e-4fbe-8725-69115e20224e",
   "metadata": {},
   "outputs": [
    {
     "name": "stdout",
     "output_type": "stream",
     "text": [
      "1\n",
      "4\n",
      "7\n",
      "8\n",
      "15\n"
     ]
    }
   ],
   "source": [
    "num=[1,4,7,8,15,20,35,45,55]\n",
    "for i in num:\n",
    "    if i > 15:\n",
    "        break\n",
    "    else:\n",
    "        print(i)"
   ]
  },
  {
   "cell_type": "code",
   "execution_count": 4,
   "id": "dcbaf620-d6d8-4de4-bdd9-80ff37bf4188",
   "metadata": {},
   "outputs": [
    {
     "name": "stdout",
     "output_type": "stream",
     "text": [
      "blue\n",
      "green\n",
      "orange\n",
      "yellow\n"
     ]
    }
   ],
   "source": [
    "color=['blue','pink','green','orange','yellow']\n",
    "for i in color:\n",
    "    if(i=='pink'):\n",
    "        continue\n",
    "        print('hello')\n",
    "    else:\n",
    "        print(i)"
   ]
  },
  {
   "cell_type": "code",
   "execution_count": 11,
   "id": "b31dffab-4059-4c4a-b40d-77290c26b0fa",
   "metadata": {},
   "outputs": [
    {
     "name": "stdout",
     "output_type": "stream",
     "text": [
      "2\n",
      "1\n",
      "3\n"
     ]
    }
   ],
   "source": [
    "x=[1,2,3]\n",
    "for i in range(1,-2,-1):\n",
    "    print(x[i])  "
   ]
  },
  {
   "cell_type": "code",
   "execution_count": 12,
   "id": "30660e53-8774-48f0-8c37-cf2c6014f4ed",
   "metadata": {},
   "outputs": [
    {
     "name": "stdout",
     "output_type": "stream",
     "text": [
      "1\n",
      "2\n",
      "3\n"
     ]
    }
   ],
   "source": [
    "x=[1,2,3]\n",
    "i=0\n",
    "while i<len(x):\n",
    "    print(x[i])\n",
    "    i=i+1"
   ]
  },
  {
   "cell_type": "code",
   "execution_count": 13,
   "id": "d80bd41d-965d-427a-9b58-dc7a8b31453c",
   "metadata": {},
   "outputs": [
    {
     "name": "stdin",
     "output_type": "stream",
     "text": [
      "enter number 6\n"
     ]
    },
    {
     "name": "stdout",
     "output_type": "stream",
     "text": [
      "6\n",
      "12\n",
      "18\n",
      "24\n",
      "30\n"
     ]
    }
   ],
   "source": [
    "x=int(input('enter number'))\n",
    "for i in range (1,6): #1,2,3,4,5\n",
    "    print(x*i)\n",
    "      "
   ]
  },
  {
   "cell_type": "code",
   "execution_count": 14,
   "id": "21363009-5e44-4480-9c03-c1fd4edcce0b",
   "metadata": {},
   "outputs": [
    {
     "name": "stdin",
     "output_type": "stream",
     "text": [
      "enter number 5\n"
     ]
    },
    {
     "name": "stdout",
     "output_type": "stream",
     "text": [
      "5\n",
      "10\n",
      "15\n",
      "20\n",
      "25\n"
     ]
    }
   ],
   "source": [
    "x=int(input('enter number'))\n",
    "i=1\n",
    "while i<=5:\n",
    "    print(x*i)\n",
    "    i=i+1   # manual increment in while loop"
   ]
  },
  {
   "cell_type": "code",
   "execution_count": 15,
   "id": "21bd21ea-0c55-4285-90ce-fde3a56a2a4d",
   "metadata": {},
   "outputs": [
    {
     "name": "stdin",
     "output_type": "stream",
     "text": [
      "enter number 4\n"
     ]
    },
    {
     "name": "stdout",
     "output_type": "stream",
     "text": [
      "16\n",
      "64\n",
      "256\n"
     ]
    }
   ],
   "source": [
    "x=int(input('enter number'))\n",
    "c=2\n",
    "while c<=4:\n",
    "    print(x**c)\n",
    "    c=c+1"
   ]
  },
  {
   "cell_type": "code",
   "execution_count": 16,
   "id": "0ba4cfc8-ff29-4167-a869-76f1a9e7693c",
   "metadata": {},
   "outputs": [
    {
     "name": "stdout",
     "output_type": "stream",
     "text": [
      "oja\n",
      "hi\n",
      "di\n",
      "i\n",
      "e\n"
     ]
    }
   ],
   "source": [
    "x=['pooja','abhi','aadi','hii','bye']\n",
    "for i in x:\n",
    "    print(i[2:])"
   ]
  },
  {
   "cell_type": "code",
   "execution_count": 17,
   "id": "da944dbf-61f2-4b28-b0c8-31a7e99738e3",
   "metadata": {},
   "outputs": [
    {
     "name": "stdout",
     "output_type": "stream",
     "text": [
      "567\n",
      "568\n",
      "973\n"
     ]
    }
   ],
   "source": [
    "x=['chdk567jfsh','sad568ddd','dksl973dsd']\n",
    "for p in x:\n",
    "    num=''\n",
    "    for char in p:\n",
    "        if '0'<= char <= '9':  # a to z for character printing\n",
    "            num += char  # num =num +char 123\n",
    "    print(num)  "
   ]
  },
  {
   "cell_type": "code",
   "execution_count": 18,
   "id": "ed352e3a-2d98-4895-83cb-0f20a082584d",
   "metadata": {},
   "outputs": [
    {
     "name": "stdin",
     "output_type": "stream",
     "text": [
      "enter num1 5\n"
     ]
    },
    {
     "name": "stdout",
     "output_type": "stream",
     "text": [
      "25\n",
      "125\n",
      "625\n"
     ]
    }
   ],
   "source": [
    "x=int(input('enter num1'))\n",
    "for i in range(2,5):\n",
    "    print(x**i)"
   ]
  },
  {
   "cell_type": "code",
   "execution_count": 19,
   "id": "9d3e0581-d9ae-4685-b2c9-12dc4025092c",
   "metadata": {},
   "outputs": [
    {
     "name": "stdout",
     "output_type": "stream",
     "text": [
      "11\n",
      "45\n",
      "67\n",
      "89\n"
     ]
    }
   ],
   "source": [
    "x=[11,111,1111,45,67,89]\n",
    "c=0\n",
    "while c<len(x):\n",
    "    if x[c]>=10 and x[c]<=99:\n",
    "        print(x[c])\n",
    "    c=c+1   "
   ]
  },
  {
   "cell_type": "code",
   "execution_count": 20,
   "id": "188d455c-0b81-4e47-98ad-bd3db6f08c0b",
   "metadata": {},
   "outputs": [
    {
     "name": "stdout",
     "output_type": "stream",
     "text": [
      "11\n",
      "45\n",
      "67\n",
      "89\n"
     ]
    }
   ],
   "source": [
    "x=[11,111,1111,45,67,89]\n",
    "for i in x:\n",
    "    if i>=10 and i<=99:\n",
    "        print(i)"
   ]
  },
  {
   "cell_type": "code",
   "execution_count": 21,
   "id": "1708aa79-cc83-4bb2-87b8-4588f18d70c7",
   "metadata": {},
   "outputs": [
    {
     "name": "stdout",
     "output_type": "stream",
     "text": [
      "36\n",
      "64\n",
      "16\n",
      "21\n",
      "57\n"
     ]
    }
   ],
   "source": [
    "x=[5,35.200,63.56,15.40,2,358,64,20.64,56.4,32]\n",
    "c=0\n",
    "while c<len(x):\n",
    "    if type(x[c])==float:           #if that number minus integer of that num 32.5-32 >=.5 ,--> integer of that num+1 \n",
    "        print(int(x[c])+1)  \n",
    "    c=c+1 "
   ]
  },
  {
   "cell_type": "code",
   "execution_count": 22,
   "id": "dc97cacd-e3ec-4285-b31e-aa4eb035f551",
   "metadata": {},
   "outputs": [
    {
     "name": "stdout",
     "output_type": "stream",
     "text": [
      "64\n",
      "21\n"
     ]
    }
   ],
   "source": [
    "#if you want to print number above .5 like 63.56 then use logic :  (x[c]-int(x[c]))>= .5:\n",
    "x=[5,35.200,63.56,15.40,2,358,64,20.64,56.4,32]\n",
    "c=0\n",
    "while c<len(x):\n",
    "    if (x[c]-int(x[c]))>= .5:           \n",
    "        print(int(x[c])+1)  \n",
    "    c=c+1 "
   ]
  },
  {
   "cell_type": "code",
   "execution_count": 24,
   "id": "2366256a-0643-4d9d-85e4-af8aea689293",
   "metadata": {},
   "outputs": [
    {
     "name": "stdout",
     "output_type": "stream",
     "text": [
      "15\n",
      "5\n",
      "1.5\n"
     ]
    }
   ],
   "source": [
    "z=(1,2,3,4,5)\n",
    "i=0\n",
    "sum=0\n",
    "while(i<len(z)):\n",
    "    sum=sum+z[i]  #1+2+3+4+5\n",
    "    i=i+1  #1+1+1+1\n",
    "print(sum)\n",
    "print(len(z))\n",
    "print(sum/len(x))"
   ]
  },
  {
   "cell_type": "code",
   "execution_count": 25,
   "id": "01aa94b8-9994-4e61-8394-b60d5cecb830",
   "metadata": {},
   "outputs": [
    {
     "name": "stdout",
     "output_type": "stream",
     "text": [
      "sum is: 15\n"
     ]
    }
   ],
   "source": [
    "#sum of first 5 nums\n",
    "num=5\n",
    "sum=0\n",
    "i=1\n",
    "while i<=num:\n",
    "    sum=sum+i #i=1,1+2,3+3,6+4,10+5  #0+1,1+2,2+3,3+4,4+5,5+6\n",
    "    i=i+1 #6\n",
    "print(\"sum is:\",sum)\n"
   ]
  },
  {
   "cell_type": "code",
   "execution_count": 26,
   "id": "1c47f18a-1eda-4594-873c-a87d2cae4312",
   "metadata": {},
   "outputs": [
    {
     "name": "stdin",
     "output_type": "stream",
     "text": [
      "enter lower limit 5\n",
      "enter upper limit 10\n"
     ]
    },
    {
     "data": {
      "text/plain": [
       "151200"
      ]
     },
     "execution_count": 26,
     "metadata": {},
     "output_type": "execute_result"
    }
   ],
   "source": [
    "# find factorial of number\n",
    "prod=1\n",
    "x=int(input('enter lower limit'))\n",
    "y=int(input('enter upper limit'))\n",
    "for i in range(x,y+1):  #1,2,3,4\n",
    "    prod=prod*i    #1*1,1*2, 2*3,6*4   #by default lower limit is 1\n",
    "prod  "
   ]
  },
  {
   "cell_type": "code",
   "execution_count": 27,
   "id": "78d1a52a-e096-45d3-8420-21eac213f78a",
   "metadata": {},
   "outputs": [
    {
     "name": "stdout",
     "output_type": "stream",
     "text": [
      "0\n",
      "1\n",
      "2\n"
     ]
    }
   ],
   "source": [
    "count=0\n",
    "while count< 5:\n",
    "    print(count)\n",
    "    count=count+1\n",
    "    if count==3:\n",
    "        break"
   ]
  },
  {
   "cell_type": "code",
   "execution_count": 28,
   "id": "c90429e5-1d2b-4683-a837-abce9975e5fa",
   "metadata": {},
   "outputs": [
    {
     "name": "stdout",
     "output_type": "stream",
     "text": [
      "50\n"
     ]
    }
   ],
   "source": [
    "list=[50,'helloworld',5.2,52,'pythpn']\n",
    "i=0\n",
    "while(i<6):\n",
    "    print(list[i])\n",
    "    i=i+1\n",
    "    if(i==1):\n",
    "        break"
   ]
  },
  {
   "cell_type": "code",
   "execution_count": 29,
   "id": "c8b8a4d4-0cb5-4e57-b589-3a20ba7d93e8",
   "metadata": {},
   "outputs": [
    {
     "name": "stdout",
     "output_type": "stream",
     "text": [
      "A l d n "
     ]
    }
   ],
   "source": [
    "name='Aldn99dkfh'\n",
    "size=len(name)\n",
    "i=0\n",
    "while i<size:\n",
    "    if name[i].isdecimal(): #isdecimal mean any number o-9\n",
    "        break;\n",
    "    print(name[i], end=' ')\n",
    "    i=i+1\n",
    "        "
   ]
  },
  {
   "cell_type": "code",
   "execution_count": 30,
   "id": "72405842-d6b6-4829-8b23-98c8be14dcfa",
   "metadata": {},
   "outputs": [
    {
     "name": "stdin",
     "output_type": "stream",
     "text": [
      "Enter the first number: 5\n",
      "Enter the second number: 23\n"
     ]
    },
    {
     "name": "stdout",
     "output_type": "stream",
     "text": [
      "LCM is: 115\n"
     ]
    }
   ],
   "source": [
    "#find LCM CALCUlator using while loop\n",
    "a=int(input(\"Enter the first number:\"))\n",
    "b=int(input(\"Enter the second number:\"))\n",
    "maximum = max(a, b)\n",
    "# while loop is used whose condition is always true (or 1)\n",
    "while(1):\n",
    "    if(maximum %a==0 and maximum %b==0):\n",
    "        print(\"LCM is:\",maximum)\n",
    "        break\n",
    "    maximum=maximum+1"
   ]
  },
  {
   "cell_type": "code",
   "execution_count": 31,
   "id": "bcf641c1-f3a2-4b11-9a26-61707d16a5c6",
   "metadata": {},
   "outputs": [
    {
     "name": "stdin",
     "output_type": "stream",
     "text": [
      "Please input the first integer: 5\n",
      "Please input the second integer: 3\n"
     ]
    },
    {
     "name": "stdout",
     "output_type": "stream",
     "text": [
      "LCM of 5 and 3 is 15\n"
     ]
    }
   ],
   "source": [
    "#find LCM CALCUlator using for loop\n",
    "\n",
    "num1 = int(input('Please input the first integer:'))\n",
    "num2 = int(input('Please input the second integer:'))\n",
    "for i in range(max(num1, num2), 1 + (num1 * num2)):\n",
    "    if i % num1 == i % num2 == 0:\n",
    "        lcm = i\n",
    "        break\n",
    "print(\"LCM of\", num1, \"and\", num2, \"is\", lcm)\n"
   ]
  },
  {
   "cell_type": "code",
   "execution_count": 32,
   "id": "4c4a36fb-e19a-4495-ae95-7a2b667e385e",
   "metadata": {},
   "outputs": [
    {
     "name": "stdin",
     "output_type": "stream",
     "text": [
      "Please input the first integer: 5\n",
      "Please input the second integer: 6\n"
     ]
    },
    {
     "name": "stdout",
     "output_type": "stream",
     "text": [
      "GCD of 5 and 6 is 1\n"
     ]
    }
   ],
   "source": [
    "#Greatest common divisor using for loop\n",
    "\n",
    "num1 = int(input('Please input the first integer:'))\n",
    "num2 = int(input('Please input the second integer:'))\n",
    "gcd=1\n",
    "for i in range(1, min(num1, num2)):\n",
    "    if num1 % i == 0 and num2 % i == 0:\n",
    "        gcd = i\n",
    "print(\"GCD of\", num1, \"and\", num2, \"is\", gcd)"
   ]
  },
  {
   "cell_type": "code",
   "execution_count": 33,
   "id": "e6f4b266-77a2-433f-88b1-a209a74a243a",
   "metadata": {},
   "outputs": [
    {
     "name": "stdin",
     "output_type": "stream",
     "text": [
      "Please input the first integer: 5\n",
      "Please input the second integer: 3\n"
     ]
    },
    {
     "name": "stdout",
     "output_type": "stream",
     "text": [
      "GCD of 5 and 3 is 1\n"
     ]
    }
   ],
   "source": [
    "#Greatest common divisor using while loop\n",
    "\n",
    "num1 = int(input('Please input the first integer:'))\n",
    "num2 = int(input('Please input the second integer:'))\n",
    "a=num1\n",
    "b=num2\n",
    "while num1 != num2:\n",
    "    if num1> num2:\n",
    "        num1 -= num2\n",
    "    else:\n",
    "        num2 -= num1\n",
    "print(\"GCD of\", a, \"and\", b, \"is\", num1)"
   ]
  },
  {
   "cell_type": "code",
   "execution_count": 34,
   "id": "a4c0b38f-86fe-4417-90c1-302c4f51e86c",
   "metadata": {},
   "outputs": [
    {
     "name": "stdin",
     "output_type": "stream",
     "text": [
      "enter the number : 6\n"
     ]
    },
    {
     "name": "stdout",
     "output_type": "stream",
     "text": [
      "6 is a not prime no\n"
     ]
    }
   ],
   "source": [
    "# find prime number while loop\n",
    "num=int(input(\"enter the number :\"))\n",
    "prime = True\n",
    "for i in range(2, num):\n",
    "    if num%i==0:\n",
    "        prime=False\n",
    "        break\n",
    "if prime:\n",
    "    print(num, \"is a prime no\")\n",
    "else:\n",
    "    print(num, \"is a not prime no\")"
   ]
  },
  {
   "cell_type": "code",
   "execution_count": 35,
   "id": "4f1eaf92-3c84-4776-9a1b-f4160918ae97",
   "metadata": {},
   "outputs": [
    {
     "name": "stdin",
     "output_type": "stream",
     "text": [
      "Enter the value for base : 6\n",
      "Enter the value for exponent : 6\n"
     ]
    },
    {
     "name": "stdout",
     "output_type": "stream",
     "text": [
      "6 to power  6 = 46656\n"
     ]
    }
   ],
   "source": [
    "# calculate power of a number using while loop\n",
    "base = int(input(\"Enter the value for base :\"))\n",
    "exponent = int(input(\"Enter the value for exponent :\"))\n",
    "result=1;\n",
    "print(base,\"to power \",exponent,\"=\",end = ' ')\n",
    "#using while loop with a condition that come out of while loop if exponent is 0\n",
    "while exponent != 0:\n",
    "    result = base * result\n",
    "    exponent-=1\n",
    "print(result)"
   ]
  },
  {
   "cell_type": "code",
   "execution_count": 36,
   "id": "91908bec-ab51-480c-b82b-c0c620b7d8b4",
   "metadata": {},
   "outputs": [
    {
     "name": "stdin",
     "output_type": "stream",
     "text": [
      "enter number 5\n"
     ]
    },
    {
     "name": "stdout",
     "output_type": "stream",
     "text": [
      "5 is a prime number\n"
     ]
    }
   ],
   "source": [
    "# find prime number if-else\n",
    "num=int(input(\"enter number\"))\n",
    "if num == 0 or num == 1:\n",
    "    print(num, \"is not a prime number\")\n",
    "elif num > 1:\n",
    "   # check for factors\n",
    "   for i in range(2,num):\n",
    "       if (num % i) == 0:\n",
    "           print(num,\"is not a prime number\")\n",
    "           print(i,\"times\",num//i,\"is\",num)\n",
    "           break\n",
    "   else:\n",
    "       print(num,\"is a prime number\")\n",
    "       \n",
    "# if input number is less than\n",
    "# or equal to 1, it is not prime\n",
    "else:\n",
    "   print(num,\"is not a prime number\")"
   ]
  },
  {
   "cell_type": "code",
   "execution_count": 37,
   "id": "ba42daa2-d04a-41e0-ac4a-a2a3ba7d00d2",
   "metadata": {},
   "outputs": [
    {
     "name": "stdin",
     "output_type": "stream",
     "text": [
      "enter num 5\n"
     ]
    },
    {
     "name": "stdout",
     "output_type": "stream",
     "text": [
      "0\n",
      "1\n",
      "1\n",
      "2\n",
      "3\n",
      "5\n",
      "8\n"
     ]
    }
   ],
   "source": [
    "#facbonacci series using for loop\n",
    "num = int(input(\"enter num\"))\n",
    "first = 0\n",
    "second = 1\n",
    "print(first)\n",
    "print(second)\n",
    "for x in range(num):\n",
    "    third = first + second\n",
    "    print(third)\n",
    "    first,second=second,third"
   ]
  },
  {
   "cell_type": "code",
   "execution_count": 38,
   "id": "65873879-dde3-4ee7-b885-e66c7f4011fe",
   "metadata": {},
   "outputs": [
    {
     "name": "stdin",
     "output_type": "stream",
     "text": [
      "enter num 5\n"
     ]
    },
    {
     "name": "stdout",
     "output_type": "stream",
     "text": [
      "5\n"
     ]
    }
   ],
   "source": [
    "# sum of digits using while loop\n",
    "\n",
    "num = int(input(\"enter num\"))\n",
    "sum = 0\n",
    "while num > 0:\n",
    "    sum += num % 10\n",
    "    num //= 10\n",
    "print(sum)\n"
   ]
  },
  {
   "cell_type": "code",
   "execution_count": 39,
   "id": "44936153-f7f1-4009-999b-2b8e06ef38f7",
   "metadata": {},
   "outputs": [
    {
     "name": "stdin",
     "output_type": "stream",
     "text": [
      "enter num 6\n"
     ]
    },
    {
     "name": "stdout",
     "output_type": "stream",
     "text": [
      "6\n"
     ]
    }
   ],
   "source": [
    "# sum of digits using for loop\n",
    "num = int(input(\"enter num\"))\n",
    "sum=0\n",
    "for i in str(num):\n",
    "    sum +=int(i)\n",
    "print(sum)    "
   ]
  },
  {
   "cell_type": "code",
   "execution_count": 40,
   "id": "c41d0e81-4a51-4110-8578-cfefba4fa789",
   "metadata": {},
   "outputs": [
    {
     "name": "stdout",
     "output_type": "stream",
     "text": [
      "factorial of a 5 is 120\n"
     ]
    }
   ],
   "source": [
    "#factorial of a number using while loop\n",
    "def factorial(number):\n",
    "    if number==1:\n",
    "        return 1\n",
    "    else:\n",
    "        return number*factorial(number-1)\n",
    "num=5\n",
    "fact=factorial(num)\n",
    "print(\"factorial of a\",num,\"is\",fact)"
   ]
  },
  {
   "cell_type": "code",
   "execution_count": 41,
   "id": "c98802e8-0353-404c-b2cb-ffb919aaf762",
   "metadata": {},
   "outputs": [
    {
     "name": "stdout",
     "output_type": "stream",
     "text": [
      "sum of even numbers is: 2550\n"
     ]
    }
   ],
   "source": [
    "# Sum of even Numbers\n",
    "sum=0\n",
    "for i in range(1,101):\n",
    "    if i%2==0:\n",
    "        sum+=i\n",
    "print(\"sum of even numbers is:\",sum)        \n",
    "        "
   ]
  },
  {
   "cell_type": "code",
   "execution_count": 17,
   "id": "b9f64309-4b66-49db-a31b-cf2333ec89ba",
   "metadata": {},
   "outputs": [
    {
     "name": "stdout",
     "output_type": "stream",
     "text": [
      "0\n",
      "1\n",
      "5\n",
      "no items left\n"
     ]
    }
   ],
   "source": [
    "#for-else loop ,in this first loop execute after that else part will execute\n",
    "digits=[0,1,5]\n",
    "for i in digits:\n",
    "    print(i)\n",
    "else:\n",
    "    print(\"no items left\")"
   ]
  },
  {
   "cell_type": "code",
   "execution_count": 18,
   "id": "12d442e2-256e-471f-b5a6-f64c4ab53e76",
   "metadata": {},
   "outputs": [
    {
     "name": "stdout",
     "output_type": "stream",
     "text": [
      "0 1 2 3 4 5 6 7 8 9 10 the loop stop at 10\n"
     ]
    }
   ],
   "source": [
    "for num in range(11): #0-10\n",
    "    #print(num,end=\"\\n\") # end=\"\\n\" is dilimiter. it print all the element separated in new line\n",
    "    print(num,end=\" \") #print output in same line with space\n",
    "else:\n",
    "    print(\"the loop stop at\",num)"
   ]
  },
  {
   "cell_type": "code",
   "execution_count": 19,
   "id": "e9a5c520-cf76-4606-a5c0-6987ee4fd1e0",
   "metadata": {},
   "outputs": [
    {
     "name": "stdout",
     "output_type": "stream",
     "text": [
      "1\n",
      "2\n",
      "3\n",
      "4\n",
      "5\n",
      "done\n"
     ]
    }
   ],
   "source": [
    "for i in range(1,6):\n",
    "    print(i)\n",
    "else:\n",
    "    print(\"done\")\n"
   ]
  },
  {
   "cell_type": "code",
   "execution_count": null,
   "id": "253651da-d068-47ac-90ba-f7c349061229",
   "metadata": {},
   "outputs": [],
   "source": []
  }
 ],
 "metadata": {
  "kernelspec": {
   "display_name": "Python 3 (ipykernel)",
   "language": "python",
   "name": "python3"
  },
  "language_info": {
   "codemirror_mode": {
    "name": "ipython",
    "version": 3
   },
   "file_extension": ".py",
   "mimetype": "text/x-python",
   "name": "python",
   "nbconvert_exporter": "python",
   "pygments_lexer": "ipython3",
   "version": "3.12.7"
  }
 },
 "nbformat": 4,
 "nbformat_minor": 5
}
