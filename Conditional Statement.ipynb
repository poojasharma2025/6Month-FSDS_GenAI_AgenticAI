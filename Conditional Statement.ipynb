{
 "cells": [
  {
   "cell_type": "markdown",
   "id": "e803afe1-55ca-4af3-a7c3-28db0d2ca0b8",
   "metadata": {},
   "source": [
    "### Conditional Statement\n",
    "1.If statment: it is preceded by If keyword and ended by colon :\n",
    "\n",
    "2.in python, body of if statement is indicated by indentation.python interprate non-zero value as true and 0 and none are interprated as false"
   ]
  },
  {
   "cell_type": "code",
   "execution_count": 1,
   "id": "8b4bb4c1-897b-4a82-a673-196148f6db69",
   "metadata": {},
   "outputs": [
    {
     "name": "stdout",
     "output_type": "stream",
     "text": [
      "Hello\n"
     ]
    }
   ],
   "source": [
    "if True:\n",
    "    print(\"Hello\")"
   ]
  },
  {
   "cell_type": "code",
   "execution_count": 2,
   "id": "8a208429-9619-4186-b095-a4ccca43e5eb",
   "metadata": {},
   "outputs": [],
   "source": [
    "if False:\n",
    "    print('bye')"
   ]
  },
  {
   "cell_type": "code",
   "execution_count": 3,
   "id": "9bfd1fdc-e85a-44c7-b055-0e7e757eb7fb",
   "metadata": {},
   "outputs": [
    {
     "name": "stdout",
     "output_type": "stream",
     "text": [
      "Hello\n",
      "bye for now\n"
     ]
    }
   ],
   "source": [
    "if True:\n",
    "    print(\"Hello\")\n",
    "print('bye for now')"
   ]
  },
  {
   "cell_type": "code",
   "execution_count": 4,
   "id": "a1f69f95-8e05-44c3-b417-7be0f7b69745",
   "metadata": {},
   "outputs": [
    {
     "name": "stdout",
     "output_type": "stream",
     "text": [
      "bye for now\n"
     ]
    }
   ],
   "source": [
    "if False:\n",
    "    print('Hello')\n",
    "print('bye for now')"
   ]
  },
  {
   "cell_type": "code",
   "execution_count": 5,
   "id": "3d8e1265-4f12-43ad-90eb-71908af94d1b",
   "metadata": {},
   "outputs": [
    {
     "name": "stdout",
     "output_type": "stream",
     "text": [
      "Data Science\n"
     ]
    }
   ],
   "source": [
    "if True:\n",
    "    print('Data Science')\n",
    "else:\n",
    "    print('bye for now')"
   ]
  },
  {
   "cell_type": "code",
   "execution_count": 6,
   "id": "a5136a97-9f9b-44a6-a600-aa54d2907353",
   "metadata": {},
   "outputs": [
    {
     "name": "stdout",
     "output_type": "stream",
     "text": [
      "bye for now\n"
     ]
    }
   ],
   "source": [
    "if False:\n",
    "    print('Data Science')\n",
    "else:\n",
    "    print('bye for now')"
   ]
  },
  {
   "cell_type": "markdown",
   "id": "0d79c2e1-021e-489d-9408-501a79369e00",
   "metadata": {},
   "source": [
    "### Write Python code to check wheather number is even or odd"
   ]
  },
  {
   "cell_type": "code",
   "execution_count": 7,
   "id": "2a595458-d3a2-4459-9195-9e469b81ad70",
   "metadata": {},
   "outputs": [
    {
     "name": "stdout",
     "output_type": "stream",
     "text": [
      "Even Number\n"
     ]
    }
   ],
   "source": [
    "x = 4\n",
    "r = x % 2\n",
    "if r == 0:\n",
    "    print('Even Number')"
   ]
  },
  {
   "cell_type": "code",
   "execution_count": 8,
   "id": "ea12084f-3a81-463a-bd9d-ec7936bc0aea",
   "metadata": {},
   "outputs": [],
   "source": [
    "x = 5\n",
    "r = x % 2\n",
    "if r == 0:\n",
    "    print('Even Number')"
   ]
  },
  {
   "cell_type": "code",
   "execution_count": 9,
   "id": "0f1c8047-b6c7-4ee8-895a-2e28f4874614",
   "metadata": {},
   "outputs": [
    {
     "name": "stdout",
     "output_type": "stream",
     "text": [
      "Even Number\n"
     ]
    }
   ],
   "source": [
    "x = 6\n",
    "r = x % 2\n",
    "if r == 0:\n",
    "    print('Even Number')"
   ]
  },
  {
   "cell_type": "code",
   "execution_count": 10,
   "id": "c05d7e04-8365-4cce-893b-738ca694408d",
   "metadata": {},
   "outputs": [
    {
     "name": "stdout",
     "output_type": "stream",
     "text": [
      "Odd Number\n"
     ]
    }
   ],
   "source": [
    "x = 3\n",
    "r = x % 2\n",
    "if r == 0:\n",
    "    print('Even Number')\n",
    "if r == 1:\n",
    "    print('Odd Number')"
   ]
  },
  {
   "cell_type": "code",
   "execution_count": 11,
   "id": "89f38381-f690-43c8-b4f1-af691bc66a88",
   "metadata": {},
   "outputs": [
    {
     "name": "stdout",
     "output_type": "stream",
     "text": [
      "Even number\n"
     ]
    }
   ],
   "source": [
    "x = 6\n",
    "r = x % 2\n",
    "if r == 0:\n",
    "    print('Even number')\n",
    "else:\n",
    "    print('odd number')"
   ]
  },
  {
   "cell_type": "code",
   "execution_count": 12,
   "id": "be355fc8-ba06-4bdd-83af-ec1c5668360b",
   "metadata": {},
   "outputs": [
    {
     "name": "stdout",
     "output_type": "stream",
     "text": [
      "Even Number\n"
     ]
    }
   ],
   "source": [
    "x = 4\n",
    "r = x % 2\n",
    "if r == 0:\n",
    "    print('Even Number')\n",
    "else:\n",
    "    print('odd Number')"
   ]
  },
  {
   "cell_type": "code",
   "execution_count": 13,
   "id": "4bd767bb-0231-4d0d-b220-0ca32cf81587",
   "metadata": {},
   "outputs": [
    {
     "name": "stdout",
     "output_type": "stream",
     "text": [
      "Even Number\n",
      "odd Number\n"
     ]
    }
   ],
   "source": [
    "x = 6\n",
    "r = x %2\n",
    "if r == 0:\n",
    "    print('Even Number')\n",
    "print('odd Number')"
   ]
  },
  {
   "cell_type": "code",
   "execution_count": 14,
   "id": "ad575d73-78c9-4657-b098-0e31fb460185",
   "metadata": {},
   "outputs": [
    {
     "name": "stdout",
     "output_type": "stream",
     "text": [
      "Even Number\n"
     ]
    }
   ],
   "source": [
    "x = 6\n",
    "r = x %2\n",
    "if r == 0:\n",
    "    print('Even Number')\n",
    "else:\n",
    "    print('odd Number')"
   ]
  },
  {
   "cell_type": "code",
   "execution_count": 15,
   "id": "8488fed2-50d7-439c-b29d-39a5f2fbebf3",
   "metadata": {},
   "outputs": [
    {
     "name": "stdout",
     "output_type": "stream",
     "text": [
      "odd number\n"
     ]
    }
   ],
   "source": [
    "x = 5\n",
    "r = x % 2\n",
    "if r == 0: print('Even number')\n",
    "else: print('odd number')"
   ]
  },
  {
   "cell_type": "code",
   "execution_count": 16,
   "id": "510c9820-0216-4c84-aad6-cb64cc86f14a",
   "metadata": {},
   "outputs": [
    {
     "name": "stdout",
     "output_type": "stream",
     "text": [
      "Even Number\n"
     ]
    }
   ],
   "source": [
    "x = 10\n",
    "r = x % 2\n",
    "if r == 0:\n",
    "    print('Even Number')\n",
    "if r == 1:\n",
    "    print('odd Number')"
   ]
  },
  {
   "cell_type": "code",
   "execution_count": 17,
   "id": "036f3a8c-b710-412f-a3e9-dbb0016ff89c",
   "metadata": {},
   "outputs": [
    {
     "name": "stdout",
     "output_type": "stream",
     "text": [
      "odd Number\n"
     ]
    }
   ],
   "source": [
    "x = 9\n",
    "r = x % 2\n",
    "if r == 0:\n",
    "    print('Even Number')\n",
    "if r == 1:\n",
    "    print('odd Number')"
   ]
  },
  {
   "cell_type": "markdown",
   "id": "67c6268a-1970-46c7-aafe-efac45852931",
   "metadata": {},
   "source": [
    "### Nested if"
   ]
  },
  {
   "cell_type": "code",
   "execution_count": 18,
   "id": "947d7671-535d-4720-8e37-bc47e399c952",
   "metadata": {},
   "outputs": [
    {
     "name": "stdout",
     "output_type": "stream",
     "text": [
      "Odd Number\n"
     ]
    }
   ],
   "source": [
    "x = 3\n",
    "r = x % 2\n",
    "if r == 0:\n",
    "    print('Even Number')\n",
    "    if x>5:\n",
    "        print('Greater Number')\n",
    "else:\n",
    "    print('Odd Number')"
   ]
  },
  {
   "cell_type": "code",
   "execution_count": 19,
   "id": "89e326b8-0f0a-4021-be88-2ab85a12e81a",
   "metadata": {},
   "outputs": [
    {
     "name": "stdout",
     "output_type": "stream",
     "text": [
      "Odd Number\n"
     ]
    }
   ],
   "source": [
    "x = 3\n",
    "r = x % 2\n",
    "if r == 0:\n",
    "    print('Even Number')\n",
    "    if x>5:\n",
    "        print('Greater Number')\n",
    "    else:\n",
    "        print('Smaller Number')\n",
    "else:\n",
    "    print('Odd Number')"
   ]
  },
  {
   "cell_type": "code",
   "execution_count": 20,
   "id": "6f9543e4-4fb6-45e6-b600-3b760ed81aad",
   "metadata": {},
   "outputs": [
    {
     "name": "stdout",
     "output_type": "stream",
     "text": [
      "Even Number\n",
      "Greater Number\n"
     ]
    }
   ],
   "source": [
    "x = 6\n",
    "r = x % 2\n",
    "if r == 0:\n",
    "    print('Even Number')\n",
    "    if x>5:\n",
    "        print('Greater Number')\n",
    "    else:\n",
    "        print('Smaller Number')\n",
    "else:\n",
    "    print('Odd Number')"
   ]
  },
  {
   "cell_type": "markdown",
   "id": "74e3ae1a-ccf2-4520-a60c-78786028190d",
   "metadata": {},
   "source": [
    "### if elif else"
   ]
  },
  {
   "cell_type": "code",
   "execution_count": 21,
   "id": "f910e29a-2f79-4005-b5bd-f2db6ec3f559",
   "metadata": {},
   "outputs": [
    {
     "name": "stdout",
     "output_type": "stream",
     "text": [
      "four\n"
     ]
    }
   ],
   "source": [
    "x = 4\n",
    "if x == 1:\n",
    "    print('one')\n",
    "if x == 2:\n",
    "    print('Two')\n",
    "if x == 3:\n",
    "    print('Three')\n",
    "if x == 4:\n",
    "    print('four')"
   ]
  },
  {
   "cell_type": "code",
   "execution_count": 22,
   "id": "8953e471-f09f-4807-ac9b-9e0467037bc1",
   "metadata": {},
   "outputs": [
    {
     "name": "stdout",
     "output_type": "stream",
     "text": [
      "Two\n"
     ]
    }
   ],
   "source": [
    "x = 2\n",
    "if x == 1:\n",
    "    print('one')\n",
    "if x == 2:\n",
    "    print('Two')\n",
    "if x == 3:\n",
    "    print('Three')\n",
    "if x == 4:\n",
    "    print('four')"
   ]
  },
  {
   "cell_type": "code",
   "execution_count": 23,
   "id": "e2bbe174-7945-41ae-8737-f9363447fae4",
   "metadata": {},
   "outputs": [],
   "source": [
    "x = 10\n",
    "if x == 1:\n",
    "    print('one')\n",
    "if x == 2:\n",
    "    print('Two')\n",
    "if x == 3:\n",
    "    print('Three')\n",
    "if x == 4:\n",
    "    print('four')"
   ]
  },
  {
   "cell_type": "code",
   "execution_count": 24,
   "id": "ed613a7e-f653-432b-961e-761b16e600b6",
   "metadata": {},
   "outputs": [
    {
     "name": "stdout",
     "output_type": "stream",
     "text": [
      "Number is Not Found\n"
     ]
    }
   ],
   "source": [
    "x = 10\n",
    "if x == 1:\n",
    "    print('one')\n",
    "elif x == 2:\n",
    "    print('Two')\n",
    "elif x == 3:\n",
    "    print('Three')\n",
    "elif x == 4:\n",
    "    print('four')\n",
    "else:\n",
    "    print('Number is Not Found')"
   ]
  },
  {
   "cell_type": "markdown",
   "id": "37543a40-9d63-461b-8315-0668e40238b5",
   "metadata": {},
   "source": [
    "### check whether a number is positive , negative or zero using input function"
   ]
  },
  {
   "cell_type": "code",
   "execution_count": 25,
   "id": "58c9fa50-1752-46c7-902a-d1a6c25b288a",
   "metadata": {},
   "outputs": [
    {
     "name": "stdin",
     "output_type": "stream",
     "text": [
      "Enter a Number:  5\n"
     ]
    },
    {
     "name": "stdout",
     "output_type": "stream",
     "text": [
      "positive\n"
     ]
    }
   ],
   "source": [
    "num = int(input(\"Enter a Number: \"))\n",
    "if num > 0:\n",
    "    print(\"positive\")\n",
    "elif num < 0:\n",
    "    print(\"Negative\")\n",
    "else:\n",
    "    print(\"Zero\")"
   ]
  },
  {
   "cell_type": "code",
   "execution_count": 26,
   "id": "ca315933-1bd7-4d92-85d1-ad7f0489ff88",
   "metadata": {},
   "outputs": [
    {
     "name": "stdin",
     "output_type": "stream",
     "text": [
      "Enter a Number:  -1\n"
     ]
    },
    {
     "name": "stdout",
     "output_type": "stream",
     "text": [
      "Negative\n"
     ]
    }
   ],
   "source": [
    "num = int(input(\"Enter a Number: \"))\n",
    "if num > 0:\n",
    "    print(\"positive\")\n",
    "elif num < 0:\n",
    "    print(\"Negative\")\n",
    "else:\n",
    "    print(\"Zero\")"
   ]
  },
  {
   "cell_type": "markdown",
   "id": "2e155d3d-da9e-4430-bb5d-bda861568a2a",
   "metadata": {},
   "source": [
    "## ASSIGNMENT"
   ]
  },
  {
   "cell_type": "markdown",
   "id": "69fbc037-b187-4276-b783-f075d4e1f9d3",
   "metadata": {},
   "source": [
    "#### How can you accept an integer as input from the user using input()"
   ]
  },
  {
   "cell_type": "code",
   "execution_count": 27,
   "id": "ae74e8f7-ec28-4eac-9e6f-e5df1121e5be",
   "metadata": {},
   "outputs": [
    {
     "name": "stdin",
     "output_type": "stream",
     "text": [
      "Enter an Integer: 5\n"
     ]
    }
   ],
   "source": [
    "num = int(input(\"Enter an Integer:\"))"
   ]
  },
  {
   "cell_type": "markdown",
   "id": "61d9841c-3e77-4501-b89b-046dcbd6e8c5",
   "metadata": {},
   "source": [
    "#### How do you accept a float input from the user?"
   ]
  },
  {
   "cell_type": "code",
   "execution_count": 30,
   "id": "a1cbd40d-05b9-4b90-971e-ccc3e76cae9d",
   "metadata": {},
   "outputs": [
    {
     "name": "stdin",
     "output_type": "stream",
     "text": [
      "Enter a float: 2.5\n"
     ]
    }
   ],
   "source": [
    "num = float(input(\"Enter a float:\"))"
   ]
  },
  {
   "cell_type": "markdown",
   "id": "2cf668c8-2f93-439a-9951-f7d7d4e29ed6",
   "metadata": {},
   "source": [
    "#### How can you take multiple space-separated values as input?"
   ]
  },
  {
   "cell_type": "code",
   "execution_count": 33,
   "id": "2c6b5919-e3bc-4157-acbf-0045d5fe2d91",
   "metadata": {},
   "outputs": [
    {
     "name": "stdin",
     "output_type": "stream",
     "text": [
      "Enter Values: 123\n"
     ]
    }
   ],
   "source": [
    "values = input(\"Enter Values:\").split()"
   ]
  },
  {
   "cell_type": "markdown",
   "id": "b9cf4e48-7156-4244-ac06-ed051cd84e01",
   "metadata": {},
   "source": [
    "#### How do you check if a number entered by the user is positive,negative, or zero?"
   ]
  },
  {
   "cell_type": "code",
   "execution_count": 35,
   "id": "0011c3ff-3471-4cd6-b0c6-de3120e63869",
   "metadata": {},
   "outputs": [
    {
     "name": "stdin",
     "output_type": "stream",
     "text": [
      "Enter a number: 5\n"
     ]
    },
    {
     "name": "stdout",
     "output_type": "stream",
     "text": [
      "positive\n"
     ]
    }
   ],
   "source": [
    "num = int(input(\"Enter a number:\"))\n",
    "if num > 0:\n",
    "    print(\"positive\")\n",
    "elif num < 0:\n",
    "    print(\"Negative\")\n",
    "else:\n",
    "    print(\"Zero\")"
   ]
  },
  {
   "cell_type": "markdown",
   "id": "008b73ba-1872-4bbf-a8f0-54ff4e2a6275",
   "metadata": {},
   "source": [
    "#### How do you convert user input to a list of integers?"
   ]
  },
  {
   "cell_type": "code",
   "execution_count": 36,
   "id": "cd953e1d-4588-46c4-b5de-c01d0c9698b4",
   "metadata": {},
   "outputs": [
    {
     "name": "stdin",
     "output_type": "stream",
     "text": [
      "Enter Numbers: 1356\n"
     ]
    }
   ],
   "source": [
    "nums = [int(x) for x in input(\"Enter Numbers:\").split()]"
   ]
  },
  {
   "cell_type": "markdown",
   "id": "b2b7ea3d-8809-43b0-8806-30a6fc3c382a",
   "metadata": {},
   "source": [
    "#### How do you accept a string input and print it in uppercase?"
   ]
  },
  {
   "cell_type": "code",
   "execution_count": 37,
   "id": "b0a72b2c-1dda-4cee-89dc-8c9289a75535",
   "metadata": {},
   "outputs": [
    {
     "name": "stdin",
     "output_type": "stream",
     "text": [
      "Enter a string : pooja\n"
     ]
    },
    {
     "name": "stdout",
     "output_type": "stream",
     "text": [
      "POOJA\n"
     ]
    }
   ],
   "source": [
    "user_input = input(\"Enter a string :\")\n",
    "print(user_input.upper())"
   ]
  },
  {
   "cell_type": "markdown",
   "id": "7936294d-d011-4b37-946f-c086780e52ea",
   "metadata": {},
   "source": [
    "#### Write a Python program that accepts a string and prints the number of vowels in it."
   ]
  },
  {
   "cell_type": "code",
   "execution_count": 38,
   "id": "8418725b-b781-47d9-b50e-5aaf3d7957ee",
   "metadata": {},
   "outputs": [
    {
     "name": "stdin",
     "output_type": "stream",
     "text": [
      "Enter a string: poojaaa\n"
     ]
    },
    {
     "name": "stdout",
     "output_type": "stream",
     "text": [
      "Number of Vowels: 5\n"
     ]
    }
   ],
   "source": [
    "text = input(\"Enter a string:\")\n",
    "vowels = \"aeiou\"\n",
    "count = sum(1 for char in text if char.lower()in vowels)\n",
    "print(\"Number of Vowels:\",count)"
   ]
  },
  {
   "cell_type": "markdown",
   "id": "46db1050-a7cf-4bfa-b45e-4eeba0cfa791",
   "metadata": {},
   "source": [
    "#### Write a program that takes a number as input and checks if it is even or odd."
   ]
  },
  {
   "cell_type": "code",
   "execution_count": 40,
   "id": "f164d27b-0654-48b1-b7f3-83f554ee518a",
   "metadata": {},
   "outputs": [
    {
     "name": "stdin",
     "output_type": "stream",
     "text": [
      "Enter a number: 4\n"
     ]
    },
    {
     "name": "stdout",
     "output_type": "stream",
     "text": [
      "Even\n"
     ]
    }
   ],
   "source": [
    "num = int(input(\"Enter a number:\"))\n",
    "if num% 2 ==0:\n",
    "    print(\"Even\")\n",
    "else:\n",
    "    print(\"odd\")"
   ]
  },
  {
   "cell_type": "markdown",
   "id": "be1f5444-5cf5-44c3-bc7d-91188a820449",
   "metadata": {},
   "source": [
    "#### How would you check if a string is a palindrome using input() ?"
   ]
  },
  {
   "cell_type": "code",
   "execution_count": 41,
   "id": "961c00bc-188c-42ca-8aee-3390f55dc1c4",
   "metadata": {},
   "outputs": [
    {
     "ename": "IndentationError",
     "evalue": "expected an indented block after 'if' statement on line 2 (2949944781.py, line 3)",
     "output_type": "error",
     "traceback": [
      "  \u001b[36mCell\u001b[39m\u001b[36m \u001b[39m\u001b[32mIn[41]\u001b[39m\u001b[32m, line 3\u001b[39m\n\u001b[31m    \u001b[39m\u001b[31mprint(\"palindrome\")\u001b[39m\n    ^\n\u001b[31mIndentationError\u001b[39m\u001b[31m:\u001b[39m expected an indented block after 'if' statement on line 2\n"
     ]
    }
   ],
   "source": [
    "text = input(\"Enter a string: \")\n",
    "if text == text[::-1]:\n",
    "print(\"palindrome\")\n",
    "else:\n",
    "print(\"Not Palindrome\")"
   ]
  },
  {
   "cell_type": "code",
   "execution_count": 42,
   "id": "37ecc5d1-1a3f-48c6-b800-6b0a333ac352",
   "metadata": {},
   "outputs": [
    {
     "name": "stdin",
     "output_type": "stream",
     "text": [
      "Enter a string:  aaa\n"
     ]
    },
    {
     "name": "stdout",
     "output_type": "stream",
     "text": [
      "palindrome\n"
     ]
    }
   ],
   "source": [
    "text = input(\"Enter a string: \")\n",
    "if text == text[::-1]:\n",
    "    print(\"palindrome\")\n",
    "else:\n",
    "    print(\"Not Palindrome\")"
   ]
  },
  {
   "cell_type": "markdown",
   "id": "21debbcd-a8e8-42c0-aa01-26711d092ab6",
   "metadata": {},
   "source": [
    "#### Write a program that takes a number as input and prints its square"
   ]
  },
  {
   "cell_type": "code",
   "execution_count": 43,
   "id": "b56892e7-8246-445a-a867-d02cb9e357d7",
   "metadata": {},
   "outputs": [
    {
     "name": "stdin",
     "output_type": "stream",
     "text": [
      "Enter a Number: 5\n"
     ]
    },
    {
     "name": "stdout",
     "output_type": "stream",
     "text": [
      "Square: 25\n"
     ]
    }
   ],
   "source": [
    "num = int(input(\"Enter a Number:\"))\n",
    "print(\"Square:\", num **2)"
   ]
  },
  {
   "cell_type": "markdown",
   "id": "c1892504-56bb-41a5-90da-3bec3d19dea7",
   "metadata": {},
   "source": [
    "#### Write a program that asks for a number and prints whether it is divisible by 3."
   ]
  },
  {
   "cell_type": "code",
   "execution_count": 45,
   "id": "1cea74ff-d251-4e7d-91b6-73872ad7bef6",
   "metadata": {},
   "outputs": [
    {
     "name": "stdin",
     "output_type": "stream",
     "text": [
      "Enter a Number:  15\n"
     ]
    },
    {
     "name": "stdout",
     "output_type": "stream",
     "text": [
      "Divisible by 3\n"
     ]
    }
   ],
   "source": [
    "num = int(input(\"Enter a Number: \"))\n",
    "if num % 3 == 0:\n",
    "    print(\"Divisible by 3\")\n",
    "else:\n",
    "    print(\"Not Divisible by 3\")"
   ]
  },
  {
   "cell_type": "markdown",
   "id": "dba50964-067b-446e-80ff-727c2aff6752",
   "metadata": {},
   "source": [
    "#### How would you check if a number is divisible by both 3 and 7?"
   ]
  },
  {
   "cell_type": "code",
   "execution_count": 47,
   "id": "6acb6240-9694-4582-ba2a-c8273bcb6cb3",
   "metadata": {},
   "outputs": [
    {
     "name": "stdin",
     "output_type": "stream",
     "text": [
      "Enter a number:  21\n"
     ]
    },
    {
     "name": "stdout",
     "output_type": "stream",
     "text": [
      "Divisible by 3 and 7\n"
     ]
    }
   ],
   "source": [
    "num = int(input(\"Enter a number: \"))\n",
    "if num % 3 == 0 and num % 7 == 0:\n",
    "    print(\"Divisible by 3 and 7\")\n",
    "else:\n",
    "    print(\"Not Divisible by 3 and 7\")"
   ]
  },
  {
   "cell_type": "markdown",
   "id": "522bcacd-aad8-4853-9b01-c4d441f15056",
   "metadata": {},
   "source": [
    "#### How do you accept a list of comma-separated values as input?"
   ]
  },
  {
   "cell_type": "code",
   "execution_count": 50,
   "id": "d7dceba4-4aba-45ae-948e-6232602666c0",
   "metadata": {},
   "outputs": [
    {
     "name": "stdin",
     "output_type": "stream",
     "text": [
      "Enter Comma-Separetedd Values:  pooja,sharma\n"
     ]
    }
   ],
   "source": [
    "values = input(\"Enter Comma-Separetedd Values: \").split(',')"
   ]
  },
  {
   "cell_type": "markdown",
   "id": "80cedcd5-8f73-49c3-9b5c-58d2ac8a4c8b",
   "metadata": {},
   "source": [
    "#### Write a Python program that takes two numbers as input and prints their product."
   ]
  },
  {
   "cell_type": "code",
   "execution_count": 51,
   "id": "c445a567-4167-4e5e-92ab-66dd6aca3dcc",
   "metadata": {},
   "outputs": [
    {
     "name": "stdin",
     "output_type": "stream",
     "text": [
      "Enter first number:  5\n",
      "Enter second number:  5\n"
     ]
    },
    {
     "name": "stdout",
     "output_type": "stream",
     "text": [
      "Product: 25\n"
     ]
    }
   ],
   "source": [
    "num1 = int(input(\"Enter first number: \"))\n",
    "num2 = int(input(\"Enter second number: \"))\n",
    "print(\"Product:\", num1 * num2)"
   ]
  },
  {
   "cell_type": "markdown",
   "id": "0ee4cd85-2b00-4aed-833f-b5140db52687",
   "metadata": {},
   "source": [
    "#### Write a program that checks if the input number is a prime number."
   ]
  },
  {
   "cell_type": "code",
   "execution_count": 55,
   "id": "f5b695e3-82f1-4a55-9414-069021e68e9e",
   "metadata": {},
   "outputs": [
    {
     "name": "stdin",
     "output_type": "stream",
     "text": [
      "Enter a number:  5\n"
     ]
    },
    {
     "name": "stdout",
     "output_type": "stream",
     "text": [
      "Prime number\n"
     ]
    }
   ],
   "source": [
    "num = int(input(\"Enter a number: \"))\n",
    "if num > 1:\n",
    "    for i in range(2, num):\n",
    "        if num % i == 0:\n",
    "            print(\"Not a prime number\")\n",
    "            break\n",
    "    else:\n",
    "        print(\"Prime number\")\n",
    "else:\n",
    "    print(\"Not a prime number\")"
   ]
  },
  {
   "cell_type": "markdown",
   "id": "ab6eee26-5bde-4796-b613-871b503776c9",
   "metadata": {},
   "source": [
    "#### How can you accept a boolean value (True/False) from the user?"
   ]
  },
  {
   "cell_type": "code",
   "execution_count": 58,
   "id": "2de2624d-d7ba-467e-bde1-98ec92317dff",
   "metadata": {},
   "outputs": [
    {
     "name": "stdin",
     "output_type": "stream",
     "text": [
      "Enter True or False:  true\n"
     ]
    }
   ],
   "source": [
    "user_input = input(\"Enter True or False: \").lower() == \"true\""
   ]
  },
  {
   "cell_type": "markdown",
   "id": "4fc2af00-b833-4ec3-8cad-6e5801d3fe3e",
   "metadata": {},
   "source": [
    "#### Write a program that accepts a string and prints the reverse of that string."
   ]
  },
  {
   "cell_type": "code",
   "execution_count": 59,
   "id": "2fc837ed-4bc9-435f-a6e5-3a758a6995a1",
   "metadata": {},
   "outputs": [
    {
     "name": "stdin",
     "output_type": "stream",
     "text": [
      "Enter a string: pooja\n"
     ]
    },
    {
     "name": "stdout",
     "output_type": "stream",
     "text": [
      "Reversed String: ajoop\n"
     ]
    }
   ],
   "source": [
    "user_input = input(\"Enter a string:\")\n",
    "print(\"Reversed String:\", user_input[::-1])"
   ]
  },
  {
   "cell_type": "markdown",
   "id": "320aff00-d623-42f1-a5ba-e9d8ef832258",
   "metadata": {},
   "source": [
    "#### Write a program that asks for a user's name and age and prints a message."
   ]
  },
  {
   "cell_type": "code",
   "execution_count": 60,
   "id": "515960ec-87ff-4214-a98a-96095127c223",
   "metadata": {},
   "outputs": [
    {
     "name": "stdin",
     "output_type": "stream",
     "text": [
      "Enter your name:  pooja\n",
      "Enter your age:  21\n"
     ]
    },
    {
     "name": "stdout",
     "output_type": "stream",
     "text": [
      "Hello, pooja. You are 21 years old.\n"
     ]
    }
   ],
   "source": [
    "name = input(\"Enter your name: \")\n",
    "age = int(input(\"Enter your age: \"))\n",
    "print(f\"Hello, {name}. You are {age} years old.\")"
   ]
  },
  {
   "cell_type": "markdown",
   "id": "704ebcae-717d-4dda-92be-85c63aa947e8",
   "metadata": {},
   "source": [
    "#### Write a program to calculate the factorial of a number using input()"
   ]
  },
  {
   "cell_type": "code",
   "execution_count": 64,
   "id": "ce556903-6c19-4c23-9b8b-8dd410d62c0c",
   "metadata": {},
   "outputs": [
    {
     "name": "stdin",
     "output_type": "stream",
     "text": [
      "Enter a number:  5\n"
     ]
    },
    {
     "name": "stdout",
     "output_type": "stream",
     "text": [
      "Factorial: 120\n"
     ]
    }
   ],
   "source": [
    "num = int(input(\"Enter a number: \"))\n",
    "factorial = 1\n",
    "for i in range(1, num + 1):\n",
    "    factorial *= i\n",
    "print(\"Factorial:\", factorial)"
   ]
  },
  {
   "cell_type": "markdown",
   "id": "8fbd871d-de4e-4419-b9a4-0b1fb418bb3e",
   "metadata": {},
   "source": [
    "#### How do you prevent a user from entering an empty string?"
   ]
  },
  {
   "cell_type": "code",
   "execution_count": 66,
   "id": "1cf9e792-b3c8-4dc3-83a1-e4ca74f179ea",
   "metadata": {},
   "outputs": [
    {
     "name": "stdin",
     "output_type": "stream",
     "text": [
      "Enter Something : pooja_sharma\n"
     ]
    },
    {
     "name": "stdout",
     "output_type": "stream",
     "text": [
      "You Entered: pooja_sharma\n"
     ]
    }
   ],
   "source": [
    "user_input = input(\"Enter Something :\").strip()\n",
    "if not user_input:\n",
    "    print(\"Input Caannot be Empty.\")\n",
    "else:\n",
    "    print(f\"You Entered: {user_input}\")"
   ]
  },
  {
   "cell_type": "markdown",
   "id": "a6154b00-99b7-49c3-aa7d-151cb0cb6e6a",
   "metadata": {},
   "source": [
    "#### Write a program to check if an entered number is a perfect square"
   ]
  },
  {
   "cell_type": "code",
   "execution_count": 68,
   "id": "84fe91de-e64f-481f-9625-15bd87629c78",
   "metadata": {},
   "outputs": [
    {
     "name": "stdin",
     "output_type": "stream",
     "text": [
      "Enter a number:  5\n"
     ]
    },
    {
     "name": "stdout",
     "output_type": "stream",
     "text": [
      "Not a Perfect Square\n"
     ]
    }
   ],
   "source": [
    "import math\n",
    "num = int(input(\"Enter a number: \"))\n",
    "if math.isqrt(num) ** 2 == num:\n",
    "    print(\"Perfect Square\")\n",
    "else:\n",
    "    print(\"Not a Perfect Square\")"
   ]
  },
  {
   "cell_type": "markdown",
   "id": "739fb223-5a2b-41bc-aa53-a2580939fc23",
   "metadata": {},
   "source": [
    "#### Write a program that asks the user for a year and determines if it's a leap year."
   ]
  },
  {
   "cell_type": "code",
   "execution_count": 70,
   "id": "87a32bc5-9468-4266-a9bc-d53c5639e8b5",
   "metadata": {},
   "outputs": [
    {
     "name": "stdin",
     "output_type": "stream",
     "text": [
      "Enter Year 2012\n"
     ]
    },
    {
     "name": "stdout",
     "output_type": "stream",
     "text": [
      "Leap Year\n"
     ]
    }
   ],
   "source": [
    "year = int(input(\"Enter Year\"))\n",
    "if(year % 4 == 0 and year %100!=0) or (year %400 == 0):\n",
    "    print(\"Leap Year\")\n",
    "else:\n",
    "    print(\"Not a Leap Year\")"
   ]
  },
  {
   "cell_type": "markdown",
   "id": "2b5a74e8-065e-445a-a17a-32c967db3aaf",
   "metadata": {},
   "source": [
    "#### How can you remove leading and trailing spaces from a string input?"
   ]
  },
  {
   "cell_type": "code",
   "execution_count": 80,
   "id": "ba33a477-40fc-4ae9-88d4-c0879ce73905",
   "metadata": {},
   "outputs": [
    {
     "name": "stdin",
     "output_type": "stream",
     "text": [
      "Enter Something:   pooja sharma\n"
     ]
    },
    {
     "name": "stdout",
     "output_type": "stream",
     "text": [
      "pooja sharma\n"
     ]
    }
   ],
   "source": [
    "user_input = input(\"Enter Something:\").strip()\n",
    "print(user_input)"
   ]
  },
  {
   "cell_type": "markdown",
   "id": "be2a9c92-7044-47c8-aa46-fda7ab5476f8",
   "metadata": {},
   "source": [
    "#### How do you handle incorrect inputs when you expect an integer using input() ?"
   ]
  },
  {
   "cell_type": "code",
   "execution_count": 75,
   "id": "17e87815-ac78-4c29-905a-4e103c62b345",
   "metadata": {},
   "outputs": [
    {
     "name": "stdin",
     "output_type": "stream",
     "text": [
      "Enter a number: skjd\n"
     ]
    },
    {
     "name": "stdout",
     "output_type": "stream",
     "text": [
      "Invalid input! Please enter a valid integer.\n"
     ]
    }
   ],
   "source": [
    "try:\n",
    "    num = int(input(\"Enter a number:\"))\n",
    "except ValueError:\n",
    "    print(\"Invalid input! Please enter a valid integer.\")\n"
   ]
  },
  {
   "cell_type": "markdown",
   "id": "e284b188-ff90-47a6-b51b-52196e4bdc58",
   "metadata": {},
   "source": [
    "#### Write a program that accepts a string and counts the occurrence of a particular character."
   ]
  },
  {
   "cell_type": "code",
   "execution_count": 76,
   "id": "fa7e920f-0111-47ab-ac7e-e732cbe956c5",
   "metadata": {},
   "outputs": [
    {
     "name": "stdin",
     "output_type": "stream",
     "text": [
      "Enter a string: pooja\n",
      "Enter a Character to Count o\n"
     ]
    },
    {
     "name": "stdout",
     "output_type": "stream",
     "text": [
      "Occurrence of o: 2\n"
     ]
    }
   ],
   "source": [
    "text = input(\"Enter a string:\")\n",
    "char = input(\"Enter a Character to Count\")\n",
    "print(f\"Occurrence of {char}: {text.count(char)}\")"
   ]
  },
  {
   "cell_type": "markdown",
   "id": "2bc445f0-5737-4336-8c40-f2924cf7a013",
   "metadata": {},
   "source": [
    "#### How would you convert user input to lowercase using `input()?"
   ]
  },
  {
   "cell_type": "code",
   "execution_count": 79,
   "id": "0ec367d6-b693-4a28-a348-542153838dda",
   "metadata": {},
   "outputs": [
    {
     "name": "stdin",
     "output_type": "stream",
     "text": [
      "Enter a String: Pooja\n"
     ]
    },
    {
     "name": "stdout",
     "output_type": "stream",
     "text": [
      "pooja\n"
     ]
    }
   ],
   "source": [
    "user_input = input(\"Enter a String:\").lower()\n",
    "print(user_input)"
   ]
  },
  {
   "cell_type": "markdown",
   "id": "4d58b2b2-4f87-409e-b41d-eca9c4a8d521",
   "metadata": {},
   "source": [
    "#### Write a program that accepts a number and prints whether it is a multiple of 10."
   ]
  },
  {
   "cell_type": "code",
   "execution_count": 82,
   "id": "9048645b-f0b3-4445-b757-7147a1041c37",
   "metadata": {},
   "outputs": [
    {
     "name": "stdin",
     "output_type": "stream",
     "text": [
      "Enter a number: 100\n"
     ]
    },
    {
     "name": "stdout",
     "output_type": "stream",
     "text": [
      "Multiple of 10\n"
     ]
    }
   ],
   "source": [
    "num = int(input(\"Enter a number:\"))\n",
    "if num % 10==0:\n",
    "    print(\"Multiple of 10\")\n",
    "else:\n",
    "    print(\"Not a Multiple of 10\")"
   ]
  },
  {
   "cell_type": "markdown",
   "id": "2935ae91-e57b-40b7-aa6e-7addc445dc00",
   "metadata": {},
   "source": [
    "#### How would you check if a string contains only alphabets using input() ?"
   ]
  },
  {
   "cell_type": "code",
   "execution_count": 84,
   "id": "dfe83603-c2fc-43b2-92e8-93b836ecd399",
   "metadata": {},
   "outputs": [
    {
     "name": "stdin",
     "output_type": "stream",
     "text": [
      "Enter a string:  pooja123\n"
     ]
    },
    {
     "name": "stdout",
     "output_type": "stream",
     "text": [
      "Contains non-alphabet characters\n"
     ]
    }
   ],
   "source": [
    "user_input = input(\"Enter a string: \")\n",
    "if user_input.isalpha():\n",
    "    print(\"Only alphabets\")\n",
    "else:\n",
    "    print(\"Contains non-alphabet characters\")"
   ]
  },
  {
   "cell_type": "code",
   "execution_count": 86,
   "id": "a422a26b-2985-4fc5-8a39-c065bd5df0f9",
   "metadata": {},
   "outputs": [
    {
     "name": "stdin",
     "output_type": "stream",
     "text": [
      "Enter a string:  Pooja\n"
     ]
    },
    {
     "name": "stdout",
     "output_type": "stream",
     "text": [
      "Only alphabets\n"
     ]
    }
   ],
   "source": [
    "user_input = input(\"Enter a string: \")\n",
    "if user_input.isalpha():\n",
    "    print(\"Only alphabets\")\n",
    "else:\n",
    "    print(\"Contains non-alphabet characters\")"
   ]
  },
  {
   "cell_type": "markdown",
   "id": "b8c75762-fab4-4bd0-b083-aa6f3bfc850e",
   "metadata": {},
   "source": [
    "#### Write a program to count the number of words in a sentence entered by the user"
   ]
  },
  {
   "cell_type": "code",
   "execution_count": 87,
   "id": "613ff661-0ee2-424a-944b-9d355461f7dd",
   "metadata": {},
   "outputs": [
    {
     "name": "stdin",
     "output_type": "stream",
     "text": [
      "Enter a Sentence:  pooja is learning full stack data science from mr. prakash senapati sir\n"
     ]
    },
    {
     "name": "stdout",
     "output_type": "stream",
     "text": [
      "Number of Words: 12\n"
     ]
    }
   ],
   "source": [
    "text = input(\"Enter a Sentence: \")\n",
    "print(\"Number of Words:\",len(text.split()))"
   ]
  },
  {
   "cell_type": "markdown",
   "id": "162a566a-371b-4624-ab7c-5885b303fce4",
   "metadata": {},
   "source": [
    "#### How would you accept a date input from the user in Python?"
   ]
  },
  {
   "cell_type": "code",
   "execution_count": 92,
   "id": "182ca84b-d58e-4dc6-a71b-4cd5466d443e",
   "metadata": {},
   "outputs": [
    {
     "name": "stdin",
     "output_type": "stream",
     "text": [
      "Enter a date (YYYY-MM-DD):  2022-12-12\n"
     ]
    },
    {
     "name": "stdout",
     "output_type": "stream",
     "text": [
      "Entered date: 2022-12-12 00:00:00\n"
     ]
    }
   ],
   "source": [
    "## from datetime import datetime\n",
    "date_str = input(\"Enter a date (YYYY-MM-DD): \")\n",
    "date = datetime.strptime(date_str, \"%Y-%m-%d\")\n",
    "print(\"Entered date:\", date)"
   ]
  },
  {
   "cell_type": "markdown",
   "id": "f9cbcf0b-32fd-4602-96a7-92ca78246bd8",
   "metadata": {},
   "source": [
    "#### Write a program that checks if the entered number is divisible by both 3 and 5."
   ]
  },
  {
   "cell_type": "code",
   "execution_count": 91,
   "id": "24d0af46-788e-48e6-afd1-eebc50291154",
   "metadata": {},
   "outputs": [
    {
     "name": "stdin",
     "output_type": "stream",
     "text": [
      "Enter a number: 15\n"
     ]
    },
    {
     "name": "stdout",
     "output_type": "stream",
     "text": [
      "Divisible by both 3 and 5\n"
     ]
    }
   ],
   "source": [
    "num = int(input(\"Enter a number:\"))\n",
    "if num % 3 == 0 and num % 5 == 0:\n",
    "    print(\"Divisible by both 3 and 5\")\n",
    "else:\n",
    "    print(\"Not Divisible by both 3 and 5\")"
   ]
  },
  {
   "cell_type": "markdown",
   "id": "c44919e7-06be-4ccb-9ddc-9d45a72adf84",
   "metadata": {},
   "source": [
    "#### Write a program to swap the values of two variables using input() ?"
   ]
  },
  {
   "cell_type": "code",
   "execution_count": 93,
   "id": "6ac569ce-372e-42a2-8d04-c622cc716cf2",
   "metadata": {},
   "outputs": [
    {
     "name": "stdin",
     "output_type": "stream",
     "text": [
      "Enter First Value: 12\n",
      "Enter Second Value: 25\n"
     ]
    },
    {
     "name": "stdout",
     "output_type": "stream",
     "text": [
      "Swapped Values: a = 25, b =12\n"
     ]
    }
   ],
   "source": [
    "a = input(\"Enter First Value:\")\n",
    "b = input(\"Enter Second Value:\")\n",
    "a,b = b,a\n",
    "print(f\"Swapped Values: a = {a}, b ={b}\")"
   ]
  },
  {
   "cell_type": "markdown",
   "id": "6415229c-2dde-4041-af2f-37839f1ddb5b",
   "metadata": {},
   "source": [
    "#### Write a program to take user input and print it without spaces between words."
   ]
  },
  {
   "cell_type": "code",
   "execution_count": 95,
   "id": "734c0230-87c6-43ba-88cc-876575529e82",
   "metadata": {},
   "outputs": [
    {
     "name": "stdin",
     "output_type": "stream",
     "text": [
      "Enter a string: pooja sharma\n"
     ]
    },
    {
     "name": "stdout",
     "output_type": "stream",
     "text": [
      "poojasharma\n"
     ]
    }
   ],
   "source": [
    "user_input = input(\"Enter a string:\")\n",
    "print(user_input.replace(\" \",\"\"))"
   ]
  },
  {
   "cell_type": "markdown",
   "id": "cbe23cb8-9ea3-47f9-bea9-dc1ab8316e13",
   "metadata": {},
   "source": [
    "#### How do you validate if an entered input is a valid email address?"
   ]
  },
  {
   "cell_type": "code",
   "execution_count": 96,
   "id": "288409a8-c427-4c92-887e-5ea26e851c25",
   "metadata": {},
   "outputs": [
    {
     "name": "stdin",
     "output_type": "stream",
     "text": [
      "Enter Email:  pooja@yahoo.com\n"
     ]
    },
    {
     "name": "stdout",
     "output_type": "stream",
     "text": [
      "Valid Email\n"
     ]
    }
   ],
   "source": [
    "import re\n",
    "email = input(\"Enter Email: \")\n",
    "if re.match(r\"[^@]+@[^@]+\\.[^@]+\", email):\n",
    "    print(\"Valid Email\")\n",
    "else:\n",
    "    print(\"Invalid Email\")"
   ]
  },
  {
   "cell_type": "markdown",
   "id": "bedf4669-724f-49cb-85d5-7df211fc8609",
   "metadata": {},
   "source": [
    "#### Write a program that accepts a number and prints its cube."
   ]
  },
  {
   "cell_type": "code",
   "execution_count": 97,
   "id": "63907663-c8d1-47f7-b7a5-2ac224d836f2",
   "metadata": {},
   "outputs": [
    {
     "name": "stdin",
     "output_type": "stream",
     "text": [
      "Enter a number:  5\n"
     ]
    },
    {
     "name": "stdout",
     "output_type": "stream",
     "text": [
      "Cube: 125\n"
     ]
    }
   ],
   "source": [
    "num = int(input(\"Enter a number: \"))\n",
    "print(\"Cube:\", num ** 3)"
   ]
  },
  {
   "cell_type": "markdown",
   "id": "0b1fdd00-e94b-46cf-a6fc-93db2b42f3dc",
   "metadata": {},
   "source": [
    "#### How would you accept and store multiple names from the user?"
   ]
  },
  {
   "cell_type": "code",
   "execution_count": 98,
   "id": "e13ad4e9-1597-4b9e-803a-e9419bc03a02",
   "metadata": {},
   "outputs": [
    {
     "name": "stdin",
     "output_type": "stream",
     "text": [
      "Enter names separated by commas:  pooja,sharma\n"
     ]
    },
    {
     "name": "stdout",
     "output_type": "stream",
     "text": [
      "Names: ['pooja', 'sharma']\n"
     ]
    }
   ],
   "source": [
    "names = input(\"Enter names separated by commas: \").split(',')\n",
    "print(\"Names:\", names)"
   ]
  },
  {
   "cell_type": "code",
   "execution_count": 99,
   "id": "f98641ff-8cb1-4a0e-ab47-e9e0e9d5450f",
   "metadata": {},
   "outputs": [
    {
     "name": "stdin",
     "output_type": "stream",
     "text": [
      "Enter names separated by commas:  pooja sharma\n"
     ]
    },
    {
     "name": "stdout",
     "output_type": "stream",
     "text": [
      "Names: ['pooja sharma']\n"
     ]
    }
   ],
   "source": [
    "names = input(\"Enter names separated by commas: \").split(',')\n",
    "print(\"Names:\", names)"
   ]
  },
  {
   "cell_type": "markdown",
   "id": "ec9776a3-d67d-4b93-bd53-ade9774ddf6d",
   "metadata": {},
   "source": [
    "#### How would you extract numbers from a string entered by the user?"
   ]
  },
  {
   "cell_type": "code",
   "execution_count": 101,
   "id": "52e95fe5-a029-40e1-ac5c-4a9b11686cd1",
   "metadata": {},
   "outputs": [
    {
     "name": "stdin",
     "output_type": "stream",
     "text": [
      "Enter a String: pooja\n"
     ]
    },
    {
     "name": "stdout",
     "output_type": "stream",
     "text": [
      "Extracted numbers: []\n"
     ]
    }
   ],
   "source": [
    "import re\n",
    "text = input(\"Enter a String:\")\n",
    "numbers = re.findall(r'\\d+', text)\n",
    "print(\"Extracted numbers:\", numbers)"
   ]
  },
  {
   "cell_type": "markdown",
   "id": "205db5af-4786-49c6-a053-42b03fdc634f",
   "metadata": {},
   "source": [
    "#### How do you find the maximum number from a list of integers entered by the user?"
   ]
  },
  {
   "cell_type": "code",
   "execution_count": 106,
   "id": "aec76125-7d85-4f8d-a75b-e65c3ae93681",
   "metadata": {},
   "outputs": [
    {
     "name": "stdin",
     "output_type": "stream",
     "text": [
      "Enter numbers separated by spaces: 12 35 63 45 63\n"
     ]
    },
    {
     "name": "stdout",
     "output_type": "stream",
     "text": [
      "Maximum number. 63\n"
     ]
    }
   ],
   "source": [
    "numbers = list(map(int,input(\"Enter numbers separated by spaces:\").split()))\n",
    "print(\"Maximum number.\",max(numbers))"
   ]
  },
  {
   "cell_type": "markdown",
   "id": "14a48998-f79e-4098-9136-ca3603daf6d2",
   "metadata": {},
   "source": [
    "#### How would you `prompt the user for input until they enter a valid number?"
   ]
  },
  {
   "cell_type": "code",
   "execution_count": 112,
   "id": "43c4a98f-4011-4d97-aa24-81dd8df7a2ae",
   "metadata": {},
   "outputs": [
    {
     "name": "stdin",
     "output_type": "stream",
     "text": [
      "Enter a valid number:  klsdaj\n"
     ]
    },
    {
     "name": "stdout",
     "output_type": "stream",
     "text": [
      "Invalid input, please enter a number.\n"
     ]
    },
    {
     "name": "stdin",
     "output_type": "stream",
     "text": [
      "Enter a valid number:  sadsa\n"
     ]
    },
    {
     "name": "stdout",
     "output_type": "stream",
     "text": [
      "Invalid input, please enter a number.\n"
     ]
    },
    {
     "name": "stdin",
     "output_type": "stream",
     "text": [
      "Enter a valid number:  125\n"
     ]
    }
   ],
   "source": [
    "while True:\n",
    "    \n",
    "    try:\n",
    "        num = int(input(\"Enter a valid number: \"))\n",
    "        break\n",
    "    except ValueError:\n",
    "        print(\"Invalid input, please enter a number.\")"
   ]
  },
  {
   "cell_type": "markdown",
   "id": "ebcea28f-54a4-4d54-81fe-9a90861443bd",
   "metadata": {},
   "source": [
    "#### Write a program to check if the entered string has digits?"
   ]
  },
  {
   "cell_type": "code",
   "execution_count": 114,
   "id": "05aed8b6-de84-40af-9411-19b90620dc17",
   "metadata": {},
   "outputs": [
    {
     "name": "stdin",
     "output_type": "stream",
     "text": [
      "Enter a string:  poojasharma\n"
     ]
    },
    {
     "name": "stdout",
     "output_type": "stream",
     "text": [
      "No digits\n"
     ]
    }
   ],
   "source": [
    "user_input = input(\"Enter a string: \")\n",
    "if any(char.isdigit() for char in user_input):\n",
    "    print(\"Contains digits\")\n",
    "else:\n",
    "    print(\"No digits\")"
   ]
  },
  {
   "cell_type": "markdown",
   "id": "6979a41c-174a-44b8-8ace-eaa70739ac9e",
   "metadata": {},
   "source": [
    "#### Write a program to check if the entered string has only whitespace characters."
   ]
  },
  {
   "cell_type": "code",
   "execution_count": 116,
   "id": "6bc910ad-d6e5-4f42-973c-0f28702e8e5b",
   "metadata": {},
   "outputs": [
    {
     "name": "stdin",
     "output_type": "stream",
     "text": [
      "Enter a string:     pooja sharma\n"
     ]
    },
    {
     "name": "stdout",
     "output_type": "stream",
     "text": [
      "Contains non-whitespace characters\n"
     ]
    }
   ],
   "source": [
    "user_input = input(\"Enter a string: \")\n",
    "if user_input.isspace():\n",
    "    print(\"Only whitespace\")\n",
    "else:\n",
    "    print(\"Contains non-whitespace characters\")"
   ]
  },
  {
   "cell_type": "markdown",
   "id": "e2d59903-8ec9-40b5-b32e-8fb36d8ea0f0",
   "metadata": {},
   "source": [
    "#### Write a program to find the sum of all digits in a string entered by the user?"
   ]
  },
  {
   "cell_type": "code",
   "execution_count": 119,
   "id": "19e1c989-c5a1-4766-96d4-255aaef75142",
   "metadata": {},
   "outputs": [
    {
     "name": "stdin",
     "output_type": "stream",
     "text": [
      "Enter a NUMERS:  12254\n"
     ]
    },
    {
     "name": "stdout",
     "output_type": "stream",
     "text": [
      "Sum of digits: 14\n"
     ]
    }
   ],
   "source": [
    "text = input(\"Enter a NUMERS: \")\n",
    "digit_sum = sum(int(digit) for digit in text if digit.isdigit())\n",
    "print(\"Sum of digits:\", digit_sum)"
   ]
  },
  {
   "cell_type": "markdown",
   "id": "19bfe2e3-8ca5-4a3e-ab41-9853d27c0748",
   "metadata": {},
   "source": [
    "#### Write a program that accepts a number and prints its absolute value?"
   ]
  },
  {
   "cell_type": "code",
   "execution_count": 120,
   "id": "038e1c22-6543-4ed4-b7f5-008fdc71f747",
   "metadata": {},
   "outputs": [
    {
     "name": "stdin",
     "output_type": "stream",
     "text": [
      "Enter a number:  -54\n"
     ]
    },
    {
     "name": "stdout",
     "output_type": "stream",
     "text": [
      "Absolute value: 54\n"
     ]
    }
   ],
   "source": [
    "num = int(input(\"Enter a number: \"))\n",
    "print(\"Absolute value:\", abs(num))"
   ]
  },
  {
   "cell_type": "markdown",
   "id": "46342eba-3544-45ce-9e96-babc7469aaf4",
   "metadata": {},
   "source": [
    "#### How would you check if a string entered by the user contains any uppercase letters?"
   ]
  },
  {
   "cell_type": "code",
   "execution_count": 122,
   "id": "84dbbec9-3bf4-4662-9f3a-3dab6fb22262",
   "metadata": {},
   "outputs": [
    {
     "name": "stdin",
     "output_type": "stream",
     "text": [
      "Enter a string:  pooja\n"
     ]
    },
    {
     "name": "stdout",
     "output_type": "stream",
     "text": [
      "No uppercase letters\n"
     ]
    }
   ],
   "source": [
    "user_input = input(\"Enter a string: \")\n",
    "if any(char.isupper() for char in user_input):\n",
    "    print(\"Contains uppercase letters\")\n",
    "else:\n",
    "    print(\"No uppercase letters\")"
   ]
  },
  {
   "cell_type": "markdown",
   "id": "32c079c2-2fac-46cc-b220-7d80767333f9",
   "metadata": {},
   "source": [
    "#### Write a program that converts Celsius to Fahrenheit."
   ]
  },
  {
   "cell_type": "code",
   "execution_count": 123,
   "id": "185f2a4d-e44d-4a17-849a-325c58317755",
   "metadata": {},
   "outputs": [
    {
     "name": "stdin",
     "output_type": "stream",
     "text": [
      "Enter temperature in Celsius:  53\n"
     ]
    },
    {
     "name": "stdout",
     "output_type": "stream",
     "text": [
      "Temperature in Fahrenheit: 127.4\n"
     ]
    }
   ],
   "source": [
    "celsius = float(input(\"Enter temperature in Celsius: \"))\n",
    "fahrenheit = (celsius * 9/5) + 32\n",
    "print(f\"Temperature in Fahrenheit: {fahrenheit}\")"
   ]
  },
  {
   "cell_type": "markdown",
   "id": "f757c571-d0eb-4cd9-ac64-4a8a63d2d864",
   "metadata": {},
   "source": [
    "#### Write a program to find the average of a list of numbers entered by the user."
   ]
  },
  {
   "cell_type": "code",
   "execution_count": 125,
   "id": "ada138c0-b164-4270-afd2-199eb5f57ee6",
   "metadata": {},
   "outputs": [
    {
     "name": "stdin",
     "output_type": "stream",
     "text": [
      "Enter numbers separated by space:  12\n"
     ]
    },
    {
     "name": "stdout",
     "output_type": "stream",
     "text": [
      "Average: 12.0\n"
     ]
    }
   ],
   "source": [
    "numbers = list(map(int, input(\"Enter numbers separated by space: \").split()))\n",
    "print(\"Average:\", sum(numbers) / len(numbers))"
   ]
  },
  {
   "cell_type": "markdown",
   "id": "eb698ba8-2708-4a7a-8508-50962403ffc1",
   "metadata": {},
   "source": [
    "#### Write a program to count the number of consonants in a string entered by the user."
   ]
  },
  {
   "cell_type": "code",
   "execution_count": 126,
   "id": "ef9dab37-87dc-4c61-9c79-26744c293e7a",
   "metadata": {},
   "outputs": [
    {
     "name": "stdin",
     "output_type": "stream",
     "text": [
      "Enter a string:  pooja sha\n"
     ]
    },
    {
     "name": "stdout",
     "output_type": "stream",
     "text": [
      "Number of consonants: 4\n"
     ]
    }
   ],
   "source": [
    "text = input(\"Enter a string: \")\n",
    "consonants = \"bcdfghjklmnpqrstvwxyz\"\n",
    "count = sum(1 for char in text.lower() if char in consonants)\n",
    "print(\"Number of consonants:\", count)"
   ]
  },
  {
   "cell_type": "markdown",
   "id": "17c08cdc-b3e4-4ad7-a589-a29f3a4e40ac",
   "metadata": {},
   "source": [
    "#### How do you check if a string entered by the user contains any punctuation?"
   ]
  },
  {
   "cell_type": "code",
   "execution_count": 129,
   "id": "c6ae83b5-8ab4-4575-9956-497370e585b3",
   "metadata": {},
   "outputs": [
    {
     "name": "stdin",
     "output_type": "stream",
     "text": [
      "Enter a string:  poojasha\n"
     ]
    },
    {
     "name": "stdout",
     "output_type": "stream",
     "text": [
      "No punctuation\n"
     ]
    }
   ],
   "source": [
    "import string\n",
    "text = input(\"Enter a string: \")\n",
    "if any(char in string.punctuation for char in text):\n",
    "\n",
    "     print(\"Contains punctuation\")\n",
    "else:\n",
    "    print(\"No punctuation\")"
   ]
  },
  {
   "cell_type": "markdown",
   "id": "1c0d2553-1065-4035-816f-ce8c6795cef2",
   "metadata": {},
   "source": [
    "#### Write a program that accepts a sentence and prints the longest word."
   ]
  },
  {
   "cell_type": "code",
   "execution_count": 130,
   "id": "ce7ae09d-564b-4a9c-9605-03476b65d3e6",
   "metadata": {},
   "outputs": [
    {
     "name": "stdin",
     "output_type": "stream",
     "text": [
      "Enter a sentence:  pooja is an learner\n"
     ]
    },
    {
     "name": "stdout",
     "output_type": "stream",
     "text": [
      "Longest word: learner\n"
     ]
    }
   ],
   "source": [
    "text = input(\"Enter a sentence: \")\n",
    "words = text.split()\n",
    "longest_word = max(words, key=len)\n",
    "print(\"Longest word:\", longest_word)"
   ]
  },
  {
   "cell_type": "code",
   "execution_count": null,
   "id": "fbc967e9-1eb5-4ab6-853a-977ad18646b7",
   "metadata": {},
   "outputs": [],
   "source": []
  },
  {
   "cell_type": "code",
   "execution_count": null,
   "id": "41328927-8722-47d1-bd8e-edf0ea9c8c09",
   "metadata": {},
   "outputs": [],
   "source": []
  },
  {
   "cell_type": "code",
   "execution_count": null,
   "id": "93c7a747-fb10-4d4f-8586-d2a9f57f0a29",
   "metadata": {},
   "outputs": [],
   "source": []
  }
 ],
 "metadata": {
  "kernelspec": {
   "display_name": "Python 3 (ipykernel)",
   "language": "python",
   "name": "python3"
  },
  "language_info": {
   "codemirror_mode": {
    "name": "ipython",
    "version": 3
   },
   "file_extension": ".py",
   "mimetype": "text/x-python",
   "name": "python",
   "nbconvert_exporter": "python",
   "pygments_lexer": "ipython3",
   "version": "3.12.7"
  }
 },
 "nbformat": 4,
 "nbformat_minor": 5
}
