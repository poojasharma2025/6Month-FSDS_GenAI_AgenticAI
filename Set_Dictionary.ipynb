{
 "cells": [
  {
   "cell_type": "markdown",
   "id": "46773d86-6a7c-439c-b326-462f85f9d6a2",
   "metadata": {},
   "source": [
    "### Sets\n",
    "- A set in Python is an unordered collection of unique elements.\n",
    "- Mutable\n",
    "- defined by set()"
   ]
  },
  {
   "cell_type": "markdown",
   "id": "9b478c41-09a2-4be4-a127-2b057db16003",
   "metadata": {},
   "source": [
    "#### Empty set"
   ]
  },
  {
   "cell_type": "code",
   "execution_count": 5,
   "id": "a9183522-e46b-4bf2-9c4b-cb352d5bcafe",
   "metadata": {},
   "outputs": [],
   "source": [
    "s=set()"
   ]
  },
  {
   "cell_type": "code",
   "execution_count": 7,
   "id": "3da91258-f731-4182-af83-eab36e367bc4",
   "metadata": {},
   "outputs": [
    {
     "name": "stdout",
     "output_type": "stream",
     "text": [
      "<class 'set'>\n"
     ]
    }
   ],
   "source": [
    "print(type(s))"
   ]
  },
  {
   "cell_type": "markdown",
   "id": "180fd92c-558e-4516-bccd-5a40c8ee73e2",
   "metadata": {},
   "source": [
    "#### 1. Add Function"
   ]
  },
  {
   "cell_type": "code",
   "execution_count": 9,
   "id": "1609e6dc-1bca-4b00-a88c-9cc813bb439c",
   "metadata": {},
   "outputs": [
    {
     "data": {
      "text/plain": [
       "{10}"
      ]
     },
     "execution_count": 9,
     "metadata": {},
     "output_type": "execute_result"
    }
   ],
   "source": [
    "s.add(5)\n",
    "s"
   ]
  },
  {
   "cell_type": "code",
   "execution_count": 17,
   "id": "d128f497-d46c-432f-9f41-d87712c18b94",
   "metadata": {},
   "outputs": [
    {
     "data": {
      "text/plain": [
       "{10, 15, 20, 25, 30}"
      ]
     },
     "execution_count": 17,
     "metadata": {},
     "output_type": "execute_result"
    }
   ],
   "source": [
    "s.add(10)\n",
    "s.add(15)\n",
    "s.add(20)\n",
    "s.add(25)\n",
    "s.add(30)\n",
    "s\n"
   ]
  },
  {
   "cell_type": "code",
   "execution_count": 21,
   "id": "9cde4194-3c86-4e6d-8b49-d0707195efa7",
   "metadata": {},
   "outputs": [
    {
     "ename": "TypeError",
     "evalue": "set.add() takes exactly one argument (2 given)",
     "output_type": "error",
     "traceback": [
      "\u001b[1;31m---------------------------------------------------------------------------\u001b[0m",
      "\u001b[1;31mTypeError\u001b[0m                                 Traceback (most recent call last)",
      "Cell \u001b[1;32mIn[21], line 2\u001b[0m\n\u001b[0;32m      1\u001b[0m \u001b[38;5;66;03m#Note: we can pass only one argument at a time \u001b[39;00m\n\u001b[1;32m----> 2\u001b[0m s\u001b[38;5;241m.\u001b[39madd(\u001b[38;5;241m50\u001b[39m,\u001b[38;5;241m45\u001b[39m)\n\u001b[0;32m      3\u001b[0m s\n",
      "\u001b[1;31mTypeError\u001b[0m: set.add() takes exactly one argument (2 given)"
     ]
    }
   ],
   "source": [
    "#Note: we can pass only one argument at a time \n",
    "s.add(50,45)\n",
    "s"
   ]
  },
  {
   "cell_type": "markdown",
   "id": "4e9d3d22-ac07-4d9c-928f-83e30257608d",
   "metadata": {},
   "source": [
    "#### 2. Duplicate items are not allowed"
   ]
  },
  {
   "cell_type": "code",
   "execution_count": 38,
   "id": "3ea6b4c1-21de-4a3a-8c63-80b8ffb7f0cb",
   "metadata": {},
   "outputs": [
    {
     "data": {
      "text/plain": [
       "{10, 15, 20, 25, 30, 35}"
      ]
     },
     "execution_count": 38,
     "metadata": {},
     "output_type": "execute_result"
    }
   ],
   "source": [
    "s.add(10)\n",
    "s.add(10)\n",
    "s"
   ]
  },
  {
   "cell_type": "markdown",
   "id": "ce3de710-3e79-4046-a932-3a0f5ac3f25c",
   "metadata": {},
   "source": [
    "#### 3. Multiple data types are allowed"
   ]
  },
  {
   "cell_type": "code",
   "execution_count": 47,
   "id": "82f2aa43-eaa6-424f-9af0-8746b38dc06e",
   "metadata": {},
   "outputs": [
    {
     "name": "stdout",
     "output_type": "stream",
     "text": [
      "{True, 2, 4, 5, 'Pooja', (1+10j)}\n"
     ]
    }
   ],
   "source": [
    "s1={'Pooja',True,(1+10j),2,5}\n",
    "s1.add(4)\n",
    "print(s1)\n",
    "\n",
    "# list type r not allowed"
   ]
  },
  {
   "cell_type": "markdown",
   "id": "6a84abe6-577c-4ab1-b30b-3f7c2e754405",
   "metadata": {},
   "source": [
    "#### 4. Indexing and Slicing are not allowed"
   ]
  },
  {
   "cell_type": "code",
   "execution_count": 60,
   "id": "b4fe4f6d-e7a6-404d-b53d-39d022423309",
   "metadata": {},
   "outputs": [
    {
     "ename": "TypeError",
     "evalue": "'set' object is not subscriptable",
     "output_type": "error",
     "traceback": [
      "\u001b[1;31m---------------------------------------------------------------------------\u001b[0m",
      "\u001b[1;31mTypeError\u001b[0m                                 Traceback (most recent call last)",
      "Cell \u001b[1;32mIn[60], line 2\u001b[0m\n\u001b[0;32m      1\u001b[0m s1\n\u001b[1;32m----> 2\u001b[0m s1[\u001b[38;5;241m0\u001b[39m]\n",
      "\u001b[1;31mTypeError\u001b[0m: 'set' object is not subscriptable"
     ]
    }
   ],
   "source": [
    "#Indexing not allowed\n",
    "s1\n",
    "s1[0]"
   ]
  },
  {
   "cell_type": "code",
   "execution_count": 56,
   "id": "94d7fe77-66b1-4065-8437-dfae7c846122",
   "metadata": {},
   "outputs": [
    {
     "ename": "TypeError",
     "evalue": "'set' object is not subscriptable",
     "output_type": "error",
     "traceback": [
      "\u001b[1;31m---------------------------------------------------------------------------\u001b[0m",
      "\u001b[1;31mTypeError\u001b[0m                                 Traceback (most recent call last)",
      "Cell \u001b[1;32mIn[56], line 1\u001b[0m\n\u001b[1;32m----> 1\u001b[0m s1[:]\n\u001b[0;32m      2\u001b[0m s1[\u001b[38;5;241m1\u001b[39m:\u001b[38;5;241m5\u001b[39m]\n",
      "\u001b[1;31mTypeError\u001b[0m: 'set' object is not subscriptable"
     ]
    }
   ],
   "source": [
    "#Slicing not allowed\n",
    "s1[:]\n",
    "s1[1:5]"
   ]
  },
  {
   "cell_type": "code",
   "execution_count": 64,
   "id": "cb2a198c-fd60-494f-9416-2961140169eb",
   "metadata": {},
   "outputs": [
    {
     "name": "stdout",
     "output_type": "stream",
     "text": [
      "{True, 2, 4, 5, 'Pooja', (1+10j)}\n",
      "{35, 10, 15, 20, 25, 30}\n"
     ]
    }
   ],
   "source": [
    "print(s1)\n",
    "print(s)"
   ]
  },
  {
   "cell_type": "code",
   "execution_count": 66,
   "id": "687cd0aa-02b8-4713-9bc6-25d7a3851717",
   "metadata": {},
   "outputs": [
    {
     "data": {
      "text/plain": [
       "False"
      ]
     },
     "execution_count": 66,
     "metadata": {},
     "output_type": "execute_result"
    }
   ],
   "source": [
    "id(s)==id(s1)"
   ]
  },
  {
   "cell_type": "markdown",
   "id": "11bb12c7-8094-412c-ba8d-77403b3135a7",
   "metadata": {},
   "source": [
    "#### 5. Copy Function"
   ]
  },
  {
   "cell_type": "code",
   "execution_count": 75,
   "id": "8298c49e-4be0-42c6-99a9-e8963defd57b",
   "metadata": {},
   "outputs": [
    {
     "data": {
      "text/plain": [
       "{(1+10j), 2, 4, 5, 'Pooja', True}"
      ]
     },
     "execution_count": 75,
     "metadata": {},
     "output_type": "execute_result"
    }
   ],
   "source": [
    "s3=s1.copy()\n",
    "s3"
   ]
  },
  {
   "cell_type": "code",
   "execution_count": 81,
   "id": "9bfe5e30-ba36-4f38-bd71-99b79be57888",
   "metadata": {},
   "outputs": [
    {
     "data": {
      "text/plain": [
       "True"
      ]
     },
     "execution_count": 81,
     "metadata": {},
     "output_type": "execute_result"
    }
   ],
   "source": [
    "id(s1)== id(s3)"
   ]
  },
  {
   "cell_type": "markdown",
   "id": "cab3eafd-81a6-465f-acda-9bfb109bd68f",
   "metadata": {},
   "source": [
    "#### 6. pop() --remove and return arbitrary element from set"
   ]
  },
  {
   "cell_type": "code",
   "execution_count": 84,
   "id": "f58fcfb1-df11-4dfa-9f1e-1cb70223623b",
   "metadata": {},
   "outputs": [
    {
     "data": {
      "text/plain": [
       "{(1+10j), 2, 4, 5, 'Pooja', True}"
      ]
     },
     "execution_count": 84,
     "metadata": {},
     "output_type": "execute_result"
    }
   ],
   "source": [
    "s1"
   ]
  },
  {
   "cell_type": "code",
   "execution_count": 86,
   "id": "84d5f6a1-2929-4499-ac79-04050b923ccb",
   "metadata": {},
   "outputs": [
    {
     "data": {
      "text/plain": [
       "True"
      ]
     },
     "execution_count": 86,
     "metadata": {},
     "output_type": "execute_result"
    }
   ],
   "source": [
    "s1.pop()"
   ]
  },
  {
   "cell_type": "code",
   "execution_count": 88,
   "id": "18974967-84ca-4a76-b62d-441c75757ea6",
   "metadata": {},
   "outputs": [
    {
     "data": {
      "text/plain": [
       "{(1+10j), 2, 4, 5, 'Pooja'}"
      ]
     },
     "execution_count": 88,
     "metadata": {},
     "output_type": "execute_result"
    }
   ],
   "source": [
    "s1"
   ]
  },
  {
   "cell_type": "code",
   "execution_count": 90,
   "id": "0174d9b9-7978-47ca-999c-109704b89767",
   "metadata": {},
   "outputs": [
    {
     "data": {
      "text/plain": [
       "{(1+10j), 4, 5, 'Pooja'}"
      ]
     },
     "execution_count": 90,
     "metadata": {},
     "output_type": "execute_result"
    }
   ],
   "source": [
    "s1.pop()\n",
    "s1"
   ]
  },
  {
   "cell_type": "markdown",
   "id": "fc5fdc59-b780-4786-a0b7-8165996440a8",
   "metadata": {},
   "source": [
    "#### 7. remove function - remove particular element "
   ]
  },
  {
   "cell_type": "code",
   "execution_count": 122,
   "id": "39fe24b5-ea0e-47bd-847f-bb3618e8206c",
   "metadata": {},
   "outputs": [
    {
     "data": {
      "text/plain": [
       "{(5+5j), 1, 15, 2, 2.5, False, 'Pooja'}"
      ]
     },
     "execution_count": 122,
     "metadata": {},
     "output_type": "execute_result"
    }
   ],
   "source": [
    "s4={1,2,(5+5j),15,'Pooja',2.5,False}\n",
    "s4"
   ]
  },
  {
   "cell_type": "code",
   "execution_count": 126,
   "id": "3996935a-336a-46ab-9d03-95a08dc9210e",
   "metadata": {},
   "outputs": [],
   "source": [
    "s4.remove(15)\n"
   ]
  },
  {
   "cell_type": "code",
   "execution_count": 128,
   "id": "1cdbcc7a-177a-47d6-9618-9fd31efefa33",
   "metadata": {},
   "outputs": [
    {
     "data": {
      "text/plain": [
       "{(5+5j), 1, 2, 2.5, False, 'Pooja'}"
      ]
     },
     "execution_count": 128,
     "metadata": {},
     "output_type": "execute_result"
    }
   ],
   "source": [
    "s4"
   ]
  },
  {
   "cell_type": "code",
   "execution_count": 144,
   "id": "70f79649-756b-4c53-bdfb-56fbaf2b17c2",
   "metadata": {},
   "outputs": [
    {
     "ename": "KeyError",
     "evalue": "5",
     "output_type": "error",
     "traceback": [
      "\u001b[1;31m---------------------------------------------------------------------------\u001b[0m",
      "\u001b[1;31mKeyError\u001b[0m                                  Traceback (most recent call last)",
      "Cell \u001b[1;32mIn[144], line 1\u001b[0m\n\u001b[1;32m----> 1\u001b[0m s4\u001b[38;5;241m.\u001b[39mremove(\u001b[38;5;241m5\u001b[39m)\n\u001b[0;32m      2\u001b[0m s4\n",
      "\u001b[1;31mKeyError\u001b[0m: 5"
     ]
    }
   ],
   "source": [
    "s4.remove(5)\n",
    "s4\n",
    "\n",
    "#Note : remove give error if element is not present in set unlike discard"
   ]
  },
  {
   "cell_type": "code",
   "execution_count": 130,
   "id": "1b0fc8f9-5d0a-4c64-ad93-7fe3a7197b36",
   "metadata": {},
   "outputs": [
    {
     "data": {
      "text/plain": [
       "{(5+5j), 1, 2, 2.5, 'Pooja'}"
      ]
     },
     "execution_count": 130,
     "metadata": {},
     "output_type": "execute_result"
    }
   ],
   "source": [
    "s4.remove(False)\n",
    "s4"
   ]
  },
  {
   "cell_type": "markdown",
   "id": "0b47533d-0ce5-4245-bf69-8bbd9d877d5a",
   "metadata": {},
   "source": [
    "#### 8. clear function -clear all element from set"
   ]
  },
  {
   "cell_type": "code",
   "execution_count": 133,
   "id": "a6890db4-e2dc-4ab9-8b09-462ad63198b1",
   "metadata": {},
   "outputs": [
    {
     "data": {
      "text/plain": [
       "{(5+5j), 1, 15, 2, 2.5, 'Pooja'}"
      ]
     },
     "execution_count": 133,
     "metadata": {},
     "output_type": "execute_result"
    }
   ],
   "source": [
    "s1"
   ]
  },
  {
   "cell_type": "code",
   "execution_count": 135,
   "id": "76b106e8-f949-4602-a851-49242b8216dd",
   "metadata": {},
   "outputs": [
    {
     "data": {
      "text/plain": [
       "set()"
      ]
     },
     "execution_count": 135,
     "metadata": {},
     "output_type": "execute_result"
    }
   ],
   "source": [
    "s1.clear()\n",
    "s1"
   ]
  },
  {
   "cell_type": "markdown",
   "id": "6fe0a207-7ff0-402d-a3f6-9145264d7f3a",
   "metadata": {},
   "source": [
    "#### 9. Discard () -discard element. even it doesnt give error if element is not present in the set"
   ]
  },
  {
   "cell_type": "code",
   "execution_count": 142,
   "id": "98d13b9a-a3eb-425b-a966-b26210a3facc",
   "metadata": {},
   "outputs": [
    {
     "data": {
      "text/plain": [
       "{(1+10j), 4, 5, 'Pooja'}"
      ]
     },
     "execution_count": 142,
     "metadata": {},
     "output_type": "execute_result"
    }
   ],
   "source": [
    "s3"
   ]
  },
  {
   "cell_type": "code",
   "execution_count": 148,
   "id": "7a69e660-c03b-4005-882f-e772a2114488",
   "metadata": {},
   "outputs": [
    {
     "data": {
      "text/plain": [
       "{(1+10j), 4, 5, 'Pooja'}"
      ]
     },
     "execution_count": 148,
     "metadata": {},
     "output_type": "execute_result"
    }
   ],
   "source": [
    "s3.discard(\"zero\")\n",
    "s3 \n",
    "\n",
    "#it doesn't give error if element is not present in set"
   ]
  },
  {
   "cell_type": "markdown",
   "id": "ad416a03-c0f8-4594-8663-c33df1312ad8",
   "metadata": {},
   "source": [
    "#### 10. set membership"
   ]
  },
  {
   "cell_type": "code",
   "execution_count": 152,
   "id": "ee7f58e2-d068-40aa-9fd4-d4ac3ec5b263",
   "metadata": {},
   "outputs": [
    {
     "data": {
      "text/plain": [
       "{(1+10j), 4, 5, 'Pooja'}"
      ]
     },
     "execution_count": 152,
     "metadata": {},
     "output_type": "execute_result"
    }
   ],
   "source": [
    "s3"
   ]
  },
  {
   "cell_type": "code",
   "execution_count": 154,
   "id": "552781fd-e43e-4638-93ae-876b8ddb0030",
   "metadata": {},
   "outputs": [
    {
     "data": {
      "text/plain": [
       "True"
      ]
     },
     "execution_count": 154,
     "metadata": {},
     "output_type": "execute_result"
    }
   ],
   "source": [
    "4 in s3"
   ]
  },
  {
   "cell_type": "code",
   "execution_count": 156,
   "id": "5a6b6167-fdd4-47e0-9791-7b8053c7e2f3",
   "metadata": {},
   "outputs": [
    {
     "data": {
      "text/plain": [
       "False"
      ]
     },
     "execution_count": 156,
     "metadata": {},
     "output_type": "execute_result"
    }
   ],
   "source": [
    "10 in s3"
   ]
  },
  {
   "cell_type": "code",
   "execution_count": 160,
   "id": "4f226aa8-e647-46b8-aa92-474d1672ba43",
   "metadata": {},
   "outputs": [
    {
     "name": "stdout",
     "output_type": "stream",
     "text": [
      "4\n",
      "5\n",
      "Pooja\n",
      "(1+10j)\n"
     ]
    }
   ],
   "source": [
    "for i in s3:\n",
    "    print(i)"
   ]
  },
  {
   "cell_type": "code",
   "execution_count": 164,
   "id": "669dba5b-126f-484a-aa8a-130e0ba4855d",
   "metadata": {},
   "outputs": [
    {
     "name": "stdout",
     "output_type": "stream",
     "text": [
      "(0, 4)\n",
      "(1, 5)\n",
      "(2, 'Pooja')\n",
      "(3, (1+10j))\n"
     ]
    }
   ],
   "source": [
    "for i in enumerate(s3):\n",
    "    print(i)"
   ]
  },
  {
   "cell_type": "markdown",
   "id": "71ebf092-418e-4dad-b9b0-f9234cec8f7c",
   "metadata": {},
   "source": [
    "#### 1. Union-  A.union(B) OR A|B"
   ]
  },
  {
   "cell_type": "code",
   "execution_count": 187,
   "id": "02e1f87b-559b-439e-8534-107de40a75a0",
   "metadata": {},
   "outputs": [],
   "source": [
    "a={11,12,13,14}\n",
    "b ={14,15,16,17,18}\n",
    "c = {18,19,20}\n"
   ]
  },
  {
   "cell_type": "code",
   "execution_count": 189,
   "id": "7eefd3e6-5aa6-44ff-bf3f-9cc307ef64e5",
   "metadata": {},
   "outputs": [
    {
     "data": {
      "text/plain": [
       "{11, 12, 13, 14, 15, 16, 17, 18}"
      ]
     },
     "execution_count": 189,
     "metadata": {},
     "output_type": "execute_result"
    }
   ],
   "source": [
    "a|b"
   ]
  },
  {
   "cell_type": "code",
   "execution_count": 191,
   "id": "28744bb4-49a4-4e12-92ac-83cceb0e30ce",
   "metadata": {},
   "outputs": [
    {
     "data": {
      "text/plain": [
       "{11, 12, 13, 14, 18, 19, 20}"
      ]
     },
     "execution_count": 191,
     "metadata": {},
     "output_type": "execute_result"
    }
   ],
   "source": [
    "a|c"
   ]
  },
  {
   "cell_type": "code",
   "execution_count": 193,
   "id": "b3a92f46-7ef8-4e8a-a9d9-2af0cd318ac6",
   "metadata": {},
   "outputs": [
    {
     "data": {
      "text/plain": [
       "{11, 12, 13, 14, 15, 16, 17, 18, 19, 20}"
      ]
     },
     "execution_count": 193,
     "metadata": {},
     "output_type": "execute_result"
    }
   ],
   "source": [
    "a|b|c"
   ]
  },
  {
   "cell_type": "markdown",
   "id": "d09fc4eb-6acc-4075-a570-569ccfd3ee0b",
   "metadata": {},
   "source": [
    "#### 2. Intersection  A&B  or A.intersection(B)  - Common items in both sets"
   ]
  },
  {
   "cell_type": "code",
   "execution_count": 8,
   "id": "4d43dc5c-7738-49c4-be0c-dfb8e4eaff19",
   "metadata": {},
   "outputs": [],
   "source": [
    "A = {1,2,3,4,5} \n",
    "B = {4,5,6,7,8} "
   ]
  },
  {
   "cell_type": "code",
   "execution_count": 10,
   "id": "036049d1-8abb-4be3-a94f-151186a0da20",
   "metadata": {},
   "outputs": [
    {
     "data": {
      "text/plain": [
       "{4, 5}"
      ]
     },
     "execution_count": 10,
     "metadata": {},
     "output_type": "execute_result"
    }
   ],
   "source": [
    "A&B"
   ]
  },
  {
   "cell_type": "code",
   "execution_count": 12,
   "id": "5fb10292-18ea-4347-9d99-73b0446e5123",
   "metadata": {},
   "outputs": [
    {
     "data": {
      "text/plain": [
       "{4, 5}"
      ]
     },
     "execution_count": 12,
     "metadata": {},
     "output_type": "execute_result"
    }
   ],
   "source": [
    "A.intersection(B)"
   ]
  },
  {
   "cell_type": "code",
   "execution_count": 16,
   "id": "1e4fbd21-246e-494d-9592-feb75f26218f",
   "metadata": {},
   "outputs": [
    {
     "data": {
      "text/plain": [
       "{4, 5}"
      ]
     },
     "execution_count": 16,
     "metadata": {},
     "output_type": "execute_result"
    }
   ],
   "source": [
    "A.intersection_update(B)\n",
    "A"
   ]
  },
  {
   "cell_type": "code",
   "execution_count": 22,
   "id": "eb3a7fba-4ab9-425a-afb6-6252704c358d",
   "metadata": {},
   "outputs": [
    {
     "name": "stdout",
     "output_type": "stream",
     "text": [
      "{4, 5, 6, 7, 8}\n",
      "{4, 5}\n"
     ]
    }
   ],
   "source": [
    "print(B)\n",
    "print(A)"
   ]
  },
  {
   "cell_type": "markdown",
   "id": "8ba755db-cf7c-42a0-a4dc-92f02f3cbbd9",
   "metadata": {},
   "source": [
    "#### 2. Difference"
   ]
  },
  {
   "cell_type": "code",
   "execution_count": 1,
   "id": "0b19390e-9405-46d5-91b7-bcc449dcab01",
   "metadata": {},
   "outputs": [],
   "source": [
    "a={11,12,13,14}\n",
    "b ={14,15,16,17,18}\n",
    "c ={18,19,20}"
   ]
  },
  {
   "cell_type": "code",
   "execution_count": 2,
   "id": "f37f8501-a744-42c7-98d5-8eae65bca743",
   "metadata": {},
   "outputs": [
    {
     "data": {
      "text/plain": [
       "{11, 12, 13}"
      ]
     },
     "execution_count": 2,
     "metadata": {},
     "output_type": "execute_result"
    }
   ],
   "source": [
    "a.difference(b)"
   ]
  },
  {
   "cell_type": "code",
   "execution_count": 33,
   "id": "3ba76d72-af13-4146-9ab3-4e8ec70f0d17",
   "metadata": {},
   "outputs": [
    {
     "data": {
      "text/plain": [
       "{15, 16, 17, 18}"
      ]
     },
     "execution_count": 33,
     "metadata": {},
     "output_type": "execute_result"
    }
   ],
   "source": [
    "b.difference(a)"
   ]
  },
  {
   "cell_type": "code",
   "execution_count": 47,
   "id": "ff4ec1bc-064b-484d-847a-d3b80450c84a",
   "metadata": {},
   "outputs": [
    {
     "data": {
      "text/plain": [
       "{14, 15, 16, 17}"
      ]
     },
     "execution_count": 47,
     "metadata": {},
     "output_type": "execute_result"
    }
   ],
   "source": [
    "b.difference(c)"
   ]
  },
  {
   "cell_type": "code",
   "execution_count": 49,
   "id": "b5ff2b07-ab56-4671-9218-2f9bc7628a76",
   "metadata": {},
   "outputs": [
    {
     "data": {
      "text/plain": [
       "{19, 20}"
      ]
     },
     "execution_count": 49,
     "metadata": {},
     "output_type": "execute_result"
    }
   ],
   "source": [
    "c.difference(b)"
   ]
  },
  {
   "cell_type": "code",
   "execution_count": 53,
   "id": "0df64d59-5cb4-44d5-bed2-c995c4953966",
   "metadata": {},
   "outputs": [
    {
     "data": {
      "text/plain": [
       "{15, 16, 17, 18}"
      ]
     },
     "execution_count": 53,
     "metadata": {},
     "output_type": "execute_result"
    }
   ],
   "source": [
    "b.difference_update(a)\n",
    "b"
   ]
  },
  {
   "cell_type": "markdown",
   "id": "7d8c7065-337e-44cc-b7e8-60701695a5a6",
   "metadata": {},
   "source": [
    "#### 4. Symmetric difference (ELIMINATE common element)"
   ]
  },
  {
   "cell_type": "code",
   "execution_count": 1,
   "id": "06661091-38be-4ae6-bd65-a2cc8066a2aa",
   "metadata": {},
   "outputs": [],
   "source": [
    "A = {1,2,3,4,5} \n",
    "B = {4,5,6,7,8} "
   ]
  },
  {
   "cell_type": "code",
   "execution_count": 2,
   "id": "099a977b-c0f2-4aa0-b9cc-6b8bffc1f530",
   "metadata": {},
   "outputs": [
    {
     "data": {
      "text/plain": [
       "{1, 2, 3, 6, 7, 8}"
      ]
     },
     "execution_count": 2,
     "metadata": {},
     "output_type": "execute_result"
    }
   ],
   "source": [
    "A^B"
   ]
  },
  {
   "cell_type": "code",
   "execution_count": 3,
   "id": "fd799772-e24f-4852-ac79-227e207286b2",
   "metadata": {},
   "outputs": [
    {
     "data": {
      "text/plain": [
       "{1, 2, 3, 6, 7, 8}"
      ]
     },
     "execution_count": 3,
     "metadata": {},
     "output_type": "execute_result"
    }
   ],
   "source": [
    "A.symmetric_difference(B)"
   ]
  },
  {
   "cell_type": "code",
   "execution_count": 4,
   "id": "95c7762a-ed6d-4dc7-be83-197dbb56727e",
   "metadata": {},
   "outputs": [
    {
     "data": {
      "text/plain": [
       "{1, 2, 3, 6, 7, 8}"
      ]
     },
     "execution_count": 4,
     "metadata": {},
     "output_type": "execute_result"
    }
   ],
   "source": [
    "A.symmetric_difference_update(B)\n",
    "A"
   ]
  },
  {
   "cell_type": "code",
   "execution_count": 5,
   "id": "10a1c045-31db-4f36-bd86-4c94c26208ac",
   "metadata": {},
   "outputs": [
    {
     "data": {
      "text/plain": [
       "{1, 2, 3, 6, 7, 8}"
      ]
     },
     "execution_count": 5,
     "metadata": {},
     "output_type": "execute_result"
    }
   ],
   "source": [
    "A"
   ]
  },
  {
   "cell_type": "code",
   "execution_count": 6,
   "id": "70fe3f9d-2859-4b08-bc12-e4be2ac1e7b1",
   "metadata": {},
   "outputs": [
    {
     "data": {
      "text/plain": [
       "{4, 5, 6, 7, 8}"
      ]
     },
     "execution_count": 6,
     "metadata": {},
     "output_type": "execute_result"
    }
   ],
   "source": [
    "B"
   ]
  },
  {
   "cell_type": "markdown",
   "id": "f714ece5-4df1-427a-89f1-4757b7d0955f",
   "metadata": {},
   "source": [
    "#### 5. Subset , Superset & Disjoint "
   ]
  },
  {
   "cell_type": "code",
   "execution_count": 85,
   "id": "075d25eb-a989-4af0-ab47-d365aadf8c28",
   "metadata": {},
   "outputs": [],
   "source": [
    "A = {1,2,3,4,5,6,7,8,9} \n",
    "B = {3,4,5,6,7,8} \n",
    "C = {10,20,30,40}"
   ]
  },
  {
   "cell_type": "code",
   "execution_count": 87,
   "id": "10ab1716-42b2-4b62-b00a-03ef8a73f988",
   "metadata": {},
   "outputs": [
    {
     "data": {
      "text/plain": [
       "True"
      ]
     },
     "execution_count": 87,
     "metadata": {},
     "output_type": "execute_result"
    }
   ],
   "source": [
    "A.issuperset(B)"
   ]
  },
  {
   "cell_type": "code",
   "execution_count": 89,
   "id": "95c6f876-a76a-4d5b-bce9-35eb405b9755",
   "metadata": {},
   "outputs": [
    {
     "data": {
      "text/plain": [
       "True"
      ]
     },
     "execution_count": 89,
     "metadata": {},
     "output_type": "execute_result"
    }
   ],
   "source": [
    "B.issubset(A)"
   ]
  },
  {
   "cell_type": "code",
   "execution_count": 91,
   "id": "3d604fb9-8abd-4298-93e0-50382325ed54",
   "metadata": {},
   "outputs": [
    {
     "data": {
      "text/plain": [
       "True"
      ]
     },
     "execution_count": 91,
     "metadata": {},
     "output_type": "execute_result"
    }
   ],
   "source": [
    "C.isdisjoint(A)"
   ]
  },
  {
   "cell_type": "code",
   "execution_count": 93,
   "id": "3f6ad1ca-8993-4715-a013-ee39411dd8b9",
   "metadata": {},
   "outputs": [
    {
     "data": {
      "text/plain": [
       "False"
      ]
     },
     "execution_count": 93,
     "metadata": {},
     "output_type": "execute_result"
    }
   ],
   "source": [
    "B.isdisjoint(A)"
   ]
  },
  {
   "cell_type": "code",
   "execution_count": 95,
   "id": "90ac4d83-77bb-45c2-8a3d-90abfde1883e",
   "metadata": {},
   "outputs": [
    {
     "data": {
      "text/plain": [
       "45"
      ]
     },
     "execution_count": 95,
     "metadata": {},
     "output_type": "execute_result"
    }
   ],
   "source": [
    "sum(A) "
   ]
  },
  {
   "cell_type": "code",
   "execution_count": 97,
   "id": "b13024d4-23e6-4bcc-8f99-631ae2eba414",
   "metadata": {},
   "outputs": [
    {
     "data": {
      "text/plain": [
       "9"
      ]
     },
     "execution_count": 97,
     "metadata": {},
     "output_type": "execute_result"
    }
   ],
   "source": [
    " \n",
    "max(A) "
   ]
  },
  {
   "cell_type": "code",
   "execution_count": 99,
   "id": "62076547-4bf0-4ef4-8ed4-18ff3b82b549",
   "metadata": {},
   "outputs": [
    {
     "data": {
      "text/plain": [
       "3"
      ]
     },
     "execution_count": 99,
     "metadata": {},
     "output_type": "execute_result"
    }
   ],
   "source": [
    "min(B)"
   ]
  },
  {
   "cell_type": "code",
   "execution_count": 101,
   "id": "d82204fd-20ee-4c7e-9527-19fe3bb9c6b5",
   "metadata": {},
   "outputs": [
    {
     "data": {
      "text/plain": [
       "9"
      ]
     },
     "execution_count": 101,
     "metadata": {},
     "output_type": "execute_result"
    }
   ],
   "source": [
    "len(A)"
   ]
  },
  {
   "cell_type": "code",
   "execution_count": 105,
   "id": "d65e1b50-09f4-43c0-8cbf-17b3597a366d",
   "metadata": {},
   "outputs": [
    {
     "data": {
      "text/plain": [
       "{1, 2, 3, 4, 5, 6, 7, 8, 9}"
      ]
     },
     "execution_count": 105,
     "metadata": {},
     "output_type": "execute_result"
    }
   ],
   "source": [
    "A"
   ]
  },
  {
   "cell_type": "code",
   "execution_count": 103,
   "id": "ec0f6863-7180-4caf-bfdf-0c4009975983",
   "metadata": {},
   "outputs": [
    {
     "data": {
      "text/plain": [
       "[(0, 1), (1, 2), (2, 3), (3, 4), (4, 5), (5, 6), (6, 7), (7, 8), (8, 9)]"
      ]
     },
     "execution_count": 103,
     "metadata": {},
     "output_type": "execute_result"
    }
   ],
   "source": [
    "list(enumerate(A))"
   ]
  },
  {
   "cell_type": "code",
   "execution_count": 107,
   "id": "a02b030d-a067-4c33-9cc6-d693dc219a82",
   "metadata": {},
   "outputs": [
    {
     "data": {
      "text/plain": [
       "[9, 8, 7, 6, 5, 4, 3, 2, 1]"
      ]
     },
     "execution_count": 107,
     "metadata": {},
     "output_type": "execute_result"
    }
   ],
   "source": [
    "D= sorted(A,reverse=True) \n",
    "D "
   ]
  },
  {
   "cell_type": "code",
   "execution_count": 109,
   "id": "2338d02a-b8e6-4261-ac5f-92244f5da574",
   "metadata": {},
   "outputs": [
    {
     "data": {
      "text/plain": [
       "[1, 2, 3, 4, 5, 6, 7, 8, 9]"
      ]
     },
     "execution_count": 109,
     "metadata": {},
     "output_type": "execute_result"
    }
   ],
   "source": [
    "sorted(D) "
   ]
  },
  {
   "cell_type": "markdown",
   "id": "9f780cbe-a63b-473c-bf4f-4cd116a50909",
   "metadata": {},
   "source": [
    "### DICTIONARY\n",
    "Dictionary is a mutable data type in Python. \n",
    "\n",
    "A python dictionary is a collection of key and value pairs separated by a colon (:) & enclosed \n",
    "in curly braces {}. \n",
    "\n",
    "Keys must be unique in a dictionary, duplicate values are allowed."
   ]
  },
  {
   "cell_type": "code",
   "execution_count": 1,
   "id": "3b8f119d-1cde-403b-95a0-2d6ac2cd68dd",
   "metadata": {},
   "outputs": [
    {
     "data": {
      "text/plain": [
       "{}"
      ]
     },
     "execution_count": 1,
     "metadata": {},
     "output_type": "execute_result"
    }
   ],
   "source": [
    "dict1 = dict() # empty dictionary \n",
    "dict1 "
   ]
  },
  {
   "cell_type": "code",
   "execution_count": 2,
   "id": "df0db4db-c829-4201-9a21-7ff3835640be",
   "metadata": {},
   "outputs": [
    {
     "data": {
      "text/plain": [
       "{}"
      ]
     },
     "execution_count": 2,
     "metadata": {},
     "output_type": "execute_result"
    }
   ],
   "source": [
    "dict1 = {} # empty dictionary \n",
    "dict1"
   ]
  },
  {
   "cell_type": "code",
   "execution_count": 3,
   "id": "c3b5407b-91d5-4873-abaa-f2b112336054",
   "metadata": {},
   "outputs": [
    {
     "data": {
      "text/plain": [
       "{1: 'one', 2: 'two', 3: 'three'}"
      ]
     },
     "execution_count": 3,
     "metadata": {},
     "output_type": "execute_result"
    }
   ],
   "source": [
    "dict1={1:'one',2:'two',3:'three'}\n",
    "dict1"
   ]
  },
  {
   "cell_type": "code",
   "execution_count": 11,
   "id": "f9eab1b0-333c-4c96-be44-86e2ea2c0f5f",
   "metadata": {},
   "outputs": [
    {
     "ename": "KeyError",
     "evalue": "'keys'",
     "output_type": "error",
     "traceback": [
      "\u001b[1;31m---------------------------------------------------------------------------\u001b[0m",
      "\u001b[1;31mKeyError\u001b[0m                                  Traceback (most recent call last)",
      "Cell \u001b[1;32mIn[11], line 1\u001b[0m\n\u001b[1;32m----> 1\u001b[0m dict1[\u001b[38;5;124m\"\u001b[39m\u001b[38;5;124mkeys\u001b[39m\u001b[38;5;124m\"\u001b[39m]\n",
      "\u001b[1;31mKeyError\u001b[0m: 'keys'"
     ]
    }
   ],
   "source": [
    "dict1[\"keys\"]"
   ]
  },
  {
   "cell_type": "code",
   "execution_count": 5,
   "id": "01e59483-8f4d-4aee-b74a-f49815fd9748",
   "metadata": {},
   "outputs": [
    {
     "data": {
      "text/plain": [
       "{'A': 'one', 'B': 'two', 'C': 'three'}"
      ]
     },
     "execution_count": 5,
     "metadata": {},
     "output_type": "execute_result"
    }
   ],
   "source": [
    "dict1={'A':'one','B':'two','C':'three'}\n",
    "dict1"
   ]
  },
  {
   "cell_type": "code",
   "execution_count": 126,
   "id": "f1e672c5-7aa6-4f91-b31d-3556c42ab6f7",
   "metadata": {},
   "outputs": [
    {
     "data": {
      "text/plain": [
       "dict_keys(['A', 'B', 'C'])"
      ]
     },
     "execution_count": 126,
     "metadata": {},
     "output_type": "execute_result"
    }
   ],
   "source": [
    "dict1.keys()"
   ]
  },
  {
   "cell_type": "code",
   "execution_count": 128,
   "id": "d7436444-2d5a-445b-a2c0-cfd6e2953ee6",
   "metadata": {},
   "outputs": [
    {
     "data": {
      "text/plain": [
       "dict_values(['one', 'two', 'three'])"
      ]
     },
     "execution_count": 128,
     "metadata": {},
     "output_type": "execute_result"
    }
   ],
   "source": [
    "dict1.values()"
   ]
  },
  {
   "cell_type": "code",
   "execution_count": 130,
   "id": "e00621b8-f33f-44dc-b2a9-8e997b2cbfcc",
   "metadata": {},
   "outputs": [
    {
     "data": {
      "text/plain": [
       "dict_items([('A', 'one'), ('B', 'two'), ('C', 'three')])"
      ]
     },
     "execution_count": 130,
     "metadata": {},
     "output_type": "execute_result"
    }
   ],
   "source": [
    "dict1.items()"
   ]
  },
  {
   "cell_type": "code",
   "execution_count": 134,
   "id": "3ef3bc94-ae29-4c1e-972b-3e33847d4782",
   "metadata": {},
   "outputs": [
    {
     "data": {
      "text/plain": [
       "{1: 'one', 2: 'two', 'A': ['Pooja', 'aadi', 'dev']}"
      ]
     },
     "execution_count": 134,
     "metadata": {},
     "output_type": "execute_result"
    }
   ],
   "source": [
    "dict1 = {1:'one' , 2:'two' , 'A':['Pooja' , 'aadi' , 'dev']} \n",
    "dict1"
   ]
  },
  {
   "cell_type": "code",
   "execution_count": 136,
   "id": "22e630a6-e26c-4c09-ba88-40656c47f92a",
   "metadata": {},
   "outputs": [
    {
     "data": {
      "text/plain": [
       "{1: 'one', 2: 'two', 'A': ['Pooja', 'aadi', 'dev'], 'B': ('aish', 'kitten')}"
      ]
     },
     "execution_count": 136,
     "metadata": {},
     "output_type": "execute_result"
    }
   ],
   "source": [
    "dict1 = {1:'one' , 2:'two' , 'A':['Pooja' , 'aadi' , 'dev'], 'B':('aish' , 'kitten')} \n",
    "dict1 "
   ]
  },
  {
   "cell_type": "code",
   "execution_count": 146,
   "id": "8bb18f15-6e11-470a-865d-d7f38a16be0e",
   "metadata": {},
   "outputs": [
    {
     "data": {
      "text/plain": [
       "{'d': None, 'a': None, 'c': None, 'b': None}"
      ]
     },
     "execution_count": 146,
     "metadata": {},
     "output_type": "execute_result"
    }
   ],
   "source": [
    "keys = {'a' , 'b' , 'c' , 'd'} \n",
    "dict2 = dict.fromkeys(keys) # Create a dictionary from a sequence of keys \n",
    "dict2 "
   ]
  },
  {
   "cell_type": "code",
   "execution_count": 144,
   "id": "d9cb159f-2a84-47f2-b78a-086316469d63",
   "metadata": {},
   "outputs": [
    {
     "data": {
      "text/plain": [
       "{'d': 10, 'a': 10, 'c': 10, 'b': 10}"
      ]
     },
     "execution_count": 144,
     "metadata": {},
     "output_type": "execute_result"
    }
   ],
   "source": [
    "keys = {'a' , 'b' , 'c' , 'd'} \n",
    "value = 10 \n",
    "dict3 = dict.fromkeys(keys , value) # Create a dictionary from a sequence of keys and values\n",
    "dict3"
   ]
  },
  {
   "cell_type": "code",
   "execution_count": 148,
   "id": "7f96407d-e8dd-4c66-9837-26b9b06bb372",
   "metadata": {},
   "outputs": [
    {
     "data": {
      "text/plain": [
       "{'d': [10, 20, 30], 'a': [10, 20, 30], 'c': [10, 20, 30], 'b': [10, 20, 30]}"
      ]
     },
     "execution_count": 148,
     "metadata": {},
     "output_type": "execute_result"
    }
   ],
   "source": [
    "keys = {'a' , 'b' , 'c' , 'd'} \n",
    "value = [10,20,30] \n",
    "dict3 = dict.fromkeys(keys , value) # Create a dictionary from a sequence of of keys and values\n",
    "dict3 "
   ]
  },
  {
   "cell_type": "code",
   "execution_count": 150,
   "id": "4d2ccb86-baf9-4a15-874e-1480d287d430",
   "metadata": {},
   "outputs": [
    {
     "data": {
      "text/plain": [
       "{'d': [10, 20, 30, 40],\n",
       " 'a': [10, 20, 30, 40],\n",
       " 'c': [10, 20, 30, 40],\n",
       " 'b': [10, 20, 30, 40]}"
      ]
     },
     "execution_count": 150,
     "metadata": {},
     "output_type": "execute_result"
    }
   ],
   "source": [
    "value.append(40)\n",
    "dict3"
   ]
  },
  {
   "cell_type": "markdown",
   "id": "620a66ff-9837-42d5-b28f-4bb3db1ad85c",
   "metadata": {},
   "source": [
    "#### 1. Accessing Items "
   ]
  },
  {
   "cell_type": "code",
   "execution_count": 157,
   "id": "a72d1e62-0500-41a8-8dd4-dc4e6a0ecbaf",
   "metadata": {},
   "outputs": [
    {
     "data": {
      "text/plain": [
       "{1: 'one', 2: 'two', 3: 'three'}"
      ]
     },
     "execution_count": 157,
     "metadata": {},
     "output_type": "execute_result"
    }
   ],
   "source": [
    "dict1= {1:'one',2:'two',3:'three'}\n",
    "dict1"
   ]
  },
  {
   "cell_type": "code",
   "execution_count": 159,
   "id": "869d2653-eb33-460b-be5d-3e37d422a986",
   "metadata": {},
   "outputs": [
    {
     "data": {
      "text/plain": [
       "'one'"
      ]
     },
     "execution_count": 159,
     "metadata": {},
     "output_type": "execute_result"
    }
   ],
   "source": [
    "dict1[1]"
   ]
  },
  {
   "cell_type": "code",
   "execution_count": 161,
   "id": "18c2c58c-b0fc-433e-aaf4-741a06d4211d",
   "metadata": {},
   "outputs": [
    {
     "data": {
      "text/plain": [
       "'three'"
      ]
     },
     "execution_count": 161,
     "metadata": {},
     "output_type": "execute_result"
    }
   ],
   "source": [
    "dict1[3]"
   ]
  },
  {
   "cell_type": "code",
   "execution_count": 163,
   "id": "5d2f13ff-99a3-413c-9f2e-ea9a30aeee62",
   "metadata": {},
   "outputs": [
    {
     "data": {
      "text/plain": [
       "'one'"
      ]
     },
     "execution_count": 163,
     "metadata": {},
     "output_type": "execute_result"
    }
   ],
   "source": [
    "dict1.get(1) # Access item using get() method "
   ]
  },
  {
   "cell_type": "code",
   "execution_count": 165,
   "id": "51afbdb0-9846-4e23-ae85-e162af3c3bf9",
   "metadata": {},
   "outputs": [
    {
     "data": {
      "text/plain": [
       "{'Name': 'pooja', 'ID': 57946, 'DOB': 1992, 'job': 'DSE'}"
      ]
     },
     "execution_count": 165,
     "metadata": {},
     "output_type": "execute_result"
    }
   ],
   "source": [
    "dict1 = {'Name':'pooja' , 'ID': 57946 , 'DOB': 1992 , 'job' :'DSE'} \n",
    "dict1 "
   ]
  },
  {
   "cell_type": "code",
   "execution_count": 168,
   "id": "aa34cbce-88f8-4e05-a2bb-baa9dda2a7db",
   "metadata": {},
   "outputs": [
    {
     "data": {
      "text/plain": [
       "'pooja'"
      ]
     },
     "execution_count": 168,
     "metadata": {},
     "output_type": "execute_result"
    }
   ],
   "source": [
    "dict1['Name'] "
   ]
  },
  {
   "cell_type": "code",
   "execution_count": 170,
   "id": "2d4bf485-9732-42c8-b27d-fa4530dd0205",
   "metadata": {},
   "outputs": [
    {
     "data": {
      "text/plain": [
       "'DSE'"
      ]
     },
     "execution_count": 170,
     "metadata": {},
     "output_type": "execute_result"
    }
   ],
   "source": [
    "dict1.get('job')"
   ]
  },
  {
   "cell_type": "markdown",
   "id": "09803251-0969-4a6e-8060-433d1403fc92",
   "metadata": {},
   "source": [
    "#### 2. Add, Remove & Change Items"
   ]
  },
  {
   "cell_type": "code",
   "execution_count": 220,
   "id": "764769f2-5879-48c4-9979-21dcbe710416",
   "metadata": {},
   "outputs": [
    {
     "data": {
      "text/plain": [
       "{'Name': 'pooja', 'ID': 57946, 'DOB': 1992, 'job': 'DSE'}"
      ]
     },
     "execution_count": 220,
     "metadata": {},
     "output_type": "execute_result"
    }
   ],
   "source": [
    "dict1 = {'Name':'pooja' , 'ID': 57946 , 'DOB': 1992 , 'job' :'DSE'} \n",
    "dict1 "
   ]
  },
  {
   "cell_type": "code",
   "execution_count": 222,
   "id": "27502af6-4d2c-4d78-95f8-07ce02a5f65b",
   "metadata": {},
   "outputs": [
    {
     "data": {
      "text/plain": [
       "{'Name': 'pooja',\n",
       " 'ID': 57946,\n",
       " 'DOB': 1993,\n",
       " 'job': 'DSE',\n",
       " 'Address': 'jalandhar'}"
      ]
     },
     "execution_count": 222,
     "metadata": {},
     "output_type": "execute_result"
    }
   ],
   "source": [
    "dict1['DOB'] = 1993  # Changing Dictionary Items \n",
    "dict1['Address'] = 'jalandhar' \n",
    "dict1 "
   ]
  },
  {
   "cell_type": "code",
   "execution_count": 224,
   "id": "26ffb2f6-92a8-4468-bf18-4dd379f4337e",
   "metadata": {},
   "outputs": [
    {
     "data": {
      "text/plain": [
       "{'Name': 'pooja',\n",
       " 'ID': 57946,\n",
       " 'DOB': 1994,\n",
       " 'job': 'DSE',\n",
       " 'Address': 'jalandhar'}"
      ]
     },
     "execution_count": 224,
     "metadata": {},
     "output_type": "execute_result"
    }
   ],
   "source": [
    "dict2 = {'DOB':1994} \n",
    "dict1.update(dict2) \n",
    "dict1"
   ]
  },
  {
   "cell_type": "code",
   "execution_count": 226,
   "id": "cda116d1-1962-4bc5-a959-7f0e94431f83",
   "metadata": {},
   "outputs": [
    {
     "data": {
      "text/plain": [
       "{'Name': 'pooja',\n",
       " 'ID': 57946,\n",
       " 'DOB': 1994,\n",
       " 'job': 'DATA SCIENTIST',\n",
       " 'Address': 'jalandhar'}"
      ]
     },
     "execution_count": 226,
     "metadata": {},
     "output_type": "execute_result"
    }
   ],
   "source": [
    "dict1['job']= 'DATA SCIENTIST'   # # Adding items in the dictionary \n",
    "dict1  "
   ]
  },
  {
   "cell_type": "code",
   "execution_count": 228,
   "id": "966090a2-58d8-44e5-b699-63ff3cc96c72",
   "metadata": {},
   "outputs": [
    {
     "data": {
      "text/plain": [
       "{'Name': 'pooja', 'ID': 57946, 'job': 'DATA SCIENTIST', 'Address': 'jalandhar'}"
      ]
     },
     "execution_count": 228,
     "metadata": {},
     "output_type": "execute_result"
    }
   ],
   "source": [
    "dict1.pop('DOB')  # # Removing items in the dictionary using Pop method\n",
    "dict1"
   ]
  },
  {
   "cell_type": "code",
   "execution_count": 230,
   "id": "4a8d3d7c-ba88-423a-a4e8-77803c960172",
   "metadata": {},
   "outputs": [
    {
     "data": {
      "text/plain": [
       "('Address', 'jalandhar')"
      ]
     },
     "execution_count": 230,
     "metadata": {},
     "output_type": "execute_result"
    }
   ],
   "source": [
    "dict1.popitem()  # A random item is removed"
   ]
  },
  {
   "cell_type": "code",
   "execution_count": 232,
   "id": "aa075bc1-96bb-4ad6-b767-d5537e184bc9",
   "metadata": {},
   "outputs": [
    {
     "data": {
      "text/plain": [
       "{'Name': 'pooja', 'ID': 57946, 'job': 'DATA SCIENTIST'}"
      ]
     },
     "execution_count": 232,
     "metadata": {},
     "output_type": "execute_result"
    }
   ],
   "source": [
    "dict1"
   ]
  },
  {
   "cell_type": "code",
   "execution_count": 234,
   "id": "7ce699c2-e635-4ede-83df-891e536914a2",
   "metadata": {},
   "outputs": [
    {
     "data": {
      "text/plain": [
       "{'Name': 'pooja', 'job': 'DATA SCIENTIST'}"
      ]
     },
     "execution_count": 234,
     "metadata": {},
     "output_type": "execute_result"
    }
   ],
   "source": [
    "del[dict1['ID']]   # Removing item using del method\n",
    "dict1"
   ]
  },
  {
   "cell_type": "code",
   "execution_count": 236,
   "id": "4056be2f-c503-49ab-91cf-fbdc7812bf72",
   "metadata": {},
   "outputs": [
    {
     "data": {
      "text/plain": [
       "{}"
      ]
     },
     "execution_count": 236,
     "metadata": {},
     "output_type": "execute_result"
    }
   ],
   "source": [
    "dict1.clear()\n",
    "dict1           # Delete all items of the dictionary using clear method"
   ]
  },
  {
   "cell_type": "code",
   "execution_count": null,
   "id": "454c2ad9-5e1e-4a97-847f-3969bcc0cead",
   "metadata": {},
   "outputs": [],
   "source": []
  },
  {
   "cell_type": "code",
   "execution_count": 239,
   "id": "e8fd8ba0-7bd7-4468-b9a9-4df767aec5f3",
   "metadata": {},
   "outputs": [
    {
     "ename": "NameError",
     "evalue": "name 'dict1' is not defined",
     "output_type": "error",
     "traceback": [
      "\u001b[1;31m---------------------------------------------------------------------------\u001b[0m",
      "\u001b[1;31mNameError\u001b[0m                                 Traceback (most recent call last)",
      "Cell \u001b[1;32mIn[239], line 2\u001b[0m\n\u001b[0;32m      1\u001b[0m \u001b[38;5;28;01mdel\u001b[39;00m dict1\n\u001b[1;32m----> 2\u001b[0m dict1\n",
      "\u001b[1;31mNameError\u001b[0m: name 'dict1' is not defined"
     ]
    }
   ],
   "source": [
    "del dict1\n",
    "dict1"
   ]
  },
  {
   "cell_type": "markdown",
   "id": "5b546da7-41ee-4bdc-866f-eb045e8989ee",
   "metadata": {},
   "source": [
    "### 3. Copy Dictionary"
   ]
  },
  {
   "cell_type": "code",
   "execution_count": 347,
   "id": "b27b1459-05e7-45ab-a1ce-b4368150582d",
   "metadata": {},
   "outputs": [
    {
     "data": {
      "text/plain": [
       "{'Name': 'pooja',\n",
       " 'ID': 57946,\n",
       " 'DOB': 1992,\n",
       " 'job': 'DSE',\n",
       " 'Address': 'Jalandhar'}"
      ]
     },
     "execution_count": 347,
     "metadata": {},
     "output_type": "execute_result"
    }
   ],
   "source": [
    "mydict = {'Name':'pooja', 'ID': 57946, 'DOB': 1992, 'job':'DSE', 'Address':'Jalandhar'} \n",
    "mydict "
   ]
  },
  {
   "cell_type": "code",
   "execution_count": 349,
   "id": "89b5bb7a-2e79-477d-90e9-541eeeba2710",
   "metadata": {},
   "outputs": [],
   "source": [
    "mydict1=mydict  #create new reference dict2"
   ]
  },
  {
   "cell_type": "code",
   "execution_count": 351,
   "id": "2df3257a-485a-4cae-a7db-258ce62046df",
   "metadata": {},
   "outputs": [
    {
     "data": {
      "text/plain": [
       "(2136215856448, 2136215856448)"
      ]
     },
     "execution_count": 351,
     "metadata": {},
     "output_type": "execute_result"
    }
   ],
   "source": [
    "id(mydict), id(mydict1) # The address of both mydict & mydict1 will be the same"
   ]
  },
  {
   "cell_type": "code",
   "execution_count": 353,
   "id": "76ea13df-84c7-4c0a-8fa3-15f292abea98",
   "metadata": {},
   "outputs": [],
   "source": [
    "dict3=mydict.copy()   # Create a copy of the dictionary"
   ]
  },
  {
   "cell_type": "code",
   "execution_count": 355,
   "id": "bd525ea1-8cea-4b75-b9ab-638ebcc90a6e",
   "metadata": {},
   "outputs": [
    {
     "data": {
      "text/plain": [
       "2136215064512"
      ]
     },
     "execution_count": 355,
     "metadata": {},
     "output_type": "execute_result"
    }
   ],
   "source": [
    "id(dict3)"
   ]
  },
  {
   "cell_type": "code",
   "execution_count": 357,
   "id": "2741d791-e291-4023-94c0-9624c12400cf",
   "metadata": {},
   "outputs": [],
   "source": [
    "mydict['Address']= 'ASR'"
   ]
  },
  {
   "cell_type": "code",
   "execution_count": 359,
   "id": "66cccbad-f759-45b9-9d68-60fb7546731b",
   "metadata": {},
   "outputs": [
    {
     "data": {
      "text/plain": [
       "{'Name': 'pooja', 'ID': 57946, 'DOB': 1992, 'job': 'DSE', 'Address': 'ASR'}"
      ]
     },
     "execution_count": 359,
     "metadata": {},
     "output_type": "execute_result"
    }
   ],
   "source": [
    "mydict"
   ]
  },
  {
   "cell_type": "code",
   "execution_count": 367,
   "id": "582d82d6-e469-4cc0-9d51-f5ee4e5bc7e7",
   "metadata": {},
   "outputs": [
    {
     "data": {
      "text/plain": [
       "{'Name': 'pooja', 'ID': 57946, 'DOB': 1992, 'job': 'DSE', 'Address': 'ASR'}"
      ]
     },
     "execution_count": 367,
     "metadata": {},
     "output_type": "execute_result"
    }
   ],
   "source": [
    "mydict1    # mydict1 will be also impacted as it is pointing to the same dictionary"
   ]
  },
  {
   "cell_type": "code",
   "execution_count": 369,
   "id": "2279414d-a0dd-43cd-acbd-7333fea2bb59",
   "metadata": {},
   "outputs": [
    {
     "data": {
      "text/plain": [
       "{'Name': 'pooja',\n",
       " 'ID': 57946,\n",
       " 'DOB': 1992,\n",
       " 'job': 'DSE',\n",
       " 'Address': 'Jalandhar'}"
      ]
     },
     "execution_count": 369,
     "metadata": {},
     "output_type": "execute_result"
    }
   ],
   "source": [
    "dict3   # Copy of list won't be impacted due to the changes made in the original"
   ]
  },
  {
   "cell_type": "markdown",
   "id": "602953e8-b491-40db-a04f-9383f796df16",
   "metadata": {},
   "source": [
    "#### 5. Loop through a Dictionary"
   ]
  },
  {
   "cell_type": "code",
   "execution_count": 372,
   "id": "2dd153a0-2265-49b1-b238-58a775c87717",
   "metadata": {},
   "outputs": [
    {
     "data": {
      "text/plain": [
       "{'Name': 'pooja',\n",
       " 'ID': 57946,\n",
       " 'DOB': 1992,\n",
       " 'job': 'DSE',\n",
       " 'Address': 'Jalandhar'}"
      ]
     },
     "execution_count": 372,
     "metadata": {},
     "output_type": "execute_result"
    }
   ],
   "source": [
    "mydict = {'Name':'pooja', 'ID': 57946, 'DOB': 1992, 'job':'DSE', 'Address':'Jalandhar'} \n",
    "mydict "
   ]
  },
  {
   "cell_type": "code",
   "execution_count": 380,
   "id": "ac638b8e-b1f4-4dac-a0fd-db8373961ad5",
   "metadata": {},
   "outputs": [
    {
     "name": "stdout",
     "output_type": "stream",
     "text": [
      "Name : pooja\n",
      "ID : 57946\n",
      "DOB : 1992\n",
      "job : DSE\n",
      "Address : Jalandhar\n"
     ]
    }
   ],
   "source": [
    "for i in mydict:\n",
    "    print(i,':', mydict[i])\n"
   ]
  },
  {
   "cell_type": "code",
   "execution_count": 382,
   "id": "a13c520a-56c4-4990-bab1-ddae606d617f",
   "metadata": {},
   "outputs": [
    {
     "name": "stdout",
     "output_type": "stream",
     "text": [
      "pooja\n",
      "57946\n",
      "1992\n",
      "DSE\n",
      "Jalandhar\n"
     ]
    }
   ],
   "source": [
    "for i in mydict:\n",
    "    print(mydict[i])"
   ]
  },
  {
   "cell_type": "markdown",
   "id": "256e7e0d-37f7-4a5f-b873-759ef7a9abdf",
   "metadata": {},
   "source": [
    "#### 6. Dictionary Membership "
   ]
  },
  {
   "cell_type": "code",
   "execution_count": 385,
   "id": "60ce1155-451a-4cf6-8552-1f1495cf27ec",
   "metadata": {},
   "outputs": [
    {
     "data": {
      "text/plain": [
       "{'Name': 'pooja',\n",
       " 'ID': 57946,\n",
       " 'DOB': 1992,\n",
       " 'job': 'DSE',\n",
       " 'Address': 'Jalandhar'}"
      ]
     },
     "execution_count": 385,
     "metadata": {},
     "output_type": "execute_result"
    }
   ],
   "source": [
    "mydict = {'Name':'pooja', 'ID': 57946, 'DOB': 1992, 'job':'DSE', 'Address':'Jalandhar'} \n",
    "mydict "
   ]
  },
  {
   "cell_type": "code",
   "execution_count": 387,
   "id": "1ba69f92-1e74-4106-bc47-76d56ec32def",
   "metadata": {},
   "outputs": [
    {
     "data": {
      "text/plain": [
       "False"
      ]
     },
     "execution_count": 387,
     "metadata": {},
     "output_type": "execute_result"
    }
   ],
   "source": [
    "'name' in mydict"
   ]
  },
  {
   "cell_type": "code",
   "execution_count": 389,
   "id": "37fd3c60-71c9-447a-8382-836fa335abcf",
   "metadata": {},
   "outputs": [
    {
     "data": {
      "text/plain": [
       "True"
      ]
     },
     "execution_count": 389,
     "metadata": {},
     "output_type": "execute_result"
    }
   ],
   "source": [
    "'Name' in mydict"
   ]
  },
  {
   "cell_type": "code",
   "execution_count": 391,
   "id": "e9397fd1-a957-46a7-a463-53f9717fa140",
   "metadata": {},
   "outputs": [
    {
     "data": {
      "text/plain": [
       "True"
      ]
     },
     "execution_count": 391,
     "metadata": {},
     "output_type": "execute_result"
    }
   ],
   "source": [
    "'DOB' in mydict"
   ]
  },
  {
   "cell_type": "markdown",
   "id": "866a477a-b030-417c-a301-55e7acd7fd9c",
   "metadata": {},
   "source": [
    "#### 7. All / Any \n",
    "The **all()** method returns: \n",
    "\n",
    "- **True** - If all all keys of the dictionary are true \n",
    "\n",
    "- **False** - If any key of the dictionary is false \n",
    "\n",
    "The **any()** function returns True if any key of the dictionary is True. If not, any() returns False."
   ]
  },
  {
   "cell_type": "code",
   "execution_count": 402,
   "id": "35ead9a0-ad11-4222-9acb-8e92af3ed471",
   "metadata": {},
   "outputs": [
    {
     "data": {
      "text/plain": [
       "{'Name': 'pooja',\n",
       " 'ID': 57946,\n",
       " 'DOB': 1992,\n",
       " 'job': 'DSE',\n",
       " 'Address': 'Jalandhar'}"
      ]
     },
     "execution_count": 402,
     "metadata": {},
     "output_type": "execute_result"
    }
   ],
   "source": [
    "mydict = {'Name':'pooja', 'ID': 57946, 'DOB': 1992, 'job':'DSE', 'Address':'Jalandhar'} \n",
    "mydict "
   ]
  },
  {
   "cell_type": "code",
   "execution_count": 404,
   "id": "f9b20b6c-47c4-444b-a0aa-6282a706a368",
   "metadata": {},
   "outputs": [
    {
     "data": {
      "text/plain": [
       "True"
      ]
     },
     "execution_count": 404,
     "metadata": {},
     "output_type": "execute_result"
    }
   ],
   "source": [
    "all(mydict)   # Will Return false as one value is false (Value 0)"
   ]
  },
  {
   "cell_type": "code",
   "execution_count": 406,
   "id": "5308107c-f958-4f4a-96c6-81eecde1f613",
   "metadata": {},
   "outputs": [
    {
     "data": {
      "text/plain": [
       "True"
      ]
     },
     "execution_count": 406,
     "metadata": {},
     "output_type": "execute_result"
    }
   ],
   "source": [
    "any(mydict)"
   ]
  },
  {
   "cell_type": "code",
   "execution_count": null,
   "id": "236902be-3432-4d03-bcdd-0374c4e48d5d",
   "metadata": {},
   "outputs": [],
   "source": []
  },
  {
   "cell_type": "code",
   "execution_count": null,
   "id": "d86b1618-4a94-4f25-8d84-44ff1b5037e8",
   "metadata": {},
   "outputs": [],
   "source": []
  }
 ],
 "metadata": {
  "kernelspec": {
   "display_name": "Python 3 (ipykernel)",
   "language": "python",
   "name": "python3"
  },
  "language_info": {
   "codemirror_mode": {
    "name": "ipython",
    "version": 3
   },
   "file_extension": ".py",
   "mimetype": "text/x-python",
   "name": "python",
   "nbconvert_exporter": "python",
   "pygments_lexer": "ipython3",
   "version": "3.12.7"
  }
 },
 "nbformat": 4,
 "nbformat_minor": 5
}
