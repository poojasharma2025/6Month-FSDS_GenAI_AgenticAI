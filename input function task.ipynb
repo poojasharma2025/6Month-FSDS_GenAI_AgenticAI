{
 "cells": [
  {
   "cell_type": "markdown",
   "id": "01965669-54b2-4a3a-b462-e6769ac396a3",
   "metadata": {},
   "source": [
    "#### 1. what is the `input()` function in Python used for"
   ]
  },
  {
   "cell_type": "markdown",
   "id": "5265fe04-e953-4f83-9527-227499ec7845",
   "metadata": {},
   "source": [
    "**Answer:** The `input()` function is used to read input from the user as a string."
   ]
  },
  {
   "cell_type": "markdown",
   "id": "87f48707-3215-43c6-b535-1a754541bc04",
   "metadata": {},
   "source": [
    "#### 2. How can you accept an integer as input from the user using `input()`? \n",
    "**Answer:** You can convert the string returned by `input()` into an integer using the `int()` function: \n",
    "```python \n",
    "    num = int(input(\"Enter an integer: \"))"
   ]
  },
  {
   "cell_type": "code",
   "execution_count": 5,
   "id": "682d4d91-ab26-4b3c-a4b5-a38d8cb9b5d0",
   "metadata": {},
   "outputs": [
    {
     "name": "stdin",
     "output_type": "stream",
     "text": [
      "Enter an integer:  22\n"
     ]
    }
   ],
   "source": [
    "num = (input(\"Enter an integer: \"))"
   ]
  },
  {
   "cell_type": "markdown",
   "id": "36dde471-43aa-4551-a56e-20bb28105605",
   "metadata": {},
   "source": [
    "#### 3.How do you accept a float input from the user? \n",
    "   **Answer:** Use `float()` to convert the string input into a floating-point number:   \n",
    "   ```python \n",
    "   num = float(input(\"Enter a float: \")) "
   ]
  },
  {
   "cell_type": "code",
   "execution_count": 6,
   "id": "c50359ff-d8fa-464a-abda-bc63e7950ecb",
   "metadata": {},
   "outputs": [
    {
     "name": "stdin",
     "output_type": "stream",
     "text": [
      "Enter a float:  2.5\n"
     ]
    }
   ],
   "source": [
    "num = float(input(\"Enter a float: \"))"
   ]
  },
  {
   "cell_type": "markdown",
   "id": "ff1aabaf-d850-4738-81d9-890d730f9f60",
   "metadata": {},
   "source": [
    "#### **Question 4:** How can you take multiple space-separated values as input? "
   ]
  },
  {
   "cell_type": "code",
   "execution_count": 24,
   "id": "605778a3-017f-4225-a11d-2b3dfa3b71e8",
   "metadata": {},
   "outputs": [
    {
     "name": "stdin",
     "output_type": "stream",
     "text": [
      "Enter values:  pooja abhi\n"
     ]
    },
    {
     "name": "stdout",
     "output_type": "stream",
     "text": [
      "['pooja', 'abhi']\n"
     ]
    }
   ],
   "source": [
    "words = input(\"Enter values: \").split()\n",
    "print(words)"
   ]
  },
  {
   "cell_type": "code",
   "execution_count": 40,
   "id": "200e41a4-f9c8-4a99-a8dd-94f19a2a053c",
   "metadata": {},
   "outputs": [
    {
     "name": "stdin",
     "output_type": "stream",
     "text": [
      "enter the numbers 1 2 3 4 5\n"
     ]
    },
    {
     "name": "stdout",
     "output_type": "stream",
     "text": [
      "[1, 2, 3, 4, 5]\n"
     ]
    }
   ],
   "source": [
    "# numbers separted by using split()\n",
    "name =[int(x) for x in input(\"enter the numbers\").split()]\n",
    "print(name)"
   ]
  },
  {
   "cell_type": "markdown",
   "id": "f2881424-e3c6-4f2c-9e8c-7498fd86ed05",
   "metadata": {},
   "source": [
    "**Question 5:** How do you accept a string input and print it in uppercase? "
   ]
  },
  {
   "cell_type": "code",
   "execution_count": 41,
   "id": "75b9b75a-79c7-4fef-8139-60cadeb7ea59",
   "metadata": {},
   "outputs": [
    {
     "name": "stdin",
     "output_type": "stream",
     "text": [
      "enter the char pooja sharma\n"
     ]
    },
    {
     "name": "stdout",
     "output_type": "stream",
     "text": [
      "POOJA SHARMA\n"
     ]
    }
   ],
   "source": [
    "#convert letters into upper case\n",
    "n = input(\"enter the char\").upper()\n",
    "print(n)"
   ]
  },
  {
   "cell_type": "markdown",
   "id": "4b429f35-8563-4365-b356-62b215aab380",
   "metadata": {},
   "source": [
    "##### **Question 6.:** Write a Python program that accepts a string and prints the number of vowels in it. "
   ]
  },
  {
   "cell_type": "code",
   "execution_count": 63,
   "id": "322ea47b-2200-40da-9bbf-c59bfcec92c7",
   "metadata": {},
   "outputs": [
    {
     "name": "stdin",
     "output_type": "stream",
     "text": [
      "enter the string pooja\n"
     ]
    },
    {
     "name": "stdout",
     "output_type": "stream",
     "text": [
      "o\n",
      "o\n",
      "a\n",
      "total vowel count is: 3\n"
     ]
    }
   ],
   "source": [
    "vowels= \"a\",\"e\",\"i\",\"o\",\"u\"\n",
    "name = input('enter the name').lower()\n",
    "count=0\n",
    "for x in name:\n",
    "    if x in vowels:\n",
    "        print(x)\n",
    "        count += 1\n",
    "print(\"total vowel count is:\",count)\n",
    "#text = input(\"Enter a string: \") \n",
    "#vowels = \"aeiou\" \n",
    "#count = sum(1 for char in text if char.lower() in vowels) \n",
    "#print(\"Number of vowels:\", count) "
   ]
  },
  {
   "cell_type": "markdown",
   "id": "79b1c536-913e-4dc1-86f9-59e133b477ea",
   "metadata": {},
   "source": [
    "#### **Question 7:** Write a program that takes a number as input and checks if it is even or odd. "
   ]
  },
  {
   "cell_type": "code",
   "execution_count": null,
   "id": "0dea4fed-55c9-4b3b-a6bc-28abf769928d",
   "metadata": {},
   "outputs": [],
   "source": [
    "text = int(input('enter the number'))\n",
    "if text % 2 == 0:\n",
    "print('its a even number')\n",
    "else:\n",
    "print(\"it's a odd number\")"
   ]
  },
  {
   "cell_type": "markdown",
   "id": "88a838d5-afd7-4a8c-80f7-221e04b95cf3",
   "metadata": {},
   "source": [
    "#### **Question 8:** How would you check if a string is a palindrome using `input()`?"
   ]
  },
  {
   "cell_type": "code",
   "execution_count": null,
   "id": "6176a948-3716-4bd1-a863-c3eb0a46f317",
   "metadata": {},
   "outputs": [],
   "source": [
    "n = input('enter the string')\n",
    "if n == n[::-1]:\n",
    "print(\"its a pallindrome\")\n",
    "else:\n",
    "print('not pallindrome')"
   ]
  },
  {
   "cell_type": "markdown",
   "id": "c86e45e8-778a-4948-97b4-652d92dbfc69",
   "metadata": {},
   "source": [
    "#### **Question 9:** Write a program to take user input and print it without spaces between words."
   ]
  },
  {
   "cell_type": "code",
   "execution_count": 52,
   "id": "acf926db-037d-4f6d-a26f-872264842c60",
   "metadata": {},
   "outputs": [
    {
     "name": "stdout",
     "output_type": "stream",
     "text": [
      "Pooja sharma\n"
     ]
    }
   ],
   "source": [
    "s=\"Pooda sharma\"\n",
    "print(s.replace(\"d\",\"j\"))"
   ]
  },
  {
   "cell_type": "markdown",
   "id": "a80c3e39-47d2-45f4-9dde-149ce7536a3b",
   "metadata": {},
   "source": [
    "#### **Question 10:** Write a program that checks if the input number is a prime number. "
   ]
  },
  {
   "cell_type": "code",
   "execution_count": 59,
   "id": "2da530e9-45e9-4f47-9c92-521e6a608fad",
   "metadata": {},
   "outputs": [
    {
     "name": "stdin",
     "output_type": "stream",
     "text": [
      "Enter a number:  11\n"
     ]
    },
    {
     "name": "stdout",
     "output_type": "stream",
     "text": [
      "Prime number\n"
     ]
    }
   ],
   "source": [
    "num = int(input(\"Enter a number: \")) \n",
    "if num > 1: \n",
    "   for i in range(2, num): \n",
    "       if num % i == 0: \n",
    "           print(\"Not a prime number\") \n",
    "           break \n",
    "   else: \n",
    "       print(\"Prime number\") \n",
    "else: \n",
    "   print(\"Not a prime number\")"
   ]
  },
  {
   "cell_type": "markdown",
   "id": "793fc6b1-3cc0-401e-a631-59e483666e7d",
   "metadata": {},
   "source": [
    "#### **Question 11:** Write a program that takes a number as input and prints its square."
   ]
  },
  {
   "cell_type": "code",
   "execution_count": 64,
   "id": "d0de29f2-c135-4bcb-bff8-2fda4b27dabb",
   "metadata": {},
   "outputs": [
    {
     "name": "stdin",
     "output_type": "stream",
     "text": [
      "Enter a number:  5\n"
     ]
    },
    {
     "name": "stdout",
     "output_type": "stream",
     "text": [
      "Square: 25\n"
     ]
    }
   ],
   "source": [
    "num = int(input(\"Enter a number: \")) \n",
    "print(\"Square:\", num ** 2)"
   ]
  },
  {
   "cell_type": "markdown",
   "id": "40aab7ed-fd46-4011-be4b-5ff1e4619a62",
   "metadata": {},
   "source": [
    "#### **Question 12:**  Write a program that asks for a number and prints whether it is divisible by 3. "
   ]
  },
  {
   "cell_type": "code",
   "execution_count": 65,
   "id": "7e26c05d-caad-481b-97df-8fade520d9e9",
   "metadata": {},
   "outputs": [
    {
     "name": "stdin",
     "output_type": "stream",
     "text": [
      "Enter a number:  25\n"
     ]
    },
    {
     "name": "stdout",
     "output_type": "stream",
     "text": [
      "Not divisible by 3\n"
     ]
    }
   ],
   "source": [
    "num = int(input(\"Enter a number: \")) \n",
    "if num % 3 == 0: \n",
    "   print(\"Divisible by 3\") \n",
    "else: \n",
    "   print(\"Not divisible by 3\") "
   ]
  },
  {
   "cell_type": "markdown",
   "id": "ee97da27-744e-4427-b0cf-19f703b9bbe2",
   "metadata": {},
   "source": [
    "#### **Question 12:** How would you check if a number is divisible by both 3 and 7? "
   ]
  },
  {
   "cell_type": "code",
   "execution_count": 67,
   "id": "5c295f75-98ac-48d2-8dcb-090d00891adc",
   "metadata": {},
   "outputs": [
    {
     "name": "stdin",
     "output_type": "stream",
     "text": [
      "Enter a number:  21\n"
     ]
    },
    {
     "name": "stdout",
     "output_type": "stream",
     "text": [
      "Divisible by both 3 and 7\n"
     ]
    }
   ],
   "source": [
    "num = int(input(\"Enter a number: \")) \n",
    "if num % 3 == 0 and num % 7 == 0: \n",
    "   print(\"Divisible by both 3 and 7\") \n",
    "else: \n",
    "   print(\"Not divisible by both 3 and 7\")"
   ]
  },
  {
   "cell_type": "markdown",
   "id": "13c1a01e-835b-4d23-9fd5-2a566fa48aee",
   "metadata": {},
   "source": [
    "#### **Question 13:** Write a Python program that takes two numbers as input and prints their product. "
   ]
  },
  {
   "cell_type": "code",
   "execution_count": 68,
   "id": "a0071865-6cb4-4cb3-983f-1f6a0c52157b",
   "metadata": {},
   "outputs": [
    {
     "name": "stdin",
     "output_type": "stream",
     "text": [
      "Enter first number:  2 \n",
      "Enter second number:  5\n"
     ]
    },
    {
     "name": "stdout",
     "output_type": "stream",
     "text": [
      "Product: 10\n"
     ]
    }
   ],
   "source": [
    "num1 = int(input(\"Enter first number: \")) \n",
    "num2 = int(input(\"Enter second number: \")) \n",
    "print(\"Product:\", num1 * num2)"
   ]
  },
  {
   "cell_type": "markdown",
   "id": "981317c3-53fa-4012-b352-4628a0a59acd",
   "metadata": {},
   "source": [
    "#### **Question 14:** How can you accept a boolean value (True/False) from the user?  "
   ]
  },
  {
   "cell_type": "code",
   "execution_count": 98,
   "id": "13171898-32a9-4dbb-b8b7-6139d8494cd8",
   "metadata": {},
   "outputs": [
    {
     "name": "stdin",
     "output_type": "stream",
     "text": [
      "Enter True or False:  5\n"
     ]
    }
   ],
   "source": [
    "user_input = input(\"Enter True or False: \").lower() == \"true\"   # ?\n"
   ]
  },
  {
   "cell_type": "markdown",
   "id": "3911459f-4895-4e7c-9211-6f39caa9e685",
   "metadata": {},
   "source": [
    "#### **Question 15:** Write a program that accepts a string and prints the reverse of that string. "
   ]
  },
  {
   "cell_type": "code",
   "execution_count": 75,
   "id": "7a7806dc-99c1-4982-a8a4-6c08fe162fc6",
   "metadata": {},
   "outputs": [
    {
     "name": "stdin",
     "output_type": "stream",
     "text": [
      "Enter a string:  ajoop\n"
     ]
    },
    {
     "name": "stdout",
     "output_type": "stream",
     "text": [
      "Reversed string: pooja\n"
     ]
    }
   ],
   "source": [
    "user_input = input(\"Enter a string: \") \n",
    "print(\"Reversed string:\", user_input[::-1])"
   ]
  },
  {
   "cell_type": "markdown",
   "id": "4b454642-c5c7-4db8-9a86-409d40bbb448",
   "metadata": {},
   "source": [
    "#### **Question 16:** Write a program that asks for a user's name and age and prints a message. "
   ]
  },
  {
   "cell_type": "code",
   "execution_count": 89,
   "id": "a5de691d-b1ea-422c-9b08-0de97637664d",
   "metadata": {},
   "outputs": [
    {
     "name": "stdin",
     "output_type": "stream",
     "text": [
      "Enter your name:  pooja\n",
      "Enter your age:  62\n"
     ]
    },
    {
     "name": "stdout",
     "output_type": "stream",
     "text": [
      "Hello, pooja. You are 62 years old.\n"
     ]
    }
   ],
   "source": [
    "name = input(\"Enter your name: \") \n",
    "age = int(input(\"Enter your age: \")) \n",
    "print(f\"Hello, {name}. You are {age} years old.\") \n"
   ]
  },
  {
   "cell_type": "markdown",
   "id": "e144da08-e030-4a22-bc9a-7ce90d6f8462",
   "metadata": {},
   "source": [
    "#### **Question 17:** Write a program to calculate the factorial of a number using `input()"
   ]
  },
  {
   "cell_type": "code",
   "execution_count": 77,
   "id": "2a32782f-4eb4-4a39-a81b-3ba5e593dae4",
   "metadata": {},
   "outputs": [
    {
     "name": "stdin",
     "output_type": "stream",
     "text": [
      "Enter a number:  5\n"
     ]
    },
    {
     "name": "stdout",
     "output_type": "stream",
     "text": [
      "Factorial: 120\n"
     ]
    }
   ],
   "source": [
    "num = int(input(\"Enter a number: \")) \n",
    "factorial = 1 \n",
    "for i in range(1, num + 1): \n",
    "   factorial *= i \n",
    "print(\"Factorial:\", factorial)"
   ]
  },
  {
   "cell_type": "markdown",
   "id": "1cd3dc9b-1560-4867-94b0-4bb0edb608ff",
   "metadata": {},
   "source": [
    "#### **Question 18:** How do you prevent a user from entering an empty string?"
   ]
  },
  {
   "cell_type": "code",
   "execution_count": 78,
   "id": "d41725fa-dfb9-4a36-be37-8a6fd1a6a7e8",
   "metadata": {},
   "outputs": [
    {
     "name": "stdin",
     "output_type": "stream",
     "text": [
      "Enter something:  \n"
     ]
    },
    {
     "name": "stdout",
     "output_type": "stream",
     "text": [
      "Input cannot be empty.\n"
     ]
    }
   ],
   "source": [
    "user_input = input(\"Enter something: \").strip() \n",
    "if not user_input: \n",
    "   print(\"Input cannot be empty.\") \n",
    "else: \n",
    "   print(f\"You entered: {user_input}\") "
   ]
  },
  {
   "cell_type": "markdown",
   "id": "270a5b7e-3612-4fa2-a199-c04cc80440d4",
   "metadata": {},
   "source": [
    "#### **Question 19:** Write a program to check if an entered number is a perfect square.  "
   ]
  },
  {
   "cell_type": "code",
   "execution_count": 79,
   "id": "8771fc45-a1cd-45c8-a12e-5dabae46011b",
   "metadata": {},
   "outputs": [
    {
     "name": "stdin",
     "output_type": "stream",
     "text": [
      "Enter a number:  5\n"
     ]
    },
    {
     "name": "stdout",
     "output_type": "stream",
     "text": [
      "Not a perfect square\n"
     ]
    }
   ],
   "source": [
    "import math \n",
    "num = int(input(\"Enter a number: \")) \n",
    "if math.isqrt(num) ** 2 == num: \n",
    "   print(\"Perfect square\") \n",
    "else: \n",
    "   print(\"Not a perfect square\")"
   ]
  },
  {
   "cell_type": "markdown",
   "id": "b4c25b32-c753-4b60-9ef1-c4b80e946041",
   "metadata": {},
   "source": [
    "#### **Question 20:** Write a program that asks the user for a year and determines if it's a leap year. "
   ]
  },
  {
   "cell_type": "code",
   "execution_count": 81,
   "id": "f4c7e89b-0ae0-4a08-a00e-001ab1fc85a9",
   "metadata": {},
   "outputs": [
    {
     "name": "stdin",
     "output_type": "stream",
     "text": [
      "Enter a year:  2022\n"
     ]
    },
    {
     "name": "stdout",
     "output_type": "stream",
     "text": [
      "Not a leap year\n"
     ]
    }
   ],
   "source": [
    "year = int(input(\"Enter a year: \")) \n",
    "if (year % 4 == 0 and year % 100 != 0) or (year % 400 == 0): \n",
    "   print(\"Leap year\") \n",
    "else:\n",
    "    print(\"Not a leap year\") "
   ]
  },
  {
   "cell_type": "markdown",
   "id": "c9a9fe30-4c9c-4f46-bfce-b7d509b6202e",
   "metadata": {},
   "source": [
    "#### **Question 21:** How can you remove leading and trailing spaces from a string input? "
   ]
  },
  {
   "cell_type": "code",
   "execution_count": 102,
   "id": "3e659962-a8d4-479b-a09f-7c6339135c5e",
   "metadata": {},
   "outputs": [
    {
     "name": "stdin",
     "output_type": "stream",
     "text": [
      "Enter something:       pooja sharma\n"
     ]
    },
    {
     "name": "stdout",
     "output_type": "stream",
     "text": [
      "pooja sharma\n"
     ]
    }
   ],
   "source": [
    "user_input = input(\"Enter something: \").strip()  \n",
    "print(user_input)"
   ]
  },
  {
   "cell_type": "markdown",
   "id": "39d33d78-37de-4859-b77c-a2000483fae9",
   "metadata": {},
   "source": [
    "#### **Question 22:** How do you handle incorrect inputs when you expect an integer using `input()`? "
   ]
  },
  {
   "cell_type": "code",
   "execution_count": 88,
   "id": "7e5e5547-25d7-4ff2-a5cc-8660fdaaabb4",
   "metadata": {},
   "outputs": [
    {
     "name": "stdin",
     "output_type": "stream",
     "text": [
      "Enter a number:  ks\n"
     ]
    },
    {
     "name": "stdout",
     "output_type": "stream",
     "text": [
      "Invalid input! Please enter a valid integer.\n"
     ]
    }
   ],
   "source": [
    "try: \n",
    "   num = int(input(\"Enter a number: \")) \n",
    "except ValueError: \n",
    "   print(\"Invalid input! Please enter a valid integer.\") "
   ]
  },
  {
   "cell_type": "markdown",
   "id": "7d002bb2-c0e4-4ead-a1a0-569f2d2c8c3d",
   "metadata": {},
   "source": [
    "#### **Question 23:** Write a program that accepts a string and counts the occurrence of a particular character. "
   ]
  },
  {
   "cell_type": "code",
   "execution_count": 103,
   "id": "8abb8445-2840-4bf3-92b9-36ba00aac9c0",
   "metadata": {},
   "outputs": [
    {
     "name": "stdin",
     "output_type": "stream",
     "text": [
      "Enter a string:  poojaaaokals\n",
      "Enter a character to count:  o\n"
     ]
    },
    {
     "name": "stdout",
     "output_type": "stream",
     "text": [
      "Occurrence of o: 3\n"
     ]
    }
   ],
   "source": [
    "text = input(\"Enter a string: \") \n",
    "char = input(\"Enter a character to count: \") \n",
    "print(f\"Occurrence of {char}: {text.count(char)}\") "
   ]
  },
  {
   "cell_type": "markdown",
   "id": "6cd560f7-2a7a-4c04-b72c-2f6907c0ac25",
   "metadata": {},
   "source": [
    "#### **Question 24:** How would you convert user input to lowercase using `input()`? "
   ]
  },
  {
   "cell_type": "code",
   "execution_count": 105,
   "id": "aa35bc57-59b7-4363-8eb9-6268e65b3999",
   "metadata": {},
   "outputs": [
    {
     "name": "stdin",
     "output_type": "stream",
     "text": [
      "Enter a string:  pooja\n"
     ]
    }
   ],
   "source": [
    " user_input = input(\"Enter a string: \").lower()"
   ]
  },
  {
   "cell_type": "markdown",
   "id": "105e358f-4091-43c3-a7ee-31e2e3c7cbfc",
   "metadata": {},
   "source": [
    "#### **Question 25:** Write a program that accepts a number and prints whether it is a multiple of 10. "
   ]
  },
  {
   "cell_type": "code",
   "execution_count": 106,
   "id": "35bf33f8-c9c1-449d-8869-2123f7747a54",
   "metadata": {},
   "outputs": [
    {
     "name": "stdin",
     "output_type": "stream",
     "text": [
      "Enter a number:  100\n"
     ]
    },
    {
     "name": "stdout",
     "output_type": "stream",
     "text": [
      "Multiple of 10\n"
     ]
    }
   ],
   "source": [
    "num = int(input(\"Enter a number: \")) \n",
    "if num % 10 == 0:\n",
    "      print(\"Multiple of 10\") \n",
    "else: \n",
    "   print(\"Not a multiple of 10\") "
   ]
  },
  {
   "cell_type": "markdown",
   "id": "dd5b329d-cc3f-465a-990f-3209c95625af",
   "metadata": {},
   "source": [
    "#### **Question 26:** How would you check if a string contains only alphabets using `input()`? "
   ]
  },
  {
   "cell_type": "code",
   "execution_count": 107,
   "id": "55bcfdcc-2d04-474e-8f0c-4026a64ef690",
   "metadata": {},
   "outputs": [
    {
     "name": "stdin",
     "output_type": "stream",
     "text": [
      "Enter a string:  pooja12345\n"
     ]
    },
    {
     "name": "stdout",
     "output_type": "stream",
     "text": [
      "Contains non-alphabet characters\n"
     ]
    }
   ],
   "source": [
    "user_input = input(\"Enter a string: \") \n",
    "if user_input.isalpha(): \n",
    "   print(\"Only alphabets\") \n",
    "else: \n",
    "   print(\"Contains non-alphabet characters\") "
   ]
  },
  {
   "cell_type": "markdown",
   "id": "551922b2-fc0f-4af6-9e7c-335174a3e69b",
   "metadata": {},
   "source": [
    "#### **Question 27:** Write a program to count the number of words in a sentence entered by the user. "
   ]
  },
  {
   "cell_type": "code",
   "execution_count": 108,
   "id": "d1ef6ec0-bfea-4b6f-9e6f-5da6b74834b1",
   "metadata": {},
   "outputs": [
    {
     "name": "stdin",
     "output_type": "stream",
     "text": [
      "Enter a sentence:  pooja is a good girl\n"
     ]
    },
    {
     "name": "stdout",
     "output_type": "stream",
     "text": [
      "Number of words: 5\n"
     ]
    }
   ],
   "source": [
    "text = input(\"Enter a sentence: \") \n",
    "print(\"Number of words:\", len(text.split()))"
   ]
  },
  {
   "cell_type": "markdown",
   "id": "6563b625-020f-488a-9de1-fdde313c1bcb",
   "metadata": {},
   "source": [
    "#### **Question 28:** How would you accept a date input from the user in Python?"
   ]
  },
  {
   "cell_type": "code",
   "execution_count": 110,
   "id": "1838338e-42a6-4252-8578-2ac544edaa8f",
   "metadata": {},
   "outputs": [
    {
     "name": "stdin",
     "output_type": "stream",
     "text": [
      "Enter a date (YYYY-MM-DD):  2023-12-12\n"
     ]
    },
    {
     "name": "stdout",
     "output_type": "stream",
     "text": [
      "Entered date: 2023-12-12 00:00:00\n"
     ]
    }
   ],
   "source": [
    "from datetime import datetime \n",
    "date_str = input(\"Enter a date (YYYY-MM-DD): \") \n",
    "date = datetime.strptime(date_str, \"%Y-%m-%d\") \n",
    "print(\"Entered date:\", date)   # ?"
   ]
  },
  {
   "cell_type": "markdown",
   "id": "ea31e44f-64e2-431a-8e72-c01e0154a854",
   "metadata": {},
   "source": [
    "#### **Question 29:** Write a program that checks if the entered number is divisible by both 3 and 5."
   ]
  },
  {
   "cell_type": "code",
   "execution_count": 111,
   "id": "adf37cfc-fa69-406f-89ad-1a3777eccf2c",
   "metadata": {},
   "outputs": [
    {
     "name": "stdin",
     "output_type": "stream",
     "text": [
      "Enter a number:  15\n"
     ]
    },
    {
     "name": "stdout",
     "output_type": "stream",
     "text": [
      "Divisible by both 3 and 5\n"
     ]
    }
   ],
   "source": [
    "num = int(input(\"Enter a number: \")) \n",
    "if num % 3 == 0 and num % 5 == 0: \n",
    "   print(\"Divisible by both 3 and 5\") \n",
    "else: \n",
    "   print(\"Not divisible by both 3 and 5\") "
   ]
  },
  {
   "cell_type": "markdown",
   "id": "91895e91-6eb4-40b3-af53-e5236112e199",
   "metadata": {},
   "source": [
    "#### **Question 30:** Write a program to swap the values of two variables using `input()`. "
   ]
  },
  {
   "cell_type": "code",
   "execution_count": 112,
   "id": "18f795d1-cf2a-4358-8e08-f3fde254c87f",
   "metadata": {},
   "outputs": [
    {
     "name": "stdin",
     "output_type": "stream",
     "text": [
      "Enter first value:  25\n",
      "Enter second value:  26\n"
     ]
    },
    {
     "name": "stdout",
     "output_type": "stream",
     "text": [
      "Swapped values: a = 26, b = 25\n"
     ]
    }
   ],
   "source": [
    "a = input(\"Enter first value: \") \n",
    "b = input(\"Enter second value: \") \n",
    "a, b = b, a \n",
    "print(f\"Swapped values: a = {a}, b = {b}\")"
   ]
  },
  {
   "cell_type": "markdown",
   "id": "8b1d863a-1483-4233-966d-0ba1dd18e27c",
   "metadata": {},
   "source": [
    "#### **Question 31:** Write a program to take user input and print it without spaces between words. "
   ]
  },
  {
   "cell_type": "code",
   "execution_count": 113,
   "id": "a22d8e7a-57de-41de-ae73-b5e1f58ad3e8",
   "metadata": {},
   "outputs": [
    {
     "name": "stdin",
     "output_type": "stream",
     "text": [
      "Enter a string:  pooja is a good girl\n"
     ]
    },
    {
     "name": "stdout",
     "output_type": "stream",
     "text": [
      "poojaisagoodgirl\n"
     ]
    }
   ],
   "source": [
    "user_input = input(\"Enter a string: \") \n",
    "print(user_input.replace(\" \", \"\")) "
   ]
  },
  {
   "cell_type": "markdown",
   "id": "6dabff5c-20cb-4fb3-82b4-98e73cd6600b",
   "metadata": {},
   "source": [
    "#### **Question 32:** How do you validate if an entered input is a valid email address? "
   ]
  },
  {
   "cell_type": "code",
   "execution_count": 114,
   "id": "4d925fd4-d83f-4e17-827f-4c054bb3dbc1",
   "metadata": {},
   "outputs": [
    {
     "name": "stdin",
     "output_type": "stream",
     "text": [
      "Enter email:  pooja235yahoo.com\n"
     ]
    },
    {
     "name": "stdout",
     "output_type": "stream",
     "text": [
      "Invalid email\n"
     ]
    }
   ],
   "source": [
    "import re \n",
    "email = input(\"Enter email: \") \n",
    "if re.match(r\"[^@]+@[^@]+\\.[^@]+\", email): \n",
    "   print(\"Valid email\") \n",
    "else: \n",
    "   print(\"Invalid email\") "
   ]
  },
  {
   "cell_type": "markdown",
   "id": "82f1f835-9d78-4bec-9dd9-b2bb214599b2",
   "metadata": {},
   "source": [
    "#### **Question 33:** Write a program that accepts a number and prints its cube"
   ]
  },
  {
   "cell_type": "code",
   "execution_count": 115,
   "id": "804a96b2-2a5d-4526-b084-c7d9f38b3db5",
   "metadata": {},
   "outputs": [
    {
     "name": "stdin",
     "output_type": "stream",
     "text": [
      "Enter a number:  5\n"
     ]
    },
    {
     "name": "stdout",
     "output_type": "stream",
     "text": [
      "Cube: 125\n"
     ]
    }
   ],
   "source": [
    "num = int(input(\"Enter a number: \")) \n",
    "print(\"Cube:\", num ** 3) "
   ]
  },
  {
   "cell_type": "markdown",
   "id": "cacef634-fb78-427e-89af-39d97170e8f1",
   "metadata": {},
   "source": [
    "#### **Question 34:** How would you accept and store multiple names from the user? "
   ]
  },
  {
   "cell_type": "code",
   "execution_count": 119,
   "id": "1788c771-4e1e-41a5-bc51-f5a980478b3f",
   "metadata": {},
   "outputs": [
    {
     "name": "stdin",
     "output_type": "stream",
     "text": [
      "Enter names separated by commas:  pooja\n"
     ]
    },
    {
     "name": "stdout",
     "output_type": "stream",
     "text": [
      "Names: ['pooja']\n"
     ]
    }
   ],
   "source": [
    "names = input(\"Enter names separated by commas: \").split(',') \n",
    "print(\"Names:\", names)  # ?"
   ]
  },
  {
   "cell_type": "markdown",
   "id": "d69fc1e6-da14-44b2-802c-3e47b24fac6e",
   "metadata": {},
   "source": [
    "#### **Question 35:** How would you extract numbers from a string entered by the user? "
   ]
  },
  {
   "cell_type": "code",
   "execution_count": 123,
   "id": "5b51e5af-3ce5-4c26-8aa7-94e62897b75b",
   "metadata": {},
   "outputs": [
    {
     "name": "stdin",
     "output_type": "stream",
     "text": [
      "Enter a string:  pooja123\n"
     ]
    },
    {
     "name": "stdout",
     "output_type": "stream",
     "text": [
      "Extracted numbers: ['123']\n"
     ]
    }
   ],
   "source": [
    "import re \n",
    "text = input(\"Enter a string: \") \n",
    "numbers = re.findall(r'\\d+', text) \n",
    "print(\"Extracted numbers:\", numbers)"
   ]
  },
  {
   "cell_type": "markdown",
   "id": "3f521631-92b6-4e5f-9d4d-f7a44803ae38",
   "metadata": {},
   "source": [
    "#### **Question 36:** How do you find the maximum number from a list of integers entered by the user?"
   ]
  },
  {
   "cell_type": "code",
   "execution_count": 125,
   "id": "59e8da3e-5c98-4a67-a642-c7dc4b760d90",
   "metadata": {},
   "outputs": [
    {
     "name": "stdin",
     "output_type": "stream",
     "text": [
      "Enter numbers separated by spaces:  123456\n"
     ]
    },
    {
     "name": "stdout",
     "output_type": "stream",
     "text": [
      "Maximum number: 123456\n"
     ]
    }
   ],
   "source": [
    "numbers = list(map(int, input(\"Enter numbers separated by spaces: \").split())) \n",
    "print(\"Maximum number:\", max(numbers))"
   ]
  },
  {
   "cell_type": "markdown",
   "id": "7d74a07a-8473-4105-bee8-bc4d51d865be",
   "metadata": {},
   "source": [
    "#### **Question 37:** How would you prompt the user for input until they enter a valid number? "
   ]
  },
  {
   "cell_type": "code",
   "execution_count": 126,
   "id": "cc7fcfcf-ec11-4253-871b-fe377dd470c4",
   "metadata": {},
   "outputs": [
    {
     "name": "stdin",
     "output_type": "stream",
     "text": [
      "Enter a valid number:  kah\n"
     ]
    },
    {
     "name": "stdout",
     "output_type": "stream",
     "text": [
      "Invalid input, please enter a number.\n"
     ]
    },
    {
     "name": "stdin",
     "output_type": "stream",
     "text": [
      "Enter a valid number:  325\n"
     ]
    }
   ],
   "source": [
    "while True: \n",
    "   try: \n",
    "       num = int(input(\"Enter a valid number: \")) \n",
    "       break \n",
    "   except ValueError: \n",
    "       print(\"Invalid input, please enter a number.\")"
   ]
  },
  {
   "cell_type": "markdown",
   "id": "4d771e21-5f62-4730-8c7b-b9e7ca3dca7a",
   "metadata": {},
   "source": [
    "#### **Question 38:** Write a program to check if the entered string has digits."
   ]
  },
  {
   "cell_type": "code",
   "execution_count": 1,
   "id": "f6641952-67e9-4a9f-b3a7-d3487656ca4b",
   "metadata": {},
   "outputs": [
    {
     "name": "stdin",
     "output_type": "stream",
     "text": [
      "Enter a string:  pooja123\n"
     ]
    },
    {
     "name": "stdout",
     "output_type": "stream",
     "text": [
      "Contains digits\n"
     ]
    }
   ],
   "source": [
    "user_input = input(\"Enter a string: \") \n",
    "if any(char.isdigit() for char in user_input): \n",
    "   print(\"Contains digits\") \n",
    "else: \n",
    "   print(\"No digits\") "
   ]
  },
  {
   "cell_type": "markdown",
   "id": "713f22ed-95a7-47c2-a888-c6da9217fffb",
   "metadata": {},
   "source": [
    "#### **Question 39:** Write a program to check if the entered string has only whitespace characters. "
   ]
  },
  {
   "cell_type": "code",
   "execution_count": 8,
   "id": "0ab520bc-3c42-4a0a-9d5e-6428092e20cb",
   "metadata": {},
   "outputs": [
    {
     "name": "stdin",
     "output_type": "stream",
     "text": [
      "Enter a string:   \n"
     ]
    },
    {
     "name": "stdout",
     "output_type": "stream",
     "text": [
      "Only whitespace\n"
     ]
    }
   ],
   "source": [
    "user_input = input(\"Enter a string: \") \n",
    "if user_input.isspace(): \n",
    "   print(\"Only whitespace\") \n",
    "else: \n",
    "   print(\"Contains non-whitespace characters\") "
   ]
  },
  {
   "cell_type": "markdown",
   "id": "5afabe86-09bb-4e4f-9b5e-c6934ccb1120",
   "metadata": {},
   "source": [
    "#### **Question 40:** Write a program to find the sum of all digits in a string entered by the user. "
   ]
  },
  {
   "cell_type": "code",
   "execution_count": 13,
   "id": "509bfc24-dffc-4965-9ca5-ac443656b982",
   "metadata": {},
   "outputs": [
    {
     "name": "stdin",
     "output_type": "stream",
     "text": [
      "Enter a numbers:  1 2 3 4 5\n"
     ]
    },
    {
     "name": "stdout",
     "output_type": "stream",
     "text": [
      "Sum of digits: 15\n"
     ]
    }
   ],
   "source": [
    "text = input(\"Enter a numbers: \") \n",
    "digit_sum = sum(int(digit) for digit in text if digit.isdigit()) \n",
    "print(\"Sum of digits:\", digit_sum) "
   ]
  },
  {
   "cell_type": "markdown",
   "id": "966aab2d-cfbb-4aa7-a957-2eee71c0dde1",
   "metadata": {},
   "source": [
    "#### **Question 41:** Write a program that accepts a number and prints its absolute value. "
   ]
  },
  {
   "cell_type": "code",
   "execution_count": 15,
   "id": "93427ccd-bb07-456c-b444-3b6fbad88c94",
   "metadata": {},
   "outputs": [
    {
     "name": "stdin",
     "output_type": "stream",
     "text": [
      "Enter a number:  -123\n"
     ]
    },
    {
     "name": "stdout",
     "output_type": "stream",
     "text": [
      "Absolute value: 123\n"
     ]
    }
   ],
   "source": [
    "num = int(input(\"Enter a number: \")) \n",
    "print(\"Absolute value:\", abs(num))"
   ]
  },
  {
   "cell_type": "markdown",
   "id": "2ad6e659-8c95-4d69-b299-604e5f77e222",
   "metadata": {},
   "source": [
    "#### **Question 42:** How would you check if a string entered by the user contains any uppercase letters? "
   ]
  },
  {
   "cell_type": "code",
   "execution_count": 16,
   "id": "c6fee48c-6538-4e27-85e3-f6225ae221e3",
   "metadata": {},
   "outputs": [
    {
     "name": "stdin",
     "output_type": "stream",
     "text": [
      "Enter a string:  poojasharmaADS\n"
     ]
    },
    {
     "name": "stdout",
     "output_type": "stream",
     "text": [
      "Contains uppercase letters\n"
     ]
    }
   ],
   "source": [
    "user_input = input(\"Enter a string: \") \n",
    "if any(char.isupper() for char in user_input): \n",
    "   print(\"Contains uppercase letters\") \n",
    "else: \n",
    "   print(\"No uppercase letters\") "
   ]
  },
  {
   "cell_type": "markdown",
   "id": "5630f194-26e2-421e-96cc-620d2bb4eff7",
   "metadata": {},
   "source": [
    "#### **Question 43:** Write a program that converts Celsius to Fahrenheit. \n"
   ]
  },
  {
   "cell_type": "code",
   "execution_count": 17,
   "id": "c31d55cc-3ac9-47e7-a74f-6c23c84b83c2",
   "metadata": {},
   "outputs": [
    {
     "name": "stdin",
     "output_type": "stream",
     "text": [
      "Enter temperature in Celsius:  42\n"
     ]
    },
    {
     "name": "stdout",
     "output_type": "stream",
     "text": [
      "Temperature in Fahrenheit: 107.6\n"
     ]
    }
   ],
   "source": [
    "celsius = float(input(\"Enter temperature in Celsius: \")) \n",
    "fahrenheit = (celsius * 9/5) + 32 \n",
    "print(f\"Temperature in Fahrenheit: {fahrenheit}\")"
   ]
  },
  {
   "cell_type": "markdown",
   "id": "fe220983-b3c5-449e-9c35-4152d152a013",
   "metadata": {},
   "source": [
    "#### **Question 44:** Write a program to find the average of a list of numbers entered by the user. "
   ]
  },
  {
   "cell_type": "code",
   "execution_count": 21,
   "id": "2b6b41ed-adfe-4203-afa6-1fde314778bd",
   "metadata": {},
   "outputs": [
    {
     "name": "stdin",
     "output_type": "stream",
     "text": [
      "Enter numbers separated by space:  1 2 3 4 5\n"
     ]
    },
    {
     "name": "stdout",
     "output_type": "stream",
     "text": [
      "Average: 3.0\n"
     ]
    }
   ],
   "source": [
    "numbers = list(map(int, input(\"Enter numbers separated by space: \").split())) \n",
    "print(\"Average:\", sum(numbers) / len(numbers)) "
   ]
  },
  {
   "cell_type": "markdown",
   "id": "d7a9b721-87ed-485f-9d0c-0ac7015836dd",
   "metadata": {},
   "source": [
    "#### **Question 45:** Write a program to count the number of consonants in a string entered by the user. "
   ]
  },
  {
   "cell_type": "code",
   "execution_count": 22,
   "id": "b2761ff2-345d-4bbd-a447-1d69e20b4e54",
   "metadata": {},
   "outputs": [
    {
     "name": "stdin",
     "output_type": "stream",
     "text": [
      "Enter a string:  pooja\n"
     ]
    },
    {
     "name": "stdout",
     "output_type": "stream",
     "text": [
      "Number of consonants: 2\n"
     ]
    }
   ],
   "source": [
    "text = input(\"Enter a string: \") \n",
    "consonants = \"bcdfghjklmnpqrstvwxyz\" \n",
    "count = sum(1 for char in text.lower() if char in consonants) \n",
    "print(\"Number of consonants:\", count) "
   ]
  },
  {
   "cell_type": "markdown",
   "id": "45befb65-0e0d-49d4-8454-9e4faa29290a",
   "metadata": {},
   "source": [
    "#### **Question 46:** How do you check if a string entered by the user contains any punctuation? "
   ]
  },
  {
   "cell_type": "code",
   "execution_count": 23,
   "id": "a10df78e-e5a4-4311-93d7-53d191d31277",
   "metadata": {},
   "outputs": [
    {
     "name": "stdin",
     "output_type": "stream",
     "text": [
      "Enter a string:  pooja.;,\n"
     ]
    },
    {
     "name": "stdout",
     "output_type": "stream",
     "text": [
      "Contains punctuation\n"
     ]
    }
   ],
   "source": [
    "import string \n",
    "text = input(\"Enter a string: \") \n",
    "if any(char in string.punctuation for char in text): \n",
    "   print(\"Contains punctuation\") \n",
    "else: \n",
    "   print(\"No punctuation\")"
   ]
  },
  {
   "cell_type": "markdown",
   "id": "254db4ca-5b9f-4c04-bfca-43f91ed51247",
   "metadata": {},
   "source": [
    "#### **Question 47:** Write a program that accepts a sentence and prints the longest word. "
   ]
  },
  {
   "cell_type": "code",
   "execution_count": 25,
   "id": "9a073d58-9b68-4786-b6d8-cfe7bbab2f6e",
   "metadata": {},
   "outputs": [
    {
     "name": "stdin",
     "output_type": "stream",
     "text": [
      "Enter a sentence:  i am innocent girl\n"
     ]
    },
    {
     "name": "stdout",
     "output_type": "stream",
     "text": [
      "Longest word: innocent\n"
     ]
    }
   ],
   "source": [
    "text = input(\"Enter a sentence: \")\n",
    "words = text.split() \n",
    "longest_word = max(words, key=len) \n",
    "print(\"Longest word:\", longest_word)"
   ]
  },
  {
   "cell_type": "code",
   "execution_count": null,
   "id": "ccc3ec03-c5ff-4f07-8fed-efe8f3ab701b",
   "metadata": {},
   "outputs": [],
   "source": []
  }
 ],
 "metadata": {
  "kernelspec": {
   "display_name": "Python 3 (ipykernel)",
   "language": "python",
   "name": "python3"
  },
  "language_info": {
   "codemirror_mode": {
    "name": "ipython",
    "version": 3
   },
   "file_extension": ".py",
   "mimetype": "text/x-python",
   "name": "python",
   "nbconvert_exporter": "python",
   "pygments_lexer": "ipython3",
   "version": "3.12.7"
  }
 },
 "nbformat": 4,
 "nbformat_minor": 5
}
