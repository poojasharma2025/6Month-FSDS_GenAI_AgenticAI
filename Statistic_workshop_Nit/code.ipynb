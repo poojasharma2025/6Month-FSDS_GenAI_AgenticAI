{
 "cells": [
  {
   "cell_type": "code",
   "execution_count": 1,
   "id": "76cae8ad",
   "metadata": {},
   "outputs": [],
   "source": [
    "import pandas as pd  # pandas used for dataframe\n",
    "import numpy as np   # used for nd array \n",
    "import matplotlib.pyplot as plt    # visualization\n",
    "import seaborn as sns   # statistical \n",
    "import scipy.stats as stats  # stats library to handle stats function, ,test, masked stats"
   ]
  },
  {
   "cell_type": "code",
   "execution_count": null,
   "id": "0bd633f5",
   "metadata": {},
   "outputs": [
    {
     "name": "stdout",
     "output_type": "stream",
     "text": [
      "sales data:\n",
      "    productId productName    category  units_sold sales_date\n",
      "0           1    product1        Home          25 2023-01-01\n",
      "1           2    product2      sports          15 2023-01-02\n",
      "2           3    product3  Electronic          17 2023-01-03\n",
      "3           4    product4        Home          19 2023-01-04\n",
      "4           5    product5        Home          21 2023-01-05\n",
      "5           6    product6      sports          17 2023-01-06\n",
      "6           7    product7  Electronic          19 2023-01-07\n",
      "7           8    product8  Electronic          16 2023-01-08\n",
      "8           9    product9        Home          21 2023-01-09\n",
      "9          10   product10    clothing          21 2023-01-10\n",
      "10         11   product11        Home          17 2023-01-11\n",
      "11         12   product12        Home          22 2023-01-12\n",
      "12         13   product13        Home          14 2023-01-13\n",
      "13         14   product14        Home          17 2023-01-14\n",
      "14         15   product15      sports          17 2023-01-15\n",
      "15         16   product16  Electronic          21 2023-01-16\n",
      "16         17   product17      sports          21 2023-01-17\n",
      "17         18   product18      sports          13 2023-01-18\n",
      "18         19   product19      sports          18 2023-01-19\n",
      "19         20   product20        Home          25 2023-01-20\n"
     ]
    }
   ],
   "source": [
    "# Set the random seed for reproducibility\n",
    "np.random.seed(42)  # generate random number\n",
    "\n",
    "# # Create a synthetic dataset\n",
    "data = {\n",
    "    'productId' : range(1,21),\n",
    "    'productName' : [f'product{i}' for i in range(1,21)],\n",
    "    'category' : np.random.choice(['Electronic','clothing','Home','sports'],20),\n",
    "    'units_sold' : np.random.poisson(lam=20, size=20),\n",
    "    'sales_date' : pd.date_range(start='2023-01-01', periods=20, freq='D')\n",
    "}\n",
    "sales_data = pd.DataFrame(data)\n",
    "\n",
    "# Display the first few rows of the dataset\n",
    "print('sales data:')\n",
    "print(sales_data)"
   ]
  },
  {
   "cell_type": "code",
   "execution_count": 3,
   "id": "3fd90c6c",
   "metadata": {},
   "outputs": [],
   "source": [
    "# save the dataframe to csv file\n",
    "sales_data.to_csv('sales_data.csv', index = False)  # here index=false means it generate data within a system mean here only in vs code"
   ]
  },
  {
   "cell_type": "code",
   "execution_count": 20,
   "id": "1802e1e9",
   "metadata": {},
   "outputs": [
    {
     "data": {
      "text/plain": [
       "'c:\\\\Users\\\\WELCOME\\\\Desktop\\\\Python\\\\Statistic_workshop_Nit'"
      ]
     },
     "execution_count": 20,
     "metadata": {},
     "output_type": "execute_result"
    }
   ],
   "source": [
    "# path location\n",
    "import os\n",
    "os.getcwd()  # to check where file is stored"
   ]
  },
  {
   "cell_type": "code",
   "execution_count": null,
   "id": "a2d4ba30",
   "metadata": {},
   "outputs": [],
   "source": [
    "# population - large group of people \n",
    "# sample - randomly pick some of individual\n",
    "# descriptive stats - describe the statistic(mean,median,mode,variance, standard devaiation) of the dataset\n"
   ]
  },
  {
   "cell_type": "code",
   "execution_count": 12,
   "id": "cccd0e21",
   "metadata": {},
   "outputs": [
    {
     "name": "stdout",
     "output_type": "stream",
     "text": [
      "\n",
      "Descriptive statistic for units sold:\n",
      "count    20.000000\n",
      "mean     18.800000\n",
      "std       3.302312\n",
      "min      13.000000\n",
      "25%      17.000000\n",
      "50%      18.500000\n",
      "75%      21.000000\n",
      "max      25.000000\n",
      "Name: units_sold, dtype: float64\n",
      "\n",
      " statistic  analysis :\n",
      "mean units sold:18.8\n",
      "median units solde :18.5\n",
      "mode units sold : 17\n",
      "variance units solde :10.905263157894737\n",
      "standard devaiation units sold : 3.302311789927586\n",
      "\n",
      "category Statistics\n",
      "     Category  Total Units Sold  Average Units Sold  Std Dev of Units Sold\n",
      "0  Electronic                73           18.250000               2.217356\n",
      "1        Home               181           20.111111               3.723051\n",
      "2    clothing                21           21.000000                    NaN\n",
      "3      sports               101           16.833333               2.714160\n"
     ]
    }
   ],
   "source": [
    "# Descriptive stats\n",
    "desc_stats = sales_data['units_sold'].describe()\n",
    "\n",
    "# Display descriptive statistics\n",
    "print(\"\\nDescriptive statistic for units sold:\")\n",
    "print(desc_stats)\n",
    "\n",
    "# Additional statistics\n",
    "mean_sales  = sales_data['units_sold'].mean()\n",
    "\n",
    "median_sales = sales_data['units_sold'].median()\n",
    "\n",
    "mode_sales = sales_data['units_sold'].mode()[0]\n",
    "\n",
    "variance_sales = sales_data['units_sold'].var()\n",
    "\n",
    "std_sales = sales_data['units_sold'].std()\n",
    "\n",
    "# Group by category and calculate total and average sales\n",
    "category_stats = sales_data.groupby('category')['units_sold'].agg(['sum','mean','std']).reset_index()\n",
    "category_stats.columns = ['Category', 'Total Units Sold', 'Average Units Sold', 'Std Dev of Units Sold']\n",
    "\n",
    "# display result \n",
    "print('\\n statistic  analysis :')\n",
    "print(f\"mean units sold:{mean_sales}\")\n",
    "print(f\"median units solde :{median_sales}\")\n",
    "print(f\"mode units sold : {mode_sales}\")\n",
    "print(f\"variance units solde :{variance_sales}\")\n",
    "print(f\"standard devaiation units sold : {std_sales}\")\n",
    "print(\"\\ncategory Statistics\")\n",
    "print(category_stats)"
   ]
  },
  {
   "cell_type": "code",
   "execution_count": null,
   "metadata": {},
   "outputs": [],
   "source": [
    "# inferential stats : always deals with probability and distribution but descriptive stats deals with numbers\n",
    "# probability: dice has 6 side . prob of getting 1 is 1/6 =0.17 and so on..and graph what we achieved would be uniform distribution graph\n",
    "#  roll of 2 dice -normal distribution/ gausian distri. / bell curve/ 0 symmteric\n",
    "# confidence interval: if 90 percent confident then 5 percent is error \n",
    "# if p value is p < than 0.05 --> reject null hypothesis, if p >0.01--> accept null hypothesis\n",
    "# population data = ztest\n",
    "# sample data = T test"
   ]
  },
  {
   "cell_type": "code",
   "execution_count": 13,
   "id": "4e9c881a",
   "metadata": {},
   "outputs": [
    {
     "name": "stdout",
     "output_type": "stream",
     "text": [
      "\n",
      " confidence  interval for mean of units solds\n",
      "(np.float64(17.254470507823573), np.float64(20.34552949217643))\n"
     ]
    }
   ],
   "source": [
    "# inferential stats: in this code we findout range of unit sold at 95% confidence level ,we sold 17-20 % unit at 95 interval\n",
    "# Confidence Interval for the mean of units sold\n",
    "confidence_level = 0.95\n",
    "degrees_of_freedom = len(sales_data['units_sold'])-1\n",
    "sample_mean = mean_sales\n",
    "sample_standard_error = std_sales/np.sqrt(len(sales_data['units_sold']))\n",
    "\n",
    "# t score for the confidence level\n",
    "t_score = stats.t.ppf((1+confidence_level)/2, degrees_of_freedom)\n",
    "margin_of_error = t_score * sample_standard_error\n",
    "confidence_interval = (sample_mean-margin_of_error, sample_mean + margin_of_error)\n",
    "print(\"\\n confidence  interval for mean of units solds\")\n",
    "print(confidence_interval)\n",
    "\n"
   ]
  },
  {
   "cell_type": "code",
   "execution_count": 16,
   "id": "f9f2f442",
   "metadata": {},
   "outputs": [
    {
     "name": "stdout",
     "output_type": "stream",
     "text": [
      "\n",
      "Hypothesis Testing(t-test):\n",
      "T-statistic:-1.6250928099424466,p_value:0.12061572226781002\n",
      "fail to reject the null Hypothesis : the mean units sold is not different from 20\n"
     ]
    }
   ],
   "source": [
    "# Hypothesis Testing (t-test)\n",
    "# Null hypothesis: Mean units sold is equal to 20\n",
    "# Alternative hypothesis: Mean units sold is not equal to 20\n",
    "\n",
    "t_statistic , p_value = stats.ttest_1samp(sales_data['units_sold'],20)\n",
    "print(\"\\nHypothesis Testing(t-test):\")\n",
    "print(f\"T-statistic:{t_statistic},p_value:{p_value}\")\n",
    "if p_value < 0.05:\n",
    "    print(\"Reject the null hypothesis:  the mean units sold is different from 20\")\n",
    "else:\n",
    "    print(\"fail to reject the null Hypothesis : the mean units sold is not different from 20\")"
   ]
  },
  {
   "cell_type": "code",
   "execution_count": 19,
   "id": "626526bf",
   "metadata": {},
   "outputs": [
    {
     "data": {
      "image/png": "[encoded data removed]",
      "text/plain": [
       "<Figure size 1000x600 with 1 Axes>"
      ]
     },
     "metadata": {},
     "output_type": "display_data"
    },
    {
     "data": {
      "image/png": "[encoded data removed]",
      "text/plain": [
       "<Figure size 1000x600 with 1 Axes>"
      ]
     },
     "metadata": {},
     "output_type": "display_data"
    },
    {
     "name": "stderr",
     "output_type": "stream",
     "text": [
      "C:\\Users\\WELCOME\\AppData\\Local\\Temp\\ipykernel_5420\\328737356.py:25: FutureWarning: \n",
      "\n",
      "Passing `palette` without assigning `hue` is deprecated and will be removed in v0.14.0. Assign the `x` variable to `hue` and set `legend=False` for the same effect.\n",
      "\n",
      "  sns.barplot(x='Category', y='Total Units Sold', data=category_stats,palette='bright')\n"
     ]
    },
    {
     "data": {
      "image/png": "[encoded data removed]",
      "text/plain": [
       "<Figure size 1000x600 with 1 Axes>"
      ]
     },
     "metadata": {},
     "output_type": "display_data"
    }
   ],
   "source": [
    "# Visualiazation\n",
    "sns.set(style='whitegrid')\n",
    "# plot distribution  of units sold\n",
    "plt.figure(figsize=(10,6))\n",
    "sns.histplot(sales_data['units_sold'],bins=10,kde=True)\n",
    "plt.title('Distribution of units sold')\n",
    "plt.xlabel('units sold')\n",
    "plt.ylabel('frequency')\n",
    "plt.axvline(mean_sales, color='red', linestyle = '--', label = 'Mean')# axvline vertical axis line\n",
    "plt.axvline(median_sales,color = 'blue', linestyle = '--', label = 'Median')\n",
    "plt.axvline(mode_sales, color = 'green' , linestyle = '--', label = 'Mode')\n",
    "plt.legend\n",
    "plt.show()\n",
    "\n",
    "# Boxplot for units sold by category\n",
    "plt.figure(figsize=(10,6))\n",
    "sns.boxplot(x='category', y= 'units_sold', data=sales_data)\n",
    "plt.title('BoxPlot of units sold by category ')\n",
    "plt.xlabel('category')\n",
    "plt.ylabel('units sold')\n",
    "plt.show()\n",
    "\n",
    "# bar plot for total units sold by category\n",
    "plt.figure(figsize=(10, 6))\n",
    "sns.barplot(x='Category', y='Total Units Sold', data=category_stats,palette='bright')\n",
    "plt.title('Total Units Sold by Category')\n",
    "plt.xlabel('Category')\n",
    "plt.ylabel('Total Units Sold')\n",
    "plt.show()"
   ]
  },
  {
   "cell_type": "code",
   "execution_count": null,
   "metadata": {},
   "outputs": [],
   "source": []
  },
  {
   "cell_type": "code",
   "execution_count": null,
   "id": "df55bab5",
   "metadata": {},
   "outputs": [],
   "source": []
  },
  {
   "cell_type": "code",
   "execution_count": null,
   "id": "a00ef4d8",
   "metadata": {},
   "outputs": [],
   "source": []
  },
  {
   "cell_type": "code",
   "execution_count": null,
   "id": "0a7bd7a2",
   "metadata": {},
   "outputs": [],
   "source": []
  },
  {
   "cell_type": "code",
   "execution_count": null,
   "metadata": {},
   "outputs": [],
   "source": []
  },
  {
   "cell_type": "code",
   "execution_count": null,
   "id": "6dab37f9",
   "metadata": {},
   "outputs": [],
   "source": []
  },
  {
   "cell_type": "code",
   "execution_count": null,
   "id": "c9910b68",
   "metadata": {},
   "outputs": [],
   "source": []
  },
  {
   "cell_type": "code",
   "execution_count": null,
   "id": "113184b4",
   "metadata": {},
   "outputs": [],
   "source": []
  },
  {
   "cell_type": "code",
   "execution_count": null,
   "id": "be3bdb3b",
   "metadata": {},
   "outputs": [],
   "source": []
  },
  {
   "cell_type": "code",
   "execution_count": null,
   "id": "820601dc",
   "metadata": {},
   "outputs": [],
   "source": []
  },
  {
   "cell_type": "code",
   "execution_count": null,
   "id": "650d25b5",
   "metadata": {},
   "outputs": [],
   "source": []
  },
  {
   "cell_type": "code",
   "execution_count": null,
   "id": "c01f965b",
   "metadata": {},
   "outputs": [],
   "source": []
  },
  {
   "cell_type": "code",
   "execution_count": null,
   "id": "b1ead05d",
   "metadata": {},
   "outputs": [],
   "source": []
  },
  {
   "cell_type": "code",
   "execution_count": null,
   "id": "174ac061",
   "metadata": {},
   "outputs": [],
   "source": []
  },
  {
   "cell_type": "code",
   "execution_count": null,
   "id": "42906b6a",
   "metadata": {},
   "outputs": [],
   "source": []
  },
  {
   "cell_type": "code",
   "execution_count": null,
   "id": "5711d489",
   "metadata": {},
   "outputs": [],
   "source": []
  },
  {
   "cell_type": "code",
   "execution_count": null,
   "id": "86a55d24",
   "metadata": {},
   "outputs": [],
   "source": []
  },
  {
   "cell_type": "code",
   "execution_count": null,
   "id": "133f9197",
   "metadata": {},
   "outputs": [],
   "source": []
  },
  {
   "cell_type": "code",
   "execution_count": null,
   "metadata": {},
   "outputs": [],
   "source": []
  },
  {
   "cell_type": "code",
   "execution_count": null,
   "id": "c62f9429",
   "metadata": {},
   "outputs": [],
   "source": []
  },
  {
   "cell_type": "code",
   "execution_count": null,
   "metadata": {},
   "outputs": [],
   "source": []
  },
  {
   "cell_type": "code",
   "execution_count": null,
   "id": "66ee6958",
   "metadata": {},
   "outputs": [],
   "source": []
  },
  {
   "cell_type": "code",
   "execution_count": null,
   "id": "9e865571",
   "metadata": {},
   "outputs": [],
   "source": []
  },
  {
   "cell_type": "code",
   "execution_count": null,
   "id": "5966c07a",
   "metadata": {},
   "outputs": [],
   "source": []
  },
  {
   "cell_type": "code",
   "execution_count": null,
   "id": "72ae0905",
   "metadata": {},
   "outputs": [],
   "source": []
  },
  {
   "cell_type": "code",
   "execution_count": null,
   "id": "db60455c",
   "metadata": {},
   "outputs": [],
   "source": []
  },
  {
   "cell_type": "code",
   "execution_count": null,
   "id": "7ed023de",
   "metadata": {},
   "outputs": [],
   "source": []
  },
  {
   "cell_type": "code",
   "execution_count": null,
   "id": "f68a4cd8",
   "metadata": {},
   "outputs": [],
   "source": []
  },
  {
   "cell_type": "code",
   "execution_count": null,
   "id": "615b3d18",
   "metadata": {},
   "outputs": [],
   "source": []
  },
  {
   "cell_type": "code",
   "execution_count": null,
   "id": "ca41a9b4",
   "metadata": {},
   "outputs": [],
   "source": []
  },
  {
   "cell_type": "code",
   "execution_count": null,
   "metadata": {},
   "outputs": [],
   "source": []
  }
 ],
 "metadata": {
  "kernelspec": {
   "display_name": "Python 3",
   "language": "python",
   "name": "python3"
  },
  "language_info": {
   "codemirror_mode": {
    "name": "ipython",
    "version": 3
   },
   "file_extension": ".py",
   "mimetype": "text/x-python",
   "name": "python",
   "nbconvert_exporter": "python",
   "pygments_lexer": "ipython3",
   "version": "3.12.10"
  }
 },
 "nbformat": 4,
 "nbformat_minor": 5
}
