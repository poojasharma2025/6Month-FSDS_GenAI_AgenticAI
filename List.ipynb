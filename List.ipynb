{
 "cells": [
  {
   "cell_type": "markdown",
   "id": "8d45a89f-5f25-431c-b6da-a5d1aa4cc6e3",
   "metadata": {},
   "source": [
    "### list\n",
    " 1) List is an ordered sequence of items. \n",
    " \n",
    "2) We can have different data types under a list. E.g we can have integer, float and string items in \n",
    "a same list."
   ]
  },
  {
   "cell_type": "code",
   "execution_count": 1,
   "id": "40b00039-0873-40b2-94c5-22f54176adbc",
   "metadata": {},
   "outputs": [
    {
     "data": {
      "text/plain": [
       "[]"
      ]
     },
     "execution_count": 1,
     "metadata": {},
     "output_type": "execute_result"
    }
   ],
   "source": [
    "l=[]\n",
    "l"
   ]
  },
  {
   "cell_type": "code",
   "execution_count": 3,
   "id": "ea939ece-3508-404a-aeff-5f31b7c4063a",
   "metadata": {},
   "outputs": [
    {
     "data": {
      "text/plain": [
       "list"
      ]
     },
     "execution_count": 3,
     "metadata": {},
     "output_type": "execute_result"
    }
   ],
   "source": [
    "type(l)"
   ]
  },
  {
   "cell_type": "code",
   "execution_count": 5,
   "id": "8bfe0656-fab7-4dbb-961f-f462a48a5425",
   "metadata": {},
   "outputs": [
    {
     "name": "stdout",
     "output_type": "stream",
     "text": [
      "<class 'list'>\n"
     ]
    }
   ],
   "source": [
    "print(type(l))"
   ]
  },
  {
   "cell_type": "code",
   "execution_count": 12,
   "id": "341f7412-db2a-425b-801a-06049ef2d00d",
   "metadata": {},
   "outputs": [],
   "source": [
    "l=[10,20,30] #list of integers"
   ]
  },
  {
   "cell_type": "code",
   "execution_count": 14,
   "id": "e4d0fb14-59e1-4294-9026-14418db8d259",
   "metadata": {},
   "outputs": [],
   "source": [
    "l1=[10.2,20.5,30.56,60.5,54.5] # list of float numbers"
   ]
  },
  {
   "cell_type": "code",
   "execution_count": 16,
   "id": "ad66edce-0299-4be2-b84e-27c32f76cc5f",
   "metadata": {},
   "outputs": [],
   "source": [
    "l2=['one','two','three','four','five','sixth'] #list of strings"
   ]
  },
  {
   "cell_type": "code",
   "execution_count": 18,
   "id": "0c1a96bb-017d-4430-9615-954bab688d06",
   "metadata": {},
   "outputs": [],
   "source": [
    "l3=[10,'pooja',[1,2,5],['abhi',2.5,10]] #nested list"
   ]
  },
  {
   "cell_type": "code",
   "execution_count": 20,
   "id": "ddcf6434-1635-4f18-bd26-8bfb9464932e",
   "metadata": {},
   "outputs": [],
   "source": [
    "l4=['abhi',2.5,10]"
   ]
  },
  {
   "cell_type": "code",
   "execution_count": 22,
   "id": "923b0c0a-242b-4844-a21a-5e19a13739be",
   "metadata": {},
   "outputs": [],
   "source": [
    "l5=[10,'pooja',[1,2,5],['abhi',2.5,10],{'aadi','shri'}]"
   ]
  },
  {
   "cell_type": "code",
   "execution_count": 24,
   "id": "5b655dc6-6267-4ad0-a2e5-f3090b3dd11c",
   "metadata": {},
   "outputs": [
    {
     "data": {
      "text/plain": [
       "4"
      ]
     },
     "execution_count": 24,
     "metadata": {},
     "output_type": "execute_result"
    }
   ],
   "source": [
    "len(l3) #length of list"
   ]
  },
  {
   "cell_type": "markdown",
   "id": "962c1d37-1c49-4c3a-82f3-ca05dac776e0",
   "metadata": {},
   "source": [
    "#### LIST Indexing"
   ]
  },
  {
   "cell_type": "code",
   "execution_count": 28,
   "id": "87d6b97d-de35-4621-b94e-debb57990190",
   "metadata": {},
   "outputs": [],
   "source": [
    "l1=[10.2,20.5,30.56,60.5,54.5] # list of float numbers"
   ]
  },
  {
   "cell_type": "code",
   "execution_count": 30,
   "id": "2f00f4cb-0d94-4e38-9449-3eba06657c25",
   "metadata": {},
   "outputs": [
    {
     "data": {
      "text/plain": [
       "20.5"
      ]
     },
     "execution_count": 30,
     "metadata": {},
     "output_type": "execute_result"
    }
   ],
   "source": [
    " l1[1]  #retrieve second element of list"
   ]
  },
  {
   "cell_type": "code",
   "execution_count": 32,
   "id": "47d1d863-ed95-479e-87df-2c56d2f9a052",
   "metadata": {},
   "outputs": [
    {
     "data": {
      "text/plain": [
       "'h'"
      ]
     },
     "execution_count": 32,
     "metadata": {},
     "output_type": "execute_result"
    }
   ],
   "source": [
    "l4[0][2] # nexted indexing , access 3rd character of first element   ['abhi',2.5,10]"
   ]
  },
  {
   "cell_type": "code",
   "execution_count": 34,
   "id": "ef8be2b1-51c3-4130-bbc8-261c7f8d599c",
   "metadata": {},
   "outputs": [
    {
     "data": {
      "text/plain": [
       "10"
      ]
     },
     "execution_count": 34,
     "metadata": {},
     "output_type": "execute_result"
    }
   ],
   "source": [
    "l4[-1]  #last item of list  ['abhi',2.5,10]"
   ]
  },
  {
   "cell_type": "markdown",
   "id": "c60a2652-b337-4922-ba35-8bd4ab2d7103",
   "metadata": {},
   "source": [
    "#### SLICING"
   ]
  },
  {
   "cell_type": "code",
   "execution_count": 40,
   "id": "026ecba7-c6fc-4e73-a90a-fa03ef32db80",
   "metadata": {},
   "outputs": [],
   "source": [
    "l2=['one','two','three','four','five','sixth']"
   ]
  },
  {
   "cell_type": "code",
   "execution_count": 44,
   "id": "41df3785-f89e-4960-b120-04d8e2dfc187",
   "metadata": {},
   "outputs": [
    {
     "data": {
      "text/plain": [
       "['one', 'two', 'three']"
      ]
     },
     "execution_count": 44,
     "metadata": {},
     "output_type": "execute_result"
    }
   ],
   "source": [
    "l2[0:3]  #Return all items from 0th to 3rd index location excluding the item"
   ]
  },
  {
   "cell_type": "code",
   "execution_count": 46,
   "id": "65f90fe3-d396-443f-ad39-6e4fabc4b118",
   "metadata": {},
   "outputs": [
    {
     "data": {
      "text/plain": [
       "['three', 'four', 'five']"
      ]
     },
     "execution_count": 46,
     "metadata": {},
     "output_type": "execute_result"
    }
   ],
   "source": [
    "l2[2:5]  #  List all items from 2nd to 5th index location excluding the item 'sixth'"
   ]
  },
  {
   "cell_type": "code",
   "execution_count": 48,
   "id": "d1a85fb1-8640-40aa-a642-3cb7f271f1dc",
   "metadata": {},
   "outputs": [
    {
     "data": {
      "text/plain": [
       "['one', 'two', 'three']"
      ]
     },
     "execution_count": 48,
     "metadata": {},
     "output_type": "execute_result"
    }
   ],
   "source": [
    "l2[:3]  # return first three items"
   ]
  },
  {
   "cell_type": "code",
   "execution_count": 50,
   "id": "9cedf47e-bee5-4339-b501-660f137aafb4",
   "metadata": {},
   "outputs": [
    {
     "data": {
      "text/plain": [
       "['four', 'five', 'sixth']"
      ]
     },
     "execution_count": 50,
     "metadata": {},
     "output_type": "execute_result"
    }
   ],
   "source": [
    "l2[-3:] #return last three items"
   ]
  },
  {
   "cell_type": "code",
   "execution_count": 52,
   "id": "056954dc-dec3-4d47-8931-14a5a980c069",
   "metadata": {},
   "outputs": [
    {
     "data": {
      "text/plain": [
       "['one', 'two', 'three', 'four', 'five', 'sixth']"
      ]
     },
     "execution_count": 52,
     "metadata": {},
     "output_type": "execute_result"
    }
   ],
   "source": [
    "l2[:] #return all items"
   ]
  },
  {
   "cell_type": "markdown",
   "id": "7aa37ab8-8ca5-4276-a7ea-62e858edcef7",
   "metadata": {},
   "source": [
    "#### Add , Remove & Change Items (Append, insert, pop, remove, change value of list, clear, del, copy, join, sort, reverse list, list membership, loop though list, all/any"
   ]
  },
  {
   "cell_type": "code",
   "execution_count": null,
   "id": "2f92903c-0246-44a8-a5af-42a010057e2e",
   "metadata": {},
   "outputs": [],
   "source": [
    "l2=['one','two','three','four','five','sixth']"
   ]
  },
  {
   "cell_type": "code",
   "execution_count": 60,
   "id": "fb438423-8516-4b58-baa9-bb5d86fb27e7",
   "metadata": {},
   "outputs": [
    {
     "data": {
      "text/plain": [
       "['one', 'two', 'three', 'four', 'five', 'sixth', 'seven', 'seven', 'seven']"
      ]
     },
     "execution_count": 60,
     "metadata": {},
     "output_type": "execute_result"
    }
   ],
   "source": [
    "l2.append('seven')  #  Add an item to the end of the list (also it allow duplication ,how many times u run this code )\n",
    "l2"
   ]
  },
  {
   "cell_type": "code",
   "execution_count": 62,
   "id": "8fd3f677-7982-43bb-96ff-3d2a00001f42",
   "metadata": {},
   "outputs": [
    {
     "data": {
      "text/plain": [
       "['one',\n",
       " 'two',\n",
       " 'three',\n",
       " 'four',\n",
       " 'five',\n",
       " 'sixth',\n",
       " 'seven',\n",
       " 'seven',\n",
       " 'seven',\n",
       " 'eight']"
      ]
     },
     "execution_count": 62,
     "metadata": {},
     "output_type": "execute_result"
    }
   ],
   "source": [
    "l2.insert(9,'eight')  # Add item at index location 9 \n",
    "l2"
   ]
  },
  {
   "cell_type": "code",
   "execution_count": 64,
   "id": "eeb637d0-9826-4919-8011-5408ebea520e",
   "metadata": {},
   "outputs": [
    {
     "data": {
      "text/plain": [
       "['one',\n",
       " 'onne',\n",
       " 'two',\n",
       " 'three',\n",
       " 'four',\n",
       " 'five',\n",
       " 'sixth',\n",
       " 'seven',\n",
       " 'seven',\n",
       " 'seven',\n",
       " 'eight']"
      ]
     },
     "execution_count": 64,
     "metadata": {},
     "output_type": "execute_result"
    }
   ],
   "source": [
    "l2.insert(1,'onne') #insert item at index location 1\n",
    "l2"
   ]
  },
  {
   "cell_type": "code",
   "execution_count": 66,
   "id": "49d043a3-af41-4658-93a9-d67ee506a53d",
   "metadata": {},
   "outputs": [
    {
     "data": {
      "text/plain": [
       "['one',\n",
       " 'two',\n",
       " 'three',\n",
       " 'four',\n",
       " 'five',\n",
       " 'sixth',\n",
       " 'seven',\n",
       " 'seven',\n",
       " 'seven',\n",
       " 'eight']"
      ]
     },
     "execution_count": 66,
     "metadata": {},
     "output_type": "execute_result"
    }
   ],
   "source": [
    "l2.remove('onne')  #Remove item \"ONE\" \n",
    "l2"
   ]
  },
  {
   "cell_type": "code",
   "execution_count": 68,
   "id": "b32518c6-e40f-42f5-8486-9361816ccbf6",
   "metadata": {},
   "outputs": [
    {
     "data": {
      "text/plain": [
       "['one', 'two', 'three', 'four', 'five', 'sixth', 'seven', 'seven', 'eight']"
      ]
     },
     "execution_count": 68,
     "metadata": {},
     "output_type": "execute_result"
    }
   ],
   "source": [
    "l2.remove('seven') # Remove item \"seven\" \n",
    "l2"
   ]
  },
  {
   "cell_type": "code",
   "execution_count": 70,
   "id": "c0f7d8ed-4a54-4a66-8b45-90ea6a436331",
   "metadata": {},
   "outputs": [
    {
     "data": {
      "text/plain": [
       "['one', 'two', 'three', 'four', 'five', 'sixth', 'seven', 'seven']"
      ]
     },
     "execution_count": 70,
     "metadata": {},
     "output_type": "execute_result"
    }
   ],
   "source": [
    "l2.pop()  #remove last item of list\n",
    "l2"
   ]
  },
  {
   "cell_type": "code",
   "execution_count": 72,
   "id": "cd057ab8-820f-4ffd-b70e-8159fdc19fce",
   "metadata": {},
   "outputs": [
    {
     "data": {
      "text/plain": [
       "['one', 'two', 'three', 'four', 'five', 'sixth', 'seven']"
      ]
     },
     "execution_count": 72,
     "metadata": {},
     "output_type": "execute_result"
    }
   ],
   "source": [
    "l2.pop(7) # Remove item at index location 7\n",
    "l2"
   ]
  },
  {
   "cell_type": "code",
   "execution_count": 78,
   "id": "3160250b-6c22-4b3f-a0af-72b471eb15f9",
   "metadata": {},
   "outputs": [
    {
     "data": {
      "text/plain": [
       "[1, 2, 3, 'four', 'five', 'sixth']"
      ]
     },
     "execution_count": 78,
     "metadata": {},
     "output_type": "execute_result"
    }
   ],
   "source": [
    "del l2[6] #delete item at index location 6\n",
    "l2"
   ]
  },
  {
   "cell_type": "code",
   "execution_count": 74,
   "id": "15aa2f1d-0460-4c25-a6a2-f73303940f1c",
   "metadata": {},
   "outputs": [
    {
     "data": {
      "text/plain": [
       "[1, 2, 3, 'four', 'five', 'sixth', 'seven']"
      ]
     },
     "execution_count": 74,
     "metadata": {},
     "output_type": "execute_result"
    }
   ],
   "source": [
    "#change value of string\n",
    "l2[0]=1\n",
    "l2[1]=2\n",
    "l2[2]=3\n",
    "l2"
   ]
  },
  {
   "cell_type": "code",
   "execution_count": 80,
   "id": "a607f44e-f1ec-43ee-bc61-988127a7fb44",
   "metadata": {},
   "outputs": [
    {
     "data": {
      "text/plain": [
       "[]"
      ]
     },
     "execution_count": 80,
     "metadata": {},
     "output_type": "execute_result"
    }
   ],
   "source": [
    "l2.clear() #clear all item from list\n",
    "l2"
   ]
  },
  {
   "cell_type": "code",
   "execution_count": 82,
   "id": "23ec2aa3-76d0-41e6-b932-908a0f0b63c5",
   "metadata": {},
   "outputs": [
    {
     "ename": "NameError",
     "evalue": "name 'l2' is not defined",
     "output_type": "error",
     "traceback": [
      "\u001b[1;31m---------------------------------------------------------------------------\u001b[0m",
      "\u001b[1;31mNameError\u001b[0m                                 Traceback (most recent call last)",
      "Cell \u001b[1;32mIn[82], line 2\u001b[0m\n\u001b[0;32m      1\u001b[0m \u001b[38;5;28;01mdel\u001b[39;00m l2  \u001b[38;5;66;03m#delete whole list\u001b[39;00m\n\u001b[1;32m----> 2\u001b[0m l2\n",
      "\u001b[1;31mNameError\u001b[0m: name 'l2' is not defined"
     ]
    }
   ],
   "source": [
    "del l2  #delete whole list\n",
    "l2"
   ]
  },
  {
   "cell_type": "markdown",
   "id": "449a69b3-020b-489a-aed3-dfcefdc47b96",
   "metadata": {},
   "source": [
    "#### copy"
   ]
  },
  {
   "cell_type": "code",
   "execution_count": 111,
   "id": "2a95f0a2-2399-4dd7-8241-785f3bb26f24",
   "metadata": {},
   "outputs": [],
   "source": [
    "list1=['one','two','three','four','five','sixth']"
   ]
  },
  {
   "cell_type": "code",
   "execution_count": 113,
   "id": "08ebe0bc-e6f2-484f-85bc-ced6e5fb4dca",
   "metadata": {},
   "outputs": [],
   "source": [
    "List2=list1  #Create a new reference \"NewList\""
   ]
  },
  {
   "cell_type": "code",
   "execution_count": 115,
   "id": "1c56d989-acf5-4bf4-94ab-8d48815bd221",
   "metadata": {},
   "outputs": [
    {
     "data": {
      "text/plain": [
       "(2753522563456, 2753522563456)"
      ]
     },
     "execution_count": 115,
     "metadata": {},
     "output_type": "execute_result"
    }
   ],
   "source": [
    "id(List2), id(list1)  #address of both list will be same"
   ]
  },
  {
   "cell_type": "code",
   "execution_count": 117,
   "id": "94e688bf-4ff7-41ef-9701-1da24a1c645b",
   "metadata": {},
   "outputs": [],
   "source": [
    "list3= list1.copy()  #create a copy of list"
   ]
  },
  {
   "cell_type": "code",
   "execution_count": 119,
   "id": "c5aa8c29-e643-45c6-9c3e-619b380664a7",
   "metadata": {},
   "outputs": [
    {
     "data": {
      "text/plain": [
       "2753522648128"
      ]
     },
     "execution_count": 119,
     "metadata": {},
     "output_type": "execute_result"
    }
   ],
   "source": [
    "id(list3) # The address of list3 will be different from list1"
   ]
  },
  {
   "cell_type": "code",
   "execution_count": 121,
   "id": "37d35837-fc20-4c20-be11-16d34d7084ec",
   "metadata": {},
   "outputs": [
    {
     "data": {
      "text/plain": [
       "[1, 'two', 'three', 'four', 'five', 'sixth']"
      ]
     },
     "execution_count": 121,
     "metadata": {},
     "output_type": "execute_result"
    }
   ],
   "source": [
    "list1[0]=1\n",
    "list1"
   ]
  },
  {
   "cell_type": "code",
   "execution_count": 123,
   "id": "f44673a0-387b-4208-b669-c67c35584ce2",
   "metadata": {},
   "outputs": [
    {
     "data": {
      "text/plain": [
       "[1, 'two', 'three', 'four', 'five', 'sixth']"
      ]
     },
     "execution_count": 123,
     "metadata": {},
     "output_type": "execute_result"
    }
   ],
   "source": [
    "List2  # NewList will be also impacted as it is pointing to the same list "
   ]
  },
  {
   "cell_type": "code",
   "execution_count": 125,
   "id": "5ff9b032-a483-4d9f-b11c-d709602076ef",
   "metadata": {},
   "outputs": [
    {
     "data": {
      "text/plain": [
       "['one', 'two', 'three', 'four', 'five', 'sixth']"
      ]
     },
     "execution_count": 125,
     "metadata": {},
     "output_type": "execute_result"
    }
   ],
   "source": [
    "list3   # Copy of list won't be impacted due to changes made on the original list"
   ]
  },
  {
   "cell_type": "markdown",
   "id": "adfb9735-a851-4f94-b5b1-711785b1adff",
   "metadata": {},
   "source": [
    "#### join list"
   ]
  },
  {
   "cell_type": "code",
   "execution_count": 133,
   "id": "cc19d1c0-a2ef-403c-a6f1-a128941e3b50",
   "metadata": {},
   "outputs": [],
   "source": [
    "list=['one','two','three','four']\n",
    "list2=['five','sixth','seven']"
   ]
  },
  {
   "cell_type": "code",
   "execution_count": 135,
   "id": "7ef9b006-ce69-411f-acb0-d91930a36139",
   "metadata": {},
   "outputs": [
    {
     "data": {
      "text/plain": [
       "['one', 'two', 'three', 'four', 'five', 'sixth', 'seven']"
      ]
     },
     "execution_count": 135,
     "metadata": {},
     "output_type": "execute_result"
    }
   ],
   "source": [
    "list3=list+list2\n",
    "list3"
   ]
  },
  {
   "cell_type": "code",
   "execution_count": 137,
   "id": "0c193f28-6afa-4456-9180-8af8d8f2e28f",
   "metadata": {},
   "outputs": [
    {
     "data": {
      "text/plain": [
       "['one', 'two', 'three', 'four', 'five', 'sixth', 'seven']"
      ]
     },
     "execution_count": 137,
     "metadata": {},
     "output_type": "execute_result"
    }
   ],
   "source": [
    "list.extend(list2)  #append list2 with list\n",
    "list"
   ]
  },
  {
   "cell_type": "markdown",
   "id": "3d29e2c7-1ec6-4b33-8185-f20d9e7a5b3f",
   "metadata": {},
   "source": [
    "#### list membership"
   ]
  },
  {
   "cell_type": "code",
   "execution_count": 140,
   "id": "23fba3f2-a6ef-472e-9df6-2419360a2bb5",
   "metadata": {},
   "outputs": [
    {
     "data": {
      "text/plain": [
       "['one', 'two', 'three', 'four', 'five', 'sixth', 'seven']"
      ]
     },
     "execution_count": 140,
     "metadata": {},
     "output_type": "execute_result"
    }
   ],
   "source": [
    "list"
   ]
  },
  {
   "cell_type": "code",
   "execution_count": 142,
   "id": "ace86638-08a6-4f9f-9b24-d8ceb58e1937",
   "metadata": {},
   "outputs": [
    {
     "data": {
      "text/plain": [
       "True"
      ]
     },
     "execution_count": 142,
     "metadata": {},
     "output_type": "execute_result"
    }
   ],
   "source": [
    "'one' in list"
   ]
  },
  {
   "cell_type": "code",
   "execution_count": 144,
   "id": "5f227884-14c2-46cc-94f4-1316c8cd1743",
   "metadata": {},
   "outputs": [
    {
     "data": {
      "text/plain": [
       "False"
      ]
     },
     "execution_count": 144,
     "metadata": {},
     "output_type": "execute_result"
    }
   ],
   "source": [
    "'ten' in list"
   ]
  },
  {
   "cell_type": "code",
   "execution_count": 146,
   "id": "500b87ea-a513-4959-b84c-caace7c0fda7",
   "metadata": {},
   "outputs": [
    {
     "name": "stdout",
     "output_type": "stream",
     "text": [
      "elevan is not present in list\n"
     ]
    }
   ],
   "source": [
    "# check if elevan exist in list\n",
    "if 'elevan' in list:\n",
    "    print(\"elevan is present in list\")\n",
    "else:\n",
    "    print(\"elevan is not present in list\")"
   ]
  },
  {
   "cell_type": "markdown",
   "id": "9a7dc721-e136-4851-a7ee-0775d0c3860b",
   "metadata": {},
   "source": [
    "#### reverse and sort list"
   ]
  },
  {
   "cell_type": "code",
   "execution_count": 151,
   "id": "81a26597-8551-4c16-8380-51b93ee2ddcc",
   "metadata": {},
   "outputs": [
    {
     "data": {
      "text/plain": [
       "['one', 'two', 'three', 'four', 'five', 'sixth', 'seven']"
      ]
     },
     "execution_count": 151,
     "metadata": {},
     "output_type": "execute_result"
    }
   ],
   "source": [
    "list"
   ]
  },
  {
   "cell_type": "code",
   "execution_count": 153,
   "id": "baa86cf5-3615-40c3-bc26-64aa10091fef",
   "metadata": {},
   "outputs": [
    {
     "data": {
      "text/plain": [
       "['seven', 'sixth', 'five', 'four', 'three', 'two', 'one']"
      ]
     },
     "execution_count": 153,
     "metadata": {},
     "output_type": "execute_result"
    }
   ],
   "source": [
    "list.reverse()  #reverse the list\n",
    "list"
   ]
  },
  {
   "cell_type": "code",
   "execution_count": 157,
   "id": "f370afae-a043-48e2-8038-fa9cedd8b861",
   "metadata": {},
   "outputs": [
    {
     "data": {
      "text/plain": [
       "['seven', 'sixth', 'five', 'four', 'three', 'two', 'one']"
      ]
     },
     "execution_count": 157,
     "metadata": {},
     "output_type": "execute_result"
    }
   ],
   "source": [
    "list=list[::-1]   #reverse the list\n",
    "list"
   ]
  },
  {
   "cell_type": "code",
   "execution_count": 161,
   "id": "66040d6e-025c-4c67-88dc-2af3bec471a2",
   "metadata": {},
   "outputs": [
    {
     "data": {
      "text/plain": [
       "[3, 11, 14, 25, 46, 55]"
      ]
     },
     "execution_count": 161,
     "metadata": {},
     "output_type": "execute_result"
    }
   ],
   "source": [
    "list3=[11,25,3,14,55,46]\n",
    "list3.sort()    Sort list in ascending order \n",
    "list3"
   ]
  },
  {
   "cell_type": "code",
   "execution_count": 163,
   "id": "37a025fe-c0dc-4bd9-bebd-bf6de3df9880",
   "metadata": {},
   "outputs": [
    {
     "data": {
      "text/plain": [
       "[55, 46, 25, 14, 11, 3]"
      ]
     },
     "execution_count": 163,
     "metadata": {},
     "output_type": "execute_result"
    }
   ],
   "source": [
    "list3=[11,25,3,14,55,46]\n",
    "list3.sort(reverse=True)  Sort list in descending order \n",
    "list3"
   ]
  },
  {
   "cell_type": "code",
   "execution_count": 165,
   "id": "73e9f988-7c3d-4369-ae43-a04c837e71f6",
   "metadata": {},
   "outputs": [
    {
     "data": {
      "text/plain": [
       "[3, 11, 14, 25, 46, 55]"
      ]
     },
     "execution_count": 165,
     "metadata": {},
     "output_type": "execute_result"
    }
   ],
   "source": [
    "list3=[11,25,3,14,55,46]\n",
    "sorted(list3)   # Returns a new sorted list and doesn't change original list"
   ]
  },
  {
   "cell_type": "code",
   "execution_count": 167,
   "id": "99034ac5-e3d8-4546-b433-05dbedd8c43e",
   "metadata": {},
   "outputs": [
    {
     "data": {
      "text/plain": [
       "[11, 25, 3, 14, 55, 46]"
      ]
     },
     "execution_count": 167,
     "metadata": {},
     "output_type": "execute_result"
    }
   ],
   "source": [
    "list3"
   ]
  },
  {
   "cell_type": "markdown",
   "id": "2cc2031a-563e-48f2-b1c1-898c0daa2416",
   "metadata": {},
   "source": [
    "#### loop through list"
   ]
  },
  {
   "cell_type": "code",
   "execution_count": 172,
   "id": "73c80b00-55ee-4d8a-9fa1-933280261526",
   "metadata": {},
   "outputs": [
    {
     "data": {
      "text/plain": [
       "[1, 'two', 'three', 'four', 'five', 'sixth']"
      ]
     },
     "execution_count": 172,
     "metadata": {},
     "output_type": "execute_result"
    }
   ],
   "source": [
    "list1"
   ]
  },
  {
   "cell_type": "code",
   "execution_count": 174,
   "id": "c855280c-abcc-4b0e-b1f2-369ec3e5bc79",
   "metadata": {},
   "outputs": [
    {
     "name": "stdout",
     "output_type": "stream",
     "text": [
      "1\n",
      "two\n",
      "three\n",
      "four\n",
      "five\n",
      "sixth\n"
     ]
    }
   ],
   "source": [
    "for i in list1:\n",
    "    print(i)"
   ]
  },
  {
   "cell_type": "code",
   "execution_count": 176,
   "id": "a9463587-bef8-4829-9490-93f81b0d3ce1",
   "metadata": {},
   "outputs": [
    {
     "name": "stdout",
     "output_type": "stream",
     "text": [
      "(0, 1)\n",
      "(1, 'two')\n",
      "(2, 'three')\n",
      "(3, 'four')\n",
      "(4, 'five')\n",
      "(5, 'sixth')\n"
     ]
    }
   ],
   "source": [
    "for i in enumerate(list1):\n",
    "    print(i)                     #return index with value"
   ]
  },
  {
   "cell_type": "markdown",
   "id": "ef96c0b9-3030-4510-b86c-9b540ae8e823",
   "metadata": {},
   "source": [
    "##### count"
   ]
  },
  {
   "cell_type": "code",
   "execution_count": 183,
   "id": "b95dcb74-8353-4b21-aa24-4cbfe692cb20",
   "metadata": {},
   "outputs": [],
   "source": [
    "list1=[1,2,3,4,6,1,2,3,8,6,4,2,3]"
   ]
  },
  {
   "cell_type": "code",
   "execution_count": 185,
   "id": "12f93299-ef94-460f-ba64-adeb2b5f8cd9",
   "metadata": {},
   "outputs": [
    {
     "data": {
      "text/plain": [
       "2"
      ]
     },
     "execution_count": 185,
     "metadata": {},
     "output_type": "execute_result"
    }
   ],
   "source": [
    "list1.count(1) #Number of times item 1 occurred in the list."
   ]
  },
  {
   "cell_type": "code",
   "execution_count": 187,
   "id": "53a83278-e44c-4f81-abc6-6c3a52620fdd",
   "metadata": {},
   "outputs": [
    {
     "data": {
      "text/plain": [
       "3"
      ]
     },
     "execution_count": 187,
     "metadata": {},
     "output_type": "execute_result"
    }
   ],
   "source": [
    "list1.count(3)  # Occurence of item 3 in the list "
   ]
  },
  {
   "cell_type": "markdown",
   "id": "132f4223-6c64-4bc1-95b7-bb02571a190b",
   "metadata": {},
   "source": [
    "#### All/Any\n",
    "The all() method returns: \n",
    " \n",
    "True - If all elements in a list are true   and\n",
    "False - If any element in a list is false \n",
    " \n",
    "The any() function returns True if any element in the list is True. If not, any() returns False. "
   ]
  },
  {
   "cell_type": "code",
   "execution_count": 215,
   "id": "944d507b-bae4-4ed5-b705-eca2d4554a32",
   "metadata": {},
   "outputs": [],
   "source": [
    "L1=[1,2,3,4,0]"
   ]
  },
  {
   "cell_type": "code",
   "execution_count": 219,
   "id": "1a1c3887-4a4b-42c1-b5ed-15ddff15f199",
   "metadata": {},
   "outputs": [
    {
     "data": {
      "text/plain": [
       "False"
      ]
     },
     "execution_count": 219,
     "metadata": {},
     "output_type": "execute_result"
    }
   ],
   "source": [
    "all(L1) # Will Return false as one value is false (Value 0) "
   ]
  },
  {
   "cell_type": "code",
   "execution_count": 231,
   "id": "22694707-dd88-433d-a7c2-2dfb6fd1121b",
   "metadata": {},
   "outputs": [],
   "source": [
    "L1=[1,2,3,4,5,0]"
   ]
  },
  {
   "cell_type": "code",
   "execution_count": 233,
   "id": "9187d804-f54b-43e5-a4e7-d44c0abb60cc",
   "metadata": {},
   "outputs": [
    {
     "data": {
      "text/plain": [
       "True"
      ]
     },
     "execution_count": 233,
     "metadata": {},
     "output_type": "execute_result"
    }
   ],
   "source": [
    "any(L1) # Will Return True as we have items in the list with True value "
   ]
  },
  {
   "cell_type": "code",
   "execution_count": 235,
   "id": "fa207552-007f-4a54-8730-74c2bd2edf03",
   "metadata": {},
   "outputs": [],
   "source": [
    "l2=[1,2,3,True,False]"
   ]
  },
  {
   "cell_type": "code",
   "execution_count": 237,
   "id": "a65099ce-5835-4c16-b64a-87b033184edc",
   "metadata": {},
   "outputs": [
    {
     "data": {
      "text/plain": [
       "False"
      ]
     },
     "execution_count": 237,
     "metadata": {},
     "output_type": "execute_result"
    }
   ],
   "source": [
    "all(l2) # Returns false as one value is false"
   ]
  },
  {
   "cell_type": "code",
   "execution_count": 239,
   "id": "035e6f44-992e-47d3-a67b-9d760c640932",
   "metadata": {},
   "outputs": [
    {
     "data": {
      "text/plain": [
       "True"
      ]
     },
     "execution_count": 239,
     "metadata": {},
     "output_type": "execute_result"
    }
   ],
   "source": [
    "any(l2) # Will Return True as we have items in the list with True value"
   ]
  },
  {
   "cell_type": "code",
   "execution_count": 246,
   "id": "2b27b234-858d-4eb1-a1a3-0791d867c646",
   "metadata": {},
   "outputs": [
    {
     "data": {
      "text/plain": [
       "True"
      ]
     },
     "execution_count": 246,
     "metadata": {},
     "output_type": "execute_result"
    }
   ],
   "source": [
    "#What is the correct way to check if a variable is of a specific type in Python? \n",
    "a=1\n",
    "isinstance(a,int)"
   ]
  },
  {
   "cell_type": "code",
   "execution_count": 248,
   "id": "adb8654c-5eb0-43cd-8ed3-2321e9fe07ff",
   "metadata": {},
   "outputs": [
    {
     "name": "stdout",
     "output_type": "stream",
     "text": [
      "2\n"
     ]
    }
   ],
   "source": [
    "x=5\n",
    "y=2\n",
    "print(x//y)"
   ]
  },
  {
   "cell_type": "code",
   "execution_count": 250,
   "id": "34c4db5c-b703-4960-960b-2e97921af1f2",
   "metadata": {},
   "outputs": [
    {
     "name": "stdout",
     "output_type": "stream",
     "text": [
      "-4\n"
     ]
    }
   ],
   "source": [
    "x=-10\n",
    "y=3\n",
    "print(x//y)"
   ]
  },
  {
   "cell_type": "code",
   "execution_count": 262,
   "id": "9578e4a2-85f3-4257-bfda-c12c767f336b",
   "metadata": {},
   "outputs": [
    {
     "name": "stdout",
     "output_type": "stream",
     "text": [
      "-6\n"
     ]
    }
   ],
   "source": [
    "x=-11\n",
    "y=2\n",
    "print(x//y)"
   ]
  },
  {
   "cell_type": "code",
   "execution_count": 266,
   "id": "eb5c3752-45a7-4ae4-9693-bb2e45aac7b4",
   "metadata": {},
   "outputs": [
    {
     "name": "stdout",
     "output_type": "stream",
     "text": [
      "ell\n"
     ]
    }
   ],
   "source": [
    "x=\"hello\"\n",
    "print(x[1:4])"
   ]
  },
  {
   "cell_type": "code",
   "execution_count": 272,
   "id": "e9631d84-9755-4c22-a8fd-75a71f93200e",
   "metadata": {},
   "outputs": [
    {
     "name": "stdout",
     "output_type": "stream",
     "text": [
      "Python is fun\n"
     ]
    }
   ],
   "source": [
    "my_list = [\"Python\", \"is\", \"fun\"]\n",
    "single_string = \" \".join(my_list)\n",
    "print(single_string)"
   ]
  },
  {
   "cell_type": "code",
   "execution_count": 1,
   "id": "67d1591e-b259-4012-a82d-d84022279ecb",
   "metadata": {},
   "outputs": [
    {
     "name": "stdout",
     "output_type": "stream",
     "text": [
      "<class 'complex'>\n"
     ]
    }
   ],
   "source": [
    "num=4+0j\n",
    "print(type(num))\n"
   ]
  },
  {
   "cell_type": "code",
   "execution_count": 3,
   "id": "a54ab6bc-7ba8-41c9-bce4-8d19751b7dd1",
   "metadata": {},
   "outputs": [
    {
     "name": "stdout",
     "output_type": "stream",
     "text": [
      "3\n"
     ]
    }
   ],
   "source": [
    "print(int(3.9))"
   ]
  },
  {
   "cell_type": "code",
   "execution_count": 5,
   "id": "ed063ef7-9a84-433c-84b8-deed100ff62d",
   "metadata": {},
   "outputs": [
    {
     "name": "stdout",
     "output_type": "stream",
     "text": [
      "python.py\n"
     ]
    }
   ],
   "source": [
    "a=\"python\" + \".py\"\n",
    "print(a)"
   ]
  },
  {
   "cell_type": "code",
   "execution_count": 9,
   "id": "5f42a387-216c-4b1b-a8e0-bc4a4621600a",
   "metadata": {},
   "outputs": [
    {
     "data": {
      "text/plain": [
       "dict"
      ]
     },
     "execution_count": 9,
     "metadata": {},
     "output_type": "execute_result"
    }
   ],
   "source": [
    "my_dict = {\"name\": \"Alice\", \"age\": 30}\n",
    "type(my_dict)\n"
   ]
  },
  {
   "cell_type": "code",
   "execution_count": null,
   "id": "55d3bb09-a9f1-44e8-8b3b-4f7f3975d5d8",
   "metadata": {},
   "outputs": [],
   "source": [
    "my_set = {1, 2, 3}\n",
    "my_set"
   ]
  },
  {
   "cell_type": "code",
   "execution_count": 21,
   "id": "babdcad0-0e00-444d-be20-60d277fa7485",
   "metadata": {},
   "outputs": [
    {
     "name": "stdout",
     "output_type": "stream",
     "text": [
      "True"
     ]
    },
    {
     "ename": "ValueError",
     "evalue": "invalid literal for int() with base 10: '4.5'",
     "output_type": "error",
     "traceback": [
      "\u001b[1;31m---------------------------------------------------------------------------\u001b[0m",
      "\u001b[1;31mValueError\u001b[0m                                Traceback (most recent call last)",
      "Cell \u001b[1;32mIn[21], line 2\u001b[0m\n\u001b[0;32m      1\u001b[0m \u001b[38;5;28mprint\u001b[39m(\u001b[38;5;28mstr\u001b[39m(\u001b[38;5;28;01mTrue\u001b[39;00m), end\u001b[38;5;241m=\u001b[39m\u001b[38;5;124m'\u001b[39m\u001b[38;5;124m'\u001b[39m)\n\u001b[1;32m----> 2\u001b[0m \u001b[38;5;28mint\u001b[39m(\u001b[38;5;124m'\u001b[39m\u001b[38;5;124m4.5\u001b[39m\u001b[38;5;124m'\u001b[39m)\n",
      "\u001b[1;31mValueError\u001b[0m: invalid literal for int() with base 10: '4.5'"
     ]
    }
   ],
   "source": [
    "print(str(True), end='')\n",
    "int('4.5')"
   ]
  },
  {
   "cell_type": "code",
   "execution_count": 59,
   "id": "02f580ec-f9c2-433d-8170-c9839341d7b9",
   "metadata": {},
   "outputs": [
    {
     "name": "stdout",
     "output_type": "stream",
     "text": [
      "{1, 3, 4, 5, 6}\n"
     ]
    },
    {
     "data": {
      "text/plain": [
       "set"
      ]
     },
     "execution_count": 59,
     "metadata": {},
     "output_type": "execute_result"
    }
   ],
   "source": [
    "set1={1,5,3,6,4}\n",
    "print(set1)\n",
    "type(set1)"
   ]
  },
  {
   "cell_type": "code",
   "execution_count": 33,
   "id": "1aaa442c-dc43-4aa8-96e4-6652a513947f",
   "metadata": {},
   "outputs": [
    {
     "name": "stdout",
     "output_type": "stream",
     "text": [
      "25\n",
      "50\n"
     ]
    }
   ],
   "source": [
    "x=50\n",
    "def fun1():\n",
    "    x=25\n",
    "    print(x)\n",
    "fun1()\n",
    "print(x)"
   ]
  },
  {
   "cell_type": "code",
   "execution_count": 39,
   "id": "246a2092-ef12-40cd-b3d5-cce19346e82d",
   "metadata": {},
   "outputs": [
    {
     "ename": "UnboundLocalError",
     "evalue": "cannot access local variable 'x' where it is not associated with a value",
     "output_type": "error",
     "traceback": [
      "\u001b[1;31m---------------------------------------------------------------------------\u001b[0m",
      "\u001b[1;31mUnboundLocalError\u001b[0m                         Traceback (most recent call last)",
      "Cell \u001b[1;32mIn[39], line 6\u001b[0m\n\u001b[0;32m      4\u001b[0m     x\u001b[38;5;241m=\u001b[39mx\u001b[38;5;241m+\u001b[39m\u001b[38;5;241m1\u001b[39m\n\u001b[0;32m      5\u001b[0m     \u001b[38;5;28mprint\u001b[39m(x)\n\u001b[1;32m----> 6\u001b[0m fun()\n\u001b[0;32m      7\u001b[0m \u001b[38;5;28mprint\u001b[39m(x)\n",
      "Cell \u001b[1;32mIn[39], line 4\u001b[0m, in \u001b[0;36mfun\u001b[1;34m()\u001b[0m\n\u001b[0;32m      2\u001b[0m \u001b[38;5;28;01mdef\u001b[39;00m \u001b[38;5;21mfun\u001b[39m():\n\u001b[0;32m      3\u001b[0m     \u001b[38;5;66;03m#x=25\u001b[39;00m\n\u001b[1;32m----> 4\u001b[0m     x\u001b[38;5;241m=\u001b[39mx\u001b[38;5;241m+\u001b[39m\u001b[38;5;241m1\u001b[39m\n\u001b[0;32m      5\u001b[0m     \u001b[38;5;28mprint\u001b[39m(x)\n",
      "\u001b[1;31mUnboundLocalError\u001b[0m: cannot access local variable 'x' where it is not associated with a value"
     ]
    }
   ],
   "source": [
    "x=75\n",
    "def fun():\n",
    "    #x=25\n",
    "    x=x+1\n",
    "    print(x)\n",
    "fun()\n",
    "print(x)"
   ]
  },
  {
   "cell_type": "code",
   "execution_count": 41,
   "id": "02cf419c-59c9-4ebb-9d5c-7807df9c6e8d",
   "metadata": {},
   "outputs": [
    {
     "name": "stdout",
     "output_type": "stream",
     "text": [
      "<class 'int'>\n"
     ]
    }
   ],
   "source": [
    "print(type(0xFF))"
   ]
  },
  {
   "cell_type": "code",
   "execution_count": 51,
   "id": "4ca6da9b-b3b4-4ddf-8367-b46416e4d819",
   "metadata": {},
   "outputs": [
    {
     "data": {
      "text/plain": [
       "str"
      ]
     },
     "execution_count": 51,
     "metadata": {},
     "output_type": "execute_result"
    }
   ],
   "source": [
    "str1=\"Ault\\'kelly\"\n",
    "type(str1)"
   ]
  },
  {
   "cell_type": "code",
   "execution_count": 49,
   "id": "e0a9d771-69c0-4c00-a45b-0329e1af99a2",
   "metadata": {},
   "outputs": [
    {
     "name": "stdout",
     "output_type": "stream",
     "text": [
      "<class 'tuple'>\n"
     ]
    }
   ],
   "source": [
    "a=(1,'pakd',1+3j)\n",
    "print(type(a[2:3]))"
   ]
  },
  {
   "cell_type": "code",
   "execution_count": 53,
   "id": "86b16df9-752b-45c0-b36a-f8e70b8b76ee",
   "metadata": {},
   "outputs": [
    {
     "data": {
      "text/plain": [
       "float"
      ]
     },
     "execution_count": 53,
     "metadata": {},
     "output_type": "execute_result"
    }
   ],
   "source": [
    "q=3.14\n",
    "type(q)"
   ]
  },
  {
   "cell_type": "code",
   "execution_count": 55,
   "id": "c6c0859b-89ae-4be5-bab5-bd2f3188a2ba",
   "metadata": {},
   "outputs": [
    {
     "name": "stdout",
     "output_type": "stream",
     "text": [
      "30\n"
     ]
    }
   ],
   "source": [
    "x=10\n",
    "y=\"20\"\n",
    "print(x+int(y))"
   ]
  },
  {
   "cell_type": "code",
   "execution_count": null,
   "id": "3a8c4d33-4020-42aa-b37e-74ed7dc3ae09",
   "metadata": {},
   "outputs": [],
   "source": []
  }
 ],
 "metadata": {
  "kernelspec": {
   "display_name": "Python [conda env:base] *",
   "language": "python",
   "name": "conda-base-py"
  },
  "language_info": {
   "codemirror_mode": {
    "name": "ipython",
    "version": 3
   },
   "file_extension": ".py",
   "mimetype": "text/x-python",
   "name": "python",
   "nbconvert_exporter": "python",
   "pygments_lexer": "ipython3",
   "version": "3.12.7"
  }
 },
 "nbformat": 4,
 "nbformat_minor": 5
}
